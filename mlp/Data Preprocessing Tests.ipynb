{
 "cells": [
  {
   "cell_type": "code",
   "execution_count": 1,
   "metadata": {},
   "outputs": [
    {
     "data": {
      "text/plain": [
       "'C:\\\\Users\\\\Nils\\\\Documents\\\\KIT-TVWL\\\\Master\\\\SS 18\\\\KD Seminar\\\\Git\\\\mlp'"
      ]
     },
     "execution_count": 1,
     "metadata": {},
     "output_type": "execute_result"
    }
   ],
   "source": [
    "import pandas as pd\n",
    "import numpy as np\n",
    "\n",
    "import os\n",
    "wd = os.getcwd()\n",
    "wd"
   ]
  },
  {
   "cell_type": "code",
   "execution_count": 2,
   "metadata": {},
   "outputs": [
    {
     "data": {
      "text/html": [
       "<div>\n",
       "<style scoped>\n",
       "    .dataframe tbody tr th:only-of-type {\n",
       "        vertical-align: middle;\n",
       "    }\n",
       "\n",
       "    .dataframe tbody tr th {\n",
       "        vertical-align: top;\n",
       "    }\n",
       "\n",
       "    .dataframe thead th {\n",
       "        text-align: right;\n",
       "    }\n",
       "</style>\n",
       "<table border=\"1\" class=\"dataframe\">\n",
       "  <thead>\n",
       "    <tr style=\"text-align: right;\">\n",
       "      <th></th>\n",
       "      <th>Timestamp</th>\n",
       "      <th>ID</th>\n",
       "      <th>articleCount</th>\n",
       "      <th>avgSentiment</th>\n",
       "      <th>stdSentiment</th>\n",
       "      <th>25quantileSentiment</th>\n",
       "      <th>50quantileSentiment</th>\n",
       "      <th>75quantileSentiment</th>\n",
       "      <th>maxSentiment</th>\n",
       "      <th>minSentiment</th>\n",
       "      <th>Previous_Day_Return</th>\n",
       "      <th>Next_Day_Return</th>\n",
       "    </tr>\n",
       "  </thead>\n",
       "  <tbody>\n",
       "    <tr>\n",
       "      <th>0</th>\n",
       "      <td>2018-05-02</td>\n",
       "      <td>BASF</td>\n",
       "      <td>156</td>\n",
       "      <td>0.190012</td>\n",
       "      <td>0.236579</td>\n",
       "      <td>0.119930</td>\n",
       "      <td>0.236800</td>\n",
       "      <td>0.323370</td>\n",
       "      <td>0.65250</td>\n",
       "      <td>-0.63234</td>\n",
       "      <td>0.011060</td>\n",
       "      <td>-0.017219</td>\n",
       "    </tr>\n",
       "    <tr>\n",
       "      <th>1</th>\n",
       "      <td>2018-05-02</td>\n",
       "      <td>Tesla</td>\n",
       "      <td>510</td>\n",
       "      <td>0.068932</td>\n",
       "      <td>0.173565</td>\n",
       "      <td>-0.070315</td>\n",
       "      <td>0.072627</td>\n",
       "      <td>0.202486</td>\n",
       "      <td>0.64572</td>\n",
       "      <td>-0.50300</td>\n",
       "      <td>0.004093</td>\n",
       "      <td>-0.057051</td>\n",
       "    </tr>\n",
       "    <tr>\n",
       "      <th>2</th>\n",
       "      <td>2018-05-02</td>\n",
       "      <td>Google</td>\n",
       "      <td>1901</td>\n",
       "      <td>0.106414</td>\n",
       "      <td>0.192993</td>\n",
       "      <td>-0.005088</td>\n",
       "      <td>0.069690</td>\n",
       "      <td>0.248100</td>\n",
       "      <td>0.98770</td>\n",
       "      <td>-0.55366</td>\n",
       "      <td>0.025714</td>\n",
       "      <td>-0.017464</td>\n",
       "    </tr>\n",
       "    <tr>\n",
       "      <th>3</th>\n",
       "      <td>2018-05-02</td>\n",
       "      <td>Allianz</td>\n",
       "      <td>121</td>\n",
       "      <td>-0.052265</td>\n",
       "      <td>0.264638</td>\n",
       "      <td>-0.230230</td>\n",
       "      <td>-0.094850</td>\n",
       "      <td>0.091920</td>\n",
       "      <td>0.58215</td>\n",
       "      <td>-0.66297</td>\n",
       "      <td>0.013549</td>\n",
       "      <td>-0.009181</td>\n",
       "    </tr>\n",
       "    <tr>\n",
       "      <th>4</th>\n",
       "      <td>2018-05-02</td>\n",
       "      <td>Airbus</td>\n",
       "      <td>250</td>\n",
       "      <td>0.055327</td>\n",
       "      <td>0.230707</td>\n",
       "      <td>-0.014180</td>\n",
       "      <td>0.030780</td>\n",
       "      <td>0.195380</td>\n",
       "      <td>0.60256</td>\n",
       "      <td>-0.57493</td>\n",
       "      <td>0.007473</td>\n",
       "      <td>0.000612</td>\n",
       "    </tr>\n",
       "  </tbody>\n",
       "</table>\n",
       "</div>"
      ],
      "text/plain": [
       "   Timestamp       ID  articleCount  avgSentiment  stdSentiment  \\\n",
       "0 2018-05-02     BASF           156      0.190012      0.236579   \n",
       "1 2018-05-02    Tesla           510      0.068932      0.173565   \n",
       "2 2018-05-02   Google          1901      0.106414      0.192993   \n",
       "3 2018-05-02  Allianz           121     -0.052265      0.264638   \n",
       "4 2018-05-02   Airbus           250      0.055327      0.230707   \n",
       "\n",
       "   25quantileSentiment  50quantileSentiment  75quantileSentiment  \\\n",
       "0             0.119930             0.236800             0.323370   \n",
       "1            -0.070315             0.072627             0.202486   \n",
       "2            -0.005088             0.069690             0.248100   \n",
       "3            -0.230230            -0.094850             0.091920   \n",
       "4            -0.014180             0.030780             0.195380   \n",
       "\n",
       "   maxSentiment  minSentiment  Previous_Day_Return  Next_Day_Return  \n",
       "0       0.65250      -0.63234             0.011060        -0.017219  \n",
       "1       0.64572      -0.50300             0.004093        -0.057051  \n",
       "2       0.98770      -0.55366             0.025714        -0.017464  \n",
       "3       0.58215      -0.66297             0.013549        -0.009181  \n",
       "4       0.60256      -0.57493             0.007473         0.000612  "
      ]
     },
     "execution_count": 2,
     "metadata": {},
     "output_type": "execute_result"
    }
   ],
   "source": [
    "df = pd.read_csv(\"../final_data/complete_data.csv\")\n",
    "df.Timestamp = pd.to_datetime(df.Timestamp)\n",
    "df = df.drop([\"Unnamed: 0\"], axis=1)\n",
    "df.head()"
   ]
  },
  {
   "cell_type": "code",
   "execution_count": 3,
   "metadata": {},
   "outputs": [],
   "source": [
    "#df = df.drop_duplicates(subset=[\"Timestamp\", \"ID\"])"
   ]
  },
  {
   "cell_type": "code",
   "execution_count": 4,
   "metadata": {},
   "outputs": [
    {
     "name": "stdout",
     "output_type": "stream",
     "text": [
      "Days 11.0\n",
      "Features 10\n"
     ]
    }
   ],
   "source": [
    "df.shape\n",
    "nr_days = int(df.shape[0] / 10)\n",
    "nr_feats = df.shape[1] -2 #(-2 wegen Timestamp & ID)\n",
    "print(\"Days {}\".format(nr_days))\n",
    "print(\"Features {}\".format(nr_feats))"
   ]
  },
  {
   "cell_type": "code",
   "execution_count": 30,
   "metadata": {
    "scrolled": true
   },
   "outputs": [
    {
     "data": {
      "text/plain": [
       "2018-05-04    10\n",
       "2018-05-16    10\n",
       "2018-05-09    10\n",
       "2018-05-02    10\n",
       "2018-05-14    10\n",
       "2018-05-17    10\n",
       "2018-05-10    10\n",
       "2018-05-03    10\n",
       "2018-05-15    10\n",
       "2018-05-08    10\n",
       "2018-05-11    10\n",
       "Name: Timestamp, dtype: int64"
      ]
     },
     "execution_count": 30,
     "metadata": {},
     "output_type": "execute_result"
    }
   ],
   "source": [
    "df[\"Timestamp\"].value_counts()"
   ]
  },
  {
   "cell_type": "code",
   "execution_count": 31,
   "metadata": {},
   "outputs": [
    {
     "data": {
      "text/html": [
       "<div>\n",
       "<style>\n",
       "    .dataframe thead tr:only-child th {\n",
       "        text-align: right;\n",
       "    }\n",
       "\n",
       "    .dataframe thead th {\n",
       "        text-align: left;\n",
       "    }\n",
       "\n",
       "    .dataframe tbody tr th {\n",
       "        vertical-align: top;\n",
       "    }\n",
       "</style>\n",
       "<table border=\"1\" class=\"dataframe\">\n",
       "  <thead>\n",
       "    <tr style=\"text-align: right;\">\n",
       "      <th></th>\n",
       "      <th>Timestamp</th>\n",
       "      <th>ID</th>\n",
       "      <th>articleCount</th>\n",
       "      <th>avgSentiment</th>\n",
       "      <th>stdSentiment</th>\n",
       "      <th>25quantileSentiment</th>\n",
       "      <th>50quantileSentiment</th>\n",
       "      <th>75quantileSentiment</th>\n",
       "      <th>maxSentiment</th>\n",
       "      <th>minSentiment</th>\n",
       "      <th>Previous_Day_Return</th>\n",
       "      <th>Next_Day_Return</th>\n",
       "    </tr>\n",
       "  </thead>\n",
       "  <tbody>\n",
       "    <tr>\n",
       "      <th>0</th>\n",
       "      <td>2018-05-02</td>\n",
       "      <td>BASF</td>\n",
       "      <td>156</td>\n",
       "      <td>0.190012</td>\n",
       "      <td>0.236579</td>\n",
       "      <td>0.119930</td>\n",
       "      <td>0.236800</td>\n",
       "      <td>0.323370</td>\n",
       "      <td>0.65250</td>\n",
       "      <td>-0.63234</td>\n",
       "      <td>0.011060</td>\n",
       "      <td>-0.017219</td>\n",
       "    </tr>\n",
       "    <tr>\n",
       "      <th>1</th>\n",
       "      <td>2018-05-02</td>\n",
       "      <td>Tesla</td>\n",
       "      <td>510</td>\n",
       "      <td>0.068932</td>\n",
       "      <td>0.173565</td>\n",
       "      <td>-0.070315</td>\n",
       "      <td>0.072627</td>\n",
       "      <td>0.202486</td>\n",
       "      <td>0.64572</td>\n",
       "      <td>-0.50300</td>\n",
       "      <td>0.004093</td>\n",
       "      <td>-0.057051</td>\n",
       "    </tr>\n",
       "    <tr>\n",
       "      <th>2</th>\n",
       "      <td>2018-05-02</td>\n",
       "      <td>Google</td>\n",
       "      <td>1901</td>\n",
       "      <td>0.106414</td>\n",
       "      <td>0.192993</td>\n",
       "      <td>-0.005088</td>\n",
       "      <td>0.069690</td>\n",
       "      <td>0.248100</td>\n",
       "      <td>0.98770</td>\n",
       "      <td>-0.55366</td>\n",
       "      <td>0.025714</td>\n",
       "      <td>-0.017464</td>\n",
       "    </tr>\n",
       "    <tr>\n",
       "      <th>3</th>\n",
       "      <td>2018-05-02</td>\n",
       "      <td>Allianz</td>\n",
       "      <td>121</td>\n",
       "      <td>-0.052265</td>\n",
       "      <td>0.264638</td>\n",
       "      <td>-0.230230</td>\n",
       "      <td>-0.094850</td>\n",
       "      <td>0.091920</td>\n",
       "      <td>0.58215</td>\n",
       "      <td>-0.66297</td>\n",
       "      <td>0.013549</td>\n",
       "      <td>-0.009181</td>\n",
       "    </tr>\n",
       "    <tr>\n",
       "      <th>4</th>\n",
       "      <td>2018-05-02</td>\n",
       "      <td>Airbus</td>\n",
       "      <td>250</td>\n",
       "      <td>0.055327</td>\n",
       "      <td>0.230707</td>\n",
       "      <td>-0.014180</td>\n",
       "      <td>0.030780</td>\n",
       "      <td>0.195380</td>\n",
       "      <td>0.60256</td>\n",
       "      <td>-0.57493</td>\n",
       "      <td>0.007473</td>\n",
       "      <td>0.000612</td>\n",
       "    </tr>\n",
       "  </tbody>\n",
       "</table>\n",
       "</div>"
      ],
      "text/plain": [
       "   Timestamp       ID  articleCount  avgSentiment  stdSentiment  \\\n",
       "0 2018-05-02     BASF           156      0.190012      0.236579   \n",
       "1 2018-05-02    Tesla           510      0.068932      0.173565   \n",
       "2 2018-05-02   Google          1901      0.106414      0.192993   \n",
       "3 2018-05-02  Allianz           121     -0.052265      0.264638   \n",
       "4 2018-05-02   Airbus           250      0.055327      0.230707   \n",
       "\n",
       "   25quantileSentiment  50quantileSentiment  75quantileSentiment  \\\n",
       "0             0.119930             0.236800             0.323370   \n",
       "1            -0.070315             0.072627             0.202486   \n",
       "2            -0.005088             0.069690             0.248100   \n",
       "3            -0.230230            -0.094850             0.091920   \n",
       "4            -0.014180             0.030780             0.195380   \n",
       "\n",
       "   maxSentiment  minSentiment  Previous_Day_Return  Next_Day_Return  \n",
       "0       0.65250      -0.63234             0.011060        -0.017219  \n",
       "1       0.64572      -0.50300             0.004093        -0.057051  \n",
       "2       0.98770      -0.55366             0.025714        -0.017464  \n",
       "3       0.58215      -0.66297             0.013549        -0.009181  \n",
       "4       0.60256      -0.57493             0.007473         0.000612  "
      ]
     },
     "execution_count": 31,
     "metadata": {},
     "output_type": "execute_result"
    }
   ],
   "source": [
    "df.head()"
   ]
  },
  {
   "cell_type": "code",
   "execution_count": 32,
   "metadata": {},
   "outputs": [],
   "source": [
    "X = []#np.empty((int(nr_days) ,int(nr_feats * 10)))"
   ]
  },
  {
   "cell_type": "code",
   "execution_count": 33,
   "metadata": {},
   "outputs": [],
   "source": [
    "for d in df[\"Timestamp\"].value_counts().index:\n",
    "    X.append(df[df[\"Timestamp\"] == d].drop([\"Timestamp\", \"ID\"], axis=1).values.reshape(1,nr_feats*10))\n",
    "    "
   ]
  },
  {
   "cell_type": "code",
   "execution_count": 34,
   "metadata": {},
   "outputs": [
    {
     "data": {
      "text/plain": [
       "(11, 100)"
      ]
     },
     "execution_count": 34,
     "metadata": {},
     "output_type": "execute_result"
    }
   ],
   "source": [
    "X = np.array(X).reshape(int(nr_days), nr_feats*10)\n",
    "X.shape"
   ]
  },
  {
   "cell_type": "code",
   "execution_count": 42,
   "metadata": {},
   "outputs": [
    {
     "data": {
      "text/plain": [
       "array([[-0.01721889, -0.05705099, -0.01746398, -0.00918132,  0.00061175,\n",
       "         0.00181067,  0.00350719, -0.0202173 ,  0.        , -0.01004057],\n",
       "       [ 0.03848335,  0.00773992, -0.0080557 , -0.0065317 ,  0.03332835,\n",
       "         0.01892551,  0.01262541, -0.02097312,  0.00640083,  0.00847805],\n",
       "       [ 0.0041417 , -0.01048699, -0.00348867, -0.00353219,  0.00479514,\n",
       "         0.00792103, -0.00264577,  0.00279818, -0.002593  ,  0.01339733],\n",
       "       [-0.0328532 , -0.01084348, -0.00882565,  0.02501474,  0.00290647,\n",
       "         0.00411967,  0.00021751, -0.01747101,  0.00701645,  0.01603135],\n",
       "       [ 0.01420268,  0.00434028,  0.01365875,  0.00533603, -0.00598168,\n",
       "        -0.03328691,  0.0099655 ,  0.01445442,  0.01429254,  0.00468751],\n",
       "       [ 0.00380743, -0.0019508 , -0.005275  , -0.00910477, -0.00260702,\n",
       "        -0.0013062 , -0.00583092, -0.01306777, -0.00585368, -0.00765923],\n",
       "       [ 0.00449527,  0.00448108, -0.00126706, -0.00575948, -0.02313133,\n",
       "        -0.03065852, -0.02483841, -0.00233583, -0.02366974, -0.00380415],\n",
       "       [-0.02704322, -0.00913005, -0.01812738, -0.01383079,  0.        ,\n",
       "        -0.00547518, -0.00952783,  0.00997772,  0.00369566,  0.00951144],\n",
       "       [-0.00147223,  0.01312487,  0.01548019,  0.01078269, -0.00187481,\n",
       "         0.00806089,  0.00928948, -0.0144596 , -0.0001085 ,  0.01440554],\n",
       "       [ 0.00980871, -0.00679488, -0.0012012 ,  0.01206414,  0.00360604,\n",
       "        -0.00906807,  0.02186105, -0.02646069, -0.00634381,  0.01229391],\n",
       "       [-0.00364319, -0.05202691,  0.        ,  0.00078709, -0.00134061,\n",
       "        -0.02750637, -0.00071425, -0.00156535, -0.036134  ,  0.00202225]])"
      ]
     },
     "execution_count": 42,
     "metadata": {},
     "output_type": "execute_result"
    }
   ],
   "source": [
    "df_labels = df[[\"Timestamp\",\"Next_Day_Return\"]].copy()\n",
    "df_labels[\"Next_Day_Return\"].values.reshape(int(nr_days), 10)"
   ]
  },
  {
   "cell_type": "code",
   "execution_count": 154,
   "metadata": {},
   "outputs": [],
   "source": [
    "df_labels_single = df_labels.groupby(\"Timestamp\").agg(\"last\")"
   ]
  },
  {
   "cell_type": "code",
   "execution_count": 155,
   "metadata": {},
   "outputs": [
    {
     "data": {
      "text/html": [
       "<div>\n",
       "<style>\n",
       "    .dataframe thead tr:only-child th {\n",
       "        text-align: right;\n",
       "    }\n",
       "\n",
       "    .dataframe thead th {\n",
       "        text-align: left;\n",
       "    }\n",
       "\n",
       "    .dataframe tbody tr th {\n",
       "        vertical-align: top;\n",
       "    }\n",
       "</style>\n",
       "<table border=\"1\" class=\"dataframe\">\n",
       "  <thead>\n",
       "    <tr style=\"text-align: right;\">\n",
       "      <th></th>\n",
       "      <th>005930.KS</th>\n",
       "      <th>VIV</th>\n",
       "      <th>ALV.DE</th>\n",
       "      <th>TSS</th>\n",
       "      <th>BAYN.DE</th>\n",
       "      <th>TSLA</th>\n",
       "      <th>AIR.DE</th>\n",
       "      <th>AAPL</th>\n",
       "      <th>BAS.DE</th>\n",
       "      <th>BMW.DE</th>\n",
       "    </tr>\n",
       "    <tr>\n",
       "      <th>Timestamp</th>\n",
       "      <th></th>\n",
       "      <th></th>\n",
       "      <th></th>\n",
       "      <th></th>\n",
       "      <th></th>\n",
       "      <th></th>\n",
       "      <th></th>\n",
       "      <th></th>\n",
       "      <th></th>\n",
       "      <th></th>\n",
       "    </tr>\n",
       "  </thead>\n",
       "  <tbody>\n",
       "    <tr>\n",
       "      <th>2018-05-02</th>\n",
       "      <td>0.000000</td>\n",
       "      <td>-0.010665</td>\n",
       "      <td>0.013549</td>\n",
       "      <td>-0.013838</td>\n",
       "      <td>0.003419</td>\n",
       "      <td>0.004093</td>\n",
       "      <td>0.007473</td>\n",
       "      <td>0.043227</td>\n",
       "      <td>0.011060</td>\n",
       "      <td>0.006682</td>\n",
       "    </tr>\n",
       "    <tr>\n",
       "      <th>2018-05-03</th>\n",
       "      <td>0.000000</td>\n",
       "      <td>-0.020217</td>\n",
       "      <td>-0.009181</td>\n",
       "      <td>0.008611</td>\n",
       "      <td>0.003507</td>\n",
       "      <td>-0.057051</td>\n",
       "      <td>0.000612</td>\n",
       "      <td>0.001811</td>\n",
       "      <td>-0.017219</td>\n",
       "      <td>-0.010041</td>\n",
       "    </tr>\n",
       "    <tr>\n",
       "      <th>2018-05-04</th>\n",
       "      <td>-0.020973</td>\n",
       "      <td>-0.008056</td>\n",
       "      <td>0.008478</td>\n",
       "      <td>0.014659</td>\n",
       "      <td>0.018926</td>\n",
       "      <td>0.033328</td>\n",
       "      <td>0.006401</td>\n",
       "      <td>0.038483</td>\n",
       "      <td>0.012625</td>\n",
       "      <td>-0.006532</td>\n",
       "    </tr>\n",
       "    <tr>\n",
       "      <th>2018-05-08</th>\n",
       "      <td>0.013397</td>\n",
       "      <td>-0.010487</td>\n",
       "      <td>-0.003489</td>\n",
       "      <td>0.010593</td>\n",
       "      <td>-0.003532</td>\n",
       "      <td>-0.002646</td>\n",
       "      <td>-0.002593</td>\n",
       "      <td>0.004795</td>\n",
       "      <td>0.002798</td>\n",
       "      <td>0.004142</td>\n",
       "    </tr>\n",
       "    <tr>\n",
       "      <th>2018-05-09</th>\n",
       "      <td>-0.032853</td>\n",
       "      <td>-0.017471</td>\n",
       "      <td>-0.008826</td>\n",
       "      <td>0.005824</td>\n",
       "      <td>0.004120</td>\n",
       "      <td>0.016031</td>\n",
       "      <td>-0.010843</td>\n",
       "      <td>0.007016</td>\n",
       "      <td>0.002906</td>\n",
       "      <td>0.000218</td>\n",
       "    </tr>\n",
       "  </tbody>\n",
       "</table>\n",
       "</div>"
      ],
      "text/plain": [
       "            005930.KS       VIV    ALV.DE       TSS   BAYN.DE      TSLA  \\\n",
       "Timestamp                                                                 \n",
       "2018-05-02   0.000000 -0.010665  0.013549 -0.013838  0.003419  0.004093   \n",
       "2018-05-03   0.000000 -0.020217 -0.009181  0.008611  0.003507 -0.057051   \n",
       "2018-05-04  -0.020973 -0.008056  0.008478  0.014659  0.018926  0.033328   \n",
       "2018-05-08   0.013397 -0.010487 -0.003489  0.010593 -0.003532 -0.002646   \n",
       "2018-05-09  -0.032853 -0.017471 -0.008826  0.005824  0.004120  0.016031   \n",
       "\n",
       "              AIR.DE      AAPL    BAS.DE    BMW.DE  \n",
       "Timestamp                                           \n",
       "2018-05-02  0.007473  0.043227  0.011060  0.006682  \n",
       "2018-05-03  0.000612  0.001811 -0.017219 -0.010041  \n",
       "2018-05-04  0.006401  0.038483  0.012625 -0.006532  \n",
       "2018-05-08 -0.002593  0.004795  0.002798  0.004142  \n",
       "2018-05-09 -0.010843  0.007016  0.002906  0.000218  "
      ]
     },
     "execution_count": 155,
     "metadata": {},
     "output_type": "execute_result"
    }
   ],
   "source": [
    "df_labels_single.head()"
   ]
  },
  {
   "cell_type": "code",
   "execution_count": 156,
   "metadata": {},
   "outputs": [
    {
     "data": {
      "text/plain": [
       "(9, 10)"
      ]
     },
     "execution_count": 156,
     "metadata": {},
     "output_type": "execute_result"
    }
   ],
   "source": [
    "Y = df_labels_single.values\n",
    "Y.shape"
   ]
  },
  {
   "cell_type": "code",
   "execution_count": 157,
   "metadata": {},
   "outputs": [],
   "source": [
    "from keras.models import Sequential\n",
    "from keras.layers import Dense, Activation\n",
    "\n",
    "from sklearn.model_selection import train_test_split\n",
    "from keras.callbacks import EarlyStopping, ModelCheckpoint"
   ]
  },
  {
   "cell_type": "code",
   "execution_count": 158,
   "metadata": {},
   "outputs": [],
   "source": [
    "X_train, X_val, Y_train, Y_val = train_test_split(X, Y, test_size=0.15, random_state=42)"
   ]
  },
  {
   "cell_type": "code",
   "execution_count": 160,
   "metadata": {},
   "outputs": [
    {
     "name": "stdout",
     "output_type": "stream",
     "text": [
      "190 dims\n",
      "Building model...\n",
      "10 classes\n",
      "Train on 9 samples, validate on 2 samples\n",
      "Epoch 1/10\n",
      "9/9 [==============================] - 1s 58ms/step - loss: -0.0452 - val_loss: -0.2786\n",
      "Epoch 2/10\n",
      "9/9 [==============================] - 0s 556us/step - loss: -0.0452 - val_loss: -0.2787\n",
      "Epoch 3/10\n",
      "9/9 [==============================] - 0s 445us/step - loss: -0.0453 - val_loss: -0.2787\n",
      "Epoch 4/10\n",
      "9/9 [==============================] - 0s 444us/step - loss: -0.0453 - val_loss: -0.2788\n",
      "Epoch 5/10\n",
      "9/9 [==============================] - 0s 1ms/step - loss: -0.0453 - val_loss: -0.2789\n",
      "Epoch 6/10\n",
      "9/9 [==============================] - 0s 1ms/step - loss: -0.0454 - val_loss: -0.2789\n",
      "Epoch 7/10\n",
      "9/9 [==============================] - 0s 334us/step - loss: -0.0454 - val_loss: -0.2790\n",
      "Epoch 8/10\n",
      "9/9 [==============================] - 0s 1ms/step - loss: -0.0455 - val_loss: -0.2791\n",
      "Epoch 9/10\n",
      "9/9 [==============================] - 0s 553us/step - loss: -0.0455 - val_loss: -0.2791\n",
      "Epoch 10/10\n",
      "9/9 [==============================] - 0s 1ms/step - loss: -0.0456 - val_loss: -0.2792\n"
     ]
    },
    {
     "data": {
      "text/plain": [
       "<keras.callbacks.History at 0x2127e314f98>"
      ]
     },
     "execution_count": 160,
     "metadata": {},
     "output_type": "execute_result"
    }
   ],
   "source": [
    "dims = X.shape[1]\n",
    "print(dims, 'dims')\n",
    "print(\"Building model...\")\n",
    "\n",
    "nb_classes = Y.shape[1]\n",
    "print(nb_classes, 'classes')\n",
    "\n",
    "model = Sequential()\n",
    "model.add(Dense(nb_classes, input_shape=(dims,), activation='sigmoid'))\n",
    "model.add(Dense(nb_classes**2))\n",
    "model.add(Dense(nb_classes**2))\n",
    "model.add(Dense(nb_classes))\n",
    "model.add(Activation('softplus'))\n",
    "model.add(Activation('softmax'))\n",
    "model.compile(optimizer='sgd', loss='categorical_crossentropy')\n",
    "model.fit(X, Y, validation_data = (X_val, Y_val), epochs=10, \n",
    "          batch_size=128, verbose=True)"
   ]
  },
  {
   "cell_type": "code",
   "execution_count": 135,
   "metadata": {},
   "outputs": [
    {
     "data": {
      "text/plain": [
       "array([  5.51000000e+02,   8.21914827e-02,   2.06793140e-01,\n",
       "        -1.01450000e-02,   4.14600000e-02,   2.13785000e-01,\n",
       "         7.24430000e-01,  -6.32340000e-01,   0.00000000e+00,\n",
       "        -2.09731234e-02,  -8.05570083e-03,   8.47804836e-03,\n",
       "         1.46592056e-02,   1.89255091e-02,   3.33283517e-02,\n",
       "         6.40083466e-03,   3.84833470e-02,   1.26254066e-02,\n",
       "        -6.53170186e-03,   3.51000000e+02,  -6.38005924e-05,\n",
       "         2.54183595e-01,  -1.81920000e-01,  -3.94000000e-02,\n",
       "         2.19880000e-01,   6.17980000e-01,  -6.99633333e-01,\n",
       "         0.00000000e+00,  -2.09731234e-02,  -8.05570083e-03,\n",
       "         8.47804836e-03,   1.46592056e-02,   1.89255091e-02,\n",
       "         3.33283517e-02,   6.40083466e-03,   3.84833470e-02,\n",
       "         1.26254066e-02,  -6.53170186e-03,   2.04900000e+03,\n",
       "         7.03780595e-02,   2.13552659e-01,  -2.62300000e-02,\n",
       "         3.96700000e-02,   2.10740000e-01,   7.28870000e-01,\n",
       "        -9.91700000e-01,   0.00000000e+00,  -2.09731234e-02,\n",
       "        -8.05570083e-03,   8.47804836e-03,   1.46592056e-02,\n",
       "         1.89255091e-02,   3.33283517e-02,   6.40083466e-03,\n",
       "         3.84833470e-02,   1.26254066e-02,  -6.53170186e-03,\n",
       "         4.72000000e+02,   1.45661004e-02,   1.64032862e-01,\n",
       "        -9.10800000e-02,  -1.17700000e-02,   1.23552500e-01,\n",
       "         7.12400000e-01,  -3.89040000e-01,   0.00000000e+00,\n",
       "        -2.09731234e-02,  -8.05570083e-03,   8.47804836e-03,\n",
       "         1.46592056e-02,   1.89255091e-02,   3.33283517e-02,\n",
       "         6.40083466e-03,   3.84833470e-02,   1.26254066e-02,\n",
       "        -6.53170186e-03,   1.87000000e+02,  -3.75146354e-02,\n",
       "         2.59320365e-01,  -1.28840000e-01,   0.00000000e+00,\n",
       "         9.49666667e-02,   5.70480000e-01,  -6.42300000e-01,\n",
       "         0.00000000e+00,  -2.09731234e-02,  -8.05570083e-03,\n",
       "         8.47804836e-03,   1.46592056e-02,   1.89255091e-02,\n",
       "         3.33283517e-02,   6.40083466e-03,   3.84833470e-02,\n",
       "         1.26254066e-02,  -6.53170186e-03,   6.50000000e+02,\n",
       "        -6.25113858e-03,   2.09625492e-01,  -1.19880000e-01,\n",
       "         0.00000000e+00,   1.06637500e-01,   6.17860000e-01,\n",
       "        -5.64810000e-01,   0.00000000e+00,  -2.09731234e-02,\n",
       "        -8.05570083e-03,   8.47804836e-03,   1.46592056e-02,\n",
       "         1.89255091e-02,   3.33283517e-02,   6.40083466e-03,\n",
       "         3.84833470e-02,   1.26254066e-02,  -6.53170186e-03,\n",
       "         7.74000000e+02,  -4.18477858e-02,   2.29301451e-01,\n",
       "        -2.38922500e-01,  -1.86700000e-02,   8.78242857e-02,\n",
       "         8.68900000e-01,  -5.12460000e-01,   0.00000000e+00,\n",
       "        -2.09731234e-02,  -8.05570083e-03,   8.47804836e-03,\n",
       "         1.46592056e-02,   1.89255091e-02,   3.33283517e-02,\n",
       "         6.40083466e-03,   3.84833470e-02,   1.26254066e-02,\n",
       "        -6.53170186e-03,   8.60000000e+01,  -4.10000923e-03,\n",
       "         2.14952272e-01,  -1.06870000e-01,  -2.13750000e-02,\n",
       "         1.34747500e-01,   6.22220000e-01,  -6.32340000e-01,\n",
       "         0.00000000e+00,  -2.09731234e-02,  -8.05570083e-03,\n",
       "         8.47804836e-03,   1.46592056e-02,   1.89255091e-02,\n",
       "         3.33283517e-02,   6.40083466e-03,   3.84833470e-02,\n",
       "         1.26254066e-02,  -6.53170186e-03,   1.93000000e+03,\n",
       "         1.01840820e-01,   1.76136785e-01,   0.00000000e+00,\n",
       "         6.89700000e-02,   2.23507500e-01,   8.95700000e-01,\n",
       "        -6.47550000e-01,   0.00000000e+00,  -2.09731234e-02,\n",
       "        -8.05570083e-03,   8.47804836e-03,   1.46592056e-02,\n",
       "         1.89255091e-02,   3.33283517e-02,   6.40083466e-03,\n",
       "         3.84833470e-02,   1.26254066e-02,  -6.53170186e-03,\n",
       "         2.50000000e+02,  -1.63901268e-01,   2.65495952e-01,\n",
       "        -3.77560000e-01,  -2.37110000e-01,   0.00000000e+00,\n",
       "         6.50210000e-01,  -7.05160000e-01,   0.00000000e+00,\n",
       "        -2.09731234e-02,  -8.05570083e-03,   8.47804836e-03,\n",
       "         1.46592056e-02,   1.89255091e-02,   3.33283517e-02,\n",
       "         6.40083466e-03,   3.84833470e-02,   1.26254066e-02,\n",
       "        -6.53170186e-03])"
      ]
     },
     "execution_count": 135,
     "metadata": {},
     "output_type": "execute_result"
    }
   ],
   "source": [
    "X[0]"
   ]
  },
  {
   "cell_type": "code",
   "execution_count": 161,
   "metadata": {},
   "outputs": [
    {
     "data": {
      "text/plain": [
       "array([[ 0.15545654,  0.07820908,  0.15075111,  0.07553826,  0.06204455,\n",
       "         0.06763228,  0.08510923,  0.11990739,  0.1234183 ,  0.08193333]], dtype=float32)"
      ]
     },
     "execution_count": 161,
     "metadata": {},
     "output_type": "execute_result"
    }
   ],
   "source": [
    "E = model.predict(X[0].reshape(1,190))\n",
    "E"
   ]
  },
  {
   "cell_type": "code",
   "execution_count": 162,
   "metadata": {},
   "outputs": [
    {
     "data": {
      "text/plain": [
       "array([ 0.        , -0.01066487,  0.01354925, -0.01383775,  0.00341881,\n",
       "        0.00409271,  0.00747303,  0.04322714,  0.01106002,  0.0066825 ])"
      ]
     },
     "execution_count": 162,
     "metadata": {},
     "output_type": "execute_result"
    }
   ],
   "source": [
    "Y[0]"
   ]
  },
  {
   "cell_type": "code",
   "execution_count": 139,
   "metadata": {},
   "outputs": [
    {
     "data": {
      "text/plain": [
       "array([[ 0.04923758,  0.05990248,  0.12029236,  0.14767935,  0.1304228 ,\n",
       "         0.04514487,  0.12636857,  0.00601043,  0.12278158,  0.1271591 ]])"
      ]
     },
     "execution_count": 139,
     "metadata": {},
     "output_type": "execute_result"
    }
   ],
   "source": [
    "EY[0]"
   ]
  }
 ],
 "metadata": {
  "kernelspec": {
   "display_name": "Python 3",
   "language": "python",
   "name": "python3"
  },
  "language_info": {
   "codemirror_mode": {
    "name": "ipython",
    "version": 3
   },
   "file_extension": ".py",
   "mimetype": "text/x-python",
   "name": "python",
   "nbconvert_exporter": "python",
   "pygments_lexer": "ipython3",
   "version": "3.6.5"
  }
 },
 "nbformat": 4,
 "nbformat_minor": 2
}

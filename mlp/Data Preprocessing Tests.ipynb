{
 "cells": [
  {
   "cell_type": "code",
   "execution_count": 2,
   "metadata": {},
   "outputs": [
    {
     "data": {
      "text/plain": [
       "'C:\\\\Users\\\\Nils\\\\Documents\\\\KIT-TVWL\\\\Master\\\\SS 18\\\\KD Seminar\\\\Git\\\\mlp'"
      ]
     },
     "execution_count": 2,
     "metadata": {},
     "output_type": "execute_result"
    }
   ],
   "source": [
    "import pandas as pd\n",
    "import numpy as np\n",
    "\n",
    "import os\n",
    "wd = os.getcwd()\n",
    "wd"
   ]
  },
  {
   "cell_type": "code",
   "execution_count": 107,
   "metadata": {},
   "outputs": [
    {
     "data": {
      "text/html": [
       "<div>\n",
       "<style>\n",
       "    .dataframe thead tr:only-child th {\n",
       "        text-align: right;\n",
       "    }\n",
       "\n",
       "    .dataframe thead th {\n",
       "        text-align: left;\n",
       "    }\n",
       "\n",
       "    .dataframe tbody tr th {\n",
       "        vertical-align: top;\n",
       "    }\n",
       "</style>\n",
       "<table border=\"1\" class=\"dataframe\">\n",
       "  <thead>\n",
       "    <tr style=\"text-align: right;\">\n",
       "      <th></th>\n",
       "      <th>Timestamp</th>\n",
       "      <th>articleCount</th>\n",
       "      <th>avgSentiment</th>\n",
       "      <th>stdSentiment</th>\n",
       "      <th>25quantileSentiment</th>\n",
       "      <th>50quantileSentiment</th>\n",
       "      <th>75quantileSentiment</th>\n",
       "      <th>maxSentiment</th>\n",
       "      <th>minSentiment</th>\n",
       "      <th>ibmSentiment</th>\n",
       "      <th>005930.KS</th>\n",
       "      <th>VIV</th>\n",
       "      <th>ALV.DE</th>\n",
       "      <th>TSS</th>\n",
       "      <th>BAYN.DE</th>\n",
       "      <th>TSLA</th>\n",
       "      <th>AIR.DE</th>\n",
       "      <th>AAPL</th>\n",
       "      <th>BAS.DE</th>\n",
       "      <th>BMW.DE</th>\n",
       "    </tr>\n",
       "  </thead>\n",
       "  <tbody>\n",
       "    <tr>\n",
       "      <th>0</th>\n",
       "      <td>2018-05-02</td>\n",
       "      <td>896</td>\n",
       "      <td>0.081347</td>\n",
       "      <td>0.204661</td>\n",
       "      <td>-0.020812</td>\n",
       "      <td>0.068840</td>\n",
       "      <td>0.211710</td>\n",
       "      <td>0.94770</td>\n",
       "      <td>-0.562680</td>\n",
       "      <td>0</td>\n",
       "      <td>0.0</td>\n",
       "      <td>-0.010665</td>\n",
       "      <td>0.013549</td>\n",
       "      <td>-0.013838</td>\n",
       "      <td>0.003419</td>\n",
       "      <td>0.004093</td>\n",
       "      <td>0.007473</td>\n",
       "      <td>0.043227</td>\n",
       "      <td>0.01106</td>\n",
       "      <td>0.006682</td>\n",
       "    </tr>\n",
       "    <tr>\n",
       "      <th>1</th>\n",
       "      <td>2018-05-02</td>\n",
       "      <td>156</td>\n",
       "      <td>0.190012</td>\n",
       "      <td>0.236579</td>\n",
       "      <td>0.119930</td>\n",
       "      <td>0.236800</td>\n",
       "      <td>0.323370</td>\n",
       "      <td>0.65250</td>\n",
       "      <td>-0.632340</td>\n",
       "      <td>0</td>\n",
       "      <td>0.0</td>\n",
       "      <td>-0.010665</td>\n",
       "      <td>0.013549</td>\n",
       "      <td>-0.013838</td>\n",
       "      <td>0.003419</td>\n",
       "      <td>0.004093</td>\n",
       "      <td>0.007473</td>\n",
       "      <td>0.043227</td>\n",
       "      <td>0.01106</td>\n",
       "      <td>0.006682</td>\n",
       "    </tr>\n",
       "    <tr>\n",
       "      <th>2</th>\n",
       "      <td>2018-05-02</td>\n",
       "      <td>3116</td>\n",
       "      <td>0.050277</td>\n",
       "      <td>0.217317</td>\n",
       "      <td>-0.056716</td>\n",
       "      <td>0.029800</td>\n",
       "      <td>0.205750</td>\n",
       "      <td>0.92600</td>\n",
       "      <td>-0.886267</td>\n",
       "      <td>0</td>\n",
       "      <td>0.0</td>\n",
       "      <td>-0.010665</td>\n",
       "      <td>0.013549</td>\n",
       "      <td>-0.013838</td>\n",
       "      <td>0.003419</td>\n",
       "      <td>0.004093</td>\n",
       "      <td>0.007473</td>\n",
       "      <td>0.043227</td>\n",
       "      <td>0.01106</td>\n",
       "      <td>0.006682</td>\n",
       "    </tr>\n",
       "    <tr>\n",
       "      <th>3</th>\n",
       "      <td>2018-05-02</td>\n",
       "      <td>510</td>\n",
       "      <td>0.068932</td>\n",
       "      <td>0.173565</td>\n",
       "      <td>-0.070315</td>\n",
       "      <td>0.072627</td>\n",
       "      <td>0.202486</td>\n",
       "      <td>0.64572</td>\n",
       "      <td>-0.503000</td>\n",
       "      <td>0</td>\n",
       "      <td>0.0</td>\n",
       "      <td>-0.010665</td>\n",
       "      <td>0.013549</td>\n",
       "      <td>-0.013838</td>\n",
       "      <td>0.003419</td>\n",
       "      <td>0.004093</td>\n",
       "      <td>0.007473</td>\n",
       "      <td>0.043227</td>\n",
       "      <td>0.01106</td>\n",
       "      <td>0.006682</td>\n",
       "    </tr>\n",
       "    <tr>\n",
       "      <th>4</th>\n",
       "      <td>2018-05-02</td>\n",
       "      <td>250</td>\n",
       "      <td>0.055327</td>\n",
       "      <td>0.230707</td>\n",
       "      <td>-0.014180</td>\n",
       "      <td>0.030780</td>\n",
       "      <td>0.195380</td>\n",
       "      <td>0.60256</td>\n",
       "      <td>-0.574930</td>\n",
       "      <td>0</td>\n",
       "      <td>0.0</td>\n",
       "      <td>-0.010665</td>\n",
       "      <td>0.013549</td>\n",
       "      <td>-0.013838</td>\n",
       "      <td>0.003419</td>\n",
       "      <td>0.004093</td>\n",
       "      <td>0.007473</td>\n",
       "      <td>0.043227</td>\n",
       "      <td>0.01106</td>\n",
       "      <td>0.006682</td>\n",
       "    </tr>\n",
       "  </tbody>\n",
       "</table>\n",
       "</div>"
      ],
      "text/plain": [
       "   Timestamp  articleCount  avgSentiment  stdSentiment  25quantileSentiment  \\\n",
       "0 2018-05-02           896      0.081347      0.204661            -0.020812   \n",
       "1 2018-05-02           156      0.190012      0.236579             0.119930   \n",
       "2 2018-05-02          3116      0.050277      0.217317            -0.056716   \n",
       "3 2018-05-02           510      0.068932      0.173565            -0.070315   \n",
       "4 2018-05-02           250      0.055327      0.230707            -0.014180   \n",
       "\n",
       "   50quantileSentiment  75quantileSentiment  maxSentiment  minSentiment  \\\n",
       "0             0.068840             0.211710       0.94770     -0.562680   \n",
       "1             0.236800             0.323370       0.65250     -0.632340   \n",
       "2             0.029800             0.205750       0.92600     -0.886267   \n",
       "3             0.072627             0.202486       0.64572     -0.503000   \n",
       "4             0.030780             0.195380       0.60256     -0.574930   \n",
       "\n",
       "   ibmSentiment  005930.KS       VIV    ALV.DE       TSS   BAYN.DE      TSLA  \\\n",
       "0             0        0.0 -0.010665  0.013549 -0.013838  0.003419  0.004093   \n",
       "1             0        0.0 -0.010665  0.013549 -0.013838  0.003419  0.004093   \n",
       "2             0        0.0 -0.010665  0.013549 -0.013838  0.003419  0.004093   \n",
       "3             0        0.0 -0.010665  0.013549 -0.013838  0.003419  0.004093   \n",
       "4             0        0.0 -0.010665  0.013549 -0.013838  0.003419  0.004093   \n",
       "\n",
       "     AIR.DE      AAPL   BAS.DE    BMW.DE  \n",
       "0  0.007473  0.043227  0.01106  0.006682  \n",
       "1  0.007473  0.043227  0.01106  0.006682  \n",
       "2  0.007473  0.043227  0.01106  0.006682  \n",
       "3  0.007473  0.043227  0.01106  0.006682  \n",
       "4  0.007473  0.043227  0.01106  0.006682  "
      ]
     },
     "execution_count": 107,
     "metadata": {},
     "output_type": "execute_result"
    }
   ],
   "source": [
    "df = pd.read_csv(\"../complete_data.csv\")\n",
    "df.Timestamp = pd.to_datetime(df.Timestamp)\n",
    "df = df.drop([\"Unnamed: 0\", \"ID\"], axis=1)\n",
    "df.head()"
   ]
  },
  {
   "cell_type": "code",
   "execution_count": 112,
   "metadata": {},
   "outputs": [],
   "source": [
    "df.shape\n",
    "nr_days = df.shape[0] / 10\n",
    "nr_feats = df.shape[1] -1 #(-1 wegen Timestamp)"
   ]
  },
  {
   "cell_type": "code",
   "execution_count": 113,
   "metadata": {},
   "outputs": [
    {
     "data": {
      "text/plain": [
       "2018-05-04    10\n",
       "2018-05-09    10\n",
       "2018-05-02    10\n",
       "2018-05-14    10\n",
       "2018-05-10    10\n",
       "2018-05-03    10\n",
       "2018-05-15    10\n",
       "2018-05-08    10\n",
       "2018-05-11    10\n",
       "Name: Timestamp, dtype: int64"
      ]
     },
     "execution_count": 113,
     "metadata": {},
     "output_type": "execute_result"
    }
   ],
   "source": [
    "df[\"Timestamp\"].value_counts()"
   ]
  },
  {
   "cell_type": "code",
   "execution_count": 114,
   "metadata": {},
   "outputs": [],
   "source": [
    "X = []#np.empty((int(nr_days) ,int(nr_feats * 10)))"
   ]
  },
  {
   "cell_type": "code",
   "execution_count": 115,
   "metadata": {},
   "outputs": [],
   "source": [
    "for d in df[\"Timestamp\"].value_counts().index:\n",
    "    X.append(df[df[\"Timestamp\"] == d].drop([\"Timestamp\"], axis=1).values.reshape(1,nr_feats*10))\n",
    "    "
   ]
  },
  {
   "cell_type": "code",
   "execution_count": 116,
   "metadata": {},
   "outputs": [
    {
     "data": {
      "text/plain": [
       "(9, 190)"
      ]
     },
     "execution_count": 116,
     "metadata": {},
     "output_type": "execute_result"
    }
   ],
   "source": [
    "X = np.array(X).reshape(int(nr_days), nr_feats*10)\n",
    "X.shape"
   ]
  },
  {
   "cell_type": "code",
   "execution_count": 117,
   "metadata": {},
   "outputs": [
    {
     "data": {
      "text/html": [
       "<div>\n",
       "<style>\n",
       "    .dataframe thead tr:only-child th {\n",
       "        text-align: right;\n",
       "    }\n",
       "\n",
       "    .dataframe thead th {\n",
       "        text-align: left;\n",
       "    }\n",
       "\n",
       "    .dataframe tbody tr th {\n",
       "        vertical-align: top;\n",
       "    }\n",
       "</style>\n",
       "<table border=\"1\" class=\"dataframe\">\n",
       "  <thead>\n",
       "    <tr style=\"text-align: right;\">\n",
       "      <th></th>\n",
       "      <th>Timestamp</th>\n",
       "      <th>005930.KS</th>\n",
       "      <th>VIV</th>\n",
       "      <th>ALV.DE</th>\n",
       "      <th>TSS</th>\n",
       "      <th>BAYN.DE</th>\n",
       "      <th>TSLA</th>\n",
       "      <th>AIR.DE</th>\n",
       "      <th>AAPL</th>\n",
       "      <th>BAS.DE</th>\n",
       "      <th>BMW.DE</th>\n",
       "    </tr>\n",
       "  </thead>\n",
       "  <tbody>\n",
       "    <tr>\n",
       "      <th>0</th>\n",
       "      <td>2018-05-02</td>\n",
       "      <td>0.0</td>\n",
       "      <td>-0.010665</td>\n",
       "      <td>0.013549</td>\n",
       "      <td>-0.013838</td>\n",
       "      <td>0.003419</td>\n",
       "      <td>0.004093</td>\n",
       "      <td>0.007473</td>\n",
       "      <td>0.043227</td>\n",
       "      <td>0.01106</td>\n",
       "      <td>0.006682</td>\n",
       "    </tr>\n",
       "    <tr>\n",
       "      <th>1</th>\n",
       "      <td>2018-05-02</td>\n",
       "      <td>0.0</td>\n",
       "      <td>-0.010665</td>\n",
       "      <td>0.013549</td>\n",
       "      <td>-0.013838</td>\n",
       "      <td>0.003419</td>\n",
       "      <td>0.004093</td>\n",
       "      <td>0.007473</td>\n",
       "      <td>0.043227</td>\n",
       "      <td>0.01106</td>\n",
       "      <td>0.006682</td>\n",
       "    </tr>\n",
       "    <tr>\n",
       "      <th>2</th>\n",
       "      <td>2018-05-02</td>\n",
       "      <td>0.0</td>\n",
       "      <td>-0.010665</td>\n",
       "      <td>0.013549</td>\n",
       "      <td>-0.013838</td>\n",
       "      <td>0.003419</td>\n",
       "      <td>0.004093</td>\n",
       "      <td>0.007473</td>\n",
       "      <td>0.043227</td>\n",
       "      <td>0.01106</td>\n",
       "      <td>0.006682</td>\n",
       "    </tr>\n",
       "    <tr>\n",
       "      <th>3</th>\n",
       "      <td>2018-05-02</td>\n",
       "      <td>0.0</td>\n",
       "      <td>-0.010665</td>\n",
       "      <td>0.013549</td>\n",
       "      <td>-0.013838</td>\n",
       "      <td>0.003419</td>\n",
       "      <td>0.004093</td>\n",
       "      <td>0.007473</td>\n",
       "      <td>0.043227</td>\n",
       "      <td>0.01106</td>\n",
       "      <td>0.006682</td>\n",
       "    </tr>\n",
       "    <tr>\n",
       "      <th>4</th>\n",
       "      <td>2018-05-02</td>\n",
       "      <td>0.0</td>\n",
       "      <td>-0.010665</td>\n",
       "      <td>0.013549</td>\n",
       "      <td>-0.013838</td>\n",
       "      <td>0.003419</td>\n",
       "      <td>0.004093</td>\n",
       "      <td>0.007473</td>\n",
       "      <td>0.043227</td>\n",
       "      <td>0.01106</td>\n",
       "      <td>0.006682</td>\n",
       "    </tr>\n",
       "  </tbody>\n",
       "</table>\n",
       "</div>"
      ],
      "text/plain": [
       "   Timestamp  005930.KS       VIV    ALV.DE       TSS   BAYN.DE      TSLA  \\\n",
       "0 2018-05-02        0.0 -0.010665  0.013549 -0.013838  0.003419  0.004093   \n",
       "1 2018-05-02        0.0 -0.010665  0.013549 -0.013838  0.003419  0.004093   \n",
       "2 2018-05-02        0.0 -0.010665  0.013549 -0.013838  0.003419  0.004093   \n",
       "3 2018-05-02        0.0 -0.010665  0.013549 -0.013838  0.003419  0.004093   \n",
       "4 2018-05-02        0.0 -0.010665  0.013549 -0.013838  0.003419  0.004093   \n",
       "\n",
       "     AIR.DE      AAPL   BAS.DE    BMW.DE  \n",
       "0  0.007473  0.043227  0.01106  0.006682  \n",
       "1  0.007473  0.043227  0.01106  0.006682  \n",
       "2  0.007473  0.043227  0.01106  0.006682  \n",
       "3  0.007473  0.043227  0.01106  0.006682  \n",
       "4  0.007473  0.043227  0.01106  0.006682  "
      ]
     },
     "execution_count": 117,
     "metadata": {},
     "output_type": "execute_result"
    }
   ],
   "source": [
    "df_labels = df[[\"Timestamp\",\"005930.KS\",\"VIV\",\"ALV.DE\",\"TSS\",\"BAYN.DE\",\"TSLA\",\"AIR.DE\",\"AAPL\",\"BAS.DE\",\"BMW.DE\"]].copy()\n",
    "df_labels.head()"
   ]
  },
  {
   "cell_type": "code",
   "execution_count": 118,
   "metadata": {},
   "outputs": [],
   "source": [
    "df_labels_single = df_labels.groupby(\"Timestamp\").agg(\"last\")"
   ]
  },
  {
   "cell_type": "code",
   "execution_count": 119,
   "metadata": {},
   "outputs": [
    {
     "data": {
      "text/html": [
       "<div>\n",
       "<style>\n",
       "    .dataframe thead tr:only-child th {\n",
       "        text-align: right;\n",
       "    }\n",
       "\n",
       "    .dataframe thead th {\n",
       "        text-align: left;\n",
       "    }\n",
       "\n",
       "    .dataframe tbody tr th {\n",
       "        vertical-align: top;\n",
       "    }\n",
       "</style>\n",
       "<table border=\"1\" class=\"dataframe\">\n",
       "  <thead>\n",
       "    <tr style=\"text-align: right;\">\n",
       "      <th></th>\n",
       "      <th>005930.KS</th>\n",
       "      <th>VIV</th>\n",
       "      <th>ALV.DE</th>\n",
       "      <th>TSS</th>\n",
       "      <th>BAYN.DE</th>\n",
       "      <th>TSLA</th>\n",
       "      <th>AIR.DE</th>\n",
       "      <th>AAPL</th>\n",
       "      <th>BAS.DE</th>\n",
       "      <th>BMW.DE</th>\n",
       "    </tr>\n",
       "    <tr>\n",
       "      <th>Timestamp</th>\n",
       "      <th></th>\n",
       "      <th></th>\n",
       "      <th></th>\n",
       "      <th></th>\n",
       "      <th></th>\n",
       "      <th></th>\n",
       "      <th></th>\n",
       "      <th></th>\n",
       "      <th></th>\n",
       "      <th></th>\n",
       "    </tr>\n",
       "  </thead>\n",
       "  <tbody>\n",
       "    <tr>\n",
       "      <th>2018-05-02</th>\n",
       "      <td>0.000000</td>\n",
       "      <td>-0.010665</td>\n",
       "      <td>0.013549</td>\n",
       "      <td>-0.013838</td>\n",
       "      <td>0.003419</td>\n",
       "      <td>0.004093</td>\n",
       "      <td>0.007473</td>\n",
       "      <td>0.043227</td>\n",
       "      <td>0.011060</td>\n",
       "      <td>0.006682</td>\n",
       "    </tr>\n",
       "    <tr>\n",
       "      <th>2018-05-03</th>\n",
       "      <td>0.000000</td>\n",
       "      <td>-0.020217</td>\n",
       "      <td>-0.009181</td>\n",
       "      <td>0.008611</td>\n",
       "      <td>0.003507</td>\n",
       "      <td>-0.057051</td>\n",
       "      <td>0.000612</td>\n",
       "      <td>0.001811</td>\n",
       "      <td>-0.017219</td>\n",
       "      <td>-0.010041</td>\n",
       "    </tr>\n",
       "    <tr>\n",
       "      <th>2018-05-04</th>\n",
       "      <td>-0.020973</td>\n",
       "      <td>-0.008056</td>\n",
       "      <td>0.008478</td>\n",
       "      <td>0.014659</td>\n",
       "      <td>0.018926</td>\n",
       "      <td>0.033328</td>\n",
       "      <td>0.006401</td>\n",
       "      <td>0.038483</td>\n",
       "      <td>0.012625</td>\n",
       "      <td>-0.006532</td>\n",
       "    </tr>\n",
       "    <tr>\n",
       "      <th>2018-05-08</th>\n",
       "      <td>0.013397</td>\n",
       "      <td>-0.010487</td>\n",
       "      <td>-0.003489</td>\n",
       "      <td>0.010593</td>\n",
       "      <td>-0.003532</td>\n",
       "      <td>-0.002646</td>\n",
       "      <td>-0.002593</td>\n",
       "      <td>0.004795</td>\n",
       "      <td>0.002798</td>\n",
       "      <td>0.004142</td>\n",
       "    </tr>\n",
       "    <tr>\n",
       "      <th>2018-05-09</th>\n",
       "      <td>-0.032853</td>\n",
       "      <td>-0.017471</td>\n",
       "      <td>-0.008826</td>\n",
       "      <td>0.005824</td>\n",
       "      <td>0.004120</td>\n",
       "      <td>0.016031</td>\n",
       "      <td>-0.010843</td>\n",
       "      <td>0.007016</td>\n",
       "      <td>0.002906</td>\n",
       "      <td>0.000218</td>\n",
       "    </tr>\n",
       "  </tbody>\n",
       "</table>\n",
       "</div>"
      ],
      "text/plain": [
       "            005930.KS       VIV    ALV.DE       TSS   BAYN.DE      TSLA  \\\n",
       "Timestamp                                                                 \n",
       "2018-05-02   0.000000 -0.010665  0.013549 -0.013838  0.003419  0.004093   \n",
       "2018-05-03   0.000000 -0.020217 -0.009181  0.008611  0.003507 -0.057051   \n",
       "2018-05-04  -0.020973 -0.008056  0.008478  0.014659  0.018926  0.033328   \n",
       "2018-05-08   0.013397 -0.010487 -0.003489  0.010593 -0.003532 -0.002646   \n",
       "2018-05-09  -0.032853 -0.017471 -0.008826  0.005824  0.004120  0.016031   \n",
       "\n",
       "              AIR.DE      AAPL    BAS.DE    BMW.DE  \n",
       "Timestamp                                           \n",
       "2018-05-02  0.007473  0.043227  0.011060  0.006682  \n",
       "2018-05-03  0.000612  0.001811 -0.017219 -0.010041  \n",
       "2018-05-04  0.006401  0.038483  0.012625 -0.006532  \n",
       "2018-05-08 -0.002593  0.004795  0.002798  0.004142  \n",
       "2018-05-09 -0.010843  0.007016  0.002906  0.000218  "
      ]
     },
     "execution_count": 119,
     "metadata": {},
     "output_type": "execute_result"
    }
   ],
   "source": [
    "df_labels_single.head()"
   ]
  },
  {
   "cell_type": "code",
   "execution_count": 120,
   "metadata": {},
   "outputs": [
    {
     "data": {
      "text/plain": [
       "(9, 10)"
      ]
     },
     "execution_count": 120,
     "metadata": {},
     "output_type": "execute_result"
    }
   ],
   "source": [
    "Y = df_labels_single.values\n",
    "Y.shape"
   ]
  },
  {
   "cell_type": "code",
   "execution_count": 124,
   "metadata": {},
   "outputs": [],
   "source": [
    "from keras.models import Sequential\n",
    "from keras.layers import Dense, Activation\n",
    "\n",
    "from sklearn.model_selection import train_test_split\n",
    "from keras.callbacks import EarlyStopping, ModelCheckpoint"
   ]
  },
  {
   "cell_type": "code",
   "execution_count": 125,
   "metadata": {},
   "outputs": [],
   "source": [
    "X_train, X_val, Y_train, Y_val = train_test_split(X, Y, test_size=0.15, random_state=42)"
   ]
  },
  {
   "cell_type": "code",
   "execution_count": 126,
   "metadata": {},
   "outputs": [
    {
     "name": "stdout",
     "output_type": "stream",
     "text": [
      "190 dims\n",
      "Building model...\n",
      "10 classes\n",
      "Train on 9 samples, validate on 2 samples\n",
      "Epoch 1/20\n",
      "9/9 [==============================] - 0s 39ms/step - loss: -0.0385 - val_loss: -0.2599\n",
      "Epoch 2/20\n",
      "9/9 [==============================] - 0s 668us/step - loss: -0.0385 - val_loss: -0.2600\n",
      "Epoch 3/20\n",
      "9/9 [==============================] - 0s 445us/step - loss: -0.0385 - val_loss: -0.2621\n",
      "Epoch 4/20\n",
      "9/9 [==============================] - 0s 1ms/step - loss: -0.0390 - val_loss: -0.2952\n",
      "Epoch 5/20\n",
      "9/9 [==============================] - 0s 445us/step - loss: -0.0452 - val_loss: -0.2952\n",
      "Epoch 6/20\n",
      "9/9 [==============================] - 0s 775us/step - loss: -0.0452 - val_loss: -0.2952\n",
      "Epoch 7/20\n",
      "9/9 [==============================] - 0s 1ms/step - loss: -0.0454 - val_loss: -0.2952\n",
      "Epoch 8/20\n",
      "9/9 [==============================] - 0s 1ms/step - loss: -0.0470 - val_loss: -0.2952\n",
      "Epoch 9/20\n",
      "9/9 [==============================] - 0s 445us/step - loss: -0.0470 - val_loss: -0.2952\n",
      "Epoch 10/20\n",
      "9/9 [==============================] - 0s 889us/step - loss: -0.0470 - val_loss: -0.2952\n",
      "Epoch 11/20\n",
      "9/9 [==============================] - 0s 999us/step - loss: -0.0470 - val_loss: -0.2952\n",
      "Epoch 12/20\n",
      "9/9 [==============================] - 0s 444us/step - loss: -0.0470 - val_loss: -0.2952\n",
      "Epoch 13/20\n",
      "9/9 [==============================] - 0s 1ms/step - loss: -0.0470 - val_loss: -0.2952\n",
      "Epoch 14/20\n",
      "9/9 [==============================] - 0s 444us/step - loss: -0.0470 - val_loss: -0.2952\n",
      "Epoch 15/20\n",
      "9/9 [==============================] - 0s 666us/step - loss: -0.0470 - val_loss: -0.2952\n",
      "Epoch 16/20\n",
      "9/9 [==============================] - 0s 2ms/step - loss: -0.0470 - val_loss: -0.2952\n",
      "Epoch 17/20\n",
      "9/9 [==============================] - 0s 334us/step - loss: -0.0470 - val_loss: -0.2952\n",
      "Epoch 18/20\n",
      "9/9 [==============================] - 0s 1ms/step - loss: -0.0470 - val_loss: -0.2952\n",
      "Epoch 19/20\n",
      "9/9 [==============================] - 0s 444us/step - loss: -0.0470 - val_loss: -0.2952\n",
      "Epoch 20/20\n",
      "9/9 [==============================] - 0s 444us/step - loss: -0.0470 - val_loss: -0.2952\n"
     ]
    },
    {
     "data": {
      "text/plain": [
       "<keras.callbacks.History at 0x2127c917f98>"
      ]
     },
     "execution_count": 126,
     "metadata": {},
     "output_type": "execute_result"
    }
   ],
   "source": [
    "dims = X.shape[1]\n",
    "print(dims, 'dims')\n",
    "print(\"Building model...\")\n",
    "\n",
    "nb_classes = Y.shape[1]\n",
    "print(nb_classes, 'classes')\n",
    "\n",
    "model = Sequential()\n",
    "model.add(Dense(nb_classes, input_shape=(dims,), activation='sigmoid'))\n",
    "model.add(Activation('softmax'))\n",
    "\n",
    "model.compile(optimizer='sgd', loss='categorical_crossentropy')\n",
    "model.fit(X, Y, validation_data = (X_val, Y_val), epochs=20, \n",
    "          batch_size=128, verbose=True)"
   ]
  },
  {
   "cell_type": "code",
   "execution_count": 135,
   "metadata": {},
   "outputs": [
    {
     "data": {
      "text/plain": [
       "array([  5.51000000e+02,   8.21914827e-02,   2.06793140e-01,\n",
       "        -1.01450000e-02,   4.14600000e-02,   2.13785000e-01,\n",
       "         7.24430000e-01,  -6.32340000e-01,   0.00000000e+00,\n",
       "        -2.09731234e-02,  -8.05570083e-03,   8.47804836e-03,\n",
       "         1.46592056e-02,   1.89255091e-02,   3.33283517e-02,\n",
       "         6.40083466e-03,   3.84833470e-02,   1.26254066e-02,\n",
       "        -6.53170186e-03,   3.51000000e+02,  -6.38005924e-05,\n",
       "         2.54183595e-01,  -1.81920000e-01,  -3.94000000e-02,\n",
       "         2.19880000e-01,   6.17980000e-01,  -6.99633333e-01,\n",
       "         0.00000000e+00,  -2.09731234e-02,  -8.05570083e-03,\n",
       "         8.47804836e-03,   1.46592056e-02,   1.89255091e-02,\n",
       "         3.33283517e-02,   6.40083466e-03,   3.84833470e-02,\n",
       "         1.26254066e-02,  -6.53170186e-03,   2.04900000e+03,\n",
       "         7.03780595e-02,   2.13552659e-01,  -2.62300000e-02,\n",
       "         3.96700000e-02,   2.10740000e-01,   7.28870000e-01,\n",
       "        -9.91700000e-01,   0.00000000e+00,  -2.09731234e-02,\n",
       "        -8.05570083e-03,   8.47804836e-03,   1.46592056e-02,\n",
       "         1.89255091e-02,   3.33283517e-02,   6.40083466e-03,\n",
       "         3.84833470e-02,   1.26254066e-02,  -6.53170186e-03,\n",
       "         4.72000000e+02,   1.45661004e-02,   1.64032862e-01,\n",
       "        -9.10800000e-02,  -1.17700000e-02,   1.23552500e-01,\n",
       "         7.12400000e-01,  -3.89040000e-01,   0.00000000e+00,\n",
       "        -2.09731234e-02,  -8.05570083e-03,   8.47804836e-03,\n",
       "         1.46592056e-02,   1.89255091e-02,   3.33283517e-02,\n",
       "         6.40083466e-03,   3.84833470e-02,   1.26254066e-02,\n",
       "        -6.53170186e-03,   1.87000000e+02,  -3.75146354e-02,\n",
       "         2.59320365e-01,  -1.28840000e-01,   0.00000000e+00,\n",
       "         9.49666667e-02,   5.70480000e-01,  -6.42300000e-01,\n",
       "         0.00000000e+00,  -2.09731234e-02,  -8.05570083e-03,\n",
       "         8.47804836e-03,   1.46592056e-02,   1.89255091e-02,\n",
       "         3.33283517e-02,   6.40083466e-03,   3.84833470e-02,\n",
       "         1.26254066e-02,  -6.53170186e-03,   6.50000000e+02,\n",
       "        -6.25113858e-03,   2.09625492e-01,  -1.19880000e-01,\n",
       "         0.00000000e+00,   1.06637500e-01,   6.17860000e-01,\n",
       "        -5.64810000e-01,   0.00000000e+00,  -2.09731234e-02,\n",
       "        -8.05570083e-03,   8.47804836e-03,   1.46592056e-02,\n",
       "         1.89255091e-02,   3.33283517e-02,   6.40083466e-03,\n",
       "         3.84833470e-02,   1.26254066e-02,  -6.53170186e-03,\n",
       "         7.74000000e+02,  -4.18477858e-02,   2.29301451e-01,\n",
       "        -2.38922500e-01,  -1.86700000e-02,   8.78242857e-02,\n",
       "         8.68900000e-01,  -5.12460000e-01,   0.00000000e+00,\n",
       "        -2.09731234e-02,  -8.05570083e-03,   8.47804836e-03,\n",
       "         1.46592056e-02,   1.89255091e-02,   3.33283517e-02,\n",
       "         6.40083466e-03,   3.84833470e-02,   1.26254066e-02,\n",
       "        -6.53170186e-03,   8.60000000e+01,  -4.10000923e-03,\n",
       "         2.14952272e-01,  -1.06870000e-01,  -2.13750000e-02,\n",
       "         1.34747500e-01,   6.22220000e-01,  -6.32340000e-01,\n",
       "         0.00000000e+00,  -2.09731234e-02,  -8.05570083e-03,\n",
       "         8.47804836e-03,   1.46592056e-02,   1.89255091e-02,\n",
       "         3.33283517e-02,   6.40083466e-03,   3.84833470e-02,\n",
       "         1.26254066e-02,  -6.53170186e-03,   1.93000000e+03,\n",
       "         1.01840820e-01,   1.76136785e-01,   0.00000000e+00,\n",
       "         6.89700000e-02,   2.23507500e-01,   8.95700000e-01,\n",
       "        -6.47550000e-01,   0.00000000e+00,  -2.09731234e-02,\n",
       "        -8.05570083e-03,   8.47804836e-03,   1.46592056e-02,\n",
       "         1.89255091e-02,   3.33283517e-02,   6.40083466e-03,\n",
       "         3.84833470e-02,   1.26254066e-02,  -6.53170186e-03,\n",
       "         2.50000000e+02,  -1.63901268e-01,   2.65495952e-01,\n",
       "        -3.77560000e-01,  -2.37110000e-01,   0.00000000e+00,\n",
       "         6.50210000e-01,  -7.05160000e-01,   0.00000000e+00,\n",
       "        -2.09731234e-02,  -8.05570083e-03,   8.47804836e-03,\n",
       "         1.46592056e-02,   1.89255091e-02,   3.33283517e-02,\n",
       "         6.40083466e-03,   3.84833470e-02,   1.26254066e-02,\n",
       "        -6.53170186e-03])"
      ]
     },
     "execution_count": 135,
     "metadata": {},
     "output_type": "execute_result"
    }
   ],
   "source": [
    "X[0]"
   ]
  },
  {
   "cell_type": "code",
   "execution_count": 140,
   "metadata": {},
   "outputs": [
    {
     "data": {
      "text/plain": [
       "array([[ 0.04923758,  0.04923761,  0.1338416 ,  0.1338416 ,  0.1338416 ,\n",
       "         0.04923758,  0.1338416 ,  0.04923758,  0.1338416 ,  0.1338416 ]], dtype=float32)"
      ]
     },
     "execution_count": 140,
     "metadata": {},
     "output_type": "execute_result"
    }
   ],
   "source": [
    "E = model.predict(X[0].reshape(1,190))\n",
    "E"
   ]
  },
  {
   "cell_type": "code",
   "execution_count": 137,
   "metadata": {},
   "outputs": [
    {
     "data": {
      "text/plain": [
       "array([ 0.        , -0.01066487,  0.01354925, -0.01383775,  0.00341881,\n",
       "        0.00409271,  0.00747303,  0.04322714,  0.01106002,  0.0066825 ])"
      ]
     },
     "execution_count": 137,
     "metadata": {},
     "output_type": "execute_result"
    }
   ],
   "source": [
    "Y[0]"
   ]
  },
  {
   "cell_type": "code",
   "execution_count": 139,
   "metadata": {},
   "outputs": [
    {
     "data": {
      "text/plain": [
       "array([[ 0.04923758,  0.05990248,  0.12029236,  0.14767935,  0.1304228 ,\n",
       "         0.04514487,  0.12636857,  0.00601043,  0.12278158,  0.1271591 ]])"
      ]
     },
     "execution_count": 139,
     "metadata": {},
     "output_type": "execute_result"
    }
   ],
   "source": [
    "EY[0]"
   ]
  }
 ],
 "metadata": {
  "kernelspec": {
   "display_name": "Python 3",
   "language": "python",
   "name": "python3"
  },
  "language_info": {
   "codemirror_mode": {
    "name": "ipython",
    "version": 3
   },
   "file_extension": ".py",
   "mimetype": "text/x-python",
   "name": "python",
   "nbconvert_exporter": "python",
   "pygments_lexer": "ipython3",
   "version": "3.6.2"
  }
 },
 "nbformat": 4,
 "nbformat_minor": 2
}

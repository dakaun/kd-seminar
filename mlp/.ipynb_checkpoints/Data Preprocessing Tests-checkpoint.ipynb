{
 "cells": [
  {
   "cell_type": "code",
   "execution_count": 1,
   "metadata": {},
   "outputs": [
    {
     "data": {
      "text/plain": [
       "'C:\\\\Users\\\\Nils\\\\Documents\\\\KIT-TVWL\\\\Master\\\\SS 18\\\\KD Seminar\\\\Git\\\\mlp'"
      ]
     },
     "execution_count": 1,
     "metadata": {},
     "output_type": "execute_result"
    }
   ],
   "source": [
    "import pandas as pd\n",
    "import numpy as np\n",
    "\n",
    "import os\n",
    "wd = os.getcwd()\n",
    "wd"
   ]
  },
  {
   "cell_type": "code",
   "execution_count": 2,
   "metadata": {},
   "outputs": [
    {
     "data": {
      "text/html": [
       "<div>\n",
       "<style scoped>\n",
       "    .dataframe tbody tr th:only-of-type {\n",
       "        vertical-align: middle;\n",
       "    }\n",
       "\n",
       "    .dataframe tbody tr th {\n",
       "        vertical-align: top;\n",
       "    }\n",
       "\n",
       "    .dataframe thead th {\n",
       "        text-align: right;\n",
       "    }\n",
       "</style>\n",
       "<table border=\"1\" class=\"dataframe\">\n",
       "  <thead>\n",
       "    <tr style=\"text-align: right;\">\n",
       "      <th></th>\n",
       "      <th>Timestamp</th>\n",
       "      <th>ID</th>\n",
       "      <th>articleCount</th>\n",
       "      <th>avgSentiment</th>\n",
       "      <th>stdSentiment</th>\n",
       "      <th>25quantileSentiment</th>\n",
       "      <th>50quantileSentiment</th>\n",
       "      <th>75quantileSentiment</th>\n",
       "      <th>maxSentiment</th>\n",
       "      <th>minSentiment</th>\n",
       "      <th>Previous_Day_Return</th>\n",
       "      <th>Next_Day_Return</th>\n",
       "    </tr>\n",
       "  </thead>\n",
       "  <tbody>\n",
       "    <tr>\n",
       "      <th>0</th>\n",
       "      <td>2018-05-02</td>\n",
       "      <td>BASF</td>\n",
       "      <td>156</td>\n",
       "      <td>0.190012</td>\n",
       "      <td>0.236579</td>\n",
       "      <td>0.119930</td>\n",
       "      <td>0.236800</td>\n",
       "      <td>0.323370</td>\n",
       "      <td>0.65250</td>\n",
       "      <td>-0.63234</td>\n",
       "      <td>0.011060</td>\n",
       "      <td>-0.017219</td>\n",
       "    </tr>\n",
       "    <tr>\n",
       "      <th>1</th>\n",
       "      <td>2018-05-02</td>\n",
       "      <td>Tesla</td>\n",
       "      <td>510</td>\n",
       "      <td>0.068932</td>\n",
       "      <td>0.173565</td>\n",
       "      <td>-0.070315</td>\n",
       "      <td>0.072627</td>\n",
       "      <td>0.202486</td>\n",
       "      <td>0.64572</td>\n",
       "      <td>-0.50300</td>\n",
       "      <td>0.004093</td>\n",
       "      <td>-0.057051</td>\n",
       "    </tr>\n",
       "    <tr>\n",
       "      <th>2</th>\n",
       "      <td>2018-05-02</td>\n",
       "      <td>Google</td>\n",
       "      <td>1901</td>\n",
       "      <td>0.106414</td>\n",
       "      <td>0.192993</td>\n",
       "      <td>-0.005088</td>\n",
       "      <td>0.069690</td>\n",
       "      <td>0.248100</td>\n",
       "      <td>0.98770</td>\n",
       "      <td>-0.55366</td>\n",
       "      <td>0.025714</td>\n",
       "      <td>-0.017464</td>\n",
       "    </tr>\n",
       "    <tr>\n",
       "      <th>3</th>\n",
       "      <td>2018-05-02</td>\n",
       "      <td>Allianz</td>\n",
       "      <td>121</td>\n",
       "      <td>-0.052265</td>\n",
       "      <td>0.264638</td>\n",
       "      <td>-0.230230</td>\n",
       "      <td>-0.094850</td>\n",
       "      <td>0.091920</td>\n",
       "      <td>0.58215</td>\n",
       "      <td>-0.66297</td>\n",
       "      <td>0.013549</td>\n",
       "      <td>-0.009181</td>\n",
       "    </tr>\n",
       "    <tr>\n",
       "      <th>4</th>\n",
       "      <td>2018-05-02</td>\n",
       "      <td>Airbus</td>\n",
       "      <td>250</td>\n",
       "      <td>0.055327</td>\n",
       "      <td>0.230707</td>\n",
       "      <td>-0.014180</td>\n",
       "      <td>0.030780</td>\n",
       "      <td>0.195380</td>\n",
       "      <td>0.60256</td>\n",
       "      <td>-0.57493</td>\n",
       "      <td>0.007473</td>\n",
       "      <td>0.000612</td>\n",
       "    </tr>\n",
       "  </tbody>\n",
       "</table>\n",
       "</div>"
      ],
      "text/plain": [
       "   Timestamp       ID  articleCount  avgSentiment  stdSentiment  \\\n",
       "0 2018-05-02     BASF           156      0.190012      0.236579   \n",
       "1 2018-05-02    Tesla           510      0.068932      0.173565   \n",
       "2 2018-05-02   Google          1901      0.106414      0.192993   \n",
       "3 2018-05-02  Allianz           121     -0.052265      0.264638   \n",
       "4 2018-05-02   Airbus           250      0.055327      0.230707   \n",
       "\n",
       "   25quantileSentiment  50quantileSentiment  75quantileSentiment  \\\n",
       "0             0.119930             0.236800             0.323370   \n",
       "1            -0.070315             0.072627             0.202486   \n",
       "2            -0.005088             0.069690             0.248100   \n",
       "3            -0.230230            -0.094850             0.091920   \n",
       "4            -0.014180             0.030780             0.195380   \n",
       "\n",
       "   maxSentiment  minSentiment  Previous_Day_Return  Next_Day_Return  \n",
       "0       0.65250      -0.63234             0.011060        -0.017219  \n",
       "1       0.64572      -0.50300             0.004093        -0.057051  \n",
       "2       0.98770      -0.55366             0.025714        -0.017464  \n",
       "3       0.58215      -0.66297             0.013549        -0.009181  \n",
       "4       0.60256      -0.57493             0.007473         0.000612  "
      ]
     },
     "execution_count": 2,
     "metadata": {},
     "output_type": "execute_result"
    }
   ],
   "source": [
    "df = pd.read_csv(\"../final_data/complete_data.csv\")\n",
    "df.Timestamp = pd.to_datetime(df.Timestamp)\n",
    "df = df.drop([\"Unnamed: 0\"], axis=1)\n",
    "df.head()"
   ]
  },
  {
   "cell_type": "code",
   "execution_count": 60,
   "metadata": {},
   "outputs": [
    {
     "data": {
      "text/html": [
       "<div>\n",
       "<style scoped>\n",
       "    .dataframe tbody tr th:only-of-type {\n",
       "        vertical-align: middle;\n",
       "    }\n",
       "\n",
       "    .dataframe tbody tr th {\n",
       "        vertical-align: top;\n",
       "    }\n",
       "\n",
       "    .dataframe thead th {\n",
       "        text-align: right;\n",
       "    }\n",
       "</style>\n",
       "<table border=\"1\" class=\"dataframe\">\n",
       "  <thead>\n",
       "    <tr style=\"text-align: right;\">\n",
       "      <th></th>\n",
       "      <th>Timestamp</th>\n",
       "      <th>ID</th>\n",
       "      <th>articleCount</th>\n",
       "      <th>avgSentiment</th>\n",
       "      <th>stdSentiment</th>\n",
       "      <th>25quantileSentiment</th>\n",
       "      <th>50quantileSentiment</th>\n",
       "      <th>75quantileSentiment</th>\n",
       "      <th>maxSentiment</th>\n",
       "      <th>minSentiment</th>\n",
       "      <th>Previous_Day_Return</th>\n",
       "      <th>Next_Day_Return</th>\n",
       "      <th>relabeled_returns</th>\n",
       "    </tr>\n",
       "  </thead>\n",
       "  <tbody>\n",
       "    <tr>\n",
       "      <th>0</th>\n",
       "      <td>2018-05-02</td>\n",
       "      <td>BASF</td>\n",
       "      <td>156</td>\n",
       "      <td>0.190012</td>\n",
       "      <td>0.236579</td>\n",
       "      <td>0.119930</td>\n",
       "      <td>0.236800</td>\n",
       "      <td>0.323370</td>\n",
       "      <td>0.65250</td>\n",
       "      <td>-0.63234</td>\n",
       "      <td>0.011060</td>\n",
       "      <td>-0.017219</td>\n",
       "      <td>-1</td>\n",
       "    </tr>\n",
       "    <tr>\n",
       "      <th>1</th>\n",
       "      <td>2018-05-02</td>\n",
       "      <td>Tesla</td>\n",
       "      <td>510</td>\n",
       "      <td>0.068932</td>\n",
       "      <td>0.173565</td>\n",
       "      <td>-0.070315</td>\n",
       "      <td>0.072627</td>\n",
       "      <td>0.202486</td>\n",
       "      <td>0.64572</td>\n",
       "      <td>-0.50300</td>\n",
       "      <td>0.004093</td>\n",
       "      <td>-0.057051</td>\n",
       "      <td>-1</td>\n",
       "    </tr>\n",
       "    <tr>\n",
       "      <th>2</th>\n",
       "      <td>2018-05-02</td>\n",
       "      <td>Google</td>\n",
       "      <td>1901</td>\n",
       "      <td>0.106414</td>\n",
       "      <td>0.192993</td>\n",
       "      <td>-0.005088</td>\n",
       "      <td>0.069690</td>\n",
       "      <td>0.248100</td>\n",
       "      <td>0.98770</td>\n",
       "      <td>-0.55366</td>\n",
       "      <td>0.025714</td>\n",
       "      <td>-0.017464</td>\n",
       "      <td>-1</td>\n",
       "    </tr>\n",
       "    <tr>\n",
       "      <th>3</th>\n",
       "      <td>2018-05-02</td>\n",
       "      <td>Allianz</td>\n",
       "      <td>121</td>\n",
       "      <td>-0.052265</td>\n",
       "      <td>0.264638</td>\n",
       "      <td>-0.230230</td>\n",
       "      <td>-0.094850</td>\n",
       "      <td>0.091920</td>\n",
       "      <td>0.58215</td>\n",
       "      <td>-0.66297</td>\n",
       "      <td>0.013549</td>\n",
       "      <td>-0.009181</td>\n",
       "      <td>-1</td>\n",
       "    </tr>\n",
       "    <tr>\n",
       "      <th>4</th>\n",
       "      <td>2018-05-02</td>\n",
       "      <td>Airbus</td>\n",
       "      <td>250</td>\n",
       "      <td>0.055327</td>\n",
       "      <td>0.230707</td>\n",
       "      <td>-0.014180</td>\n",
       "      <td>0.030780</td>\n",
       "      <td>0.195380</td>\n",
       "      <td>0.60256</td>\n",
       "      <td>-0.57493</td>\n",
       "      <td>0.007473</td>\n",
       "      <td>0.000612</td>\n",
       "      <td>1</td>\n",
       "    </tr>\n",
       "  </tbody>\n",
       "</table>\n",
       "</div>"
      ],
      "text/plain": [
       "   Timestamp       ID  articleCount  avgSentiment  stdSentiment  \\\n",
       "0 2018-05-02     BASF           156      0.190012      0.236579   \n",
       "1 2018-05-02    Tesla           510      0.068932      0.173565   \n",
       "2 2018-05-02   Google          1901      0.106414      0.192993   \n",
       "3 2018-05-02  Allianz           121     -0.052265      0.264638   \n",
       "4 2018-05-02   Airbus           250      0.055327      0.230707   \n",
       "\n",
       "   25quantileSentiment  50quantileSentiment  75quantileSentiment  \\\n",
       "0             0.119930             0.236800             0.323370   \n",
       "1            -0.070315             0.072627             0.202486   \n",
       "2            -0.005088             0.069690             0.248100   \n",
       "3            -0.230230            -0.094850             0.091920   \n",
       "4            -0.014180             0.030780             0.195380   \n",
       "\n",
       "   maxSentiment  minSentiment  Previous_Day_Return  Next_Day_Return  \\\n",
       "0       0.65250      -0.63234             0.011060        -0.017219   \n",
       "1       0.64572      -0.50300             0.004093        -0.057051   \n",
       "2       0.98770      -0.55366             0.025714        -0.017464   \n",
       "3       0.58215      -0.66297             0.013549        -0.009181   \n",
       "4       0.60256      -0.57493             0.007473         0.000612   \n",
       "\n",
       "   relabeled_returns  \n",
       "0                 -1  \n",
       "1                 -1  \n",
       "2                 -1  \n",
       "3                 -1  \n",
       "4                  1  "
      ]
     },
     "execution_count": 60,
     "metadata": {},
     "output_type": "execute_result"
    }
   ],
   "source": [
    "df[\"relabeled_returns\"] = df[\"Next_Day_Return\"].apply(lambda x: -1 if x < 0 else 1)\n",
    "df.head()"
   ]
  },
  {
   "cell_type": "code",
   "execution_count": 61,
   "metadata": {},
   "outputs": [
    {
     "name": "stdout",
     "output_type": "stream",
     "text": [
      "Days 11\n",
      "Features 9\n"
     ]
    }
   ],
   "source": [
    "df.shape\n",
    "nr_days = int(df.shape[0] / 10)\n",
    "nr_feats = df.shape[1] -4 #(-3 wegen Timestamp, ID, Next_Day_Return, relabeled_returns)\n",
    "print(\"Days {}\".format(nr_days))\n",
    "print(\"Features {}\".format(nr_feats))"
   ]
  },
  {
   "cell_type": "code",
   "execution_count": 62,
   "metadata": {
    "scrolled": true
   },
   "outputs": [
    {
     "data": {
      "text/plain": [
       "2018-05-04    10\n",
       "2018-05-16    10\n",
       "2018-05-09    10\n",
       "2018-05-02    10\n",
       "2018-05-14    10\n",
       "2018-05-17    10\n",
       "2018-05-10    10\n",
       "2018-05-03    10\n",
       "2018-05-15    10\n",
       "2018-05-08    10\n",
       "2018-05-11    10\n",
       "Name: Timestamp, dtype: int64"
      ]
     },
     "execution_count": 62,
     "metadata": {},
     "output_type": "execute_result"
    }
   ],
   "source": [
    "df[\"Timestamp\"].value_counts()"
   ]
  },
  {
   "cell_type": "code",
   "execution_count": 79,
   "metadata": {},
   "outputs": [
    {
     "data": {
      "text/html": [
       "<div>\n",
       "<style scoped>\n",
       "    .dataframe tbody tr th:only-of-type {\n",
       "        vertical-align: middle;\n",
       "    }\n",
       "\n",
       "    .dataframe tbody tr th {\n",
       "        vertical-align: top;\n",
       "    }\n",
       "\n",
       "    .dataframe thead th {\n",
       "        text-align: right;\n",
       "    }\n",
       "</style>\n",
       "<table border=\"1\" class=\"dataframe\">\n",
       "  <thead>\n",
       "    <tr style=\"text-align: right;\">\n",
       "      <th></th>\n",
       "      <th>Timestamp</th>\n",
       "      <th>ID</th>\n",
       "      <th>articleCount</th>\n",
       "      <th>avgSentiment</th>\n",
       "      <th>stdSentiment</th>\n",
       "      <th>25quantileSentiment</th>\n",
       "      <th>50quantileSentiment</th>\n",
       "      <th>75quantileSentiment</th>\n",
       "      <th>maxSentiment</th>\n",
       "      <th>minSentiment</th>\n",
       "      <th>Previous_Day_Return</th>\n",
       "      <th>Next_Day_Return</th>\n",
       "      <th>relabeled_returns</th>\n",
       "    </tr>\n",
       "  </thead>\n",
       "  <tbody>\n",
       "    <tr>\n",
       "      <th>105</th>\n",
       "      <td>2018-05-17</td>\n",
       "      <td>Tesla</td>\n",
       "      <td>297</td>\n",
       "      <td>0.065692</td>\n",
       "      <td>0.231960</td>\n",
       "      <td>-0.087833</td>\n",
       "      <td>0.05566</td>\n",
       "      <td>0.197360</td>\n",
       "      <td>0.747933</td>\n",
       "      <td>-0.64050</td>\n",
       "      <td>-0.006795</td>\n",
       "      <td>-0.027506</td>\n",
       "      <td>-1</td>\n",
       "    </tr>\n",
       "    <tr>\n",
       "      <th>106</th>\n",
       "      <td>2018-05-17</td>\n",
       "      <td>Airbus</td>\n",
       "      <td>261</td>\n",
       "      <td>-0.002624</td>\n",
       "      <td>0.262978</td>\n",
       "      <td>-0.179820</td>\n",
       "      <td>0.00000</td>\n",
       "      <td>0.162960</td>\n",
       "      <td>0.605420</td>\n",
       "      <td>-0.54918</td>\n",
       "      <td>0.021861</td>\n",
       "      <td>-0.000714</td>\n",
       "      <td>-1</td>\n",
       "    </tr>\n",
       "    <tr>\n",
       "      <th>107</th>\n",
       "      <td>2018-05-17</td>\n",
       "      <td>Allianz</td>\n",
       "      <td>195</td>\n",
       "      <td>-0.048640</td>\n",
       "      <td>0.281950</td>\n",
       "      <td>-0.290885</td>\n",
       "      <td>-0.06882</td>\n",
       "      <td>0.127410</td>\n",
       "      <td>0.565740</td>\n",
       "      <td>-0.58092</td>\n",
       "      <td>0.012064</td>\n",
       "      <td>-0.001565</td>\n",
       "      <td>-1</td>\n",
       "    </tr>\n",
       "    <tr>\n",
       "      <th>108</th>\n",
       "      <td>2018-05-17</td>\n",
       "      <td>Telefonica</td>\n",
       "      <td>115</td>\n",
       "      <td>0.088121</td>\n",
       "      <td>0.226507</td>\n",
       "      <td>-0.020130</td>\n",
       "      <td>0.07377</td>\n",
       "      <td>0.235167</td>\n",
       "      <td>0.622090</td>\n",
       "      <td>-0.56565</td>\n",
       "      <td>-0.026461</td>\n",
       "      <td>-0.036134</td>\n",
       "      <td>-1</td>\n",
       "    </tr>\n",
       "    <tr>\n",
       "      <th>109</th>\n",
       "      <td>2018-05-17</td>\n",
       "      <td>Samsung</td>\n",
       "      <td>634</td>\n",
       "      <td>0.096998</td>\n",
       "      <td>0.206897</td>\n",
       "      <td>0.000000</td>\n",
       "      <td>0.07874</td>\n",
       "      <td>0.233280</td>\n",
       "      <td>0.636900</td>\n",
       "      <td>-0.89410</td>\n",
       "      <td>-0.009068</td>\n",
       "      <td>0.002022</td>\n",
       "      <td>1</td>\n",
       "    </tr>\n",
       "  </tbody>\n",
       "</table>\n",
       "</div>"
      ],
      "text/plain": [
       "     Timestamp          ID  articleCount  avgSentiment  stdSentiment  \\\n",
       "105 2018-05-17       Tesla           297      0.065692      0.231960   \n",
       "106 2018-05-17      Airbus           261     -0.002624      0.262978   \n",
       "107 2018-05-17     Allianz           195     -0.048640      0.281950   \n",
       "108 2018-05-17  Telefonica           115      0.088121      0.226507   \n",
       "109 2018-05-17     Samsung           634      0.096998      0.206897   \n",
       "\n",
       "     25quantileSentiment  50quantileSentiment  75quantileSentiment  \\\n",
       "105            -0.087833              0.05566             0.197360   \n",
       "106            -0.179820              0.00000             0.162960   \n",
       "107            -0.290885             -0.06882             0.127410   \n",
       "108            -0.020130              0.07377             0.235167   \n",
       "109             0.000000              0.07874             0.233280   \n",
       "\n",
       "     maxSentiment  minSentiment  Previous_Day_Return  Next_Day_Return  \\\n",
       "105      0.747933      -0.64050            -0.006795        -0.027506   \n",
       "106      0.605420      -0.54918             0.021861        -0.000714   \n",
       "107      0.565740      -0.58092             0.012064        -0.001565   \n",
       "108      0.622090      -0.56565            -0.026461        -0.036134   \n",
       "109      0.636900      -0.89410            -0.009068         0.002022   \n",
       "\n",
       "     relabeled_returns  \n",
       "105                 -1  \n",
       "106                 -1  \n",
       "107                 -1  \n",
       "108                 -1  \n",
       "109                  1  "
      ]
     },
     "execution_count": 79,
     "metadata": {},
     "output_type": "execute_result"
    }
   ],
   "source": [
    "df.tail()"
   ]
  },
  {
   "cell_type": "code",
   "execution_count": 65,
   "metadata": {},
   "outputs": [],
   "source": [
    "X = []#np.empty((int(nr_days) ,int(nr_feats * 10)))"
   ]
  },
  {
   "cell_type": "code",
   "execution_count": 66,
   "metadata": {},
   "outputs": [],
   "source": [
    "labels_to_drop = [\"Timestamp\", \"ID\", \"Next_Day_Return\", \"relabeled_returns\"]\n",
    "for d in df[\"Timestamp\"].value_counts().index:\n",
    "    X.append(df[df[\"Timestamp\"] == d].drop(labels_to_drop, axis=1).values.reshape(1,nr_feats*10))\n",
    "    "
   ]
  },
  {
   "cell_type": "code",
   "execution_count": 67,
   "metadata": {},
   "outputs": [
    {
     "data": {
      "text/plain": [
       "(11, 90)"
      ]
     },
     "execution_count": 67,
     "metadata": {},
     "output_type": "execute_result"
    }
   ],
   "source": [
    "X = np.array(X).reshape(int(nr_days), nr_feats*10)\n",
    "X.shape"
   ]
  },
  {
   "cell_type": "markdown",
   "metadata": {},
   "source": [
    "Y for Regression"
   ]
  },
  {
   "cell_type": "code",
   "execution_count": 18,
   "metadata": {},
   "outputs": [
    {
     "data": {
      "text/plain": [
       "array([[-0.01721889, -0.05705099, -0.01746398, -0.00918132,  0.00061175,\n",
       "         0.00181067,  0.00350719, -0.0202173 ,  0.        , -0.01004057],\n",
       "       [ 0.03848335,  0.00773992, -0.0080557 , -0.0065317 ,  0.03332835,\n",
       "         0.01892551,  0.01262541, -0.02097312,  0.00640083,  0.00847805],\n",
       "       [ 0.0041417 , -0.01048699, -0.00348867, -0.00353219,  0.00479514,\n",
       "         0.00792103, -0.00264577,  0.00279818, -0.002593  ,  0.01339733],\n",
       "       [-0.0328532 , -0.01084348, -0.00882565,  0.02501474,  0.00290647,\n",
       "         0.00411967,  0.00021751, -0.01747101,  0.00701645,  0.01603135],\n",
       "       [ 0.01420268,  0.00434028,  0.01365875,  0.00533603, -0.00598168,\n",
       "        -0.03328691,  0.0099655 ,  0.01445442,  0.01429254,  0.00468751],\n",
       "       [ 0.00380743, -0.0019508 , -0.005275  , -0.00910477, -0.00260702,\n",
       "        -0.0013062 , -0.00583092, -0.01306777, -0.00585368, -0.00765923],\n",
       "       [ 0.00449527,  0.00448108, -0.00126706, -0.00575948, -0.02313133,\n",
       "        -0.03065852, -0.02483841, -0.00233583, -0.02366974, -0.00380415],\n",
       "       [-0.02704322, -0.00913005, -0.01812738, -0.01383079,  0.        ,\n",
       "        -0.00547518, -0.00952783,  0.00997772,  0.00369566,  0.00951144],\n",
       "       [-0.00147223,  0.01312487,  0.01548019,  0.01078269, -0.00187481,\n",
       "         0.00806089,  0.00928948, -0.0144596 , -0.0001085 ,  0.01440554],\n",
       "       [ 0.00980871, -0.00679488, -0.0012012 ,  0.01206414,  0.00360604,\n",
       "        -0.00906807,  0.02186105, -0.02646069, -0.00634381,  0.01229391],\n",
       "       [-0.00364319, -0.05202691,  0.        ,  0.00078709, -0.00134061,\n",
       "        -0.02750637, -0.00071425, -0.00156535, -0.036134  ,  0.00202225]])"
      ]
     },
     "execution_count": 18,
     "metadata": {},
     "output_type": "execute_result"
    }
   ],
   "source": [
    "df_labels = df[[\"Timestamp\",\"Next_Day_Return\"]].copy()\n",
    "df_labels[\"Next_Day_Return\"].values.reshape(nr_days, 10)"
   ]
  },
  {
   "cell_type": "markdown",
   "metadata": {},
   "source": [
    "Y for Classification"
   ]
  },
  {
   "cell_type": "code",
   "execution_count": 68,
   "metadata": {},
   "outputs": [
    {
     "data": {
      "text/plain": [
       "array([[-1, -1, -1, -1,  1,  1,  1, -1,  1, -1],\n",
       "       [ 1,  1, -1, -1,  1,  1,  1, -1,  1,  1],\n",
       "       [ 1, -1, -1, -1,  1,  1, -1,  1, -1,  1],\n",
       "       [-1, -1, -1,  1,  1,  1,  1, -1,  1,  1],\n",
       "       [ 1,  1,  1,  1, -1, -1,  1,  1,  1,  1],\n",
       "       [ 1, -1, -1, -1, -1, -1, -1, -1, -1, -1],\n",
       "       [ 1,  1, -1, -1, -1, -1, -1, -1, -1, -1],\n",
       "       [-1, -1, -1, -1,  1, -1, -1,  1,  1,  1],\n",
       "       [-1,  1,  1,  1, -1,  1,  1, -1, -1,  1],\n",
       "       [ 1, -1, -1,  1,  1, -1,  1, -1, -1,  1],\n",
       "       [-1, -1,  1,  1, -1, -1, -1, -1, -1,  1]], dtype=int64)"
      ]
     },
     "execution_count": 68,
     "metadata": {},
     "output_type": "execute_result"
    }
   ],
   "source": [
    "df_labels = df[[\"Timestamp\",\"relabeled_returns\"]].copy()\n",
    "df_labels[\"relabeled_returns\"].values.reshape(nr_days, 10)"
   ]
  },
  {
   "cell_type": "code",
   "execution_count": 154,
   "metadata": {},
   "outputs": [],
   "source": [
    "#df_labels_single = df_labels.groupby(\"Timestamp\").agg(\"last\")"
   ]
  },
  {
   "cell_type": "code",
   "execution_count": 155,
   "metadata": {},
   "outputs": [
    {
     "data": {
      "text/html": [
       "<div>\n",
       "<style>\n",
       "    .dataframe thead tr:only-child th {\n",
       "        text-align: right;\n",
       "    }\n",
       "\n",
       "    .dataframe thead th {\n",
       "        text-align: left;\n",
       "    }\n",
       "\n",
       "    .dataframe tbody tr th {\n",
       "        vertical-align: top;\n",
       "    }\n",
       "</style>\n",
       "<table border=\"1\" class=\"dataframe\">\n",
       "  <thead>\n",
       "    <tr style=\"text-align: right;\">\n",
       "      <th></th>\n",
       "      <th>005930.KS</th>\n",
       "      <th>VIV</th>\n",
       "      <th>ALV.DE</th>\n",
       "      <th>TSS</th>\n",
       "      <th>BAYN.DE</th>\n",
       "      <th>TSLA</th>\n",
       "      <th>AIR.DE</th>\n",
       "      <th>AAPL</th>\n",
       "      <th>BAS.DE</th>\n",
       "      <th>BMW.DE</th>\n",
       "    </tr>\n",
       "    <tr>\n",
       "      <th>Timestamp</th>\n",
       "      <th></th>\n",
       "      <th></th>\n",
       "      <th></th>\n",
       "      <th></th>\n",
       "      <th></th>\n",
       "      <th></th>\n",
       "      <th></th>\n",
       "      <th></th>\n",
       "      <th></th>\n",
       "      <th></th>\n",
       "    </tr>\n",
       "  </thead>\n",
       "  <tbody>\n",
       "    <tr>\n",
       "      <th>2018-05-02</th>\n",
       "      <td>0.000000</td>\n",
       "      <td>-0.010665</td>\n",
       "      <td>0.013549</td>\n",
       "      <td>-0.013838</td>\n",
       "      <td>0.003419</td>\n",
       "      <td>0.004093</td>\n",
       "      <td>0.007473</td>\n",
       "      <td>0.043227</td>\n",
       "      <td>0.011060</td>\n",
       "      <td>0.006682</td>\n",
       "    </tr>\n",
       "    <tr>\n",
       "      <th>2018-05-03</th>\n",
       "      <td>0.000000</td>\n",
       "      <td>-0.020217</td>\n",
       "      <td>-0.009181</td>\n",
       "      <td>0.008611</td>\n",
       "      <td>0.003507</td>\n",
       "      <td>-0.057051</td>\n",
       "      <td>0.000612</td>\n",
       "      <td>0.001811</td>\n",
       "      <td>-0.017219</td>\n",
       "      <td>-0.010041</td>\n",
       "    </tr>\n",
       "    <tr>\n",
       "      <th>2018-05-04</th>\n",
       "      <td>-0.020973</td>\n",
       "      <td>-0.008056</td>\n",
       "      <td>0.008478</td>\n",
       "      <td>0.014659</td>\n",
       "      <td>0.018926</td>\n",
       "      <td>0.033328</td>\n",
       "      <td>0.006401</td>\n",
       "      <td>0.038483</td>\n",
       "      <td>0.012625</td>\n",
       "      <td>-0.006532</td>\n",
       "    </tr>\n",
       "    <tr>\n",
       "      <th>2018-05-08</th>\n",
       "      <td>0.013397</td>\n",
       "      <td>-0.010487</td>\n",
       "      <td>-0.003489</td>\n",
       "      <td>0.010593</td>\n",
       "      <td>-0.003532</td>\n",
       "      <td>-0.002646</td>\n",
       "      <td>-0.002593</td>\n",
       "      <td>0.004795</td>\n",
       "      <td>0.002798</td>\n",
       "      <td>0.004142</td>\n",
       "    </tr>\n",
       "    <tr>\n",
       "      <th>2018-05-09</th>\n",
       "      <td>-0.032853</td>\n",
       "      <td>-0.017471</td>\n",
       "      <td>-0.008826</td>\n",
       "      <td>0.005824</td>\n",
       "      <td>0.004120</td>\n",
       "      <td>0.016031</td>\n",
       "      <td>-0.010843</td>\n",
       "      <td>0.007016</td>\n",
       "      <td>0.002906</td>\n",
       "      <td>0.000218</td>\n",
       "    </tr>\n",
       "  </tbody>\n",
       "</table>\n",
       "</div>"
      ],
      "text/plain": [
       "            005930.KS       VIV    ALV.DE       TSS   BAYN.DE      TSLA  \\\n",
       "Timestamp                                                                 \n",
       "2018-05-02   0.000000 -0.010665  0.013549 -0.013838  0.003419  0.004093   \n",
       "2018-05-03   0.000000 -0.020217 -0.009181  0.008611  0.003507 -0.057051   \n",
       "2018-05-04  -0.020973 -0.008056  0.008478  0.014659  0.018926  0.033328   \n",
       "2018-05-08   0.013397 -0.010487 -0.003489  0.010593 -0.003532 -0.002646   \n",
       "2018-05-09  -0.032853 -0.017471 -0.008826  0.005824  0.004120  0.016031   \n",
       "\n",
       "              AIR.DE      AAPL    BAS.DE    BMW.DE  \n",
       "Timestamp                                           \n",
       "2018-05-02  0.007473  0.043227  0.011060  0.006682  \n",
       "2018-05-03  0.000612  0.001811 -0.017219 -0.010041  \n",
       "2018-05-04  0.006401  0.038483  0.012625 -0.006532  \n",
       "2018-05-08 -0.002593  0.004795  0.002798  0.004142  \n",
       "2018-05-09 -0.010843  0.007016  0.002906  0.000218  "
      ]
     },
     "execution_count": 155,
     "metadata": {},
     "output_type": "execute_result"
    }
   ],
   "source": [
    "#df_labels_single.head()"
   ]
  },
  {
   "cell_type": "code",
   "execution_count": 69,
   "metadata": {},
   "outputs": [
    {
     "data": {
      "text/plain": [
       "(11, 10)"
      ]
     },
     "execution_count": 69,
     "metadata": {},
     "output_type": "execute_result"
    }
   ],
   "source": [
    "#Y = df_labels[\"Next_Day_Return\"].values.reshape(nr_days, 10)#df_labels_single.values\n",
    "Y = df_labels[\"relabeled_returns\"].values.reshape(nr_days, 10)\n",
    "Y.shape"
   ]
  },
  {
   "cell_type": "code",
   "execution_count": 104,
   "metadata": {},
   "outputs": [],
   "source": [
    "from keras.models import Sequential\n",
    "from keras.layers import Dense, Activation, Dropout, LeakyReLU\n",
    "\n",
    "from keras import backend as K\n",
    "\n",
    "from sklearn.model_selection import train_test_split\n",
    "from keras.callbacks import EarlyStopping, ModelCheckpoint\n",
    "\n",
    "from keras import optimizers\n",
    "from keras.losses import binary_crossentropy\n",
    "#from keras.optimizers import SGD\n",
    "\n",
    "from sklearn.metrics import confusion_matrix, precision_score, recall_score, f1_score, cohen_kappa_score"
   ]
  },
  {
   "cell_type": "code",
   "execution_count": 71,
   "metadata": {},
   "outputs": [],
   "source": [
    "X_train, X_val, y_train, y_val = train_test_split(X, Y, test_size=0.2, random_state=42)"
   ]
  },
  {
   "cell_type": "code",
   "execution_count": 72,
   "metadata": {},
   "outputs": [
    {
     "name": "stdout",
     "output_type": "stream",
     "text": [
      "90 dims\n",
      "Building model...\n",
      "10 classes\n"
     ]
    }
   ],
   "source": [
    "dims = X.shape[1]\n",
    "print(dims, 'dims')\n",
    "print(\"Building model...\")\n",
    "\n",
    "nb_classes = Y.shape[1]\n",
    "print(nb_classes, 'classes')"
   ]
  },
  {
   "cell_type": "code",
   "execution_count": 73,
   "metadata": {},
   "outputs": [
    {
     "name": "stdout",
     "output_type": "stream",
     "text": [
      "(8, 90)\n",
      "(8, 10)\n"
     ]
    }
   ],
   "source": [
    "print(X_train.shape)\n",
    "print(y_train.shape)"
   ]
  },
  {
   "cell_type": "markdown",
   "metadata": {},
   "source": [
    "### Andi"
   ]
  },
  {
   "cell_type": "code",
   "execution_count": 76,
   "metadata": {},
   "outputs": [
    {
     "name": "stdout",
     "output_type": "stream",
     "text": [
      "Train on 8 samples, validate on 3 samples\n",
      "Epoch 1/100\n",
      " - 1s - loss: 0.6505 - acc: 0.2500 - val_loss: 0.4616 - val_acc: 0.1333\n",
      "Epoch 2/100\n",
      " - 0s - loss: 0.5118 - acc: 0.2125 - val_loss: 0.2696 - val_acc: 0.1000\n",
      "Epoch 3/100\n",
      " - 0s - loss: 0.3556 - acc: 0.1500 - val_loss: -1.5043e-02 - val_acc: 0.1000\n",
      "Epoch 4/100\n",
      " - 0s - loss: 0.1434 - acc: 0.1250 - val_loss: -2.9672e-01 - val_acc: 0.0333\n",
      "Epoch 5/100\n",
      " - 0s - loss: -7.0619e-02 - acc: 0.1000 - val_loss: -6.3139e-01 - val_acc: 0.0333\n",
      "Epoch 6/100\n",
      " - 0s - loss: -3.0750e-01 - acc: 0.0875 - val_loss: -1.0227e+00 - val_acc: 0.0333\n",
      "Epoch 7/100\n",
      " - 0s - loss: -5.6318e-01 - acc: 0.0875 - val_loss: -1.5514e+00 - val_acc: 0.0333\n",
      "Epoch 8/100\n",
      " - 0s - loss: -8.9050e-01 - acc: 0.0875 - val_loss: -2.4426e+00 - val_acc: 0.0333\n",
      "Epoch 9/100\n",
      " - 0s - loss: -1.4198e+00 - acc: 0.0875 - val_loss: -3.6657e+00 - val_acc: 0.0333\n",
      "Epoch 10/100\n",
      " - 0s - loss: -1.7960e+00 - acc: 0.0875 - val_loss: -2.8827e+00 - val_acc: 0.0333\n",
      "Epoch 11/100\n",
      " - 0s - loss: -2.0651e+00 - acc: 0.0875 - val_loss: -3.0814e+00 - val_acc: 0.0333\n",
      "Epoch 12/100\n",
      " - 0s - loss: -2.4482e+00 - acc: 0.0875 - val_loss: -2.9734e+00 - val_acc: 0.0333\n",
      "Epoch 13/100\n",
      " - 0s - loss: -2.6991e+00 - acc: 0.0625 - val_loss: -2.7538e+00 - val_acc: 0.0333\n",
      "Epoch 14/100\n",
      " - 0s - loss: -2.8396e+00 - acc: 0.1125 - val_loss: -2.9540e+00 - val_acc: 0.1000\n",
      "Epoch 15/100\n",
      " - 0s - loss: -3.0903e+00 - acc: 0.1500 - val_loss: -3.3865e+00 - val_acc: 0.0333\n",
      "Epoch 16/100\n",
      " - 0s - loss: -2.9973e+00 - acc: 0.1125 - val_loss: -1.8772e+00 - val_acc: 0.1667\n",
      "Epoch 17/100\n",
      " - 0s - loss: -2.9656e+00 - acc: 0.1875 - val_loss: -3.7354e+00 - val_acc: 0.0667\n",
      "Epoch 18/100\n",
      " - 0s - loss: -2.8980e+00 - acc: 0.1500 - val_loss: -3.2077e+00 - val_acc: 0.0667\n",
      "Epoch 19/100\n",
      " - 0s - loss: -3.2970e+00 - acc: 0.1625 - val_loss: -1.2989e+00 - val_acc: 0.1000\n",
      "Epoch 20/100\n",
      " - 0s - loss: -3.4754e+00 - acc: 0.2500 - val_loss: -3.0909e+00 - val_acc: 0.0667\n",
      "Epoch 21/100\n",
      " - 0s - loss: -3.8178e+00 - acc: 0.1750 - val_loss: -2.0699e+00 - val_acc: 0.1000\n",
      "Epoch 22/100\n",
      " - 0s - loss: -3.9034e+00 - acc: 0.2500 - val_loss: -3.7674e+00 - val_acc: 0.0667\n",
      "Epoch 23/100\n",
      " - 0s - loss: -3.5742e+00 - acc: 0.1250 - val_loss: -1.6861e+00 - val_acc: 0.1000\n",
      "Epoch 24/100\n",
      " - 0s - loss: -3.8550e+00 - acc: 0.2625 - val_loss: -3.3139e+00 - val_acc: 0.0667\n",
      "Epoch 25/100\n",
      " - 0s - loss: -3.7161e+00 - acc: 0.1875 - val_loss: -2.7676e+00 - val_acc: 0.1000\n",
      "Epoch 26/100\n",
      " - 0s - loss: -4.1403e+00 - acc: 0.2250 - val_loss: -3.3773e+00 - val_acc: 0.1000\n",
      "Epoch 27/100\n",
      " - 0s - loss: -4.1100e+00 - acc: 0.2125 - val_loss: -2.8200e+00 - val_acc: 0.1000\n",
      "Epoch 28/100\n",
      " - 0s - loss: -4.2373e+00 - acc: 0.2125 - val_loss: -3.0132e+00 - val_acc: 0.1000\n",
      "Epoch 29/100\n",
      " - 0s - loss: -4.3543e+00 - acc: 0.2375 - val_loss: -1.4798e+00 - val_acc: 0.1000\n",
      "Epoch 30/100\n",
      " - 0s - loss: -4.3296e+00 - acc: 0.2750 - val_loss: -3.2910e+00 - val_acc: 0.1000\n",
      "Epoch 31/100\n",
      " - 0s - loss: -4.3651e+00 - acc: 0.2375 - val_loss: -1.8603e+00 - val_acc: 0.1667\n",
      "Epoch 32/100\n",
      " - 0s - loss: -4.0967e+00 - acc: 0.2875 - val_loss: -2.7122e+00 - val_acc: 0.1000\n",
      "Epoch 33/100\n",
      " - 0s - loss: -3.7484e+00 - acc: 0.2000 - val_loss: -2.4151e+00 - val_acc: 0.1667\n",
      "Epoch 34/100\n",
      " - 0s - loss: -3.8960e+00 - acc: 0.2375 - val_loss: -2.0907e+00 - val_acc: 0.1000\n",
      "Epoch 35/100\n",
      " - 0s - loss: -4.1293e+00 - acc: 0.2625 - val_loss: -3.3608e+00 - val_acc: 0.1000\n",
      "Epoch 36/100\n",
      " - 0s - loss: -3.8706e+00 - acc: 0.1875 - val_loss: 0.4984 - val_acc: 0.1667\n",
      "Epoch 37/100\n",
      " - 0s - loss: -3.8356e+00 - acc: 0.3000 - val_loss: -2.6064e+00 - val_acc: 0.1333\n",
      "Epoch 38/100\n",
      " - 0s - loss: -4.3952e+00 - acc: 0.1750 - val_loss: 1.5926 - val_acc: 0.2333\n",
      "Epoch 39/100\n",
      " - 0s - loss: -3.4925e+00 - acc: 0.3250 - val_loss: -4.7697e+00 - val_acc: 0.0667\n",
      "Epoch 40/100\n",
      " - 0s - loss: -3.1948e+00 - acc: 0.1375 - val_loss: -2.5872e+00 - val_acc: 0.1333\n",
      "Epoch 41/100\n",
      " - 0s - loss: -4.4511e+00 - acc: 0.2500 - val_loss: -1.0228e+00 - val_acc: 0.2000\n",
      "Epoch 42/100\n",
      " - 0s - loss: -4.4669e+00 - acc: 0.3125 - val_loss: -2.5137e+00 - val_acc: 0.1333\n",
      "Epoch 43/100\n",
      " - 0s - loss: -4.5539e+00 - acc: 0.3000 - val_loss: -2.1863e+00 - val_acc: 0.1333\n",
      "Epoch 44/100\n",
      " - 0s - loss: -4.6658e+00 - acc: 0.3000 - val_loss: -2.1846e+00 - val_acc: 0.1333\n",
      "Epoch 45/100\n",
      " - 0s - loss: -4.7724e+00 - acc: 0.2875 - val_loss: -6.8821e-01 - val_acc: 0.1333\n",
      "Epoch 46/100\n",
      " - 0s - loss: -4.2234e+00 - acc: 0.3125 - val_loss: -3.0938e+00 - val_acc: 0.1667\n",
      "Epoch 47/100\n",
      " - 0s - loss: -4.5937e+00 - acc: 0.2875 - val_loss: -7.2464e-01 - val_acc: 0.1000\n",
      "Epoch 48/100\n",
      " - 0s - loss: -3.9557e+00 - acc: 0.3125 - val_loss: -3.1978e+00 - val_acc: 0.1333\n",
      "Epoch 49/100\n",
      " - 0s - loss: -4.4588e+00 - acc: 0.2750 - val_loss: -1.5524e+00 - val_acc: 0.1333\n",
      "Epoch 50/100\n",
      " - 0s - loss: -4.8593e+00 - acc: 0.3125 - val_loss: -6.2864e-01 - val_acc: 0.2333\n",
      "Epoch 51/100\n",
      " - 0s - loss: -4.5922e+00 - acc: 0.3125 - val_loss: -1.9370e+00 - val_acc: 0.1667\n",
      "Epoch 52/100\n",
      " - 0s - loss: -4.5806e+00 - acc: 0.3000 - val_loss: -2.6511e+00 - val_acc: 0.1333\n",
      "Epoch 53/100\n",
      " - 0s - loss: -4.8664e+00 - acc: 0.3125 - val_loss: -2.3604e+00 - val_acc: 0.1333\n",
      "Epoch 54/100\n",
      " - 0s - loss: -5.0971e+00 - acc: 0.3125 - val_loss: -1.3724e+00 - val_acc: 0.1667\n",
      "Epoch 55/100\n",
      " - 0s - loss: -4.8575e+00 - acc: 0.3375 - val_loss: -3.7647e+00 - val_acc: 0.2333\n",
      "Epoch 56/100\n",
      " - 0s - loss: -4.2310e+00 - acc: 0.2500 - val_loss: -1.9509e+00 - val_acc: 0.2000\n",
      "Epoch 57/100\n",
      " - 0s - loss: -4.7136e+00 - acc: 0.2750 - val_loss: 0.2269 - val_acc: 0.2333\n",
      "Epoch 58/100\n",
      " - 0s - loss: -4.5356e+00 - acc: 0.3625 - val_loss: -1.8609e+00 - val_acc: 0.1000\n",
      "Epoch 59/100\n",
      " - 0s - loss: -4.1393e+00 - acc: 0.2750 - val_loss: -1.5559e+00 - val_acc: 0.1333\n",
      "Epoch 60/100\n",
      " - 0s - loss: -4.3506e+00 - acc: 0.3000 - val_loss: -1.3954e+00 - val_acc: 0.1333\n",
      "Epoch 61/100\n",
      " - 0s - loss: -4.4000e+00 - acc: 0.3375 - val_loss: -1.6211e+00 - val_acc: 0.1667\n",
      "Epoch 62/100\n",
      " - 0s - loss: -4.2202e+00 - acc: 0.3125 - val_loss: -2.0700e+00 - val_acc: 0.1333\n",
      "Epoch 63/100\n",
      " - 0s - loss: -4.2454e+00 - acc: 0.3125 - val_loss: -8.9125e-01 - val_acc: 0.2000\n",
      "Epoch 64/100\n",
      " - 0s - loss: -4.5095e+00 - acc: 0.3500 - val_loss: -1.2739e+00 - val_acc: 0.1333\n",
      "Epoch 65/100\n",
      " - 0s - loss: -4.6401e+00 - acc: 0.3375 - val_loss: -1.4698e+00 - val_acc: 0.1333\n",
      "Epoch 66/100\n",
      " - 0s - loss: -4.5522e+00 - acc: 0.3250 - val_loss: -1.0251e+00 - val_acc: 0.1333\n",
      "Epoch 67/100\n",
      " - 0s - loss: -4.6838e+00 - acc: 0.3500 - val_loss: -1.2533e+00 - val_acc: 0.1667\n",
      "Epoch 68/100\n",
      " - 0s - loss: -5.0327e+00 - acc: 0.3750 - val_loss: -1.5497e+00 - val_acc: 0.1333\n",
      "Epoch 69/100\n",
      " - 0s - loss: -5.0090e+00 - acc: 0.3625 - val_loss: -1.4918e+00 - val_acc: 0.1333\n",
      "Epoch 70/100\n",
      " - 0s - loss: -5.0397e+00 - acc: 0.3750 - val_loss: -1.4820e+00 - val_acc: 0.1333\n",
      "Epoch 71/100\n",
      " - 0s - loss: -5.0400e+00 - acc: 0.3750 - val_loss: -1.4739e+00 - val_acc: 0.1333\n",
      "Epoch 72/100\n",
      " - 0s - loss: -5.0402e+00 - acc: 0.3750 - val_loss: -1.4669e+00 - val_acc: 0.1333\n",
      "Epoch 73/100\n",
      " - 0s - loss: -5.0403e+00 - acc: 0.3750 - val_loss: -1.4606e+00 - val_acc: 0.1333\n",
      "Epoch 74/100\n",
      " - 0s - loss: -5.0404e+00 - acc: 0.3750 - val_loss: -1.4547e+00 - val_acc: 0.1333\n",
      "Epoch 75/100\n",
      " - 0s - loss: -5.0405e+00 - acc: 0.3750 - val_loss: -1.4492e+00 - val_acc: 0.1333\n",
      "Epoch 76/100\n",
      " - 0s - loss: -5.0405e+00 - acc: 0.3750 - val_loss: -1.4440e+00 - val_acc: 0.1333\n",
      "Epoch 77/100\n",
      " - 0s - loss: -5.0406e+00 - acc: 0.3750 - val_loss: -1.4389e+00 - val_acc: 0.1333\n",
      "Epoch 78/100\n",
      " - 0s - loss: -5.0406e+00 - acc: 0.3750 - val_loss: -1.4341e+00 - val_acc: 0.1333\n",
      "Epoch 79/100\n",
      " - 0s - loss: -5.0407e+00 - acc: 0.3750 - val_loss: -1.4295e+00 - val_acc: 0.1333\n",
      "Epoch 80/100\n",
      " - 0s - loss: -5.0407e+00 - acc: 0.3750 - val_loss: -1.4251e+00 - val_acc: 0.1333\n",
      "Epoch 81/100\n",
      " - 0s - loss: -5.0407e+00 - acc: 0.3750 - val_loss: -1.4209e+00 - val_acc: 0.1333\n",
      "Epoch 82/100\n",
      " - 0s - loss: -5.0407e+00 - acc: 0.3750 - val_loss: -1.4168e+00 - val_acc: 0.1333\n",
      "Epoch 83/100\n",
      " - 0s - loss: -5.0408e+00 - acc: 0.3750 - val_loss: -1.4128e+00 - val_acc: 0.1333\n",
      "Epoch 84/100\n",
      " - 0s - loss: -5.0408e+00 - acc: 0.3750 - val_loss: -1.4090e+00 - val_acc: 0.1333\n",
      "Epoch 85/100\n",
      " - 0s - loss: -5.0408e+00 - acc: 0.3750 - val_loss: -1.4053e+00 - val_acc: 0.1333\n",
      "Epoch 86/100\n",
      " - 0s - loss: -5.0408e+00 - acc: 0.3750 - val_loss: -1.4017e+00 - val_acc: 0.1333\n",
      "Epoch 87/100\n",
      " - 0s - loss: -5.0408e+00 - acc: 0.3750 - val_loss: -1.3982e+00 - val_acc: 0.1333\n"
     ]
    },
    {
     "name": "stdout",
     "output_type": "stream",
     "text": [
      "Epoch 88/100\n",
      " - 0s - loss: -5.0409e+00 - acc: 0.3750 - val_loss: -1.3948e+00 - val_acc: 0.1333\n",
      "Epoch 89/100\n",
      " - 0s - loss: -5.0409e+00 - acc: 0.3750 - val_loss: -1.3915e+00 - val_acc: 0.1333\n",
      "Epoch 90/100\n",
      " - 0s - loss: -5.0409e+00 - acc: 0.3750 - val_loss: -1.3882e+00 - val_acc: 0.1333\n",
      "Epoch 91/100\n",
      " - 0s - loss: -5.0409e+00 - acc: 0.3750 - val_loss: -1.3851e+00 - val_acc: 0.1333\n",
      "Epoch 92/100\n",
      " - 0s - loss: -5.0409e+00 - acc: 0.3750 - val_loss: -1.3820e+00 - val_acc: 0.1333\n",
      "Epoch 93/100\n",
      " - 0s - loss: -5.0409e+00 - acc: 0.3750 - val_loss: -1.3790e+00 - val_acc: 0.1333\n",
      "Epoch 94/100\n",
      " - 0s - loss: -5.0409e+00 - acc: 0.3750 - val_loss: -1.3761e+00 - val_acc: 0.1333\n",
      "Epoch 95/100\n",
      " - 0s - loss: -5.0409e+00 - acc: 0.3750 - val_loss: -1.3732e+00 - val_acc: 0.1333\n",
      "Epoch 96/100\n",
      " - 0s - loss: -5.0409e+00 - acc: 0.3750 - val_loss: -1.3706e+00 - val_acc: 0.1333\n",
      "Epoch 97/100\n",
      " - 0s - loss: -5.0409e+00 - acc: 0.3750 - val_loss: -1.3680e+00 - val_acc: 0.1333\n",
      "Epoch 98/100\n",
      " - 0s - loss: -5.0410e+00 - acc: 0.3750 - val_loss: -1.3655e+00 - val_acc: 0.1333\n",
      "Epoch 99/100\n",
      " - 0s - loss: -5.0410e+00 - acc: 0.3750 - val_loss: -1.3630e+00 - val_acc: 0.1333\n",
      "Epoch 100/100\n",
      " - 0s - loss: -5.0410e+00 - acc: 0.3750 - val_loss: -1.3606e+00 - val_acc: 0.1333\n",
      "3/3 [==============================] - 0s 334us/step\n"
     ]
    }
   ],
   "source": [
    "model = Sequential()\n",
    "\n",
    "# Add layers\n",
    "model.add(Dense(Y.shape[1], input_shape=(dims,), kernel_initializer='uniform', activation=\"relu\"))\n",
    "model.add(Dense(Y.shape[1]**2, kernel_initializer='uniform', activation=\"relu\"))\n",
    "model.add(Dense(Y.shape[1]**2, kernel_initializer='uniform', activation=\"relu\"))\n",
    "model.add(Dense(Y.shape[1], kernel_initializer='uniform', activation=\"sigmoid\"))\n",
    "\n",
    "model.compile(loss=\"binary_crossentropy\",\n",
    "              optimizer=\"SGD\",\n",
    "              metrics=['accuracy']) # Accuracy performance metric\n",
    "\n",
    "hist = model.fit(X_train, y_train,\n",
    "                 epochs=100,\n",
    "                 batch_size=30,\n",
    "                 verbose=2,\n",
    "                 validation_data=(X_val, y_val))\n",
    "\n",
    "### PREDICTION ###\n",
    "y_pred = model.predict(X_val)\n",
    "y_head = np.round(y_pred, 0)\n",
    "\n",
    "### EVALUATE Classification - MODEL ###\n",
    "\n",
    "score = model.evaluate(X_val, y_val,verbose=1)\n"
   ]
  },
  {
   "cell_type": "code",
   "execution_count": 77,
   "metadata": {},
   "outputs": [
    {
     "data": {
      "text/plain": [
       "[-1.3606109619140625, 0.13333334028720856]"
      ]
     },
     "execution_count": 77,
     "metadata": {},
     "output_type": "execute_result"
    }
   ],
   "source": [
    "score"
   ]
  },
  {
   "cell_type": "markdown",
   "metadata": {},
   "source": [
    "### Nils"
   ]
  },
  {
   "cell_type": "code",
   "execution_count": 115,
   "metadata": {},
   "outputs": [
    {
     "name": "stderr",
     "output_type": "stream",
     "text": [
      "C:\\Users\\Nils\\Anaconda3\\lib\\site-packages\\keras\\activations.py:103: UserWarning: Do not pass a layer instance (such as LeakyReLU) as the activation argument of another layer. Instead, advanced activation layers should be used just like any other layer in a model.\n",
      "  ).format(identifier=identifier.__class__.__name__))\n"
     ]
    },
    {
     "name": "stdout",
     "output_type": "stream",
     "text": [
      "Train on 8 samples, validate on 3 samples\n",
      "Epoch 1/10\n",
      "8/8 [==============================] - 2s 249ms/step - loss: 0.5966 - acc: 0.1250 - val_loss: -7.7008 - val_acc: 0.0000e+00\n",
      "Epoch 2/10\n",
      "8/8 [==============================] - 0s 746us/step - loss: 0.4918 - acc: 0.1250 - val_loss: -7.7042 - val_acc: 0.0000e+00\n",
      "Epoch 3/10\n",
      "8/8 [==============================] - 0s 750us/step - loss: 0.5463 - acc: 0.1250 - val_loss: -7.7176 - val_acc: 0.3333\n",
      "Epoch 4/10\n",
      "8/8 [==============================] - 0s 2ms/step - loss: 0.4427 - acc: 0.1250 - val_loss: -7.7354 - val_acc: 0.0000e+00\n",
      "Epoch 5/10\n",
      "8/8 [==============================] - 0s 1ms/step - loss: 0.4773 - acc: 0.1250 - val_loss: -7.7428 - val_acc: 0.0000e+00\n",
      "Epoch 6/10\n",
      "8/8 [==============================] - 0s 2ms/step - loss: 0.4076 - acc: 0.1250 - val_loss: -7.7628 - val_acc: 0.0000e+00\n",
      "Epoch 7/10\n",
      "8/8 [==============================] - 0s 999us/step - loss: 0.3442 - acc: 0.0000e+00 - val_loss: -7.7747 - val_acc: 0.0000e+00\n",
      "Epoch 8/10\n",
      "8/8 [==============================] - 0s 3ms/step - loss: 0.4653 - acc: 0.1250 - val_loss: -7.7878 - val_acc: 0.0000e+00\n",
      "Epoch 9/10\n",
      "8/8 [==============================] - 0s 1ms/step - loss: 0.3997 - acc: 0.0000e+00 - val_loss: -7.8003 - val_acc: 0.0000e+00\n",
      "Epoch 10/10\n",
      "8/8 [==============================] - 0s 2ms/step - loss: 0.3944 - acc: 0.1250 - val_loss: -7.8180 - val_acc: 0.0000e+00\n",
      "3/3 [==============================] - 0s 1ms/step\n"
     ]
    }
   ],
   "source": [
    "model = Sequential()\n",
    "\n",
    "#Optimizer\n",
    "sgd = optimizers.SGD(lr=0.001, decay=1e-6, momentum=0.6, nesterov=True)\n",
    "\n",
    "#Input Layer\n",
    "model.add(Dense(nb_classes, input_shape=(dims,), activation=\"softmax\"))#LeakyReLU(alpha=0.3)\n",
    "\n",
    "#Hidden Layers\n",
    "model.add(Dense(64, activation=LeakyReLU(alpha=0.3), use_bias=True))\n",
    "model.add(Dropout(0.4))\n",
    "model.add(Dense(64, activation=\"relu\", use_bias=True))\n",
    "model.add(Dropout(0.5))\n",
    "model.add(Dense(64, activation=\"relu\", use_bias=True))\n",
    "#model.add(Activation('softplus'))\n",
    "\n",
    "#Output Layer\n",
    "model.add(Dense(nb_classes, activation=\"sigmoid\"))\n",
    "\n",
    "\n",
    "model.compile(optimizer=\"rmsprop\", loss='categorical_crossentropy', metrics=[\"accuracy\"])\n",
    "\n",
    "model.fit(X_train, y_train, validation_data = (X_val, y_val), epochs=10, \n",
    "          batch_size=128, verbose=True)\n",
    "\n",
    "score = model.evaluate(X_val, y_val,verbose=1)"
   ]
  },
  {
   "cell_type": "code",
   "execution_count": 95,
   "metadata": {},
   "outputs": [
    {
     "data": {
      "text/plain": [
       "[-8.998761177062988, 0.0]"
      ]
     },
     "execution_count": 95,
     "metadata": {},
     "output_type": "execute_result"
    }
   ],
   "source": [
    "score"
   ]
  },
  {
   "cell_type": "code",
   "execution_count": 135,
   "metadata": {},
   "outputs": [
    {
     "data": {
      "text/plain": [
       "array([  5.51000000e+02,   8.21914827e-02,   2.06793140e-01,\n",
       "        -1.01450000e-02,   4.14600000e-02,   2.13785000e-01,\n",
       "         7.24430000e-01,  -6.32340000e-01,   0.00000000e+00,\n",
       "        -2.09731234e-02,  -8.05570083e-03,   8.47804836e-03,\n",
       "         1.46592056e-02,   1.89255091e-02,   3.33283517e-02,\n",
       "         6.40083466e-03,   3.84833470e-02,   1.26254066e-02,\n",
       "        -6.53170186e-03,   3.51000000e+02,  -6.38005924e-05,\n",
       "         2.54183595e-01,  -1.81920000e-01,  -3.94000000e-02,\n",
       "         2.19880000e-01,   6.17980000e-01,  -6.99633333e-01,\n",
       "         0.00000000e+00,  -2.09731234e-02,  -8.05570083e-03,\n",
       "         8.47804836e-03,   1.46592056e-02,   1.89255091e-02,\n",
       "         3.33283517e-02,   6.40083466e-03,   3.84833470e-02,\n",
       "         1.26254066e-02,  -6.53170186e-03,   2.04900000e+03,\n",
       "         7.03780595e-02,   2.13552659e-01,  -2.62300000e-02,\n",
       "         3.96700000e-02,   2.10740000e-01,   7.28870000e-01,\n",
       "        -9.91700000e-01,   0.00000000e+00,  -2.09731234e-02,\n",
       "        -8.05570083e-03,   8.47804836e-03,   1.46592056e-02,\n",
       "         1.89255091e-02,   3.33283517e-02,   6.40083466e-03,\n",
       "         3.84833470e-02,   1.26254066e-02,  -6.53170186e-03,\n",
       "         4.72000000e+02,   1.45661004e-02,   1.64032862e-01,\n",
       "        -9.10800000e-02,  -1.17700000e-02,   1.23552500e-01,\n",
       "         7.12400000e-01,  -3.89040000e-01,   0.00000000e+00,\n",
       "        -2.09731234e-02,  -8.05570083e-03,   8.47804836e-03,\n",
       "         1.46592056e-02,   1.89255091e-02,   3.33283517e-02,\n",
       "         6.40083466e-03,   3.84833470e-02,   1.26254066e-02,\n",
       "        -6.53170186e-03,   1.87000000e+02,  -3.75146354e-02,\n",
       "         2.59320365e-01,  -1.28840000e-01,   0.00000000e+00,\n",
       "         9.49666667e-02,   5.70480000e-01,  -6.42300000e-01,\n",
       "         0.00000000e+00,  -2.09731234e-02,  -8.05570083e-03,\n",
       "         8.47804836e-03,   1.46592056e-02,   1.89255091e-02,\n",
       "         3.33283517e-02,   6.40083466e-03,   3.84833470e-02,\n",
       "         1.26254066e-02,  -6.53170186e-03,   6.50000000e+02,\n",
       "        -6.25113858e-03,   2.09625492e-01,  -1.19880000e-01,\n",
       "         0.00000000e+00,   1.06637500e-01,   6.17860000e-01,\n",
       "        -5.64810000e-01,   0.00000000e+00,  -2.09731234e-02,\n",
       "        -8.05570083e-03,   8.47804836e-03,   1.46592056e-02,\n",
       "         1.89255091e-02,   3.33283517e-02,   6.40083466e-03,\n",
       "         3.84833470e-02,   1.26254066e-02,  -6.53170186e-03,\n",
       "         7.74000000e+02,  -4.18477858e-02,   2.29301451e-01,\n",
       "        -2.38922500e-01,  -1.86700000e-02,   8.78242857e-02,\n",
       "         8.68900000e-01,  -5.12460000e-01,   0.00000000e+00,\n",
       "        -2.09731234e-02,  -8.05570083e-03,   8.47804836e-03,\n",
       "         1.46592056e-02,   1.89255091e-02,   3.33283517e-02,\n",
       "         6.40083466e-03,   3.84833470e-02,   1.26254066e-02,\n",
       "        -6.53170186e-03,   8.60000000e+01,  -4.10000923e-03,\n",
       "         2.14952272e-01,  -1.06870000e-01,  -2.13750000e-02,\n",
       "         1.34747500e-01,   6.22220000e-01,  -6.32340000e-01,\n",
       "         0.00000000e+00,  -2.09731234e-02,  -8.05570083e-03,\n",
       "         8.47804836e-03,   1.46592056e-02,   1.89255091e-02,\n",
       "         3.33283517e-02,   6.40083466e-03,   3.84833470e-02,\n",
       "         1.26254066e-02,  -6.53170186e-03,   1.93000000e+03,\n",
       "         1.01840820e-01,   1.76136785e-01,   0.00000000e+00,\n",
       "         6.89700000e-02,   2.23507500e-01,   8.95700000e-01,\n",
       "        -6.47550000e-01,   0.00000000e+00,  -2.09731234e-02,\n",
       "        -8.05570083e-03,   8.47804836e-03,   1.46592056e-02,\n",
       "         1.89255091e-02,   3.33283517e-02,   6.40083466e-03,\n",
       "         3.84833470e-02,   1.26254066e-02,  -6.53170186e-03,\n",
       "         2.50000000e+02,  -1.63901268e-01,   2.65495952e-01,\n",
       "        -3.77560000e-01,  -2.37110000e-01,   0.00000000e+00,\n",
       "         6.50210000e-01,  -7.05160000e-01,   0.00000000e+00,\n",
       "        -2.09731234e-02,  -8.05570083e-03,   8.47804836e-03,\n",
       "         1.46592056e-02,   1.89255091e-02,   3.33283517e-02,\n",
       "         6.40083466e-03,   3.84833470e-02,   1.26254066e-02,\n",
       "        -6.53170186e-03])"
      ]
     },
     "execution_count": 135,
     "metadata": {},
     "output_type": "execute_result"
    }
   ],
   "source": [
    "X[0]"
   ]
  },
  {
   "cell_type": "code",
   "execution_count": 58,
   "metadata": {},
   "outputs": [
    {
     "data": {
      "text/plain": [
       "array([[0.0000000e+00, 1.0000000e+00, 1.2261952e-27, 0.0000000e+00,\n",
       "        1.0000000e+00, 0.0000000e+00, 6.2738419e-01, 1.0000000e+00,\n",
       "        0.0000000e+00, 1.0000000e+00]], dtype=float32)"
      ]
     },
     "execution_count": 58,
     "metadata": {},
     "output_type": "execute_result"
    }
   ],
   "source": [
    "E = model.predict(X[0].reshape(1,90))\n",
    "E"
   ]
  },
  {
   "cell_type": "code",
   "execution_count": 59,
   "metadata": {},
   "outputs": [
    {
     "data": {
      "text/plain": [
       "array([-0.01721889, -0.05705099, -0.01746398, -0.00918132,  0.00061175,\n",
       "        0.00181067,  0.00350719, -0.0202173 ,  0.        , -0.01004057])"
      ]
     },
     "execution_count": 59,
     "metadata": {},
     "output_type": "execute_result"
    }
   ],
   "source": [
    "Y[0]"
   ]
  },
  {
   "cell_type": "code",
   "execution_count": 139,
   "metadata": {},
   "outputs": [
    {
     "data": {
      "text/plain": [
       "array([[ 0.04923758,  0.05990248,  0.12029236,  0.14767935,  0.1304228 ,\n",
       "         0.04514487,  0.12636857,  0.00601043,  0.12278158,  0.1271591 ]])"
      ]
     },
     "execution_count": 139,
     "metadata": {},
     "output_type": "execute_result"
    }
   ],
   "source": [
    "EY[0]"
   ]
  }
 ],
 "metadata": {
  "kernelspec": {
   "display_name": "Python 3",
   "language": "python",
   "name": "python3"
  },
  "language_info": {
   "codemirror_mode": {
    "name": "ipython",
    "version": 3
   },
   "file_extension": ".py",
   "mimetype": "text/x-python",
   "name": "python",
   "nbconvert_exporter": "python",
   "pygments_lexer": "ipython3",
   "version": "3.6.5"
  }
 },
 "nbformat": 4,
 "nbformat_minor": 2
}

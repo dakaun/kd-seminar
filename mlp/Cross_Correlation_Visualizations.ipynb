{
 "cells": [
  {
   "cell_type": "markdown",
   "metadata": {},
   "source": [
    "# Looking at correlations between Features of Company A and the Return of other Companies"
   ]
  },
  {
   "cell_type": "markdown",
   "metadata": {},
   "source": [
    "Load Dependencies"
   ]
  },
  {
   "cell_type": "code",
   "execution_count": 1,
   "metadata": {},
   "outputs": [],
   "source": [
    "import pandas as pd\n",
    "import numpy as np\n",
    "\n",
    "import matplotlib.pyplot as plt\n",
    "import seaborn as sns"
   ]
  },
  {
   "cell_type": "markdown",
   "metadata": {},
   "source": [
    "Read in Data"
   ]
  },
  {
   "cell_type": "code",
   "execution_count": 3,
   "metadata": {},
   "outputs": [
    {
     "data": {
      "text/html": [
       "<div>\n",
       "<style scoped>\n",
       "    .dataframe tbody tr th:only-of-type {\n",
       "        vertical-align: middle;\n",
       "    }\n",
       "\n",
       "    .dataframe tbody tr th {\n",
       "        vertical-align: top;\n",
       "    }\n",
       "\n",
       "    .dataframe thead th {\n",
       "        text-align: right;\n",
       "    }\n",
       "</style>\n",
       "<table border=\"1\" class=\"dataframe\">\n",
       "  <thead>\n",
       "    <tr style=\"text-align: right;\">\n",
       "      <th></th>\n",
       "      <th>ID</th>\n",
       "      <th>articleCount</th>\n",
       "      <th>avgSentiment</th>\n",
       "      <th>stdSentiment</th>\n",
       "      <th>25quantileSentiment</th>\n",
       "      <th>50quantileSentiment</th>\n",
       "      <th>75quantileSentiment</th>\n",
       "      <th>maxSentiment</th>\n",
       "      <th>minSentiment</th>\n",
       "      <th>Previous_Day_Return</th>\n",
       "      <th>Next_Day_Return</th>\n",
       "    </tr>\n",
       "  </thead>\n",
       "  <tbody>\n",
       "    <tr>\n",
       "      <th>105</th>\n",
       "      <td>Tesla</td>\n",
       "      <td>297</td>\n",
       "      <td>0.065692</td>\n",
       "      <td>0.231960</td>\n",
       "      <td>-0.087833</td>\n",
       "      <td>0.05566</td>\n",
       "      <td>0.197360</td>\n",
       "      <td>0.747933</td>\n",
       "      <td>-0.64050</td>\n",
       "      <td>-0.006795</td>\n",
       "      <td>-0.027506</td>\n",
       "    </tr>\n",
       "    <tr>\n",
       "      <th>106</th>\n",
       "      <td>Airbus</td>\n",
       "      <td>261</td>\n",
       "      <td>-0.002624</td>\n",
       "      <td>0.262978</td>\n",
       "      <td>-0.179820</td>\n",
       "      <td>0.00000</td>\n",
       "      <td>0.162960</td>\n",
       "      <td>0.605420</td>\n",
       "      <td>-0.54918</td>\n",
       "      <td>0.021861</td>\n",
       "      <td>-0.000714</td>\n",
       "    </tr>\n",
       "    <tr>\n",
       "      <th>107</th>\n",
       "      <td>Allianz</td>\n",
       "      <td>195</td>\n",
       "      <td>-0.048640</td>\n",
       "      <td>0.281950</td>\n",
       "      <td>-0.290885</td>\n",
       "      <td>-0.06882</td>\n",
       "      <td>0.127410</td>\n",
       "      <td>0.565740</td>\n",
       "      <td>-0.58092</td>\n",
       "      <td>0.012064</td>\n",
       "      <td>-0.001565</td>\n",
       "    </tr>\n",
       "    <tr>\n",
       "      <th>108</th>\n",
       "      <td>Telefonica</td>\n",
       "      <td>115</td>\n",
       "      <td>0.088121</td>\n",
       "      <td>0.226507</td>\n",
       "      <td>-0.020130</td>\n",
       "      <td>0.07377</td>\n",
       "      <td>0.235167</td>\n",
       "      <td>0.622090</td>\n",
       "      <td>-0.56565</td>\n",
       "      <td>-0.026461</td>\n",
       "      <td>-0.036134</td>\n",
       "    </tr>\n",
       "    <tr>\n",
       "      <th>109</th>\n",
       "      <td>Samsung</td>\n",
       "      <td>634</td>\n",
       "      <td>0.096998</td>\n",
       "      <td>0.206897</td>\n",
       "      <td>0.000000</td>\n",
       "      <td>0.07874</td>\n",
       "      <td>0.233280</td>\n",
       "      <td>0.636900</td>\n",
       "      <td>-0.89410</td>\n",
       "      <td>-0.009068</td>\n",
       "      <td>0.002022</td>\n",
       "    </tr>\n",
       "  </tbody>\n",
       "</table>\n",
       "</div>"
      ],
      "text/plain": [
       "             ID  articleCount  avgSentiment  stdSentiment  \\\n",
       "105       Tesla           297      0.065692      0.231960   \n",
       "106      Airbus           261     -0.002624      0.262978   \n",
       "107     Allianz           195     -0.048640      0.281950   \n",
       "108  Telefonica           115      0.088121      0.226507   \n",
       "109     Samsung           634      0.096998      0.206897   \n",
       "\n",
       "     25quantileSentiment  50quantileSentiment  75quantileSentiment  \\\n",
       "105            -0.087833              0.05566             0.197360   \n",
       "106            -0.179820              0.00000             0.162960   \n",
       "107            -0.290885             -0.06882             0.127410   \n",
       "108            -0.020130              0.07377             0.235167   \n",
       "109             0.000000              0.07874             0.233280   \n",
       "\n",
       "     maxSentiment  minSentiment  Previous_Day_Return  Next_Day_Return  \n",
       "105      0.747933      -0.64050            -0.006795        -0.027506  \n",
       "106      0.605420      -0.54918             0.021861        -0.000714  \n",
       "107      0.565740      -0.58092             0.012064        -0.001565  \n",
       "108      0.622090      -0.56565            -0.026461        -0.036134  \n",
       "109      0.636900      -0.89410            -0.009068         0.002022  "
      ]
     },
     "execution_count": 3,
     "metadata": {},
     "output_type": "execute_result"
    }
   ],
   "source": [
    "# read in data\n",
    "df = pd.read_csv(\"../final_data/complete_data.csv\")\n",
    "df = df.drop(['Unnamed: 0', 'Timestamp'], 1)\n",
    "df.tail()"
   ]
  },
  {
   "cell_type": "code",
   "execution_count": 4,
   "metadata": {},
   "outputs": [
    {
     "data": {
      "text/plain": [
       "array(['BASF', 'Tesla', 'Google', 'Allianz', 'Airbus', 'Apple', 'Bayer',\n",
       "       'Telefonica', 'Samsung', 'BMW'], dtype=object)"
      ]
     },
     "execution_count": 4,
     "metadata": {},
     "output_type": "execute_result"
    }
   ],
   "source": [
    "companies = df.ID.unique()\n",
    "companies"
   ]
  },
  {
   "cell_type": "markdown",
   "metadata": {},
   "source": [
    "Preprocessing"
   ]
  },
  {
   "cell_type": "code",
   "execution_count": 6,
   "metadata": {},
   "outputs": [],
   "source": [
    "# define feature list \n",
    "features = ['articleCount', 'avgSentiment','stdSentiment',\n",
    "            '25quantileSentiment', '50quantileSentiment', '75quantileSentiment',\n",
    "            'maxSentiment', 'minSentiment', 'Previous_Day_Return']\n",
    "\n",
    "# define target variable \n",
    "target_var = ['Next_Day_Return']"
   ]
  },
  {
   "cell_type": "markdown",
   "metadata": {},
   "source": [
    "Samsung"
   ]
  },
  {
   "cell_type": "code",
   "execution_count": null,
   "metadata": {},
   "outputs": [],
   "source": []
  }
 ],
 "metadata": {
  "kernelspec": {
   "display_name": "Python 3",
   "language": "python",
   "name": "python3"
  },
  "language_info": {
   "codemirror_mode": {
    "name": "ipython",
    "version": 3
   },
   "file_extension": ".py",
   "mimetype": "text/x-python",
   "name": "python",
   "nbconvert_exporter": "python",
   "pygments_lexer": "ipython3",
   "version": "3.6.5"
  }
 },
 "nbformat": 4,
 "nbformat_minor": 2
}

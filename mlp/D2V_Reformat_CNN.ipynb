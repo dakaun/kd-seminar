{
 "cells": [
  {
   "cell_type": "code",
   "execution_count": 88,
   "metadata": {},
   "outputs": [],
   "source": [
    "import numpy as np\n",
    "import pandas as pd\n",
    "\n",
    "import matplotlib.pyplot as plt"
   ]
  },
  {
   "cell_type": "code",
   "execution_count": 89,
   "metadata": {},
   "outputs": [
    {
     "data": {
      "text/plain": [
       "'C:\\\\Users\\\\Nils\\\\Documents\\\\KIT-TVWL\\\\Master\\\\SS 18\\\\KD Seminar\\\\Git\\\\mlp'"
      ]
     },
     "execution_count": 89,
     "metadata": {},
     "output_type": "execute_result"
    }
   ],
   "source": [
    "import os\n",
    "wd = os.getcwd()\n",
    "wd"
   ]
  },
  {
   "cell_type": "markdown",
   "metadata": {},
   "source": [
    "**Read in financial Data**"
   ]
  },
  {
   "cell_type": "code",
   "execution_count": 90,
   "metadata": {},
   "outputs": [
    {
     "data": {
      "text/html": [
       "<div>\n",
       "<style scoped>\n",
       "    .dataframe tbody tr th:only-of-type {\n",
       "        vertical-align: middle;\n",
       "    }\n",
       "\n",
       "    .dataframe tbody tr th {\n",
       "        vertical-align: top;\n",
       "    }\n",
       "\n",
       "    .dataframe thead th {\n",
       "        text-align: right;\n",
       "    }\n",
       "</style>\n",
       "<table border=\"1\" class=\"dataframe\">\n",
       "  <thead>\n",
       "    <tr style=\"text-align: right;\">\n",
       "      <th></th>\n",
       "      <th>Samsung</th>\n",
       "      <th>Telefonica</th>\n",
       "      <th>Allianz</th>\n",
       "      <th>Total</th>\n",
       "      <th>Bayer</th>\n",
       "      <th>Tesla</th>\n",
       "      <th>Airbus</th>\n",
       "      <th>Apple</th>\n",
       "      <th>BASF</th>\n",
       "      <th>BMW</th>\n",
       "      <th>Google</th>\n",
       "    </tr>\n",
       "    <tr>\n",
       "      <th>Timestamp</th>\n",
       "      <th></th>\n",
       "      <th></th>\n",
       "      <th></th>\n",
       "      <th></th>\n",
       "      <th></th>\n",
       "      <th></th>\n",
       "      <th></th>\n",
       "      <th></th>\n",
       "      <th></th>\n",
       "      <th></th>\n",
       "      <th></th>\n",
       "    </tr>\n",
       "  </thead>\n",
       "  <tbody>\n",
       "    <tr>\n",
       "      <th>2010-06-29</th>\n",
       "      <td>0.022990</td>\n",
       "      <td>-0.031939</td>\n",
       "      <td>-0.005759</td>\n",
       "      <td>0.002937</td>\n",
       "      <td>-0.005449</td>\n",
       "      <td>0.002515</td>\n",
       "      <td>0.002350</td>\n",
       "      <td>0.018279</td>\n",
       "      <td>0.003982</td>\n",
       "      <td>-0.004127</td>\n",
       "      <td>0.026947</td>\n",
       "    </tr>\n",
       "    <tr>\n",
       "      <th>2010-06-30</th>\n",
       "      <td>0.010390</td>\n",
       "      <td>-0.023302</td>\n",
       "      <td>0.021987</td>\n",
       "      <td>-0.013874</td>\n",
       "      <td>0.009283</td>\n",
       "      <td>0.081723</td>\n",
       "      <td>0.051293</td>\n",
       "      <td>0.012200</td>\n",
       "      <td>0.027190</td>\n",
       "      <td>0.047668</td>\n",
       "      <td>0.019717</td>\n",
       "    </tr>\n",
       "    <tr>\n",
       "      <th>2010-07-01</th>\n",
       "      <td>-0.001305</td>\n",
       "      <td>-0.010501</td>\n",
       "      <td>-0.004610</td>\n",
       "      <td>0.011670</td>\n",
       "      <td>0.026683</td>\n",
       "      <td>0.134312</td>\n",
       "      <td>0.018751</td>\n",
       "      <td>0.006217</td>\n",
       "      <td>0.001368</td>\n",
       "      <td>0.008280</td>\n",
       "      <td>0.034667</td>\n",
       "    </tr>\n",
       "    <tr>\n",
       "      <th>2010-07-02</th>\n",
       "      <td>0.000000</td>\n",
       "      <td>0.009063</td>\n",
       "      <td>0.009995</td>\n",
       "      <td>-0.005852</td>\n",
       "      <td>0.001240</td>\n",
       "      <td>0.175470</td>\n",
       "      <td>-0.012851</td>\n",
       "      <td>-0.006820</td>\n",
       "      <td>0.011355</td>\n",
       "      <td>-0.005921</td>\n",
       "      <td>0.010506</td>\n",
       "    </tr>\n",
       "    <tr>\n",
       "      <th>2010-07-06</th>\n",
       "      <td>0.007772</td>\n",
       "      <td>-0.018515</td>\n",
       "      <td>-0.007211</td>\n",
       "      <td>-0.035820</td>\n",
       "      <td>-0.006629</td>\n",
       "      <td>0.019430</td>\n",
       "      <td>-0.023836</td>\n",
       "      <td>-0.039568</td>\n",
       "      <td>0.001796</td>\n",
       "      <td>-0.019048</td>\n",
       "      <td>0.002878</td>\n",
       "    </tr>\n",
       "  </tbody>\n",
       "</table>\n",
       "</div>"
      ],
      "text/plain": [
       "             Samsung  Telefonica   Allianz     Total     Bayer     Tesla  \\\n",
       "Timestamp                                                                  \n",
       "2010-06-29  0.022990   -0.031939 -0.005759  0.002937 -0.005449  0.002515   \n",
       "2010-06-30  0.010390   -0.023302  0.021987 -0.013874  0.009283  0.081723   \n",
       "2010-07-01 -0.001305   -0.010501 -0.004610  0.011670  0.026683  0.134312   \n",
       "2010-07-02  0.000000    0.009063  0.009995 -0.005852  0.001240  0.175470   \n",
       "2010-07-06  0.007772   -0.018515 -0.007211 -0.035820 -0.006629  0.019430   \n",
       "\n",
       "              Airbus     Apple      BASF       BMW    Google  \n",
       "Timestamp                                                     \n",
       "2010-06-29  0.002350  0.018279  0.003982 -0.004127  0.026947  \n",
       "2010-06-30  0.051293  0.012200  0.027190  0.047668  0.019717  \n",
       "2010-07-01  0.018751  0.006217  0.001368  0.008280  0.034667  \n",
       "2010-07-02 -0.012851 -0.006820  0.011355 -0.005921  0.010506  \n",
       "2010-07-06 -0.023836 -0.039568  0.001796 -0.019048  0.002878  "
      ]
     },
     "execution_count": 90,
     "metadata": {},
     "output_type": "execute_result"
    }
   ],
   "source": [
    "fin_data = pd.read_csv(\"../finance_data/data/aggregated_returns.csv\", index_col=[\"Timestamp\"], parse_dates=True)\n",
    "fin_data = fin_data.drop(columns=[\"Unnamed: 0\"])\n",
    "fin_data = fin_data.sort_index()\n",
    "fin_data.head()"
   ]
  },
  {
   "cell_type": "code",
   "execution_count": 91,
   "metadata": {},
   "outputs": [
    {
     "data": {
      "text/html": [
       "<div>\n",
       "<style scoped>\n",
       "    .dataframe tbody tr th:only-of-type {\n",
       "        vertical-align: middle;\n",
       "    }\n",
       "\n",
       "    .dataframe tbody tr th {\n",
       "        vertical-align: top;\n",
       "    }\n",
       "\n",
       "    .dataframe thead th {\n",
       "        text-align: right;\n",
       "    }\n",
       "</style>\n",
       "<table border=\"1\" class=\"dataframe\">\n",
       "  <thead>\n",
       "    <tr style=\"text-align: right;\">\n",
       "      <th></th>\n",
       "      <th>Samsung</th>\n",
       "      <th>Telefonica</th>\n",
       "      <th>Allianz</th>\n",
       "      <th>Total</th>\n",
       "      <th>Bayer</th>\n",
       "      <th>Tesla</th>\n",
       "      <th>Airbus</th>\n",
       "      <th>Apple</th>\n",
       "      <th>BASF</th>\n",
       "      <th>BMW</th>\n",
       "      <th>Google</th>\n",
       "    </tr>\n",
       "    <tr>\n",
       "      <th>Timestamp</th>\n",
       "      <th></th>\n",
       "      <th></th>\n",
       "      <th></th>\n",
       "      <th></th>\n",
       "      <th></th>\n",
       "      <th></th>\n",
       "      <th></th>\n",
       "      <th></th>\n",
       "      <th></th>\n",
       "      <th></th>\n",
       "      <th></th>\n",
       "    </tr>\n",
       "  </thead>\n",
       "  <tbody>\n",
       "    <tr>\n",
       "      <th>2010-06-29</th>\n",
       "      <td>0.010390</td>\n",
       "      <td>-0.023302</td>\n",
       "      <td>0.021987</td>\n",
       "      <td>-0.013874</td>\n",
       "      <td>0.009283</td>\n",
       "      <td>0.081723</td>\n",
       "      <td>0.051293</td>\n",
       "      <td>0.012200</td>\n",
       "      <td>0.027190</td>\n",
       "      <td>0.047668</td>\n",
       "      <td>0.019717</td>\n",
       "    </tr>\n",
       "    <tr>\n",
       "      <th>2010-06-30</th>\n",
       "      <td>-0.001305</td>\n",
       "      <td>-0.010501</td>\n",
       "      <td>-0.004610</td>\n",
       "      <td>0.011670</td>\n",
       "      <td>0.026683</td>\n",
       "      <td>0.134312</td>\n",
       "      <td>0.018751</td>\n",
       "      <td>0.006217</td>\n",
       "      <td>0.001368</td>\n",
       "      <td>0.008280</td>\n",
       "      <td>0.034667</td>\n",
       "    </tr>\n",
       "    <tr>\n",
       "      <th>2010-07-01</th>\n",
       "      <td>0.000000</td>\n",
       "      <td>0.009063</td>\n",
       "      <td>0.009995</td>\n",
       "      <td>-0.005852</td>\n",
       "      <td>0.001240</td>\n",
       "      <td>0.175470</td>\n",
       "      <td>-0.012851</td>\n",
       "      <td>-0.006820</td>\n",
       "      <td>0.011355</td>\n",
       "      <td>-0.005921</td>\n",
       "      <td>0.010506</td>\n",
       "    </tr>\n",
       "    <tr>\n",
       "      <th>2010-07-02</th>\n",
       "      <td>0.007772</td>\n",
       "      <td>-0.018515</td>\n",
       "      <td>-0.007211</td>\n",
       "      <td>-0.035820</td>\n",
       "      <td>-0.006629</td>\n",
       "      <td>0.019430</td>\n",
       "      <td>-0.023836</td>\n",
       "      <td>-0.039568</td>\n",
       "      <td>0.001796</td>\n",
       "      <td>-0.019048</td>\n",
       "      <td>0.002878</td>\n",
       "    </tr>\n",
       "  </tbody>\n",
       "</table>\n",
       "</div>"
      ],
      "text/plain": [
       "             Samsung  Telefonica   Allianz     Total     Bayer     Tesla  \\\n",
       "Timestamp                                                                  \n",
       "2010-06-29  0.010390   -0.023302  0.021987 -0.013874  0.009283  0.081723   \n",
       "2010-06-30 -0.001305   -0.010501 -0.004610  0.011670  0.026683  0.134312   \n",
       "2010-07-01  0.000000    0.009063  0.009995 -0.005852  0.001240  0.175470   \n",
       "2010-07-02  0.007772   -0.018515 -0.007211 -0.035820 -0.006629  0.019430   \n",
       "\n",
       "              Airbus     Apple      BASF       BMW    Google  \n",
       "Timestamp                                                     \n",
       "2010-06-29  0.051293  0.012200  0.027190  0.047668  0.019717  \n",
       "2010-06-30  0.018751  0.006217  0.001368  0.008280  0.034667  \n",
       "2010-07-01 -0.012851 -0.006820  0.011355 -0.005921  0.010506  \n",
       "2010-07-02 -0.023836 -0.039568  0.001796 -0.019048  0.002878  "
      ]
     },
     "execution_count": 91,
     "metadata": {},
     "output_type": "execute_result"
    }
   ],
   "source": [
    "fin_data.shift(-1)[0:4]"
   ]
  },
  {
   "cell_type": "code",
   "execution_count": 92,
   "metadata": {},
   "outputs": [],
   "source": [
    "fin_data_class = fin_data.applymap(lambda x: 0 if x < 0 else 1)\n",
    "fin_data_class = fin_data_class.shift(-1)"
   ]
  },
  {
   "cell_type": "code",
   "execution_count": 93,
   "metadata": {},
   "outputs": [
    {
     "data": {
      "text/html": [
       "<div>\n",
       "<style scoped>\n",
       "    .dataframe tbody tr th:only-of-type {\n",
       "        vertical-align: middle;\n",
       "    }\n",
       "\n",
       "    .dataframe tbody tr th {\n",
       "        vertical-align: top;\n",
       "    }\n",
       "\n",
       "    .dataframe thead th {\n",
       "        text-align: right;\n",
       "    }\n",
       "</style>\n",
       "<table border=\"1\" class=\"dataframe\">\n",
       "  <thead>\n",
       "    <tr style=\"text-align: right;\">\n",
       "      <th></th>\n",
       "      <th>Samsung</th>\n",
       "      <th>Telefonica</th>\n",
       "      <th>Allianz</th>\n",
       "      <th>Total</th>\n",
       "      <th>Bayer</th>\n",
       "      <th>Tesla</th>\n",
       "      <th>Airbus</th>\n",
       "      <th>Apple</th>\n",
       "      <th>BASF</th>\n",
       "      <th>BMW</th>\n",
       "      <th>Google</th>\n",
       "    </tr>\n",
       "    <tr>\n",
       "      <th>Timestamp</th>\n",
       "      <th></th>\n",
       "      <th></th>\n",
       "      <th></th>\n",
       "      <th></th>\n",
       "      <th></th>\n",
       "      <th></th>\n",
       "      <th></th>\n",
       "      <th></th>\n",
       "      <th></th>\n",
       "      <th></th>\n",
       "      <th></th>\n",
       "    </tr>\n",
       "  </thead>\n",
       "  <tbody>\n",
       "    <tr>\n",
       "      <th>2010-06-29</th>\n",
       "      <td>1.0</td>\n",
       "      <td>0.0</td>\n",
       "      <td>1.0</td>\n",
       "      <td>0.0</td>\n",
       "      <td>1.0</td>\n",
       "      <td>1.0</td>\n",
       "      <td>1.0</td>\n",
       "      <td>1.0</td>\n",
       "      <td>1.0</td>\n",
       "      <td>1.0</td>\n",
       "      <td>1.0</td>\n",
       "    </tr>\n",
       "    <tr>\n",
       "      <th>2010-06-30</th>\n",
       "      <td>0.0</td>\n",
       "      <td>0.0</td>\n",
       "      <td>0.0</td>\n",
       "      <td>1.0</td>\n",
       "      <td>1.0</td>\n",
       "      <td>1.0</td>\n",
       "      <td>1.0</td>\n",
       "      <td>1.0</td>\n",
       "      <td>1.0</td>\n",
       "      <td>1.0</td>\n",
       "      <td>1.0</td>\n",
       "    </tr>\n",
       "    <tr>\n",
       "      <th>2010-07-01</th>\n",
       "      <td>1.0</td>\n",
       "      <td>1.0</td>\n",
       "      <td>1.0</td>\n",
       "      <td>0.0</td>\n",
       "      <td>1.0</td>\n",
       "      <td>1.0</td>\n",
       "      <td>0.0</td>\n",
       "      <td>0.0</td>\n",
       "      <td>1.0</td>\n",
       "      <td>0.0</td>\n",
       "      <td>1.0</td>\n",
       "    </tr>\n",
       "    <tr>\n",
       "      <th>2010-07-02</th>\n",
       "      <td>1.0</td>\n",
       "      <td>0.0</td>\n",
       "      <td>0.0</td>\n",
       "      <td>0.0</td>\n",
       "      <td>0.0</td>\n",
       "      <td>1.0</td>\n",
       "      <td>0.0</td>\n",
       "      <td>0.0</td>\n",
       "      <td>1.0</td>\n",
       "      <td>0.0</td>\n",
       "      <td>1.0</td>\n",
       "    </tr>\n",
       "    <tr>\n",
       "      <th>2010-07-06</th>\n",
       "      <td>0.0</td>\n",
       "      <td>0.0</td>\n",
       "      <td>0.0</td>\n",
       "      <td>0.0</td>\n",
       "      <td>0.0</td>\n",
       "      <td>0.0</td>\n",
       "      <td>0.0</td>\n",
       "      <td>1.0</td>\n",
       "      <td>0.0</td>\n",
       "      <td>1.0</td>\n",
       "      <td>0.0</td>\n",
       "    </tr>\n",
       "  </tbody>\n",
       "</table>\n",
       "</div>"
      ],
      "text/plain": [
       "            Samsung  Telefonica  Allianz  Total  Bayer  Tesla  Airbus  Apple  \\\n",
       "Timestamp                                                                      \n",
       "2010-06-29      1.0         0.0      1.0    0.0    1.0    1.0     1.0    1.0   \n",
       "2010-06-30      0.0         0.0      0.0    1.0    1.0    1.0     1.0    1.0   \n",
       "2010-07-01      1.0         1.0      1.0    0.0    1.0    1.0     0.0    0.0   \n",
       "2010-07-02      1.0         0.0      0.0    0.0    0.0    1.0     0.0    0.0   \n",
       "2010-07-06      0.0         0.0      0.0    0.0    0.0    0.0     0.0    1.0   \n",
       "\n",
       "            BASF  BMW  Google  \n",
       "Timestamp                      \n",
       "2010-06-29   1.0  1.0     1.0  \n",
       "2010-06-30   1.0  1.0     1.0  \n",
       "2010-07-01   1.0  0.0     1.0  \n",
       "2010-07-02   1.0  0.0     1.0  \n",
       "2010-07-06   0.0  1.0     0.0  "
      ]
     },
     "execution_count": 93,
     "metadata": {},
     "output_type": "execute_result"
    }
   ],
   "source": [
    "fin_data_class.head()"
   ]
  },
  {
   "cell_type": "code",
   "execution_count": 94,
   "metadata": {},
   "outputs": [
    {
     "data": {
      "text/plain": [
       "{0: 10520,\n",
       " 1: 10259,\n",
       " '0_relative': 50.630000000000003,\n",
       " '1_relative': 49.369999999999997}"
      ]
     },
     "execution_count": 94,
     "metadata": {},
     "output_type": "execute_result"
    }
   ],
   "source": [
    "val_count = {0: 0, 1: 0}\n",
    "for idx, row in fin_data_class.iterrows():\n",
    "    tmp = row.value_counts()\n",
    "    if 0 in tmp:\n",
    "        val_count[0] = val_count[0]  + tmp[0]\n",
    "    if 1 in tmp:\n",
    "        val_count[1] = val_count[1]  + tmp[1]\n",
    "val_count[\"0_relative\"] = round((val_count[0] / (val_count[0] + val_count[1])) * 100, 2) \n",
    "val_count[\"1_relative\"] = round((val_count[1] / (val_count[0] + val_count[1])) * 100, 2) \n",
    "val_count"
   ]
  },
  {
   "cell_type": "markdown",
   "metadata": {},
   "source": [
    "**Read in training Data**"
   ]
  },
  {
   "cell_type": "code",
   "execution_count": 95,
   "metadata": {},
   "outputs": [],
   "source": [
    "path_to_data = \"../doc2vec/data/article_vectors_2015-11-25-2018-06-18.json\""
   ]
  },
  {
   "cell_type": "code",
   "execution_count": 96,
   "metadata": {},
   "outputs": [],
   "source": [
    "data = pd.read_json(path_to_data)"
   ]
  },
  {
   "cell_type": "code",
   "execution_count": 97,
   "metadata": {},
   "outputs": [],
   "source": [
    "data = data.applymap(lambda x: np.array(x))"
   ]
  },
  {
   "cell_type": "code",
   "execution_count": 98,
   "metadata": {},
   "outputs": [
    {
     "data": {
      "text/html": [
       "<div>\n",
       "<style scoped>\n",
       "    .dataframe tbody tr th:only-of-type {\n",
       "        vertical-align: middle;\n",
       "    }\n",
       "\n",
       "    .dataframe tbody tr th {\n",
       "        vertical-align: top;\n",
       "    }\n",
       "\n",
       "    .dataframe thead th {\n",
       "        text-align: right;\n",
       "    }\n",
       "</style>\n",
       "<table border=\"1\" class=\"dataframe\">\n",
       "  <thead>\n",
       "    <tr style=\"text-align: right;\">\n",
       "      <th></th>\n",
       "      <th>Samsung</th>\n",
       "      <th>BASF</th>\n",
       "      <th>Apple</th>\n",
       "      <th>Tesla</th>\n",
       "      <th>Airbus</th>\n",
       "      <th>Bayer</th>\n",
       "      <th>BMW</th>\n",
       "      <th>Telefonica</th>\n",
       "      <th>Google</th>\n",
       "      <th>Allianz</th>\n",
       "      <th>Total</th>\n",
       "    </tr>\n",
       "  </thead>\n",
       "  <tbody>\n",
       "    <tr>\n",
       "      <th>2015-11-25</th>\n",
       "      <td>[[-0.09097237885, -0.512056529522, 0.448597371...</td>\n",
       "      <td>[[-0.224870830774, -3.794226408, -1.9525440931...</td>\n",
       "      <td>[[-2.04224681854, -1.60448515415, 0.2704625129...</td>\n",
       "      <td>[[-2.1069715023, -1.426415205, 1.64306604862, ...</td>\n",
       "      <td>[[2.23846936226, 3.11426877975, 0.093617297709...</td>\n",
       "      <td>[[1.51722872257, 2.5938539505, -0.247232601047...</td>\n",
       "      <td>[[0.157938063145, 0.579978168011, 0.4118370115...</td>\n",
       "      <td>[[0.473003387451, 2.60217881203, -0.5277323126...</td>\n",
       "      <td>[[-0.520612180233, -0.675680935383, -0.3074057...</td>\n",
       "      <td>[[0.0183677487075, 1.12623000145, -0.909998118...</td>\n",
       "      <td>[[-2.72483801842, 0.991170525551, -2.009325027...</td>\n",
       "    </tr>\n",
       "    <tr>\n",
       "      <th>2015-11-26</th>\n",
       "      <td>[[3.81038761139, 0.261076569557, 0.50902235508...</td>\n",
       "      <td>[[-1.22998988628, 0.361293852329, -0.980951845...</td>\n",
       "      <td>[[-0.65575748682, -0.652606129646, -1.20090234...</td>\n",
       "      <td>[[2.21736645699, -0.283544570208, 0.7639598250...</td>\n",
       "      <td>[[1.23432075977, 0.239986360073, -0.5406541228...</td>\n",
       "      <td>[[0.239219143987, -1.13649022579, -0.161926895...</td>\n",
       "      <td>[[-1.17502439022, 0.608320355415, 0.2831627428...</td>\n",
       "      <td>[[0.459036916494, 2.74760985374, -0.9232062101...</td>\n",
       "      <td>[[-0.319721221924, -0.454306691885, -1.1206489...</td>\n",
       "      <td>[[-2.44475650787, 1.04553902149, -0.1332414597...</td>\n",
       "      <td>[[0.563275456429, -2.01511955261, 1.2207951545...</td>\n",
       "    </tr>\n",
       "  </tbody>\n",
       "</table>\n",
       "</div>"
      ],
      "text/plain": [
       "                                                      Samsung  \\\n",
       "2015-11-25  [[-0.09097237885, -0.512056529522, 0.448597371...   \n",
       "2015-11-26  [[3.81038761139, 0.261076569557, 0.50902235508...   \n",
       "\n",
       "                                                         BASF  \\\n",
       "2015-11-25  [[-0.224870830774, -3.794226408, -1.9525440931...   \n",
       "2015-11-26  [[-1.22998988628, 0.361293852329, -0.980951845...   \n",
       "\n",
       "                                                        Apple  \\\n",
       "2015-11-25  [[-2.04224681854, -1.60448515415, 0.2704625129...   \n",
       "2015-11-26  [[-0.65575748682, -0.652606129646, -1.20090234...   \n",
       "\n",
       "                                                        Tesla  \\\n",
       "2015-11-25  [[-2.1069715023, -1.426415205, 1.64306604862, ...   \n",
       "2015-11-26  [[2.21736645699, -0.283544570208, 0.7639598250...   \n",
       "\n",
       "                                                       Airbus  \\\n",
       "2015-11-25  [[2.23846936226, 3.11426877975, 0.093617297709...   \n",
       "2015-11-26  [[1.23432075977, 0.239986360073, -0.5406541228...   \n",
       "\n",
       "                                                        Bayer  \\\n",
       "2015-11-25  [[1.51722872257, 2.5938539505, -0.247232601047...   \n",
       "2015-11-26  [[0.239219143987, -1.13649022579, -0.161926895...   \n",
       "\n",
       "                                                          BMW  \\\n",
       "2015-11-25  [[0.157938063145, 0.579978168011, 0.4118370115...   \n",
       "2015-11-26  [[-1.17502439022, 0.608320355415, 0.2831627428...   \n",
       "\n",
       "                                                   Telefonica  \\\n",
       "2015-11-25  [[0.473003387451, 2.60217881203, -0.5277323126...   \n",
       "2015-11-26  [[0.459036916494, 2.74760985374, -0.9232062101...   \n",
       "\n",
       "                                                       Google  \\\n",
       "2015-11-25  [[-0.520612180233, -0.675680935383, -0.3074057...   \n",
       "2015-11-26  [[-0.319721221924, -0.454306691885, -1.1206489...   \n",
       "\n",
       "                                                      Allianz  \\\n",
       "2015-11-25  [[0.0183677487075, 1.12623000145, -0.909998118...   \n",
       "2015-11-26  [[-2.44475650787, 1.04553902149, -0.1332414597...   \n",
       "\n",
       "                                                        Total  \n",
       "2015-11-25  [[-2.72483801842, 0.991170525551, -2.009325027...  \n",
       "2015-11-26  [[0.563275456429, -2.01511955261, 1.2207951545...  "
      ]
     },
     "execution_count": 98,
     "metadata": {},
     "output_type": "execute_result"
    }
   ],
   "source": [
    "data.head(2)"
   ]
  },
  {
   "cell_type": "code",
   "execution_count": 99,
   "metadata": {},
   "outputs": [],
   "source": [
    "fin_data_dates = fin_data.index.date.tolist()\n",
    "data_dates = data.index.date.tolist()"
   ]
  },
  {
   "cell_type": "code",
   "execution_count": 100,
   "metadata": {},
   "outputs": [],
   "source": [
    "available_dates = list(set(fin_data_dates).intersection(data_dates))\n",
    "\n",
    "fin_data_class = fin_data_class[fin_data_class.index.isin(available_dates)]\n",
    "fin_data_train = fin_data[fin_data.index.isin(available_dates)]\n",
    "data = data[data.index.isin(available_dates)]"
   ]
  },
  {
   "cell_type": "code",
   "execution_count": 101,
   "metadata": {},
   "outputs": [
    {
     "data": {
      "text/plain": [
       "{0: 3313,\n",
       " 1: 3188,\n",
       " '0_relative': 50.960000000000001,\n",
       " '1_relative': 49.039999999999999}"
      ]
     },
     "execution_count": 101,
     "metadata": {},
     "output_type": "execute_result"
    }
   ],
   "source": [
    "val_count = {0: 0, 1: 0}\n",
    "for idx, row in fin_data_class.iterrows():\n",
    "    tmp = row.value_counts()\n",
    "    if 0 in tmp:\n",
    "        val_count[0] = val_count[0]  + tmp[0]\n",
    "    if 1 in tmp:\n",
    "        val_count[1] = val_count[1]  + tmp[1]\n",
    "val_count[\"0_relative\"] = round((val_count[0] / (val_count[0] + val_count[1])) * 100, 2) \n",
    "val_count[\"1_relative\"] = round((val_count[1] / (val_count[0] + val_count[1])) * 100, 2) \n",
    "val_count"
   ]
  },
  {
   "cell_type": "code",
   "execution_count": 102,
   "metadata": {},
   "outputs": [
    {
     "data": {
      "text/plain": [
       "591"
      ]
     },
     "execution_count": 102,
     "metadata": {},
     "output_type": "execute_result"
    }
   ],
   "source": [
    "len(available_dates)"
   ]
  },
  {
   "cell_type": "code",
   "execution_count": 103,
   "metadata": {},
   "outputs": [
    {
     "data": {
      "text/plain": [
       "(591, 11)"
      ]
     },
     "execution_count": 103,
     "metadata": {},
     "output_type": "execute_result"
    }
   ],
   "source": [
    "fin_data_train_vals = fin_data_train.values#.reshape(fin_data_train.shape[0], 1, fin_data_train.shape[1])\n",
    "fin_data_train_vals.shape"
   ]
  },
  {
   "cell_type": "code",
   "execution_count": 104,
   "metadata": {},
   "outputs": [
    {
     "data": {
      "text/plain": [
       "(591, 11)"
      ]
     },
     "execution_count": 104,
     "metadata": {},
     "output_type": "execute_result"
    }
   ],
   "source": [
    "data.shape"
   ]
  },
  {
   "cell_type": "code",
   "execution_count": 105,
   "metadata": {},
   "outputs": [],
   "source": [
    "X = []"
   ]
  },
  {
   "cell_type": "code",
   "execution_count": 106,
   "metadata": {},
   "outputs": [],
   "source": [
    "for idx, row in data.iterrows():\n",
    "    #print(idx.date())\n",
    "    tmp = data.loc[idx].values\n",
    "\n",
    "    tmp_data = []\n",
    "    for i,r in enumerate(tmp):\n",
    "        #print(type(r))\n",
    "        #print(type(r))\n",
    "        if hasattr(r, 'shape') and r.shape[0] :\n",
    "            #print(type(r))\n",
    "            #print(\"HEY\")\n",
    "            r = np.array(r)\n",
    "            #if r.shape[0] != 50:\n",
    "            #    print(r.shape)\n",
    "            p = 50-r.shape[0]\n",
    "            r = np.pad(r, ((0,p),(0,0)), \"constant\")\n",
    "            #print(r)\n",
    "        else:\n",
    "            r = np.zeros((50,100))\n",
    "        tmp_data.append(r)\n",
    "    tmp_data = np.array(tmp_data)\n",
    "    tmp_data = tmp_data.reshape((50,100,11))\n",
    "    #print(tmp_data)\n",
    "    X.append(tmp_data)\n",
    "    #data_dict[idx.date()] = tmp\n",
    "    "
   ]
  },
  {
   "cell_type": "code",
   "execution_count": 107,
   "metadata": {},
   "outputs": [
    {
     "data": {
      "text/plain": [
       "(591, 50, 100, 11)"
      ]
     },
     "execution_count": 107,
     "metadata": {},
     "output_type": "execute_result"
    }
   ],
   "source": [
    "#X = np.array(final_d)\n",
    "X = np.array(X)\n",
    "X.shape"
   ]
  },
  {
   "cell_type": "code",
   "execution_count": 108,
   "metadata": {},
   "outputs": [
    {
     "data": {
      "text/plain": [
       "array([ 2.0892725 ,  0.97919261,  0.14960267,  2.48351407,  1.98693359,\n",
       "       -1.00085127, -0.74369341,  0.18027529,  0.73361021, -2.4204545 ,\n",
       "        1.3043679 ])"
      ]
     },
     "execution_count": 108,
     "metadata": {},
     "output_type": "execute_result"
    }
   ],
   "source": [
    "X[30][0][0]"
   ]
  },
  {
   "cell_type": "code",
   "execution_count": 109,
   "metadata": {},
   "outputs": [
    {
     "data": {
      "text/plain": [
       "(591, 50, 100, 11)"
      ]
     },
     "execution_count": 109,
     "metadata": {},
     "output_type": "execute_result"
    }
   ],
   "source": [
    "X_flipped = np.flipud(X)\n",
    "X_flipped.shape"
   ]
  },
  {
   "cell_type": "code",
   "execution_count": 110,
   "metadata": {},
   "outputs": [
    {
     "data": {
      "text/plain": [
       "(1182, 50, 100, 11)"
      ]
     },
     "execution_count": 110,
     "metadata": {},
     "output_type": "execute_result"
    }
   ],
   "source": [
    "X_augmented = np.concatenate((X, X_flipped))\n",
    "X_augmented.shape"
   ]
  },
  {
   "cell_type": "code",
   "execution_count": 111,
   "metadata": {},
   "outputs": [
    {
     "data": {
      "text/plain": [
       "(1182, 11)"
      ]
     },
     "execution_count": 111,
     "metadata": {},
     "output_type": "execute_result"
    }
   ],
   "source": [
    "Y = fin_data_class.values\n",
    "Y_augmented = np.concatenate((Y, Y.copy()))\n",
    "Y_augmented.shape"
   ]
  },
  {
   "cell_type": "code",
   "execution_count": 115,
   "metadata": {},
   "outputs": [
    {
     "data": {
      "text/plain": [
       "(1182, 11)"
      ]
     },
     "execution_count": 115,
     "metadata": {},
     "output_type": "execute_result"
    }
   ],
   "source": [
    "fin_data_train_vals_augmented = np.concatenate((fin_data_train_vals, fin_data_train.copy()))\n",
    "fin_data_train_vals_augmented.shape"
   ]
  },
  {
   "cell_type": "markdown",
   "metadata": {},
   "source": [
    "**CNN**"
   ]
  },
  {
   "cell_type": "code",
   "execution_count": 125,
   "metadata": {},
   "outputs": [],
   "source": [
    "from sklearn.model_selection import train_test_split\n",
    "\n",
    "from keras import backend as K\n",
    "import keras\n",
    "\n",
    "from keras.models import Sequential\n",
    "from keras.layers import Dense, Dropout, Activation, Flatten, BatchNormalization, GaussianNoise, GaussianDropout\n",
    "from keras.layers import Conv1D, Conv2D, MaxPooling2D, AveragePooling2D, GlobalMaxPooling2D, GlobalMaxPooling3D\n",
    "\n",
    "from keras.initializers import RandomNormal\n",
    "\n",
    "from keras import regularizers\n",
    "\n",
    "from collections import Counter"
   ]
  },
  {
   "cell_type": "code",
   "execution_count": 126,
   "metadata": {},
   "outputs": [],
   "source": [
    "def precision(y_true, y_pred):\n",
    "    true_positives = K.sum(K.round(K.clip(y_true * y_pred, 0, 1)))\n",
    "    predicted_positives = K.sum(K.round(K.clip(y_pred, 0, 1)))\n",
    "    precision = true_positives / (predicted_positives + K.epsilon())\n",
    "    return precision\n",
    "\n",
    "\n",
    "def recall(y_true, y_pred):\n",
    "    true_positives = K.sum(K.round(K.clip(y_true * y_pred, 0, 1)))\n",
    "    possible_positives = K.sum(K.round(K.clip(y_true, 0, 1)))\n",
    "    recall = true_positives / (possible_positives + K.epsilon())\n",
    "    return recall\n",
    "\n",
    "\n",
    "def f1(y_true, y_pred):\n",
    "    def recall(y_true, y_pred):\n",
    "        true_positives = K.sum(K.round(K.clip(y_true * y_pred, 0, 1)))\n",
    "        possible_positives = K.sum(K.round(K.clip(y_true, 0, 1)))\n",
    "        recall = true_positives / (possible_positives + K.epsilon())\n",
    "        return recall\n",
    "\n",
    "    def precision(y_true, y_pred):\n",
    "        true_positives = K.sum(K.round(K.clip(y_true * y_pred, 0, 1)))\n",
    "        predicted_positives = K.sum(K.round(K.clip(y_pred, 0, 1)))\n",
    "        precision = true_positives / (predicted_positives + K.epsilon())\n",
    "        return precision\n",
    "\n",
    "    precision = precision(y_true, y_pred)\n",
    "    recall = recall(y_true, y_pred)\n",
    "    return 2 * ((precision * recall) / (precision + recall + K.epsilon()))\n"
   ]
  },
  {
   "cell_type": "code",
   "execution_count": 116,
   "metadata": {},
   "outputs": [],
   "source": [
    "x_train, x_val, x_ret_train, x_ret_val, y_train, y_val = train_test_split(X, fin_data_train_vals, Y, \n",
    "                                                  test_size=0.4, random_state=58)\n",
    "\n",
    "x_train_aug, x_val_aug, x_ret_train_aug, x_ret_val_aug, y_train_aug, y_val_aug = train_test_split(X_augmented, fin_data_train_vals_augmented, Y_augmented, test_size=0.4, random_state=58)"
   ]
  },
  {
   "cell_type": "code",
   "execution_count": 127,
   "metadata": {},
   "outputs": [
    {
     "data": {
      "text/plain": [
       "{0: 1957, 1: 1937, '0_relative': 50.26, '1_relative': 49.74}"
      ]
     },
     "execution_count": 127,
     "metadata": {},
     "output_type": "execute_result"
    }
   ],
   "source": [
    "val_count = {0: 0, 1: 0}\n",
    "\n",
    "for y in y_train:\n",
    "    tmp = Counter(y)\n",
    "    #print(tmp)\n",
    "    if 0 in tmp:\n",
    "        val_count[0] = val_count[0]  + tmp[0]\n",
    "    if 1 in tmp:\n",
    "        val_count[1] = val_count[1]  + tmp[1]\n",
    "val_count[\"0_relative\"] = round((val_count[0] / (val_count[0] + val_count[1])) * 100, 2) \n",
    "val_count[\"1_relative\"] = round((val_count[1] / (val_count[0] + val_count[1])) * 100, 2) \n",
    "val_count"
   ]
  },
  {
   "cell_type": "code",
   "execution_count": 128,
   "metadata": {},
   "outputs": [
    {
     "data": {
      "text/plain": [
       "(354, 50, 100, 11)"
      ]
     },
     "execution_count": 128,
     "metadata": {},
     "output_type": "execute_result"
    }
   ],
   "source": [
    "x_train.shape"
   ]
  },
  {
   "cell_type": "code",
   "execution_count": 129,
   "metadata": {},
   "outputs": [],
   "source": [
    "num_classes=11\n",
    "num_filters= 100\n",
    "filter_sizes = [3,4,5]\n",
    "embedding_dim = x_train.shape[2]\n",
    "sequence_length = x_train.shape[1] "
   ]
  },
  {
   "cell_type": "code",
   "execution_count": 130,
   "metadata": {},
   "outputs": [
    {
     "data": {
      "text/plain": [
       "50"
      ]
     },
     "execution_count": 130,
     "metadata": {},
     "output_type": "execute_result"
    }
   ],
   "source": [
    "sequence_length"
   ]
  },
  {
   "cell_type": "code",
   "execution_count": 131,
   "metadata": {},
   "outputs": [],
   "source": [
    "def custom_tanh(x):\n",
    "    return (K.tanh((2/3)*x) * 1.5)#1.7159) #(2/3)\n",
    "\n",
    "def custom_sigmoid(x):\n",
    "    return (K.sigmoid((3/4) * x) )#* 1.7159)"
   ]
  },
  {
   "cell_type": "code",
   "execution_count": 178,
   "metadata": {},
   "outputs": [],
   "source": [
    "def make_first_model():\n",
    "    model = Sequential()\n",
    "    model.add(GaussianNoise(stddev=1,input_shape=x_train.shape[1:]))\n",
    "    model.add(Conv2D(num_filters, kernel_size=(filter_sizes[0], embedding_dim), padding='valid',input_shape=x_train.shape[1:], \n",
    "                     data_format=\"channels_last\", activation=\"relu\", kernel_regularizer=regularizers.l1(0.01),\n",
    "                     kernel_initializer=RandomNormal())) #relu\n",
    "    #, kernel_regularizer=regularizers.l2(0.01)\n",
    "    #model.add(Conv2D(num_filters, kernel_size=(filter_sizes[1], embedding_dim), padding='same', activation=\"relu\"))\n",
    "\n",
    "    model.add(BatchNormalization(axis=3))\n",
    "    model.add(GaussianDropout(0.4))\n",
    "    model.add(MaxPooling2D(pool_size=(sequence_length - filter_sizes[0] + 1, 1), strides=(1,1))) #data_format=\"channels_last\"\n",
    "    #model.add(AveragePooling2D(pool_size=(sequence_length - filter_sizes[0] + 1, 1), strides=(1,1))) \n",
    "    #model.add(GlobalMaxPooling3D(data_format=\"channels_last\"))\n",
    "    model.add(BatchNormalization(axis=3))\n",
    "    #model.add(Conv2D(num_filters, kernel_size=(1,embedding_dim), strides=(1,1), activation=\"relu\"))\n",
    "    #model.add(MaxPooling2D(pool_size=(sequence_length - filter_sizes[1] + 1, 1), strides=(1,1)))\n",
    "    #model.add(Activation('relu'))\n",
    "    #model.add(BatchNormalization())\n",
    "    model.add(Dropout(0.5))\n",
    "    #model.add(GaussianNoise(stddev=3))\n",
    "\n",
    "    #model.add(MaxPooling2D(pool_size=(2, 2)))\n",
    "    #model.add(Dropout(0.25))\n",
    "\n",
    "    model.add(Flatten())\n",
    "    model.add(Dense(512, activation=\"relu\")) #custom_tanh \"relu\" custom_tanh\n",
    "    #model.add(Activation('relu'))\n",
    "    model.add(GaussianDropout(0.5))\n",
    "    #model.add(Dense(512, activation=\"relu\"))\n",
    "    #model.add(Dense(512, activation=\"relu\"))\n",
    "    model.add(Dense(num_classes, activation=\"sigmoid\")) #\"sigmoid\"  custom_sigmoid \n",
    "    \n",
    "    adam_opt = keras.optimizers.adam(lr=0.0001, beta_1=0.9, beta_2=0.999, epsilon=1e-8, decay=0.0)\n",
    "\n",
    "    model.compile(loss='binary_crossentropy', \n",
    "              optimizer=adam_opt,#opt,\"Adam\"\n",
    "              metrics=['binary_accuracy', f1, precision, recall]) #'binary_accuracy',\n",
    "    \n",
    "    return model"
   ]
  },
  {
   "cell_type": "code",
   "execution_count": 179,
   "metadata": {},
   "outputs": [
    {
     "name": "stdout",
     "output_type": "stream",
     "text": [
      "_________________________________________________________________\n",
      "Layer (type)                 Output Shape              Param #   \n",
      "=================================================================\n",
      "gaussian_noise_14 (GaussianN (None, 50, 100, 11)       0         \n",
      "_________________________________________________________________\n",
      "conv2d_14 (Conv2D)           (None, 48, 1, 100)        330100    \n",
      "_________________________________________________________________\n",
      "batch_normalization_25 (Batc (None, 48, 1, 100)        400       \n",
      "_________________________________________________________________\n",
      "max_pooling2d_4 (MaxPooling2 (None, 1, 1, 100)         0         \n",
      "_________________________________________________________________\n",
      "batch_normalization_26 (Batc (None, 1, 1, 100)         400       \n",
      "_________________________________________________________________\n",
      "dropout_17 (Dropout)         (None, 1, 1, 100)         0         \n",
      "_________________________________________________________________\n",
      "flatten_12 (Flatten)         (None, 100)               0         \n",
      "_________________________________________________________________\n",
      "dense_19 (Dense)             (None, 512)               51712     \n",
      "_________________________________________________________________\n",
      "gaussian_dropout_7 (Gaussian (None, 512)               0         \n",
      "_________________________________________________________________\n",
      "dense_20 (Dense)             (None, 11)                5643      \n",
      "=================================================================\n",
      "Total params: 388,255\n",
      "Trainable params: 387,855\n",
      "Non-trainable params: 400\n",
      "_________________________________________________________________\n"
     ]
    }
   ],
   "source": [
    "first_model = make_first_model()\n",
    "first_model.summary()"
   ]
  },
  {
   "cell_type": "code",
   "execution_count": 180,
   "metadata": {},
   "outputs": [
    {
     "name": "stdout",
     "output_type": "stream",
     "text": [
      "Train on 709 samples, validate on 473 samples\n",
      "Epoch 1/100\n",
      " - 9s - loss: 19.5815 - binary_accuracy: 0.4988 - f1: 0.4947 - precision: 0.4833 - recall: 0.5181 - val_loss: 16.3693 - val_binary_accuracy: 0.5095 - val_f1: 0.5543 - val_precision: 0.5078 - val_recall: 0.6222\n",
      "Epoch 2/100\n",
      " - 7s - loss: 14.0603 - binary_accuracy: 0.5024 - f1: 0.4887 - precision: 0.4858 - recall: 0.4995 - val_loss: 11.7837 - val_binary_accuracy: 0.5084 - val_f1: 0.5291 - val_precision: 0.5083 - val_recall: 0.5631\n",
      "Epoch 3/100\n",
      " - 6s - loss: 10.0991 - binary_accuracy: 0.5221 - f1: 0.5061 - precision: 0.5094 - recall: 0.5157 - val_loss: 8.5766 - val_binary_accuracy: 0.5184 - val_f1: 0.5142 - val_precision: 0.5182 - val_recall: 0.5201\n",
      "Epoch 4/100\n",
      " - 7s - loss: 7.4000 - binary_accuracy: 0.5401 - f1: 0.5156 - precision: 0.5240 - recall: 0.5157 - val_loss: 6.4196 - val_binary_accuracy: 0.5159 - val_f1: 0.5236 - val_precision: 0.5155 - val_recall: 0.5426\n",
      "Epoch 5/100\n",
      " - 7s - loss: 5.6678 - binary_accuracy: 0.5379 - f1: 0.5104 - precision: 0.5220 - recall: 0.5060 - val_loss: 5.0905 - val_binary_accuracy: 0.5109 - val_f1: 0.4892 - val_precision: 0.5137 - val_recall: 0.4773\n",
      "Epoch 6/100\n",
      " - 6s - loss: 4.6425 - binary_accuracy: 0.5414 - f1: 0.5148 - precision: 0.5275 - recall: 0.5105 - val_loss: 4.3053 - val_binary_accuracy: 0.5207 - val_f1: 0.4840 - val_precision: 0.5245 - val_recall: 0.4587\n",
      "Epoch 7/100\n",
      " - 7s - loss: 4.0478 - binary_accuracy: 0.5514 - f1: 0.5276 - precision: 0.5370 - recall: 0.5264 - val_loss: 3.8778 - val_binary_accuracy: 0.5143 - val_f1: 0.4793 - val_precision: 0.5182 - val_recall: 0.4566\n",
      "Epoch 8/100\n",
      " - 7s - loss: 3.7376 - binary_accuracy: 0.5433 - f1: 0.5167 - precision: 0.5289 - recall: 0.5144 - val_loss: 3.6405 - val_binary_accuracy: 0.5061 - val_f1: 0.5437 - val_precision: 0.5046 - val_recall: 0.6014\n",
      "Epoch 9/100\n",
      " - 8s - loss: 3.5320 - binary_accuracy: 0.5647 - f1: 0.5328 - precision: 0.5546 - recall: 0.5217 - val_loss: 3.4920 - val_binary_accuracy: 0.5118 - val_f1: 0.5105 - val_precision: 0.5124 - val_recall: 0.5206\n",
      "Epoch 10/100\n",
      " - 7s - loss: 3.4028 - binary_accuracy: 0.5493 - f1: 0.5294 - precision: 0.5347 - recall: 0.5331 - val_loss: 3.3302 - val_binary_accuracy: 0.5061 - val_f1: 0.4729 - val_precision: 0.5106 - val_recall: 0.4535\n",
      "Epoch 11/100\n",
      " - 7s - loss: 3.3045 - binary_accuracy: 0.5594 - f1: 0.5388 - precision: 0.5451 - recall: 0.5414 - val_loss: 3.3306 - val_binary_accuracy: 0.5220 - val_f1: 0.4981 - val_precision: 0.5228 - val_recall: 0.4850\n",
      "Epoch 12/100\n",
      " - 6s - loss: 3.2819 - binary_accuracy: 0.5556 - f1: 0.5301 - precision: 0.5414 - recall: 0.5286 - val_loss: 3.2626 - val_binary_accuracy: 0.5257 - val_f1: 0.5000 - val_precision: 0.5292 - val_recall: 0.4862\n",
      "Epoch 13/100\n",
      " - 7s - loss: 3.2394 - binary_accuracy: 0.5625 - f1: 0.5316 - precision: 0.5510 - recall: 0.5249 - val_loss: 3.2304 - val_binary_accuracy: 0.5097 - val_f1: 0.5451 - val_precision: 0.5099 - val_recall: 0.6017\n",
      "Epoch 14/100\n",
      " - 8s - loss: 3.1820 - binary_accuracy: 0.5574 - f1: 0.5362 - precision: 0.5446 - recall: 0.5388 - val_loss: 3.1514 - val_binary_accuracy: 0.5160 - val_f1: 0.4971 - val_precision: 0.5214 - val_recall: 0.4891\n",
      "Epoch 15/100\n",
      " - 7s - loss: 3.1520 - binary_accuracy: 0.5564 - f1: 0.5280 - precision: 0.5431 - recall: 0.5227 - val_loss: 3.1554 - val_binary_accuracy: 0.5157 - val_f1: 0.5567 - val_precision: 0.5146 - val_recall: 0.6235\n",
      "Epoch 16/100\n",
      " - 7s - loss: 3.1386 - binary_accuracy: 0.5506 - f1: 0.5203 - precision: 0.5396 - recall: 0.5129 - val_loss: 3.1063 - val_binary_accuracy: 0.5243 - val_f1: 0.5065 - val_precision: 0.5258 - val_recall: 0.4995\n",
      "Epoch 17/100\n",
      " - 7s - loss: 3.0751 - binary_accuracy: 0.5721 - f1: 0.5459 - precision: 0.5605 - recall: 0.5411 - val_loss: 3.0889 - val_binary_accuracy: 0.5155 - val_f1: 0.5176 - val_precision: 0.5157 - val_recall: 0.5350\n",
      "Epoch 18/100\n",
      " - 7s - loss: 3.0312 - binary_accuracy: 0.5761 - f1: 0.5490 - precision: 0.5635 - recall: 0.5443 - val_loss: 3.0405 - val_binary_accuracy: 0.5272 - val_f1: 0.4939 - val_precision: 0.5328 - val_recall: 0.4730\n",
      "Epoch 19/100\n",
      " - 7s - loss: 2.9981 - binary_accuracy: 0.5721 - f1: 0.5441 - precision: 0.5620 - recall: 0.5385 - val_loss: 3.0178 - val_binary_accuracy: 0.5278 - val_f1: 0.4628 - val_precision: 0.5412 - val_recall: 0.4200\n",
      "Epoch 20/100\n",
      " - 8s - loss: 2.9697 - binary_accuracy: 0.5674 - f1: 0.5348 - precision: 0.5583 - recall: 0.5254 - val_loss: 3.0165 - val_binary_accuracy: 0.5228 - val_f1: 0.5030 - val_precision: 0.5262 - val_recall: 0.4989\n",
      "Epoch 21/100\n",
      " - 7s - loss: 2.9823 - binary_accuracy: 0.5719 - f1: 0.5529 - precision: 0.5595 - recall: 0.5565 - val_loss: 3.0190 - val_binary_accuracy: 0.5249 - val_f1: 0.5280 - val_precision: 0.5254 - val_recall: 0.5446\n",
      "Epoch 22/100\n",
      " - 8s - loss: 2.9896 - binary_accuracy: 0.5703 - f1: 0.5471 - precision: 0.5579 - recall: 0.5477 - val_loss: 3.0213 - val_binary_accuracy: 0.5172 - val_f1: 0.5371 - val_precision: 0.5163 - val_recall: 0.5783\n",
      "Epoch 23/100\n",
      " - 7s - loss: 2.9855 - binary_accuracy: 0.5798 - f1: 0.5557 - precision: 0.5697 - recall: 0.5539 - val_loss: 3.0189 - val_binary_accuracy: 0.5126 - val_f1: 0.4314 - val_precision: 0.5219 - val_recall: 0.3844\n",
      "Epoch 24/100\n",
      " - 7s - loss: 2.9639 - binary_accuracy: 0.5756 - f1: 0.5537 - precision: 0.5646 - recall: 0.5607 - val_loss: 3.0009 - val_binary_accuracy: 0.5232 - val_f1: 0.4711 - val_precision: 0.5286 - val_recall: 0.4373\n",
      "Epoch 25/100\n",
      " - 7s - loss: 2.9335 - binary_accuracy: 0.5843 - f1: 0.5524 - precision: 0.5762 - recall: 0.5409 - val_loss: 2.9401 - val_binary_accuracy: 0.5020 - val_f1: 0.5280 - val_precision: 0.5034 - val_recall: 0.5715\n",
      "Epoch 26/100\n",
      " - 7s - loss: 2.9347 - binary_accuracy: 0.5729 - f1: 0.5479 - precision: 0.5618 - recall: 0.5463 - val_loss: 2.9863 - val_binary_accuracy: 0.5093 - val_f1: 0.5972 - val_precision: 0.5069 - val_recall: 0.7476\n",
      "Epoch 27/100\n",
      " - 8s - loss: 2.9364 - binary_accuracy: 0.5771 - f1: 0.5508 - precision: 0.5667 - recall: 0.5444 - val_loss: 2.9568 - val_binary_accuracy: 0.5203 - val_f1: 0.5495 - val_precision: 0.5192 - val_recall: 0.6019\n",
      "Epoch 28/100\n",
      " - 8s - loss: 2.9437 - binary_accuracy: 0.5751 - f1: 0.5516 - precision: 0.5635 - recall: 0.5489 - val_loss: 2.9646 - val_binary_accuracy: 0.5170 - val_f1: 0.4528 - val_precision: 0.5242 - val_recall: 0.4122\n",
      "Epoch 29/100\n",
      " - 7s - loss: 2.8983 - binary_accuracy: 0.5805 - f1: 0.5584 - precision: 0.5687 - recall: 0.5607 - val_loss: 2.9412 - val_binary_accuracy: 0.5257 - val_f1: 0.4527 - val_precision: 0.5393 - val_recall: 0.4043\n",
      "Epoch 30/100\n",
      " - 9s - loss: 2.8713 - binary_accuracy: 0.5852 - f1: 0.5532 - precision: 0.5784 - recall: 0.5411 - val_loss: 2.9436 - val_binary_accuracy: 0.5234 - val_f1: 0.5107 - val_precision: 0.5261 - val_recall: 0.5126\n",
      "Epoch 31/100\n",
      " - 10s - loss: 2.9019 - binary_accuracy: 0.5753 - f1: 0.5527 - precision: 0.5644 - recall: 0.5526 - val_loss: 2.9323 - val_binary_accuracy: 0.5266 - val_f1: 0.5187 - val_precision: 0.5254 - val_recall: 0.5292\n",
      "Epoch 32/100\n",
      " - 8s - loss: 2.8843 - binary_accuracy: 0.5779 - f1: 0.5476 - precision: 0.5696 - recall: 0.5386 - val_loss: 2.9215 - val_binary_accuracy: 0.5255 - val_f1: 0.5351 - val_precision: 0.5267 - val_recall: 0.5606\n",
      "Epoch 33/100\n",
      " - 7s - loss: 2.9057 - binary_accuracy: 0.5797 - f1: 0.5556 - precision: 0.5707 - recall: 0.5558 - val_loss: 2.9414 - val_binary_accuracy: 0.5226 - val_f1: 0.4914 - val_precision: 0.5277 - val_recall: 0.4756\n",
      "Epoch 34/100\n",
      " - 6s - loss: 2.8642 - binary_accuracy: 0.5796 - f1: 0.5555 - precision: 0.5695 - recall: 0.5545 - val_loss: 2.9070 - val_binary_accuracy: 0.5091 - val_f1: 0.3865 - val_precision: 0.5151 - val_recall: 0.3231\n",
      "Epoch 35/100\n",
      " - 8s - loss: 2.8432 - binary_accuracy: 0.5857 - f1: 0.5571 - precision: 0.5753 - recall: 0.5506 - val_loss: 2.8582 - val_binary_accuracy: 0.5259 - val_f1: 0.5389 - val_precision: 0.5272 - val_recall: 0.5720\n",
      "Epoch 36/100\n",
      " - 7s - loss: 2.8290 - binary_accuracy: 0.5852 - f1: 0.5596 - precision: 0.5768 - recall: 0.5565 - val_loss: 2.9164 - val_binary_accuracy: 0.5149 - val_f1: 0.4450 - val_precision: 0.5291 - val_recall: 0.4030\n",
      "Epoch 37/100\n",
      " - 8s - loss: 2.8348 - binary_accuracy: 0.5947 - f1: 0.5695 - precision: 0.5850 - recall: 0.5633 - val_loss: 2.8883 - val_binary_accuracy: 0.5247 - val_f1: 0.4635 - val_precision: 0.5428 - val_recall: 0.4250\n",
      "Epoch 38/100\n",
      " - 7s - loss: 2.8194 - binary_accuracy: 0.5925 - f1: 0.5659 - precision: 0.5829 - recall: 0.5588 - val_loss: 2.8820 - val_binary_accuracy: 0.5239 - val_f1: 0.2976 - val_precision: 0.5636 - val_recall: 0.2141\n",
      "Epoch 39/100\n",
      " - 9s - loss: 2.8146 - binary_accuracy: 0.5902 - f1: 0.5632 - precision: 0.5804 - recall: 0.5555 - val_loss: 2.8790 - val_binary_accuracy: 0.5189 - val_f1: 0.4931 - val_precision: 0.5231 - val_recall: 0.4834\n",
      "Epoch 40/100\n",
      " - 8s - loss: 2.8060 - binary_accuracy: 0.5917 - f1: 0.5695 - precision: 0.5823 - recall: 0.5693 - val_loss: 2.8553 - val_binary_accuracy: 0.5170 - val_f1: 0.4953 - val_precision: 0.5217 - val_recall: 0.4884\n",
      "Epoch 41/100\n",
      " - 7s - loss: 2.8150 - binary_accuracy: 0.5906 - f1: 0.5665 - precision: 0.5797 - recall: 0.5651 - val_loss: 2.8681 - val_binary_accuracy: 0.5159 - val_f1: 0.5015 - val_precision: 0.5181 - val_recall: 0.5033\n",
      "Epoch 42/100\n",
      " - 8s - loss: 2.8113 - binary_accuracy: 0.5923 - f1: 0.5646 - precision: 0.5809 - recall: 0.5589 - val_loss: 2.8537 - val_binary_accuracy: 0.5203 - val_f1: 0.4506 - val_precision: 0.5272 - val_recall: 0.4101\n",
      "Epoch 43/100\n",
      " - 8s - loss: 2.7756 - binary_accuracy: 0.5861 - f1: 0.5603 - precision: 0.5770 - recall: 0.5561 - val_loss: 2.8677 - val_binary_accuracy: 0.5026 - val_f1: 0.3235 - val_precision: 0.5070 - val_recall: 0.2471\n",
      "Epoch 44/100\n",
      " - 7s - loss: 2.7520 - binary_accuracy: 0.5967 - f1: 0.5655 - precision: 0.5848 - recall: 0.5560 - val_loss: 2.8155 - val_binary_accuracy: 0.5155 - val_f1: 0.4617 - val_precision: 0.5191 - val_recall: 0.4291\n",
      "Epoch 45/100\n",
      " - 7s - loss: 2.7639 - binary_accuracy: 0.5919 - f1: 0.5637 - precision: 0.5854 - recall: 0.5531 - val_loss: 2.8431 - val_binary_accuracy: 0.5230 - val_f1: 0.4964 - val_precision: 0.5308 - val_recall: 0.4858\n",
      "Epoch 46/100\n",
      " - 8s - loss: 2.7817 - binary_accuracy: 0.5898 - f1: 0.5613 - precision: 0.5803 - recall: 0.5531 - val_loss: 2.8598 - val_binary_accuracy: 0.5157 - val_f1: 0.5259 - val_precision: 0.5167 - val_recall: 0.5516\n",
      "Epoch 47/100\n",
      " - 8s - loss: 2.7780 - binary_accuracy: 0.5844 - f1: 0.5621 - precision: 0.5751 - recall: 0.5621 - val_loss: 2.8392 - val_binary_accuracy: 0.5122 - val_f1: 0.4379 - val_precision: 0.5178 - val_recall: 0.3959\n",
      "Epoch 48/100\n",
      " - 7s - loss: 2.7506 - binary_accuracy: 0.6029 - f1: 0.5719 - precision: 0.5985 - recall: 0.5593 - val_loss: 2.7975 - val_binary_accuracy: 0.5201 - val_f1: 0.4895 - val_precision: 0.5265 - val_recall: 0.4783\n",
      "Epoch 49/100\n",
      " - 7s - loss: 2.7252 - binary_accuracy: 0.5939 - f1: 0.5709 - precision: 0.5840 - recall: 0.5701 - val_loss: 2.7794 - val_binary_accuracy: 0.5139 - val_f1: 0.5104 - val_precision: 0.5193 - val_recall: 0.5219\n",
      "Epoch 50/100\n",
      " - 7s - loss: 2.6785 - binary_accuracy: 0.6092 - f1: 0.5821 - precision: 0.5980 - recall: 0.5738 - val_loss: 2.7807 - val_binary_accuracy: 0.5172 - val_f1: 0.3600 - val_precision: 0.5478 - val_recall: 0.2832\n",
      "Epoch 51/100\n",
      " - 7s - loss: 2.6991 - binary_accuracy: 0.5989 - f1: 0.5680 - precision: 0.5900 - recall: 0.5556 - val_loss: 2.8112 - val_binary_accuracy: 0.5135 - val_f1: 0.3410 - val_precision: 0.5330 - val_recall: 0.2635\n",
      "Epoch 52/100\n",
      " - 7s - loss: 2.7250 - binary_accuracy: 0.5951 - f1: 0.5684 - precision: 0.5824 - recall: 0.5617 - val_loss: 2.7843 - val_binary_accuracy: 0.5251 - val_f1: 0.4022 - val_precision: 0.5419 - val_recall: 0.3359\n",
      "Epoch 53/100\n",
      " - 7s - loss: 2.6943 - binary_accuracy: 0.5974 - f1: 0.5691 - precision: 0.5863 - recall: 0.5630 - val_loss: 2.7431 - val_binary_accuracy: 0.5205 - val_f1: 0.4583 - val_precision: 0.5291 - val_recall: 0.4231\n",
      "Epoch 54/100\n",
      " - 7s - loss: 2.7010 - binary_accuracy: 0.6007 - f1: 0.5686 - precision: 0.5962 - recall: 0.5574 - val_loss: 2.8028 - val_binary_accuracy: 0.5218 - val_f1: 0.3978 - val_precision: 0.5351 - val_recall: 0.3326\n",
      "Epoch 55/100\n",
      " - 7s - loss: 2.7127 - binary_accuracy: 0.6015 - f1: 0.5763 - precision: 0.5948 - recall: 0.5694 - val_loss: 2.7844 - val_binary_accuracy: 0.5178 - val_f1: 0.4935 - val_precision: 0.5174 - val_recall: 0.4883\n",
      "Epoch 56/100\n",
      " - 7s - loss: 2.6776 - binary_accuracy: 0.6085 - f1: 0.5765 - precision: 0.6021 - recall: 0.5634 - val_loss: 2.7774 - val_binary_accuracy: 0.5184 - val_f1: 0.4254 - val_precision: 0.5270 - val_recall: 0.3706\n",
      "Epoch 57/100\n",
      " - 7s - loss: 2.7093 - binary_accuracy: 0.5876 - f1: 0.5589 - precision: 0.5775 - recall: 0.5503 - val_loss: 2.7794 - val_binary_accuracy: 0.5259 - val_f1: 0.5734 - val_precision: 0.5232 - val_recall: 0.6569\n",
      "Epoch 58/100\n",
      " - 7s - loss: 2.6808 - binary_accuracy: 0.6070 - f1: 0.5826 - precision: 0.5968 - recall: 0.5796 - val_loss: 2.7656 - val_binary_accuracy: 0.5318 - val_f1: 0.5419 - val_precision: 0.5334 - val_recall: 0.5710\n",
      "Epoch 59/100\n",
      " - 7s - loss: 2.6907 - binary_accuracy: 0.6043 - f1: 0.5810 - precision: 0.5953 - recall: 0.5754 - val_loss: 2.7964 - val_binary_accuracy: 0.5145 - val_f1: 0.3397 - val_precision: 0.5319 - val_recall: 0.2629\n",
      "Epoch 60/100\n",
      " - 7s - loss: 2.6930 - binary_accuracy: 0.5976 - f1: 0.5747 - precision: 0.5888 - recall: 0.5695 - val_loss: 2.8015 - val_binary_accuracy: 0.5145 - val_f1: 0.3741 - val_precision: 0.5270 - val_recall: 0.3061\n",
      "Epoch 61/100\n",
      " - 7s - loss: 2.7107 - binary_accuracy: 0.5955 - f1: 0.5685 - precision: 0.5875 - recall: 0.5621 - val_loss: 2.8086 - val_binary_accuracy: 0.5135 - val_f1: 0.5236 - val_precision: 0.5139 - val_recall: 0.5518\n",
      "Epoch 62/100\n",
      " - 7s - loss: 2.7064 - binary_accuracy: 0.5915 - f1: 0.5644 - precision: 0.5832 - recall: 0.5545 - val_loss: 2.7870 - val_binary_accuracy: 0.5209 - val_f1: 0.5654 - val_precision: 0.5170 - val_recall: 0.6436\n",
      "Epoch 63/100\n",
      " - 7s - loss: 2.6998 - binary_accuracy: 0.5992 - f1: 0.5697 - precision: 0.5920 - recall: 0.5615 - val_loss: 2.8020 - val_binary_accuracy: 0.5012 - val_f1: 0.5632 - val_precision: 0.5048 - val_recall: 0.6638\n",
      "Epoch 64/100\n",
      " - 7s - loss: 2.7321 - binary_accuracy: 0.5887 - f1: 0.5608 - precision: 0.5798 - recall: 0.5528 - val_loss: 2.7900 - val_binary_accuracy: 0.5124 - val_f1: 0.4358 - val_precision: 0.5216 - val_recall: 0.3884\n",
      "Epoch 65/100\n",
      " - 6s - loss: 2.6881 - binary_accuracy: 0.6039 - f1: 0.5812 - precision: 0.5947 - recall: 0.5778 - val_loss: 2.7759 - val_binary_accuracy: 0.5270 - val_f1: 0.4277 - val_precision: 0.5449 - val_recall: 0.3686\n",
      "Epoch 66/100\n",
      " - 7s - loss: 2.6656 - binary_accuracy: 0.6005 - f1: 0.5652 - precision: 0.5943 - recall: 0.5483 - val_loss: 2.7301 - val_binary_accuracy: 0.5251 - val_f1: 0.4648 - val_precision: 0.5341 - val_recall: 0.4324\n",
      "Epoch 67/100\n",
      " - 7s - loss: 2.6306 - binary_accuracy: 0.6115 - f1: 0.5861 - precision: 0.6030 - recall: 0.5811 - val_loss: 2.7572 - val_binary_accuracy: 0.5226 - val_f1: 0.3373 - val_precision: 0.5459 - val_recall: 0.2572\n",
      "Epoch 68/100\n",
      " - 7s - loss: 2.6792 - binary_accuracy: 0.5980 - f1: 0.5726 - precision: 0.5893 - recall: 0.5694 - val_loss: 2.7456 - val_binary_accuracy: 0.5139 - val_f1: 0.4957 - val_precision: 0.5209 - val_recall: 0.4995\n",
      "Epoch 69/100\n",
      " - 7s - loss: 2.6529 - binary_accuracy: 0.6011 - f1: 0.5687 - precision: 0.5933 - recall: 0.5564 - val_loss: 2.7407 - val_binary_accuracy: 0.5239 - val_f1: 0.5595 - val_precision: 0.5218 - val_recall: 0.6257\n",
      "Epoch 70/100\n",
      " - 7s - loss: 2.6631 - binary_accuracy: 0.6003 - f1: 0.5686 - precision: 0.5910 - recall: 0.5593 - val_loss: 2.7366 - val_binary_accuracy: 0.5205 - val_f1: 0.4737 - val_precision: 0.5256 - val_recall: 0.4475\n",
      "Epoch 71/100\n",
      " - 7s - loss: 2.6627 - binary_accuracy: 0.6035 - f1: 0.5762 - precision: 0.5955 - recall: 0.5702 - val_loss: 2.7480 - val_binary_accuracy: 0.5184 - val_f1: 0.5255 - val_precision: 0.5173 - val_recall: 0.5543\n",
      "Epoch 72/100\n",
      " - 7s - loss: 2.6643 - binary_accuracy: 0.6010 - f1: 0.5677 - precision: 0.5981 - recall: 0.5503 - val_loss: 2.7782 - val_binary_accuracy: 0.5045 - val_f1: 0.3322 - val_precision: 0.5103 - val_recall: 0.2598\n",
      "Epoch 73/100\n",
      " - 7s - loss: 2.6522 - binary_accuracy: 0.6037 - f1: 0.5733 - precision: 0.5946 - recall: 0.5625 - val_loss: 2.7646 - val_binary_accuracy: 0.5086 - val_f1: 0.3481 - val_precision: 0.5206 - val_recall: 0.2729\n",
      "Epoch 74/100\n",
      " - 9s - loss: 2.6373 - binary_accuracy: 0.6037 - f1: 0.5777 - precision: 0.5930 - recall: 0.5746 - val_loss: 2.7065 - val_binary_accuracy: 0.5147 - val_f1: 0.5264 - val_precision: 0.5168 - val_recall: 0.5559\n",
      "Epoch 75/100\n",
      " - 7s - loss: 2.6019 - binary_accuracy: 0.6058 - f1: 0.5805 - precision: 0.5958 - recall: 0.5749 - val_loss: 2.7097 - val_binary_accuracy: 0.5091 - val_f1: 0.4582 - val_precision: 0.5146 - val_recall: 0.4302\n",
      "Epoch 76/100\n",
      " - 7s - loss: 2.6117 - binary_accuracy: 0.6076 - f1: 0.5790 - precision: 0.5979 - recall: 0.5718 - val_loss: 2.7127 - val_binary_accuracy: 0.5164 - val_f1: 0.5197 - val_precision: 0.5194 - val_recall: 0.5422\n",
      "Epoch 77/100\n",
      " - 7s - loss: 2.6274 - binary_accuracy: 0.6055 - f1: 0.5730 - precision: 0.5993 - recall: 0.5566 - val_loss: 2.7082 - val_binary_accuracy: 0.5087 - val_f1: 0.3211 - val_precision: 0.5168 - val_recall: 0.2455\n",
      "Epoch 78/100\n",
      " - 7s - loss: 2.6182 - binary_accuracy: 0.5975 - f1: 0.5724 - precision: 0.5879 - recall: 0.5688 - val_loss: 2.7279 - val_binary_accuracy: 0.5126 - val_f1: 0.3691 - val_precision: 0.5209 - val_recall: 0.3002\n",
      "Epoch 79/100\n",
      " - 6s - loss: 2.6023 - binary_accuracy: 0.6200 - f1: 0.5977 - precision: 0.6105 - recall: 0.5957 - val_loss: 2.6973 - val_binary_accuracy: 0.5343 - val_f1: 0.5083 - val_precision: 0.5377 - val_recall: 0.4988\n",
      "Epoch 80/100\n",
      " - 7s - loss: 2.6113 - binary_accuracy: 0.6143 - f1: 0.5852 - precision: 0.6098 - recall: 0.5735 - val_loss: 2.7192 - val_binary_accuracy: 0.5149 - val_f1: 0.4582 - val_precision: 0.5199 - val_recall: 0.4258\n",
      "Epoch 81/100\n",
      " - 7s - loss: 2.6285 - binary_accuracy: 0.6038 - f1: 0.5784 - precision: 0.5972 - recall: 0.5752 - val_loss: 2.6946 - val_binary_accuracy: 0.5220 - val_f1: 0.5226 - val_precision: 0.5239 - val_recall: 0.5434\n",
      "Epoch 82/100\n",
      " - 7s - loss: 2.6025 - binary_accuracy: 0.6058 - f1: 0.5792 - precision: 0.5971 - recall: 0.5743 - val_loss: 2.7247 - val_binary_accuracy: 0.5230 - val_f1: 0.4767 - val_precision: 0.5274 - val_recall: 0.4498\n",
      "Epoch 83/100\n",
      " - 7s - loss: 2.6001 - binary_accuracy: 0.6119 - f1: 0.5818 - precision: 0.6040 - recall: 0.5679 - val_loss: 2.6801 - val_binary_accuracy: 0.5180 - val_f1: 0.5978 - val_precision: 0.5138 - val_recall: 0.7392\n",
      "Epoch 84/100\n",
      " - 7s - loss: 2.5743 - binary_accuracy: 0.6150 - f1: 0.5890 - precision: 0.6072 - recall: 0.5822 - val_loss: 2.6942 - val_binary_accuracy: 0.5230 - val_f1: 0.4487 - val_precision: 0.5381 - val_recall: 0.4027\n",
      "Epoch 85/100\n",
      " - 7s - loss: 2.6106 - binary_accuracy: 0.6126 - f1: 0.5845 - precision: 0.6080 - recall: 0.5725 - val_loss: 2.7187 - val_binary_accuracy: 0.5226 - val_f1: 0.5638 - val_precision: 0.5213 - val_recall: 0.6390\n",
      "Epoch 86/100\n",
      " - 6s - loss: 2.5860 - binary_accuracy: 0.6160 - f1: 0.5934 - precision: 0.6087 - recall: 0.5884 - val_loss: 2.6754 - val_binary_accuracy: 0.5095 - val_f1: 0.4997 - val_precision: 0.5152 - val_recall: 0.5071\n",
      "Epoch 87/100\n",
      " - 7s - loss: 2.5878 - binary_accuracy: 0.6078 - f1: 0.5817 - precision: 0.6010 - recall: 0.5761 - val_loss: 2.6967 - val_binary_accuracy: 0.5205 - val_f1: 0.4877 - val_precision: 0.5261 - val_recall: 0.4736\n",
      "Epoch 88/100\n",
      " - 7s - loss: 2.6219 - binary_accuracy: 0.6003 - f1: 0.5737 - precision: 0.5930 - recall: 0.5667 - val_loss: 2.7198 - val_binary_accuracy: 0.5197 - val_f1: 0.4312 - val_precision: 0.5354 - val_recall: 0.3814\n",
      "Epoch 89/100\n",
      " - 8s - loss: 2.6285 - binary_accuracy: 0.6044 - f1: 0.5762 - precision: 0.5977 - recall: 0.5655 - val_loss: 2.7173 - val_binary_accuracy: 0.5303 - val_f1: 0.4020 - val_precision: 0.5459 - val_recall: 0.3373\n",
      "Epoch 90/100\n",
      " - 7s - loss: 2.6055 - binary_accuracy: 0.6065 - f1: 0.5733 - precision: 0.5995 - recall: 0.5596 - val_loss: 2.6849 - val_binary_accuracy: 0.5262 - val_f1: 0.4620 - val_precision: 0.5351 - val_recall: 0.4254\n",
      "Epoch 91/100\n",
      " - 7s - loss: 2.5704 - binary_accuracy: 0.6128 - f1: 0.5820 - precision: 0.6070 - recall: 0.5690 - val_loss: 2.6505 - val_binary_accuracy: 0.5303 - val_f1: 0.5432 - val_precision: 0.5292 - val_recall: 0.5772\n",
      "Epoch 92/100\n",
      " - 7s - loss: 2.5581 - binary_accuracy: 0.6051 - f1: 0.5821 - precision: 0.5959 - recall: 0.5812 - val_loss: 2.6584 - val_binary_accuracy: 0.5268 - val_f1: 0.5195 - val_precision: 0.5289 - val_recall: 0.5288\n",
      "Epoch 93/100\n",
      " - 6s - loss: 2.5808 - binary_accuracy: 0.6029 - f1: 0.5756 - precision: 0.5956 - recall: 0.5677 - val_loss: 2.6830 - val_binary_accuracy: 0.5235 - val_f1: 0.4963 - val_precision: 0.5257 - val_recall: 0.4883\n",
      "Epoch 94/100\n",
      " - 7s - loss: 2.5470 - binary_accuracy: 0.6162 - f1: 0.5864 - precision: 0.6104 - recall: 0.5754 - val_loss: 2.6413 - val_binary_accuracy: 0.5234 - val_f1: 0.5165 - val_precision: 0.5277 - val_recall: 0.5232\n",
      "Epoch 95/100\n",
      " - 7s - loss: 2.5702 - binary_accuracy: 0.6071 - f1: 0.5714 - precision: 0.6004 - recall: 0.5570 - val_loss: 2.6597 - val_binary_accuracy: 0.5262 - val_f1: 0.5389 - val_precision: 0.5265 - val_recall: 0.5701\n",
      "Epoch 96/100\n",
      " - 7s - loss: 2.5676 - binary_accuracy: 0.6126 - f1: 0.5890 - precision: 0.6061 - recall: 0.5833 - val_loss: 2.6851 - val_binary_accuracy: 0.5218 - val_f1: 0.4827 - val_precision: 0.5313 - val_recall: 0.4639\n",
      "Epoch 97/100\n",
      " - 7s - loss: 2.5928 - binary_accuracy: 0.6091 - f1: 0.5788 - precision: 0.6009 - recall: 0.5696 - val_loss: 2.6676 - val_binary_accuracy: 0.5222 - val_f1: 0.5072 - val_precision: 0.5282 - val_recall: 0.5073\n",
      "Epoch 98/100\n",
      " - 7s - loss: 2.5847 - binary_accuracy: 0.6038 - f1: 0.5776 - precision: 0.5963 - recall: 0.5715 - val_loss: 2.6961 - val_binary_accuracy: 0.5180 - val_f1: 0.4594 - val_precision: 0.5222 - val_recall: 0.4263\n",
      "Epoch 99/100\n",
      " - 7s - loss: 2.5774 - binary_accuracy: 0.6098 - f1: 0.5827 - precision: 0.6003 - recall: 0.5745 - val_loss: 2.6439 - val_binary_accuracy: 0.5266 - val_f1: 0.4192 - val_precision: 0.5419 - val_recall: 0.3552\n",
      "Epoch 100/100\n",
      " - 7s - loss: 2.5406 - binary_accuracy: 0.6066 - f1: 0.5762 - precision: 0.6001 - recall: 0.5620 - val_loss: 2.6431 - val_binary_accuracy: 0.5310 - val_f1: 0.4550 - val_precision: 0.5514 - val_recall: 0.4076\n"
     ]
    }
   ],
   "source": [
    "history = first_model.fit(x_train_aug, y_train_aug, validation_data = (x_val_aug, y_val_aug),\n",
    "                          epochs=100, batch_size=10, verbose=2)"
   ]
  },
  {
   "cell_type": "code",
   "execution_count": 181,
   "metadata": {},
   "outputs": [
    {
     "data": {
      "image/png": "[encoded data removed]",
      "text/plain": [
       "<Figure size 432x288 with 1 Axes>"
      ]
     },
     "metadata": {},
     "output_type": "display_data"
    }
   ],
   "source": [
    "plt.plot(history.history[\"binary_accuracy\"], label=\"acc\")\n",
    "plt.plot(history.history[\"val_binary_accuracy\"], label=\"val_acc\")\n",
    "plt.axhline(0.5, c=\".3\")\n",
    "plt.legend()\n",
    "plt.show()"
   ]
  },
  {
   "cell_type": "code",
   "execution_count": 182,
   "metadata": {},
   "outputs": [
    {
     "data": {
      "image/png": "[encoded data removed]",
      "text/plain": [
       "<Figure size 432x288 with 1 Axes>"
      ]
     },
     "metadata": {},
     "output_type": "display_data"
    }
   ],
   "source": [
    "plt.plot(history.history[\"recall\"], label=\"recall\")\n",
    "plt.plot(history.history[\"val_recall\"], label=\"val_recall\")\n",
    "\n",
    "plt.legend()\n",
    "plt.show()"
   ]
  },
  {
   "cell_type": "code",
   "execution_count": 183,
   "metadata": {},
   "outputs": [
    {
     "data": {
      "image/png": "[encoded data removed]",
      "text/plain": [
       "<Figure size 432x288 with 1 Axes>"
      ]
     },
     "metadata": {},
     "output_type": "display_data"
    }
   ],
   "source": [
    "plt.plot(history.history[\"precision\"], label=\"precision\")\n",
    "plt.plot(history.history[\"val_precision\"], label=\"val_precision\")\n",
    "\n",
    "plt.legend()\n",
    "plt.show()"
   ]
  },
  {
   "cell_type": "code",
   "execution_count": 184,
   "metadata": {},
   "outputs": [
    {
     "data": {
      "image/png": "[encoded data removed]",
      "text/plain": [
       "<Figure size 432x288 with 1 Axes>"
      ]
     },
     "metadata": {},
     "output_type": "display_data"
    }
   ],
   "source": [
    "plt.plot(history.history[\"loss\"], label=\"loss\")\n",
    "plt.plot(history.history[\"val_loss\"], label=\"val_loss\")\n",
    "plt.legend()\n",
    "plt.show()"
   ]
  },
  {
   "cell_type": "code",
   "execution_count": 185,
   "metadata": {},
   "outputs": [],
   "source": [
    "preds = first_model.predict(x_val)\n"
   ]
  },
  {
   "cell_type": "code",
   "execution_count": 222,
   "metadata": {},
   "outputs": [],
   "source": [
    "df_y_val = pd.DataFrame(y_val_aug, columns=fin_data_class.columns)"
   ]
  },
  {
   "cell_type": "code",
   "execution_count": 187,
   "metadata": {},
   "outputs": [
    {
     "data": {
      "text/html": [
       "<div>\n",
       "<style scoped>\n",
       "    .dataframe tbody tr th:only-of-type {\n",
       "        vertical-align: middle;\n",
       "    }\n",
       "\n",
       "    .dataframe tbody tr th {\n",
       "        vertical-align: top;\n",
       "    }\n",
       "\n",
       "    .dataframe thead th {\n",
       "        text-align: right;\n",
       "    }\n",
       "</style>\n",
       "<table border=\"1\" class=\"dataframe\">\n",
       "  <thead>\n",
       "    <tr style=\"text-align: right;\">\n",
       "      <th></th>\n",
       "      <th>Samsung</th>\n",
       "      <th>Telefonica</th>\n",
       "      <th>Allianz</th>\n",
       "      <th>Total</th>\n",
       "      <th>Bayer</th>\n",
       "      <th>Tesla</th>\n",
       "      <th>Airbus</th>\n",
       "      <th>Apple</th>\n",
       "      <th>BASF</th>\n",
       "      <th>BMW</th>\n",
       "      <th>Google</th>\n",
       "    </tr>\n",
       "  </thead>\n",
       "  <tbody>\n",
       "    <tr>\n",
       "      <th>0</th>\n",
       "      <td>0.290587</td>\n",
       "      <td>0.375708</td>\n",
       "      <td>0.505901</td>\n",
       "      <td>0.316252</td>\n",
       "      <td>0.544603</td>\n",
       "      <td>0.547483</td>\n",
       "      <td>0.204973</td>\n",
       "      <td>0.562657</td>\n",
       "      <td>0.352659</td>\n",
       "      <td>0.558685</td>\n",
       "      <td>0.380507</td>\n",
       "    </tr>\n",
       "    <tr>\n",
       "      <th>1</th>\n",
       "      <td>0.326052</td>\n",
       "      <td>0.560312</td>\n",
       "      <td>0.756457</td>\n",
       "      <td>0.281274</td>\n",
       "      <td>0.787196</td>\n",
       "      <td>0.549181</td>\n",
       "      <td>0.537508</td>\n",
       "      <td>0.501461</td>\n",
       "      <td>0.842814</td>\n",
       "      <td>0.809584</td>\n",
       "      <td>0.508066</td>\n",
       "    </tr>\n",
       "    <tr>\n",
       "      <th>2</th>\n",
       "      <td>0.483306</td>\n",
       "      <td>0.717340</td>\n",
       "      <td>0.462325</td>\n",
       "      <td>0.380544</td>\n",
       "      <td>0.649359</td>\n",
       "      <td>0.712202</td>\n",
       "      <td>0.528795</td>\n",
       "      <td>0.546447</td>\n",
       "      <td>0.566184</td>\n",
       "      <td>0.778452</td>\n",
       "      <td>0.559138</td>\n",
       "    </tr>\n",
       "    <tr>\n",
       "      <th>3</th>\n",
       "      <td>0.110766</td>\n",
       "      <td>0.397452</td>\n",
       "      <td>0.273075</td>\n",
       "      <td>0.300529</td>\n",
       "      <td>0.466843</td>\n",
       "      <td>0.505922</td>\n",
       "      <td>0.124258</td>\n",
       "      <td>0.556985</td>\n",
       "      <td>0.248778</td>\n",
       "      <td>0.487630</td>\n",
       "      <td>0.278283</td>\n",
       "    </tr>\n",
       "    <tr>\n",
       "      <th>4</th>\n",
       "      <td>0.276534</td>\n",
       "      <td>0.364624</td>\n",
       "      <td>0.392929</td>\n",
       "      <td>0.323367</td>\n",
       "      <td>0.557227</td>\n",
       "      <td>0.539313</td>\n",
       "      <td>0.306563</td>\n",
       "      <td>0.416031</td>\n",
       "      <td>0.411901</td>\n",
       "      <td>0.421581</td>\n",
       "      <td>0.329475</td>\n",
       "    </tr>\n",
       "  </tbody>\n",
       "</table>\n",
       "</div>"
      ],
      "text/plain": [
       "    Samsung  Telefonica   Allianz     Total     Bayer     Tesla    Airbus  \\\n",
       "0  0.290587    0.375708  0.505901  0.316252  0.544603  0.547483  0.204973   \n",
       "1  0.326052    0.560312  0.756457  0.281274  0.787196  0.549181  0.537508   \n",
       "2  0.483306    0.717340  0.462325  0.380544  0.649359  0.712202  0.528795   \n",
       "3  0.110766    0.397452  0.273075  0.300529  0.466843  0.505922  0.124258   \n",
       "4  0.276534    0.364624  0.392929  0.323367  0.557227  0.539313  0.306563   \n",
       "\n",
       "      Apple      BASF       BMW    Google  \n",
       "0  0.562657  0.352659  0.558685  0.380507  \n",
       "1  0.501461  0.842814  0.809584  0.508066  \n",
       "2  0.546447  0.566184  0.778452  0.559138  \n",
       "3  0.556985  0.248778  0.487630  0.278283  \n",
       "4  0.416031  0.411901  0.421581  0.329475  "
      ]
     },
     "execution_count": 187,
     "metadata": {},
     "output_type": "execute_result"
    }
   ],
   "source": [
    "df_predictions = pd.DataFrame(preds, columns=fin_data_class.columns) #, index = fin_data_class.index\n",
    "df_predictions.head()"
   ]
  },
  {
   "cell_type": "code",
   "execution_count": 227,
   "metadata": {},
   "outputs": [],
   "source": [
    "def try_cuts_arr(df, cut_count):\n",
    "    \n",
    "    cuts = np.linspace(0,1,cut_count)\n",
    "    accs = []\n",
    "    fp = []\n",
    "    fn = []\n",
    "    \n",
    "    \n",
    "    for c in cuts:\n",
    "        df_tmp = df.applymap(lambda x: 1 if x > c else 0)\n",
    "\n",
    "        df_tmp = df_y_val.rsub(df_tmp)\n",
    "        df_tmp[\"error_sum\"] = df_tmp.apply(lambda x: np.sum(abs(x)), axis=1)\n",
    "        \n",
    "        total_returns = df_tmp.shape[0] * df_tmp.shape[1]\n",
    "        error_sum = df_tmp[\"error_sum\"].sum()\n",
    "        accuracy = (total_returns - error_sum) / total_returns\n",
    "        \n",
    "        accs.append(accuracy)\n",
    "        \n",
    "        false_positive = np.sum(df_tmp.apply(count_fp, axis=1))\n",
    "        false_negative = df_tmp.apply(count_fn, axis=1).sum()\n",
    "        \n",
    "        fp.append(false_positive)\n",
    "        fn.append(false_negative)\n",
    "        \n",
    "    return accs, fp, fn, cuts"
   ]
  },
  {
   "cell_type": "code",
   "execution_count": 154,
   "metadata": {},
   "outputs": [],
   "source": [
    "def try_cuts(df, cut_count, subset=None):\n",
    "    \n",
    "    cuts = np.linspace(0,1,cut_count)\n",
    "    accs = []\n",
    "    \n",
    "    for c in cuts:\n",
    "        df_tmp = df.applymap(lambda x: 1 if x > c else 0)\n",
    "        if subset:\n",
    "            df_tmp = fin_data_class[subset].rsub(df_tmp)\n",
    "        else:\n",
    "            df_tmp = fin_data_class.rsub(df_tmp)\n",
    "        df_tmp[\"error_sum\"] = df_tmp.apply(lambda x: np.sum(abs(x)), axis=1)\n",
    "        \n",
    "        total_returns = df_tmp.shape[0] * df_tmp.shape[1]\n",
    "        error_sum = df_tmp[\"error_sum\"].sum()\n",
    "        accuracy = (total_returns - error_sum) / total_returns\n",
    "        \n",
    "        accs.append(accuracy)\n",
    "    return accs, cuts"
   ]
  },
  {
   "cell_type": "code",
   "execution_count": 189,
   "metadata": {},
   "outputs": [],
   "source": [
    "#accs, cuts = try_cuts(df_predictions, 30, subset=slice(300,-1)) #subset=slice(250, -1)\n",
    "accs, fp, fn, cuts = try_cuts_arr(df_predictions, 30)"
   ]
  },
  {
   "cell_type": "code",
   "execution_count": 190,
   "metadata": {},
   "outputs": [
    {
     "data": {
      "text/plain": [
       "0.51724137931034486"
      ]
     },
     "execution_count": 190,
     "metadata": {},
     "output_type": "execute_result"
    }
   ],
   "source": [
    "max_index = accs.index(max(accs))\n",
    "cuts[max_index]"
   ]
  },
  {
   "cell_type": "code",
   "execution_count": 191,
   "metadata": {},
   "outputs": [
    {
     "data": {
      "image/png": "[encoded data removed]",
      "text/plain": [
       "<Figure size 432x288 with 1 Axes>"
      ]
     },
     "metadata": {},
     "output_type": "display_data"
    }
   ],
   "source": [
    "plt.plot(cuts, fp, label=\"FP\")\n",
    "plt.plot(cuts, fn, label=\"FN\")\n",
    "plt.xlabel(\"Cuts\")\n",
    "plt.legend()\n",
    "plt.show()"
   ]
  },
  {
   "cell_type": "code",
   "execution_count": 192,
   "metadata": {},
   "outputs": [
    {
     "data": {
      "text/plain": [
       "Text(0,0.5,'Accuracy')"
      ]
     },
     "execution_count": 192,
     "metadata": {},
     "output_type": "execute_result"
    },
    {
     "data": {
      "image/png": "[encoded data removed]",
      "text/plain": [
       "<Figure size 432x288 with 1 Axes>"
      ]
     },
     "metadata": {},
     "output_type": "display_data"
    }
   ],
   "source": [
    "plt.plot(cuts, accs)\n",
    "plt.xlabel(\"Cuts\")\n",
    "plt.ylabel(\"Accuracy\")"
   ]
  },
  {
   "cell_type": "code",
   "execution_count": 193,
   "metadata": {},
   "outputs": [
    {
     "data": {
      "text/html": [
       "<div>\n",
       "<style scoped>\n",
       "    .dataframe tbody tr th:only-of-type {\n",
       "        vertical-align: middle;\n",
       "    }\n",
       "\n",
       "    .dataframe tbody tr th {\n",
       "        vertical-align: top;\n",
       "    }\n",
       "\n",
       "    .dataframe thead th {\n",
       "        text-align: right;\n",
       "    }\n",
       "</style>\n",
       "<table border=\"1\" class=\"dataframe\">\n",
       "  <thead>\n",
       "    <tr style=\"text-align: right;\">\n",
       "      <th></th>\n",
       "      <th>Samsung</th>\n",
       "      <th>Telefonica</th>\n",
       "      <th>Allianz</th>\n",
       "      <th>Total</th>\n",
       "      <th>Bayer</th>\n",
       "      <th>Tesla</th>\n",
       "      <th>Airbus</th>\n",
       "      <th>Apple</th>\n",
       "      <th>BASF</th>\n",
       "      <th>BMW</th>\n",
       "      <th>Google</th>\n",
       "    </tr>\n",
       "  </thead>\n",
       "  <tbody>\n",
       "    <tr>\n",
       "      <th>0</th>\n",
       "      <td>0</td>\n",
       "      <td>0</td>\n",
       "      <td>0</td>\n",
       "      <td>0</td>\n",
       "      <td>1</td>\n",
       "      <td>1</td>\n",
       "      <td>0</td>\n",
       "      <td>1</td>\n",
       "      <td>0</td>\n",
       "      <td>1</td>\n",
       "      <td>0</td>\n",
       "    </tr>\n",
       "    <tr>\n",
       "      <th>1</th>\n",
       "      <td>0</td>\n",
       "      <td>1</td>\n",
       "      <td>1</td>\n",
       "      <td>0</td>\n",
       "      <td>1</td>\n",
       "      <td>1</td>\n",
       "      <td>1</td>\n",
       "      <td>0</td>\n",
       "      <td>1</td>\n",
       "      <td>1</td>\n",
       "      <td>0</td>\n",
       "    </tr>\n",
       "    <tr>\n",
       "      <th>2</th>\n",
       "      <td>0</td>\n",
       "      <td>1</td>\n",
       "      <td>0</td>\n",
       "      <td>0</td>\n",
       "      <td>1</td>\n",
       "      <td>1</td>\n",
       "      <td>1</td>\n",
       "      <td>1</td>\n",
       "      <td>1</td>\n",
       "      <td>1</td>\n",
       "      <td>1</td>\n",
       "    </tr>\n",
       "    <tr>\n",
       "      <th>3</th>\n",
       "      <td>0</td>\n",
       "      <td>0</td>\n",
       "      <td>0</td>\n",
       "      <td>0</td>\n",
       "      <td>0</td>\n",
       "      <td>0</td>\n",
       "      <td>0</td>\n",
       "      <td>1</td>\n",
       "      <td>0</td>\n",
       "      <td>0</td>\n",
       "      <td>0</td>\n",
       "    </tr>\n",
       "    <tr>\n",
       "      <th>4</th>\n",
       "      <td>0</td>\n",
       "      <td>0</td>\n",
       "      <td>0</td>\n",
       "      <td>0</td>\n",
       "      <td>1</td>\n",
       "      <td>1</td>\n",
       "      <td>0</td>\n",
       "      <td>0</td>\n",
       "      <td>0</td>\n",
       "      <td>0</td>\n",
       "      <td>0</td>\n",
       "    </tr>\n",
       "  </tbody>\n",
       "</table>\n",
       "</div>"
      ],
      "text/plain": [
       "   Samsung  Telefonica  Allianz  Total  Bayer  Tesla  Airbus  Apple  BASF  \\\n",
       "0        0           0        0      0      1      1       0      1     0   \n",
       "1        0           1        1      0      1      1       1      0     1   \n",
       "2        0           1        0      0      1      1       1      1     1   \n",
       "3        0           0        0      0      0      0       0      1     0   \n",
       "4        0           0        0      0      1      1       0      0     0   \n",
       "\n",
       "   BMW  Google  \n",
       "0    1       0  \n",
       "1    1       0  \n",
       "2    1       1  \n",
       "3    0       0  \n",
       "4    0       0  "
      ]
     },
     "execution_count": 193,
     "metadata": {},
     "output_type": "execute_result"
    }
   ],
   "source": [
    "df_predictions = df_predictions.applymap(lambda x: 1 if x > cuts[max_index] else 0) #cuts[max_index]\n",
    "df_predictions.to_csv(\"./predictions/predictions_frst_model_non_training_data_with_data_augmentation.csv\")\n",
    "df_predictions.head()"
   ]
  },
  {
   "cell_type": "code",
   "execution_count": 194,
   "metadata": {},
   "outputs": [
    {
     "data": {
      "text/html": [
       "<div>\n",
       "<style scoped>\n",
       "    .dataframe tbody tr th:only-of-type {\n",
       "        vertical-align: middle;\n",
       "    }\n",
       "\n",
       "    .dataframe tbody tr th {\n",
       "        vertical-align: top;\n",
       "    }\n",
       "\n",
       "    .dataframe thead th {\n",
       "        text-align: right;\n",
       "    }\n",
       "</style>\n",
       "<table border=\"1\" class=\"dataframe\">\n",
       "  <thead>\n",
       "    <tr style=\"text-align: right;\">\n",
       "      <th></th>\n",
       "      <th>Samsung</th>\n",
       "      <th>Telefonica</th>\n",
       "      <th>Allianz</th>\n",
       "      <th>Total</th>\n",
       "      <th>Bayer</th>\n",
       "      <th>Tesla</th>\n",
       "      <th>Airbus</th>\n",
       "      <th>Apple</th>\n",
       "      <th>BASF</th>\n",
       "      <th>BMW</th>\n",
       "      <th>Google</th>\n",
       "    </tr>\n",
       "    <tr>\n",
       "      <th>Timestamp</th>\n",
       "      <th></th>\n",
       "      <th></th>\n",
       "      <th></th>\n",
       "      <th></th>\n",
       "      <th></th>\n",
       "      <th></th>\n",
       "      <th></th>\n",
       "      <th></th>\n",
       "      <th></th>\n",
       "      <th></th>\n",
       "      <th></th>\n",
       "    </tr>\n",
       "  </thead>\n",
       "  <tbody>\n",
       "    <tr>\n",
       "      <th>2015-11-25</th>\n",
       "      <td>1.0</td>\n",
       "      <td>1.0</td>\n",
       "      <td>0.0</td>\n",
       "      <td>0.0</td>\n",
       "      <td>0.0</td>\n",
       "      <td>1.0</td>\n",
       "      <td>0.0</td>\n",
       "      <td>0.0</td>\n",
       "      <td>0.0</td>\n",
       "      <td>0.0</td>\n",
       "      <td>1.0</td>\n",
       "    </tr>\n",
       "    <tr>\n",
       "      <th>2015-11-27</th>\n",
       "      <td>0.0</td>\n",
       "      <td>0.0</td>\n",
       "      <td>1.0</td>\n",
       "      <td>0.0</td>\n",
       "      <td>1.0</td>\n",
       "      <td>0.0</td>\n",
       "      <td>1.0</td>\n",
       "      <td>1.0</td>\n",
       "      <td>1.0</td>\n",
       "      <td>1.0</td>\n",
       "      <td>0.0</td>\n",
       "    </tr>\n",
       "    <tr>\n",
       "      <th>2015-11-30</th>\n",
       "      <td>1.0</td>\n",
       "      <td>0.0</td>\n",
       "      <td>1.0</td>\n",
       "      <td>1.0</td>\n",
       "      <td>1.0</td>\n",
       "      <td>1.0</td>\n",
       "      <td>0.0</td>\n",
       "      <td>1.0</td>\n",
       "      <td>1.0</td>\n",
       "      <td>1.0</td>\n",
       "      <td>0.0</td>\n",
       "    </tr>\n",
       "    <tr>\n",
       "      <th>2015-12-01</th>\n",
       "      <td>1.0</td>\n",
       "      <td>0.0</td>\n",
       "      <td>1.0</td>\n",
       "      <td>1.0</td>\n",
       "      <td>1.0</td>\n",
       "      <td>0.0</td>\n",
       "      <td>1.0</td>\n",
       "      <td>1.0</td>\n",
       "      <td>1.0</td>\n",
       "      <td>1.0</td>\n",
       "      <td>1.0</td>\n",
       "    </tr>\n",
       "    <tr>\n",
       "      <th>2015-12-02</th>\n",
       "      <td>1.0</td>\n",
       "      <td>1.0</td>\n",
       "      <td>1.0</td>\n",
       "      <td>0.0</td>\n",
       "      <td>1.0</td>\n",
       "      <td>1.0</td>\n",
       "      <td>0.0</td>\n",
       "      <td>0.0</td>\n",
       "      <td>1.0</td>\n",
       "      <td>1.0</td>\n",
       "      <td>1.0</td>\n",
       "    </tr>\n",
       "  </tbody>\n",
       "</table>\n",
       "</div>"
      ],
      "text/plain": [
       "            Samsung  Telefonica  Allianz  Total  Bayer  Tesla  Airbus  Apple  \\\n",
       "Timestamp                                                                      \n",
       "2015-11-25      1.0         1.0      0.0    0.0    0.0    1.0     0.0    0.0   \n",
       "2015-11-27      0.0         0.0      1.0    0.0    1.0    0.0     1.0    1.0   \n",
       "2015-11-30      1.0         0.0      1.0    1.0    1.0    1.0     0.0    1.0   \n",
       "2015-12-01      1.0         0.0      1.0    1.0    1.0    0.0     1.0    1.0   \n",
       "2015-12-02      1.0         1.0      1.0    0.0    1.0    1.0     0.0    0.0   \n",
       "\n",
       "            BASF  BMW  Google  \n",
       "Timestamp                      \n",
       "2015-11-25   0.0  0.0     1.0  \n",
       "2015-11-27   1.0  1.0     0.0  \n",
       "2015-11-30   1.0  1.0     0.0  \n",
       "2015-12-01   1.0  1.0     1.0  \n",
       "2015-12-02   1.0  1.0     1.0  "
      ]
     },
     "execution_count": 194,
     "metadata": {},
     "output_type": "execute_result"
    }
   ],
   "source": [
    "fin_data_class.head()"
   ]
  },
  {
   "cell_type": "code",
   "execution_count": 173,
   "metadata": {},
   "outputs": [],
   "source": [
    "df_pred_errors = fin_data_class.rsub(df_predictions)"
   ]
  },
  {
   "cell_type": "code",
   "execution_count": 70,
   "metadata": {},
   "outputs": [],
   "source": [
    "def count_fp(x):\n",
    "    company_list = fin_data_class.columns\n",
    "    tmp = x[company_list]\n",
    "    \n",
    "    if 1 in tmp.value_counts() or 1.0 in tmp.value_counts():\n",
    "\n",
    "        return tmp.value_counts()[1]\n",
    "        \n",
    "    else:\n",
    "        return 0\n",
    "    \n",
    "def count_fn(x):\n",
    "    company_list = fin_data_class.columns\n",
    "    tmp = x[company_list]\n",
    "    \n",
    "    if -1 in tmp.value_counts() or -1.0 in tmp.value_counts():\n",
    "\n",
    "        return tmp.value_counts()[-1]\n",
    "    \n",
    "    else:\n",
    "        return 0"
   ]
  },
  {
   "cell_type": "code",
   "execution_count": 256,
   "metadata": {},
   "outputs": [],
   "source": [
    "df_pred_errors[\"error_sum\"] = df_pred_errors.apply(lambda x: np.sum(abs(x)), axis=1)\n",
    "df_pred_errors[\"fale_pos_sum\"] = df_pred_errors.apply(count_fp, axis=1)\n",
    "df_pred_errors[\"fale_neg_sum\"] = df_pred_errors.apply(count_fn, axis=1)"
   ]
  },
  {
   "cell_type": "code",
   "execution_count": 257,
   "metadata": {},
   "outputs": [
    {
     "data": {
      "text/plain": [
       "923"
      ]
     },
     "execution_count": 257,
     "metadata": {},
     "output_type": "execute_result"
    }
   ],
   "source": [
    "df_pred_errors[\"fale_pos_sum\"].sum()"
   ]
  },
  {
   "cell_type": "code",
   "execution_count": 258,
   "metadata": {},
   "outputs": [
    {
     "data": {
      "text/plain": [
       "613"
      ]
     },
     "execution_count": 258,
     "metadata": {},
     "output_type": "execute_result"
    }
   ],
   "source": [
    "df_pred_errors[\"fale_neg_sum\"].sum()"
   ]
  },
  {
   "cell_type": "code",
   "execution_count": 195,
   "metadata": {},
   "outputs": [],
   "source": [
    "from sklearn.metrics import roc_curve, auc, precision_recall_curve, confusion_matrix\n",
    "from sklearn.metrics import classification_report"
   ]
  },
  {
   "cell_type": "code",
   "execution_count": 196,
   "metadata": {},
   "outputs": [
    {
     "name": "stdout",
     "output_type": "stream",
     "text": [
      "             precision    recall  f1-score   support\n",
      "\n",
      "        0.0       0.60      0.74      0.66      1356\n",
      "        1.0       0.62      0.46      0.53      1251\n",
      "\n",
      "avg / total       0.61      0.61      0.60      2607\n",
      "\n"
     ]
    }
   ],
   "source": [
    "print(classification_report(y_val.ravel(), df_predictions.values.ravel()))"
   ]
  },
  {
   "cell_type": "code",
   "execution_count": 85,
   "metadata": {},
   "outputs": [],
   "source": [
    "precision, recall, thresholds = precision_recall_curve(y_val.ravel(), preds.ravel())"
   ]
  },
  {
   "cell_type": "code",
   "execution_count": 86,
   "metadata": {},
   "outputs": [
    {
     "data": {
      "text/plain": [
       "Text(0,0.5,'Precision')"
      ]
     },
     "execution_count": 86,
     "metadata": {},
     "output_type": "execute_result"
    },
    {
     "data": {
      "image/png": "[encoded data removed]",
      "text/plain": [
       "<Figure size 432x288 with 1 Axes>"
      ]
     },
     "metadata": {},
     "output_type": "display_data"
    }
   ],
   "source": [
    "plt.plot((1 - recall), precision)\n",
    "#plt.step((1-recall), thresholds.add(1))\n",
    "plt.plot(plt.xlim(), plt.ylim(), ls=\"--\", c=\".3\")\n",
    "plt.xlabel(\"1 - Recall\")\n",
    "plt.ylabel(\"Precision\")"
   ]
  },
  {
   "cell_type": "code",
   "execution_count": 198,
   "metadata": {},
   "outputs": [],
   "source": [
    "fpr_keras, tpr_keras, thresholds_keras = roc_curve(y_val.ravel(), preds.ravel())"
   ]
  },
  {
   "cell_type": "code",
   "execution_count": 199,
   "metadata": {},
   "outputs": [],
   "source": [
    "auc_keras = auc(fpr_keras, tpr_keras)"
   ]
  },
  {
   "cell_type": "code",
   "execution_count": 200,
   "metadata": {},
   "outputs": [
    {
     "data": {
      "image/png": "[encoded data removed]",
      "text/plain": [
       "<Figure size 432x288 with 1 Axes>"
      ]
     },
     "metadata": {},
     "output_type": "display_data"
    }
   ],
   "source": [
    "plt.figure(1)\n",
    "plt.plot([0, 1], [0, 1], 'k--')\n",
    "plt.plot(fpr_keras, tpr_keras, label='Keras (area = {:.3f})'.format(auc_keras))\n",
    "plt.xlabel('False positive rate')\n",
    "plt.ylabel('True positive rate')\n",
    "plt.title('ROC curve')\n",
    "plt.legend(loc='best')\n",
    "plt.show()"
   ]
  },
  {
   "cell_type": "code",
   "execution_count": 197,
   "metadata": {},
   "outputs": [
    {
     "data": {
      "text/plain": [
       "array([[1008,  348],\n",
       "       [ 671,  580]], dtype=int64)"
      ]
     },
     "execution_count": 197,
     "metadata": {},
     "output_type": "execute_result"
    }
   ],
   "source": [
    "confusion_matrix(y_val.ravel(), df_predictions.values.ravel())"
   ]
  },
  {
   "cell_type": "markdown",
   "metadata": {},
   "source": [
    "## Second Model"
   ]
  },
  {
   "cell_type": "code",
   "execution_count": 163,
   "metadata": {},
   "outputs": [],
   "source": [
    "from keras.layers import Dense, Input, Flatten, Reshape, concatenate, Dropout, Concatenate, Activation\n",
    "from keras.layers import Conv1D, Conv2D, MaxPooling1D, MaxPooling2D, Embedding, MaxPool2D, AvgPool2D\n",
    "from keras.callbacks import ModelCheckpoint\n",
    "from keras.callbacks import TensorBoard\n",
    "from keras.models import Model\n",
    "from keras import optimizers\n",
    "from keras import regularizers\n",
    "\n",
    "from keras.optimizers import Adam"
   ]
  },
  {
   "cell_type": "code",
   "execution_count": 201,
   "metadata": {},
   "outputs": [],
   "source": [
    "def _bn_relu(input):\n",
    "    \"\"\"Helper to build a BN -> relu block\n",
    "    \"\"\"\n",
    "    norm = BatchNormalization(axis=3)(input)\n",
    "    return Activation(\"relu\")(norm)\n",
    "\n",
    "def _relu_bn(input):\n",
    "    \"\"\"Helper to build a relu -> BN block\n",
    "    \"\"\"\n",
    "    act = Activation(\"relu\")(input)\n",
    "    return BatchNormalization(axis=3)(act)"
   ]
  },
  {
   "cell_type": "code",
   "execution_count": 226,
   "metadata": {},
   "outputs": [
    {
     "name": "stdout",
     "output_type": "stream",
     "text": [
      "Traning Model...\n",
      "__________________________________________________________________________________________________\n",
      "Layer (type)                    Output Shape         Param #     Connected to                     \n",
      "==================================================================================================\n",
      "input_d2v (InputLayer)          (None, 50, 100, 11)  0                                            \n",
      "__________________________________________________________________________________________________\n",
      "conv2d_24 (Conv2D)              (None, 48, 1, 100)   330100      input_d2v[0][0]                  \n",
      "__________________________________________________________________________________________________\n",
      "conv2d_25 (Conv2D)              (None, 47, 1, 100)   440100      input_d2v[0][0]                  \n",
      "__________________________________________________________________________________________________\n",
      "conv2d_26 (Conv2D)              (None, 46, 1, 100)   550100      input_d2v[0][0]                  \n",
      "__________________________________________________________________________________________________\n",
      "batch_normalization_36 (BatchNo (None, 48, 1, 100)   400         conv2d_24[0][0]                  \n",
      "__________________________________________________________________________________________________\n",
      "batch_normalization_37 (BatchNo (None, 47, 1, 100)   400         conv2d_25[0][0]                  \n",
      "__________________________________________________________________________________________________\n",
      "batch_normalization_38 (BatchNo (None, 46, 1, 100)   400         conv2d_26[0][0]                  \n",
      "__________________________________________________________________________________________________\n",
      "activation_10 (Activation)      (None, 48, 1, 100)   0           batch_normalization_36[0][0]     \n",
      "__________________________________________________________________________________________________\n",
      "activation_11 (Activation)      (None, 47, 1, 100)   0           batch_normalization_37[0][0]     \n",
      "__________________________________________________________________________________________________\n",
      "activation_12 (Activation)      (None, 46, 1, 100)   0           batch_normalization_38[0][0]     \n",
      "__________________________________________________________________________________________________\n",
      "average_pooling2d_16 (AveragePo (None, 1, 1, 100)    0           activation_10[0][0]              \n",
      "__________________________________________________________________________________________________\n",
      "max_pooling2d_15 (MaxPooling2D) (None, 1, 1, 100)    0           activation_11[0][0]              \n",
      "__________________________________________________________________________________________________\n",
      "max_pooling2d_16 (MaxPooling2D) (None, 1, 1, 100)    0           activation_12[0][0]              \n",
      "__________________________________________________________________________________________________\n",
      "dropout_31 (Dropout)            (None, 1, 1, 100)    0           average_pooling2d_16[0][0]       \n",
      "__________________________________________________________________________________________________\n",
      "dropout_32 (Dropout)            (None, 1, 1, 100)    0           max_pooling2d_15[0][0]           \n",
      "__________________________________________________________________________________________________\n",
      "dropout_33 (Dropout)            (None, 1, 1, 100)    0           max_pooling2d_16[0][0]           \n",
      "__________________________________________________________________________________________________\n",
      "concatenate_7 (Concatenate)     (None, 1, 1, 300)    0           dropout_31[0][0]                 \n",
      "                                                                 dropout_32[0][0]                 \n",
      "                                                                 dropout_33[0][0]                 \n",
      "__________________________________________________________________________________________________\n",
      "input_rets (InputLayer)         (None, 11)           0                                            \n",
      "__________________________________________________________________________________________________\n",
      "flatten_16 (Flatten)            (None, 300)          0           concatenate_7[0][0]              \n",
      "__________________________________________________________________________________________________\n",
      "dense_31 (Dense)                (None, 50)           600         input_rets[0][0]                 \n",
      "__________________________________________________________________________________________________\n",
      "concatenate_8 (Concatenate)     (None, 350)          0           flatten_16[0][0]                 \n",
      "                                                                 dense_31[0][0]                   \n",
      "__________________________________________________________________________________________________\n",
      "dense_32 (Dense)                (None, 256)          89856       concatenate_8[0][0]              \n",
      "__________________________________________________________________________________________________\n",
      "dropout_34 (Dropout)            (None, 256)          0           dense_32[0][0]                   \n",
      "__________________________________________________________________________________________________\n",
      "dense_33 (Dense)                (None, 128)          32896       dropout_34[0][0]                 \n",
      "__________________________________________________________________________________________________\n",
      "dropout_35 (Dropout)            (None, 128)          0           dense_33[0][0]                   \n",
      "__________________________________________________________________________________________________\n",
      "dense_34 (Dense)                (None, 11)           1419        dropout_35[0][0]                 \n",
      "==================================================================================================\n",
      "Total params: 1,446,271\n",
      "Trainable params: 1,445,671\n",
      "Non-trainable params: 600\n",
      "__________________________________________________________________________________________________\n"
     ]
    }
   ],
   "source": [
    "inputs = Input(shape=x_train.shape[1:], dtype=\"float64\", name=\"input_d2v\")#, dtype='int32'[1:]\n",
    "\n",
    "return_inputs = Input(shape=x_ret_train.shape[1:], name=\"input_rets\")#, dtype=\"float64\")\n",
    "\n",
    "#reshape = Reshape((x_train[0],sequence_length,embedding_dim,11))(x_train)\n",
    "dense_returns = Dense(50, activation=custom_tanh)(return_inputs)\n",
    "\n",
    "conv_0 = Conv2D(num_filters, kernel_size=(filter_sizes[0], embedding_dim), padding='valid', \n",
    "                kernel_initializer='normal', kernel_regularizer=regularizers.l1(0.001))(inputs) #, activation='relu'\n",
    "batch_norm_0 = _bn_relu(conv_0)\n",
    "conv_1 = Conv2D(num_filters, kernel_size=(filter_sizes[1], embedding_dim), padding='valid', \n",
    "                kernel_initializer='normal', kernel_regularizer=regularizers.l1(0.001))(inputs) #, activation='relu'\n",
    "batch_norm_1 = _bn_relu(conv_1)#atchNormalization()(conv_1)\n",
    "conv_2 = Conv2D(num_filters, kernel_size=(filter_sizes[2], embedding_dim), padding='valid', \n",
    "                kernel_initializer='normal', kernel_regularizer=regularizers.l1(0.001))(inputs) #, activation='relu'\n",
    "batch_norm_2 = _bn_relu(conv_2) #BatchNormalization()(conv_2)\n",
    "\n",
    "\n",
    "\n",
    "maxpool_0 = MaxPool2D(pool_size=(sequence_length - filter_sizes[0] + 1, 1), \n",
    "                      strides=(1,1), padding='valid')(batch_norm_0)#(conv_0)\n",
    "avgpool_0 = AvgPool2D(pool_size=(sequence_length - filter_sizes[0] + 1, 1), \n",
    "                      strides=(1,1), padding='valid')(batch_norm_0)#(conv_0)\n",
    "dropout_0 = Dropout(0.5)(avgpool_0)\n",
    "maxpool_1 = MaxPool2D(pool_size=(sequence_length - filter_sizes[1] + 1, 1), \n",
    "                      strides=(1,1), padding='valid')(batch_norm_1)#(conv_1)\n",
    "avgpool_1 = AvgPool2D(pool_size=(sequence_length - filter_sizes[1] + 1, 1), \n",
    "                      strides=(1,1), padding='valid')(batch_norm_1)#(conv_0)\n",
    "dropout_1 = Dropout(0.5)(maxpool_1)\n",
    "maxpool_2 = MaxPool2D(pool_size=(sequence_length - filter_sizes[2] + 1, 1), \n",
    "                      strides=(1,1), padding='valid')(batch_norm_2)#(conv_2)\n",
    "avgpool_2 = AvgPool2D(pool_size=(sequence_length - filter_sizes[2] + 1, 1), \n",
    "                      strides=(1,1), padding='valid')(batch_norm_2)#(conv_0)\n",
    "dropout_2 = Dropout(0.5)(maxpool_2)\n",
    "\n",
    "concatenated_tensor = concatenate([dropout_0, dropout_1, dropout_2]) #(axis=1) ([maxpool_0, maxpool_1, maxpool_2])\n",
    "flatten = Flatten()(concatenated_tensor)\n",
    "flatten_with_returns = concatenate([flatten, dense_returns])\n",
    "#flatten_2 = Flatten()(flatten_with_returns)\n",
    "hidden_layer = Dense(256, activation=\"relu\")(flatten_with_returns) #flatten\n",
    "dropout_3 = Dropout(0.5)(hidden_layer)\n",
    "hidden_layer_2 = Dense(128, activation=\"relu\")(dropout_3) #flatten\n",
    "dropout_4 = Dropout(0.5)(hidden_layer_2)\n",
    "output = Dense(num_classes, activation=custom_sigmoid)(dropout_4) #\"softmax\"\n",
    "\n",
    "# this creates a model that includes\n",
    "model = Model(inputs=[inputs, return_inputs], outputs=output)\n",
    "\n",
    "checkpoint = ModelCheckpoint('weights.{epoch:03d}-{val_acc:.4f}.hdf5', monitor='val_acc', verbose=2, \n",
    "                             save_best_only=True, mode='auto')\n",
    "tensorboard = TensorBoard(log_dir='./logs/run1', histogram_freq=1, write_graph=True, write_images=False)  \n",
    "\n",
    "adam = Adam(lr=1e-4, beta_1=0.9, beta_2=0.999, epsilon=1e-8, decay=0.0) #1e-8\n",
    "\n",
    "model.compile(optimizer=adam, loss='binary_crossentropy', metrics=['accuracy', f1, recall, precision])\n",
    "print(\"Traning Model...\")\n",
    "model.summary()"
   ]
  },
  {
   "cell_type": "code",
   "execution_count": 214,
   "metadata": {},
   "outputs": [],
   "source": [
    "model_train_input = {\"input_d2v\": x_train_aug, \"input_rets\": x_ret_train_aug}\n",
    "model_val_input = {\"input_d2v\": x_val_aug, \"input_rets\": x_ret_val_aug}"
   ]
  },
  {
   "cell_type": "code",
   "execution_count": 228,
   "metadata": {},
   "outputs": [
    {
     "data": {
      "text/plain": [
       "(709, 11)"
      ]
     },
     "execution_count": 228,
     "metadata": {},
     "output_type": "execute_result"
    }
   ],
   "source": [
    "y_train_aug.shape"
   ]
  },
  {
   "cell_type": "code",
   "execution_count": 229,
   "metadata": {},
   "outputs": [
    {
     "name": "stdout",
     "output_type": "stream",
     "text": [
      "Train on 709 samples, validate on 473 samples\n",
      "Epoch 1/60\n",
      "Epoch 00001: val_acc improved from -inf to 0.51586, saving model to weights.001-0.5159.hdf5\n",
      " - 17s - loss: 53.4596 - acc: 0.5025 - f1: 0.4684 - recall: 0.4545 - precision: 0.4845 - val_loss: 52.4392 - val_acc: 0.5159 - val_f1: 0.4465 - val_recall: 0.3919 - val_precision: 0.5213\n",
      "Epoch 2/60\n",
      "Epoch 00002: val_acc improved from 0.51586 to 0.51797, saving model to weights.002-0.5180.hdf5\n",
      " - 14s - loss: 52.0671 - acc: 0.4906 - f1: 0.4689 - recall: 0.4661 - precision: 0.4732 - val_loss: 50.8920 - val_acc: 0.5180 - val_f1: 0.4728 - val_recall: 0.4338 - val_precision: 0.5215\n",
      "Epoch 3/60\n",
      "Epoch 00003: val_acc did not improve\n",
      " - 16s - loss: 50.7114 - acc: 0.4976 - f1: 0.4789 - recall: 0.4783 - precision: 0.4806 - val_loss: 49.6703 - val_acc: 0.5178 - val_f1: 0.5077 - val_recall: 0.4992 - val_precision: 0.5193\n",
      "Epoch 4/60\n",
      "Epoch 00004: val_acc improved from 0.51797 to 0.51835, saving model to weights.004-0.5184.hdf5\n",
      " - 14s - loss: 49.4857 - acc: 0.5034 - f1: 0.4977 - recall: 0.5094 - precision: 0.4874 - val_loss: 48.4887 - val_acc: 0.5184 - val_f1: 0.5150 - val_recall: 0.5132 - val_precision: 0.5189\n",
      "Epoch 5/60\n",
      "Epoch 00005: val_acc did not improve\n",
      " - 14s - loss: 48.2630 - acc: 0.5081 - f1: 0.5049 - recall: 0.5194 - precision: 0.4924 - val_loss: 47.3239 - val_acc: 0.5097 - val_f1: 0.4996 - val_recall: 0.4910 - val_precision: 0.5112\n",
      "Epoch 6/60\n",
      "Epoch 00006: val_acc did not improve\n",
      " - 15s - loss: 47.0891 - acc: 0.4907 - f1: 0.4859 - recall: 0.4984 - precision: 0.4751 - val_loss: 46.1756 - val_acc: 0.5068 - val_f1: 0.4968 - val_recall: 0.4885 - val_precision: 0.5079\n",
      "Epoch 7/60\n",
      "Epoch 00007: val_acc did not improve\n",
      " - 14s - loss: 45.8970 - acc: 0.5021 - f1: 0.4918 - recall: 0.4999 - precision: 0.4870 - val_loss: 45.0432 - val_acc: 0.5111 - val_f1: 0.5051 - val_recall: 0.5007 - val_precision: 0.5121\n",
      "Epoch 8/60\n",
      "Epoch 00008: val_acc did not improve\n",
      " - 14s - loss: 44.7687 - acc: 0.5013 - f1: 0.4924 - recall: 0.5007 - precision: 0.4858 - val_loss: 43.9280 - val_acc: 0.5118 - val_f1: 0.5192 - val_recall: 0.5289 - val_precision: 0.5119\n",
      "Epoch 9/60\n",
      "Epoch 00009: val_acc did not improve\n",
      " - 14s - loss: 43.6127 - acc: 0.5065 - f1: 0.4958 - recall: 0.5024 - precision: 0.4905 - val_loss: 42.8261 - val_acc: 0.5118 - val_f1: 0.5153 - val_recall: 0.5209 - val_precision: 0.5116\n",
      "Epoch 10/60\n",
      "Epoch 00010: val_acc did not improve\n",
      " - 15s - loss: 42.5344 - acc: 0.4978 - f1: 0.4886 - recall: 0.4970 - precision: 0.4818 - val_loss: 41.7414 - val_acc: 0.5103 - val_f1: 0.5245 - val_recall: 0.5422 - val_precision: 0.5094\n",
      "Epoch 11/60\n",
      "Epoch 00011: val_acc did not improve\n",
      " - 14s - loss: 41.4440 - acc: 0.4981 - f1: 0.4841 - recall: 0.4875 - precision: 0.4816 - val_loss: 40.6725 - val_acc: 0.5005 - val_f1: 0.5215 - val_recall: 0.5465 - val_precision: 0.5007\n",
      "Epoch 12/60\n",
      "Epoch 00012: val_acc did not improve\n",
      " - 14s - loss: 40.3511 - acc: 0.5061 - f1: 0.4979 - recall: 0.5077 - precision: 0.4900 - val_loss: 39.6196 - val_acc: 0.4963 - val_f1: 0.5241 - val_recall: 0.5571 - val_precision: 0.4967\n",
      "Epoch 13/60\n",
      "Epoch 00013: val_acc did not improve\n",
      " - 14s - loss: 39.3175 - acc: 0.4858 - f1: 0.4710 - recall: 0.4745 - precision: 0.4695 - val_loss: 38.5836 - val_acc: 0.4993 - val_f1: 0.5139 - val_recall: 0.5316 - val_precision: 0.4996\n",
      "Epoch 14/60\n",
      "Epoch 00014: val_acc did not improve\n",
      " - 14s - loss: 38.2674 - acc: 0.4997 - f1: 0.4820 - recall: 0.4821 - precision: 0.4829 - val_loss: 37.5649 - val_acc: 0.5007 - val_f1: 0.5093 - val_recall: 0.5203 - val_precision: 0.5002\n",
      "Epoch 15/60\n",
      "Epoch 00015: val_acc did not improve\n",
      " - 14s - loss: 37.2425 - acc: 0.5053 - f1: 0.4878 - recall: 0.4885 - precision: 0.4883 - val_loss: 36.5623 - val_acc: 0.4997 - val_f1: 0.5159 - val_recall: 0.5351 - val_precision: 0.4999\n",
      "Epoch 16/60\n",
      "Epoch 00016: val_acc did not improve\n",
      " - 14s - loss: 36.2482 - acc: 0.4956 - f1: 0.4784 - recall: 0.4793 - precision: 0.4783 - val_loss: 35.5776 - val_acc: 0.4997 - val_f1: 0.5230 - val_recall: 0.5507 - val_precision: 0.5002\n",
      "Epoch 17/60\n",
      "Epoch 00017: val_acc did not improve\n",
      " - 14s - loss: 35.2546 - acc: 0.5066 - f1: 0.4883 - recall: 0.4881 - precision: 0.4910 - val_loss: 34.6096 - val_acc: 0.4966 - val_f1: 0.5264 - val_recall: 0.5615 - val_precision: 0.4973\n",
      "Epoch 18/60\n",
      "Epoch 00018: val_acc did not improve\n",
      " - 14s - loss: 34.2847 - acc: 0.5122 - f1: 0.5008 - recall: 0.5078 - precision: 0.4956 - val_loss: 33.6583 - val_acc: 0.4988 - val_f1: 0.5364 - val_recall: 0.5823 - val_precision: 0.4990\n",
      "Epoch 19/60\n",
      "Epoch 00019: val_acc did not improve\n",
      " - 14s - loss: 33.3410 - acc: 0.5065 - f1: 0.5011 - recall: 0.5136 - precision: 0.4899 - val_loss: 32.7244 - val_acc: 0.4999 - val_f1: 0.5282 - val_recall: 0.5619 - val_precision: 0.5002\n",
      "Epoch 20/60\n",
      "Epoch 00020: val_acc did not improve\n",
      " - 14s - loss: 32.4159 - acc: 0.4997 - f1: 0.4852 - recall: 0.4879 - precision: 0.4830 - val_loss: 31.8079 - val_acc: 0.5011 - val_f1: 0.5233 - val_recall: 0.5499 - val_precision: 0.5011\n",
      "Epoch 21/60\n",
      "Epoch 00021: val_acc did not improve\n",
      " - 14s - loss: 31.4991 - acc: 0.5037 - f1: 0.4851 - recall: 0.4841 - precision: 0.4868 - val_loss: 30.9092 - val_acc: 0.5003 - val_f1: 0.5166 - val_recall: 0.5362 - val_precision: 0.5008\n",
      "Epoch 22/60\n",
      "Epoch 00022: val_acc did not improve\n",
      " - 14s - loss: 30.5984 - acc: 0.5134 - f1: 0.4961 - recall: 0.4962 - precision: 0.4963 - val_loss: 30.0278 - val_acc: 0.5001 - val_f1: 0.5253 - val_recall: 0.5552 - val_precision: 0.5006\n",
      "Epoch 23/60\n",
      "Epoch 00023: val_acc did not improve\n",
      " - 14s - loss: 29.7278 - acc: 0.5093 - f1: 0.4941 - recall: 0.4965 - precision: 0.4930 - val_loss: 29.1636 - val_acc: 0.5034 - val_f1: 0.5333 - val_recall: 0.5698 - val_precision: 0.5031\n",
      "Epoch 24/60\n",
      "Epoch 00024: val_acc did not improve\n",
      " - 15s - loss: 28.8638 - acc: 0.5102 - f1: 0.4960 - recall: 0.4989 - precision: 0.4940 - val_loss: 28.3169 - val_acc: 0.5018 - val_f1: 0.5327 - val_recall: 0.5704 - val_precision: 0.5013\n",
      "Epoch 25/60\n",
      "Epoch 00025: val_acc did not improve\n",
      " - 14s - loss: 28.0288 - acc: 0.5037 - f1: 0.4875 - recall: 0.4891 - precision: 0.4874 - val_loss: 27.4876 - val_acc: 0.5053 - val_f1: 0.5304 - val_recall: 0.5614 - val_precision: 0.5041\n",
      "Epoch 26/60\n",
      "Epoch 00026: val_acc did not improve\n",
      " - 14s - loss: 27.1966 - acc: 0.5062 - f1: 0.4840 - recall: 0.4800 - precision: 0.4895 - val_loss: 26.6756 - val_acc: 0.5055 - val_f1: 0.5370 - val_recall: 0.5761 - val_precision: 0.5044\n",
      "Epoch 27/60\n",
      "Epoch 00027: val_acc did not improve\n",
      " - 14s - loss: 26.3919 - acc: 0.5089 - f1: 0.4861 - recall: 0.4811 - precision: 0.4924 - val_loss: 25.8808 - val_acc: 0.5093 - val_f1: 0.5420 - val_recall: 0.5832 - val_precision: 0.5079\n",
      "Epoch 28/60\n",
      "Epoch 00028: val_acc did not improve\n",
      " - 14s - loss: 25.6047 - acc: 0.5075 - f1: 0.4855 - recall: 0.4814 - precision: 0.4906 - val_loss: 25.1038 - val_acc: 0.5135 - val_f1: 0.5393 - val_recall: 0.5718 - val_precision: 0.5124\n",
      "Epoch 29/60\n",
      "Epoch 00029: val_acc did not improve\n",
      " - 14s - loss: 24.8381 - acc: 0.5046 - f1: 0.4837 - recall: 0.4800 - precision: 0.4878 - val_loss: 24.3439 - val_acc: 0.5135 - val_f1: 0.5327 - val_recall: 0.5569 - val_precision: 0.5126\n",
      "Epoch 30/60\n",
      "Epoch 00030: val_acc did not improve\n",
      " - 14s - loss: 24.0836 - acc: 0.5025 - f1: 0.4800 - recall: 0.4765 - precision: 0.4860 - val_loss: 23.6014 - val_acc: 0.5164 - val_f1: 0.5255 - val_recall: 0.5377 - val_precision: 0.5156\n",
      "Epoch 31/60\n",
      "Epoch 00031: val_acc did not improve\n",
      " - 14s - loss: 23.3447 - acc: 0.5061 - f1: 0.4844 - recall: 0.4814 - precision: 0.4897 - val_loss: 22.8763 - val_acc: 0.5145 - val_f1: 0.5174 - val_recall: 0.5227 - val_precision: 0.5137\n",
      "Epoch 32/60\n",
      "Epoch 00032: val_acc did not improve\n",
      " - 14s - loss: 22.6232 - acc: 0.5007 - f1: 0.4812 - recall: 0.4795 - precision: 0.4838 - val_loss: 22.1679 - val_acc: 0.5141 - val_f1: 0.5056 - val_recall: 0.4991 - val_precision: 0.5136\n",
      "Epoch 33/60\n",
      "Epoch 00033: val_acc improved from 0.51835 to 0.52162, saving model to weights.033-0.5216.hdf5\n",
      " - 14s - loss: 21.9210 - acc: 0.5040 - f1: 0.4839 - recall: 0.4820 - precision: 0.4868 - val_loss: 21.4770 - val_acc: 0.5216 - val_f1: 0.5101 - val_recall: 0.5001 - val_precision: 0.5222\n",
      "Epoch 34/60\n",
      "Epoch 00034: val_acc did not improve\n",
      " - 14s - loss: 21.2262 - acc: 0.5166 - f1: 0.4959 - recall: 0.4928 - precision: 0.4999 - val_loss: 20.8030 - val_acc: 0.5176 - val_f1: 0.5126 - val_recall: 0.5094 - val_precision: 0.5177\n",
      "Epoch 35/60\n",
      "Epoch 00035: val_acc did not improve\n",
      " - 14s - loss: 20.5719 - acc: 0.4980 - f1: 0.4758 - recall: 0.4720 - precision: 0.4817 - val_loss: 20.1456 - val_acc: 0.5207 - val_f1: 0.5109 - val_recall: 0.5028 - val_precision: 0.5210\n",
      "Epoch 36/60\n",
      "Epoch 00036: val_acc did not improve\n",
      " - 14s - loss: 19.9159 - acc: 0.5040 - f1: 0.4827 - recall: 0.4792 - precision: 0.4873 - val_loss: 19.5043 - val_acc: 0.5187 - val_f1: 0.5106 - val_recall: 0.5043 - val_precision: 0.5188\n",
      "Epoch 37/60\n",
      "Epoch 00037: val_acc improved from 0.52162 to 0.52220, saving model to weights.037-0.5222.hdf5\n",
      " - 14s - loss: 19.2760 - acc: 0.5083 - f1: 0.4851 - recall: 0.4795 - precision: 0.4914 - val_loss: 18.8790 - val_acc: 0.5222 - val_f1: 0.5074 - val_recall: 0.4938 - val_precision: 0.5240\n",
      "Epoch 38/60\n",
      "Epoch 00038: val_acc improved from 0.52220 to 0.52258, saving model to weights.038-0.5226.hdf5\n",
      " - 15s - loss: 18.6571 - acc: 0.5092 - f1: 0.4862 - recall: 0.4808 - precision: 0.4927 - val_loss: 18.2703 - val_acc: 0.5226 - val_f1: 0.5022 - val_recall: 0.4833 - val_precision: 0.5250\n",
      "Epoch 39/60\n",
      "Epoch 00039: val_acc did not improve\n",
      " - 14s - loss: 18.0499 - acc: 0.5166 - f1: 0.4909 - recall: 0.4833 - precision: 0.5001 - val_loss: 17.6769 - val_acc: 0.5178 - val_f1: 0.4891 - val_recall: 0.4631 - val_precision: 0.5205\n",
      "Epoch 40/60\n",
      "Epoch 00040: val_acc did not improve\n",
      " - 14s - loss: 17.4697 - acc: 0.4990 - f1: 0.4722 - recall: 0.4645 - precision: 0.4817 - val_loss: 17.0992 - val_acc: 0.5134 - val_f1: 0.4718 - val_recall: 0.4363 - val_precision: 0.5159\n",
      "Epoch 41/60\n",
      "Epoch 00041: val_acc did not improve\n",
      " - 15s - loss: 16.8906 - acc: 0.5130 - f1: 0.4845 - recall: 0.4738 - precision: 0.4965 - val_loss: 16.5364 - val_acc: 0.5120 - val_f1: 0.4711 - val_recall: 0.4368 - val_precision: 0.5132\n",
      "Epoch 42/60\n",
      "Epoch 00042: val_acc did not improve\n",
      " - 14s - loss: 16.3366 - acc: 0.5071 - f1: 0.4828 - recall: 0.4766 - precision: 0.4904 - val_loss: 15.9886 - val_acc: 0.5172 - val_f1: 0.4819 - val_recall: 0.4508 - val_precision: 0.5194\n",
      "Epoch 43/60\n",
      "Epoch 00043: val_acc did not improve\n",
      " - 15s - loss: 15.7924 - acc: 0.5031 - f1: 0.4781 - recall: 0.4721 - precision: 0.4858 - val_loss: 15.4556 - val_acc: 0.5184 - val_f1: 0.4886 - val_recall: 0.4625 - val_precision: 0.5198\n",
      "Epoch 44/60\n",
      "Epoch 00044: val_acc did not improve\n",
      " - 14s - loss: 15.2743 - acc: 0.4984 - f1: 0.4808 - recall: 0.4818 - precision: 0.4811 - val_loss: 14.9376 - val_acc: 0.5197 - val_f1: 0.4897 - val_recall: 0.4630 - val_precision: 0.5217\n",
      "Epoch 45/60\n",
      "Epoch 00045: val_acc did not improve\n",
      " - 14s - loss: 14.7532 - acc: 0.5051 - f1: 0.4779 - recall: 0.4700 - precision: 0.4880 - val_loss: 14.4341 - val_acc: 0.5195 - val_f1: 0.4920 - val_recall: 0.4674 - val_precision: 0.5211\n",
      "Epoch 46/60\n",
      "Epoch 00046: val_acc did not improve\n",
      " - 14s - loss: 14.2544 - acc: 0.5063 - f1: 0.4811 - recall: 0.4743 - precision: 0.4894 - val_loss: 13.9446 - val_acc: 0.5195 - val_f1: 0.4897 - val_recall: 0.4632 - val_precision: 0.5217\n",
      "Epoch 47/60\n",
      "Epoch 00047: val_acc did not improve\n",
      " - 14s - loss: 13.7736 - acc: 0.5003 - f1: 0.4697 - recall: 0.4585 - precision: 0.4829 - val_loss: 13.4689 - val_acc: 0.5193 - val_f1: 0.4838 - val_recall: 0.4525 - val_precision: 0.5214\n",
      "Epoch 48/60\n",
      "Epoch 00048: val_acc did not improve\n",
      " - 14s - loss: 13.2990 - acc: 0.5070 - f1: 0.4823 - recall: 0.4762 - precision: 0.4894 - val_loss: 13.0072 - val_acc: 0.5137 - val_f1: 0.4810 - val_recall: 0.4525 - val_precision: 0.5150\n",
      "Epoch 49/60\n",
      "Epoch 00049: val_acc did not improve\n",
      " - 14s - loss: 12.8397 - acc: 0.5121 - f1: 0.4853 - recall: 0.4773 - precision: 0.4953 - val_loss: 12.5585 - val_acc: 0.5149 - val_f1: 0.4720 - val_recall: 0.4353 - val_precision: 0.5169\n",
      "Epoch 50/60\n",
      "Epoch 00050: val_acc did not improve\n",
      " - 14s - loss: 12.3962 - acc: 0.5076 - f1: 0.4838 - recall: 0.4785 - precision: 0.4906 - val_loss: 12.1233 - val_acc: 0.5114 - val_f1: 0.4716 - val_recall: 0.4376 - val_precision: 0.5129\n",
      "Epoch 51/60\n",
      "Epoch 00051: val_acc did not improve\n",
      " - 14s - loss: 11.9623 - acc: 0.5230 - f1: 0.4933 - recall: 0.4810 - precision: 0.5075 - val_loss: 11.7009 - val_acc: 0.5145 - val_f1: 0.4882 - val_recall: 0.4648 - val_precision: 0.5159\n",
      "Epoch 52/60\n",
      "Epoch 00052: val_acc did not improve\n",
      " - 15s - loss: 11.5498 - acc: 0.5048 - f1: 0.4787 - recall: 0.4713 - precision: 0.4877 - val_loss: 11.2916 - val_acc: 0.5111 - val_f1: 0.4922 - val_recall: 0.4756 - val_precision: 0.5119\n",
      "Epoch 53/60\n",
      "Epoch 00053: val_acc did not improve\n",
      " - 14s - loss: 11.1477 - acc: 0.5017 - f1: 0.4736 - recall: 0.4641 - precision: 0.4840 - val_loss: 10.8954 - val_acc: 0.5109 - val_f1: 0.4913 - val_recall: 0.4743 - val_precision: 0.5113\n",
      "Epoch 54/60\n",
      "Epoch 00054: val_acc did not improve\n",
      " - 14s - loss: 10.7560 - acc: 0.5053 - f1: 0.4797 - recall: 0.4726 - precision: 0.4882 - val_loss: 10.5113 - val_acc: 0.5093 - val_f1: 0.4745 - val_recall: 0.4447 - val_precision: 0.5106\n",
      "Epoch 55/60\n",
      "Epoch 00055: val_acc did not improve\n",
      " - 14s - loss: 10.3756 - acc: 0.5042 - f1: 0.4748 - recall: 0.4647 - precision: 0.4861 - val_loss: 10.1385 - val_acc: 0.5080 - val_f1: 0.4618 - val_recall: 0.4238 - val_precision: 0.5092\n",
      "Epoch 56/60\n",
      "Epoch 00056: val_acc did not improve\n",
      " - 14s - loss: 10.0012 - acc: 0.5083 - f1: 0.4806 - recall: 0.4716 - precision: 0.4915 - val_loss: 9.7769 - val_acc: 0.5084 - val_f1: 0.4605 - val_recall: 0.4213 - val_precision: 0.5099\n",
      "Epoch 57/60\n",
      "Epoch 00057: val_acc did not improve\n",
      " - 15s - loss: 9.6486 - acc: 0.5121 - f1: 0.4856 - recall: 0.4774 - precision: 0.4956 - val_loss: 9.4275 - val_acc: 0.5080 - val_f1: 0.4629 - val_recall: 0.4258 - val_precision: 0.5094\n",
      "Epoch 58/60\n",
      "Epoch 00058: val_acc did not improve\n",
      " - 14s - loss: 9.3022 - acc: 0.5103 - f1: 0.4829 - recall: 0.4732 - precision: 0.4940 - val_loss: 9.0891 - val_acc: 0.5070 - val_f1: 0.4548 - val_recall: 0.4127 - val_precision: 0.5089\n",
      "Epoch 59/60\n",
      "Epoch 00059: val_acc did not improve\n",
      " - 15s - loss: 8.9670 - acc: 0.5039 - f1: 0.4766 - recall: 0.4682 - precision: 0.4871 - val_loss: 8.7617 - val_acc: 0.5068 - val_f1: 0.4442 - val_recall: 0.3954 - val_precision: 0.5088\n",
      "Epoch 60/60\n",
      "Epoch 00060: val_acc did not improve\n",
      " - 14s - loss: 8.6426 - acc: 0.5193 - f1: 0.4868 - recall: 0.4725 - precision: 0.5030 - val_loss: 8.4457 - val_acc: 0.5061 - val_f1: 0.4423 - val_recall: 0.3931 - val_precision: 0.5077\n"
     ]
    }
   ],
   "source": [
    "model2 = model.fit(model_train_input, y_train_aug, batch_size=70, epochs=60, verbose=2, callbacks=[checkpoint], #tensorboard\n",
    "                   validation_data=(model_val_input, y_val_aug)) # starts training"
   ]
  },
  {
   "cell_type": "code",
   "execution_count": 230,
   "metadata": {},
   "outputs": [
    {
     "data": {
      "image/png": "[encoded data removed]",
      "text/plain": [
       "<Figure size 432x288 with 1 Axes>"
      ]
     },
     "metadata": {},
     "output_type": "display_data"
    }
   ],
   "source": [
    "plt.plot(model2.history[\"acc\"], label=\"acc\")\n",
    "plt.plot(model2.history[\"val_acc\"], label=\"val_acc\")\n",
    "plt.axhline(0.5, c=\".3\")\n",
    "plt.legend()\n",
    "plt.show()"
   ]
  },
  {
   "cell_type": "code",
   "execution_count": 231,
   "metadata": {},
   "outputs": [
    {
     "data": {
      "image/png": "[encoded data removed]",
      "text/plain": [
       "<Figure size 432x288 with 1 Axes>"
      ]
     },
     "metadata": {},
     "output_type": "display_data"
    }
   ],
   "source": [
    "plt.plot(model2.history[\"f1\"], label=\"f1\")\n",
    "plt.plot(model2.history[\"val_f1\"], label=\"val_f1\")\n",
    "\n",
    "plt.legend()\n",
    "plt.show()"
   ]
  },
  {
   "cell_type": "code",
   "execution_count": 232,
   "metadata": {},
   "outputs": [
    {
     "data": {
      "image/png": "[encoded data removed]",
      "text/plain": [
       "<Figure size 432x288 with 1 Axes>"
      ]
     },
     "metadata": {},
     "output_type": "display_data"
    }
   ],
   "source": [
    "plt.plot(model2.history[\"recall\"], label=\"recall\")\n",
    "plt.plot(model2.history[\"val_recall\"], label=\"val_recall\")\n",
    "\n",
    "plt.legend()\n",
    "plt.show()"
   ]
  },
  {
   "cell_type": "code",
   "execution_count": 233,
   "metadata": {},
   "outputs": [
    {
     "data": {
      "image/png": "[encoded data removed]",
      "text/plain": [
       "<Figure size 432x288 with 1 Axes>"
      ]
     },
     "metadata": {},
     "output_type": "display_data"
    }
   ],
   "source": [
    "plt.plot(model2.history[\"loss\"], label=\"acc\")\n",
    "plt.plot(model2.history[\"val_loss\"], label=\"val_acc\")\n",
    "plt.legend()\n",
    "plt.show()"
   ]
  },
  {
   "cell_type": "code",
   "execution_count": 249,
   "metadata": {},
   "outputs": [],
   "source": [
    "preds2 = model.predict([x_val_aug, x_ret_val_aug])"
   ]
  },
  {
   "cell_type": "code",
   "execution_count": 250,
   "metadata": {},
   "outputs": [
    {
     "data": {
      "text/html": [
       "<div>\n",
       "<style scoped>\n",
       "    .dataframe tbody tr th:only-of-type {\n",
       "        vertical-align: middle;\n",
       "    }\n",
       "\n",
       "    .dataframe tbody tr th {\n",
       "        vertical-align: top;\n",
       "    }\n",
       "\n",
       "    .dataframe thead th {\n",
       "        text-align: right;\n",
       "    }\n",
       "</style>\n",
       "<table border=\"1\" class=\"dataframe\">\n",
       "  <thead>\n",
       "    <tr style=\"text-align: right;\">\n",
       "      <th></th>\n",
       "      <th>Samsung</th>\n",
       "      <th>Telefonica</th>\n",
       "      <th>Allianz</th>\n",
       "      <th>Total</th>\n",
       "      <th>Bayer</th>\n",
       "      <th>Tesla</th>\n",
       "      <th>Airbus</th>\n",
       "      <th>Apple</th>\n",
       "      <th>BASF</th>\n",
       "      <th>BMW</th>\n",
       "      <th>Google</th>\n",
       "    </tr>\n",
       "  </thead>\n",
       "  <tbody>\n",
       "    <tr>\n",
       "      <th>0</th>\n",
       "      <td>0.499153</td>\n",
       "      <td>0.489549</td>\n",
       "      <td>0.497798</td>\n",
       "      <td>0.481692</td>\n",
       "      <td>0.511770</td>\n",
       "      <td>0.501572</td>\n",
       "      <td>0.493330</td>\n",
       "      <td>0.511813</td>\n",
       "      <td>0.493999</td>\n",
       "      <td>0.513070</td>\n",
       "      <td>0.492708</td>\n",
       "    </tr>\n",
       "    <tr>\n",
       "      <th>1</th>\n",
       "      <td>0.500997</td>\n",
       "      <td>0.491209</td>\n",
       "      <td>0.499835</td>\n",
       "      <td>0.479882</td>\n",
       "      <td>0.512351</td>\n",
       "      <td>0.502680</td>\n",
       "      <td>0.490224</td>\n",
       "      <td>0.506019</td>\n",
       "      <td>0.494460</td>\n",
       "      <td>0.516879</td>\n",
       "      <td>0.493678</td>\n",
       "    </tr>\n",
       "    <tr>\n",
       "      <th>2</th>\n",
       "      <td>0.495791</td>\n",
       "      <td>0.494380</td>\n",
       "      <td>0.501281</td>\n",
       "      <td>0.484438</td>\n",
       "      <td>0.510725</td>\n",
       "      <td>0.493457</td>\n",
       "      <td>0.496287</td>\n",
       "      <td>0.505958</td>\n",
       "      <td>0.502795</td>\n",
       "      <td>0.521306</td>\n",
       "      <td>0.497906</td>\n",
       "    </tr>\n",
       "    <tr>\n",
       "      <th>3</th>\n",
       "      <td>0.498678</td>\n",
       "      <td>0.485854</td>\n",
       "      <td>0.497780</td>\n",
       "      <td>0.484815</td>\n",
       "      <td>0.505942</td>\n",
       "      <td>0.496441</td>\n",
       "      <td>0.497731</td>\n",
       "      <td>0.514902</td>\n",
       "      <td>0.489731</td>\n",
       "      <td>0.511239</td>\n",
       "      <td>0.488325</td>\n",
       "    </tr>\n",
       "    <tr>\n",
       "      <th>4</th>\n",
       "      <td>0.502425</td>\n",
       "      <td>0.495174</td>\n",
       "      <td>0.502368</td>\n",
       "      <td>0.480965</td>\n",
       "      <td>0.515200</td>\n",
       "      <td>0.499358</td>\n",
       "      <td>0.491625</td>\n",
       "      <td>0.509043</td>\n",
       "      <td>0.502991</td>\n",
       "      <td>0.520657</td>\n",
       "      <td>0.497405</td>\n",
       "    </tr>\n",
       "  </tbody>\n",
       "</table>\n",
       "</div>"
      ],
      "text/plain": [
       "    Samsung  Telefonica   Allianz     Total     Bayer     Tesla    Airbus  \\\n",
       "0  0.499153    0.489549  0.497798  0.481692  0.511770  0.501572  0.493330   \n",
       "1  0.500997    0.491209  0.499835  0.479882  0.512351  0.502680  0.490224   \n",
       "2  0.495791    0.494380  0.501281  0.484438  0.510725  0.493457  0.496287   \n",
       "3  0.498678    0.485854  0.497780  0.484815  0.505942  0.496441  0.497731   \n",
       "4  0.502425    0.495174  0.502368  0.480965  0.515200  0.499358  0.491625   \n",
       "\n",
       "      Apple      BASF       BMW    Google  \n",
       "0  0.511813  0.493999  0.513070  0.492708  \n",
       "1  0.506019  0.494460  0.516879  0.493678  \n",
       "2  0.505958  0.502795  0.521306  0.497906  \n",
       "3  0.514902  0.489731  0.511239  0.488325  \n",
       "4  0.509043  0.502991  0.520657  0.497405  "
      ]
     },
     "execution_count": 250,
     "metadata": {},
     "output_type": "execute_result"
    }
   ],
   "source": [
    "df_predictions2 = pd.DataFrame(preds2, columns=fin_data_class.columns) #, index = fin_data_class.index\n",
    "df_predictions2.head()"
   ]
  },
  {
   "cell_type": "code",
   "execution_count": 251,
   "metadata": {},
   "outputs": [
    {
     "name": "stdout",
     "output_type": "stream",
     "text": [
      "Achieved Accuracy 55.18% with a cut at 0.51\n"
     ]
    }
   ],
   "source": [
    "#accs, cuts = try_cuts(df_predictions2, 50, subset=None) #, subset=slice(0,250)\n",
    "accs, fp, fn, cuts = try_cuts_arr(df_predictions2, 60)\n",
    "max_index = accs.index(max(accs))\n",
    "print(\"Achieved Accuracy {}% with a cut at {}\".format(round(max(accs)*100, 2), round(cuts[max_index], 2)))"
   ]
  },
  {
   "cell_type": "code",
   "execution_count": 252,
   "metadata": {},
   "outputs": [
    {
     "data": {
      "image/png": "[encoded data removed]",
      "text/plain": [
       "<Figure size 432x288 with 1 Axes>"
      ]
     },
     "metadata": {},
     "output_type": "display_data"
    }
   ],
   "source": [
    "plt.plot(cuts, fp, label=\"false pos\")\n",
    "plt.plot(cuts, fn, label=\"false neg\")\n",
    "plt.legend()\n",
    "plt.show()"
   ]
  },
  {
   "cell_type": "code",
   "execution_count": 253,
   "metadata": {},
   "outputs": [
    {
     "data": {
      "text/plain": [
       "Text(0,0.5,'Accuracy')"
      ]
     },
     "execution_count": 253,
     "metadata": {},
     "output_type": "execute_result"
    },
    {
     "data": {
      "image/png": "[encoded data removed]",
      "text/plain": [
       "<Figure size 432x288 with 1 Axes>"
      ]
     },
     "metadata": {},
     "output_type": "display_data"
    }
   ],
   "source": [
    "plt.plot(cuts, accs)\n",
    "plt.xlabel(\"Cuts\")\n",
    "plt.ylabel(\"Accuracy\")"
   ]
  },
  {
   "cell_type": "code",
   "execution_count": 254,
   "metadata": {},
   "outputs": [
    {
     "data": {
      "text/html": [
       "<div>\n",
       "<style scoped>\n",
       "    .dataframe tbody tr th:only-of-type {\n",
       "        vertical-align: middle;\n",
       "    }\n",
       "\n",
       "    .dataframe tbody tr th {\n",
       "        vertical-align: top;\n",
       "    }\n",
       "\n",
       "    .dataframe thead th {\n",
       "        text-align: right;\n",
       "    }\n",
       "</style>\n",
       "<table border=\"1\" class=\"dataframe\">\n",
       "  <thead>\n",
       "    <tr style=\"text-align: right;\">\n",
       "      <th></th>\n",
       "      <th>Samsung</th>\n",
       "      <th>Telefonica</th>\n",
       "      <th>Allianz</th>\n",
       "      <th>Total</th>\n",
       "      <th>Bayer</th>\n",
       "      <th>Tesla</th>\n",
       "      <th>Airbus</th>\n",
       "      <th>Apple</th>\n",
       "      <th>BASF</th>\n",
       "      <th>BMW</th>\n",
       "      <th>Google</th>\n",
       "    </tr>\n",
       "  </thead>\n",
       "  <tbody>\n",
       "    <tr>\n",
       "      <th>468</th>\n",
       "      <td>0</td>\n",
       "      <td>0</td>\n",
       "      <td>0</td>\n",
       "      <td>0</td>\n",
       "      <td>1</td>\n",
       "      <td>0</td>\n",
       "      <td>0</td>\n",
       "      <td>1</td>\n",
       "      <td>0</td>\n",
       "      <td>1</td>\n",
       "      <td>0</td>\n",
       "    </tr>\n",
       "    <tr>\n",
       "      <th>469</th>\n",
       "      <td>0</td>\n",
       "      <td>0</td>\n",
       "      <td>0</td>\n",
       "      <td>0</td>\n",
       "      <td>1</td>\n",
       "      <td>0</td>\n",
       "      <td>0</td>\n",
       "      <td>1</td>\n",
       "      <td>0</td>\n",
       "      <td>1</td>\n",
       "      <td>0</td>\n",
       "    </tr>\n",
       "    <tr>\n",
       "      <th>470</th>\n",
       "      <td>0</td>\n",
       "      <td>0</td>\n",
       "      <td>0</td>\n",
       "      <td>0</td>\n",
       "      <td>1</td>\n",
       "      <td>0</td>\n",
       "      <td>0</td>\n",
       "      <td>0</td>\n",
       "      <td>0</td>\n",
       "      <td>1</td>\n",
       "      <td>0</td>\n",
       "    </tr>\n",
       "    <tr>\n",
       "      <th>471</th>\n",
       "      <td>0</td>\n",
       "      <td>0</td>\n",
       "      <td>0</td>\n",
       "      <td>0</td>\n",
       "      <td>0</td>\n",
       "      <td>0</td>\n",
       "      <td>0</td>\n",
       "      <td>1</td>\n",
       "      <td>0</td>\n",
       "      <td>1</td>\n",
       "      <td>0</td>\n",
       "    </tr>\n",
       "    <tr>\n",
       "      <th>472</th>\n",
       "      <td>0</td>\n",
       "      <td>0</td>\n",
       "      <td>0</td>\n",
       "      <td>0</td>\n",
       "      <td>1</td>\n",
       "      <td>0</td>\n",
       "      <td>0</td>\n",
       "      <td>1</td>\n",
       "      <td>0</td>\n",
       "      <td>1</td>\n",
       "      <td>0</td>\n",
       "    </tr>\n",
       "  </tbody>\n",
       "</table>\n",
       "</div>"
      ],
      "text/plain": [
       "     Samsung  Telefonica  Allianz  Total  Bayer  Tesla  Airbus  Apple  BASF  \\\n",
       "468        0           0        0      0      1      0       0      1     0   \n",
       "469        0           0        0      0      1      0       0      1     0   \n",
       "470        0           0        0      0      1      0       0      0     0   \n",
       "471        0           0        0      0      0      0       0      1     0   \n",
       "472        0           0        0      0      1      0       0      1     0   \n",
       "\n",
       "     BMW  Google  \n",
       "468    1       0  \n",
       "469    1       0  \n",
       "470    1       0  \n",
       "471    1       0  \n",
       "472    1       0  "
      ]
     },
     "execution_count": 254,
     "metadata": {},
     "output_type": "execute_result"
    }
   ],
   "source": [
    "df_predictions2 = df_predictions2.applymap(lambda x: 1 if x > cuts[max_index] else 0) # cuts[max_index]\n",
    "df_predictions2.to_csv(\"./predictions/predictions_scnd_model_without_training_LOOKING_AT_PR.csv\")\n",
    "df_predictions2.tail()"
   ]
  },
  {
   "cell_type": "code",
   "execution_count": 255,
   "metadata": {},
   "outputs": [
    {
     "data": {
      "text/html": [
       "<div>\n",
       "<style scoped>\n",
       "    .dataframe tbody tr th:only-of-type {\n",
       "        vertical-align: middle;\n",
       "    }\n",
       "\n",
       "    .dataframe tbody tr th {\n",
       "        vertical-align: top;\n",
       "    }\n",
       "\n",
       "    .dataframe thead th {\n",
       "        text-align: right;\n",
       "    }\n",
       "</style>\n",
       "<table border=\"1\" class=\"dataframe\">\n",
       "  <thead>\n",
       "    <tr style=\"text-align: right;\">\n",
       "      <th></th>\n",
       "      <th>Samsung</th>\n",
       "      <th>Telefonica</th>\n",
       "      <th>Allianz</th>\n",
       "      <th>Total</th>\n",
       "      <th>Bayer</th>\n",
       "      <th>Tesla</th>\n",
       "      <th>Airbus</th>\n",
       "      <th>Apple</th>\n",
       "      <th>BASF</th>\n",
       "      <th>BMW</th>\n",
       "      <th>Google</th>\n",
       "    </tr>\n",
       "    <tr>\n",
       "      <th>Timestamp</th>\n",
       "      <th></th>\n",
       "      <th></th>\n",
       "      <th></th>\n",
       "      <th></th>\n",
       "      <th></th>\n",
       "      <th></th>\n",
       "      <th></th>\n",
       "      <th></th>\n",
       "      <th></th>\n",
       "      <th></th>\n",
       "      <th></th>\n",
       "    </tr>\n",
       "  </thead>\n",
       "  <tbody>\n",
       "    <tr>\n",
       "      <th>2018-06-11</th>\n",
       "      <td>1.0</td>\n",
       "      <td>0.0</td>\n",
       "      <td>1.0</td>\n",
       "      <td>1.0</td>\n",
       "      <td>0.0</td>\n",
       "      <td>0.0</td>\n",
       "      <td>1.0</td>\n",
       "      <td>1.0</td>\n",
       "      <td>1.0</td>\n",
       "      <td>1.0</td>\n",
       "      <td>0.0</td>\n",
       "    </tr>\n",
       "    <tr>\n",
       "      <th>2018-06-12</th>\n",
       "      <td>1.0</td>\n",
       "      <td>0.0</td>\n",
       "      <td>1.0</td>\n",
       "      <td>1.0</td>\n",
       "      <td>1.0</td>\n",
       "      <td>0.0</td>\n",
       "      <td>1.0</td>\n",
       "      <td>1.0</td>\n",
       "      <td>1.0</td>\n",
       "      <td>1.0</td>\n",
       "      <td>0.0</td>\n",
       "    </tr>\n",
       "    <tr>\n",
       "      <th>2018-06-14</th>\n",
       "      <td>1.0</td>\n",
       "      <td>0.0</td>\n",
       "      <td>1.0</td>\n",
       "      <td>0.0</td>\n",
       "      <td>1.0</td>\n",
       "      <td>0.0</td>\n",
       "      <td>1.0</td>\n",
       "      <td>1.0</td>\n",
       "      <td>1.0</td>\n",
       "      <td>1.0</td>\n",
       "      <td>1.0</td>\n",
       "    </tr>\n",
       "    <tr>\n",
       "      <th>2018-06-15</th>\n",
       "      <td>0.0</td>\n",
       "      <td>1.0</td>\n",
       "      <td>1.0</td>\n",
       "      <td>1.0</td>\n",
       "      <td>1.0</td>\n",
       "      <td>1.0</td>\n",
       "      <td>1.0</td>\n",
       "      <td>1.0</td>\n",
       "      <td>1.0</td>\n",
       "      <td>1.0</td>\n",
       "      <td>0.0</td>\n",
       "    </tr>\n",
       "    <tr>\n",
       "      <th>2018-06-18</th>\n",
       "      <td>1.0</td>\n",
       "      <td>1.0</td>\n",
       "      <td>1.0</td>\n",
       "      <td>0.0</td>\n",
       "      <td>0.0</td>\n",
       "      <td>0.0</td>\n",
       "      <td>1.0</td>\n",
       "      <td>0.0</td>\n",
       "      <td>0.0</td>\n",
       "      <td>1.0</td>\n",
       "      <td>0.0</td>\n",
       "    </tr>\n",
       "  </tbody>\n",
       "</table>\n",
       "</div>"
      ],
      "text/plain": [
       "            Samsung  Telefonica  Allianz  Total  Bayer  Tesla  Airbus  Apple  \\\n",
       "Timestamp                                                                      \n",
       "2018-06-11      1.0         0.0      1.0    1.0    0.0    0.0     1.0    1.0   \n",
       "2018-06-12      1.0         0.0      1.0    1.0    1.0    0.0     1.0    1.0   \n",
       "2018-06-14      1.0         0.0      1.0    0.0    1.0    0.0     1.0    1.0   \n",
       "2018-06-15      0.0         1.0      1.0    1.0    1.0    1.0     1.0    1.0   \n",
       "2018-06-18      1.0         1.0      1.0    0.0    0.0    0.0     1.0    0.0   \n",
       "\n",
       "            BASF  BMW  Google  \n",
       "Timestamp                      \n",
       "2018-06-11   1.0  1.0     0.0  \n",
       "2018-06-12   1.0  1.0     0.0  \n",
       "2018-06-14   1.0  1.0     1.0  \n",
       "2018-06-15   1.0  1.0     0.0  \n",
       "2018-06-18   0.0  1.0     0.0  "
      ]
     },
     "execution_count": 255,
     "metadata": {},
     "output_type": "execute_result"
    }
   ],
   "source": [
    "fin_data_class.tail()"
   ]
  },
  {
   "cell_type": "code",
   "execution_count": 205,
   "metadata": {},
   "outputs": [],
   "source": [
    "precision, recall, thresholds = precision_recall_curve(Y[300:].ravel(), preds.ravel())"
   ]
  },
  {
   "cell_type": "code",
   "execution_count": 206,
   "metadata": {},
   "outputs": [
    {
     "data": {
      "text/plain": [
       "Text(0,0.5,'Precision')"
      ]
     },
     "execution_count": 206,
     "metadata": {},
     "output_type": "execute_result"
    },
    {
     "data": {
      "image/png": "[encoded data removed]",
      "text/plain": [
       "<Figure size 432x288 with 1 Axes>"
      ]
     },
     "metadata": {},
     "output_type": "display_data"
    }
   ],
   "source": [
    "plt.plot((1 - recall), precision)\n",
    "#plt.step((1-recall), thresholds.add(1))\n",
    "plt.plot(plt.xlim(), plt.ylim(), ls=\"--\", c=\".3\")\n",
    "plt.xlabel(\"1 - Recall\")\n",
    "plt.ylabel(\"Precision\")"
   ]
  },
  {
   "cell_type": "code",
   "execution_count": 207,
   "metadata": {},
   "outputs": [],
   "source": []
  },
  {
   "cell_type": "code",
   "execution_count": 256,
   "metadata": {},
   "outputs": [
    {
     "name": "stdout",
     "output_type": "stream",
     "text": [
      "             precision    recall  f1-score   support\n",
      "\n",
      "        0.0       0.51      0.81      0.62      2600\n",
      "        1.0       0.53      0.21      0.30      2603\n",
      "\n",
      "avg / total       0.52      0.51      0.46      5203\n",
      "\n"
     ]
    }
   ],
   "source": [
    "print(classification_report(y_val_aug.ravel(), df_predictions2.values.ravel()))"
   ]
  },
  {
   "cell_type": "code",
   "execution_count": 257,
   "metadata": {},
   "outputs": [
    {
     "data": {
      "text/plain": [
       "array([[2113,  487],\n",
       "       [2057,  546]], dtype=int64)"
      ]
     },
     "execution_count": 257,
     "metadata": {},
     "output_type": "execute_result"
    }
   ],
   "source": [
    "confusion_matrix(y_val_aug.ravel(), df_predictions2.values.ravel())"
   ]
  },
  {
   "cell_type": "code",
   "execution_count": null,
   "metadata": {},
   "outputs": [],
   "source": []
  }
 ],
 "metadata": {
  "kernelspec": {
   "display_name": "Python 3",
   "language": "python",
   "name": "python3"
  },
  "language_info": {
   "codemirror_mode": {
    "name": "ipython",
    "version": 3
   },
   "file_extension": ".py",
   "mimetype": "text/x-python",
   "name": "python",
   "nbconvert_exporter": "python",
   "pygments_lexer": "ipython3",
   "version": "3.6.5"
  }
 },
 "nbformat": 4,
 "nbformat_minor": 2
}

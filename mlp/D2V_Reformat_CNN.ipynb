{
 "cells": [
  {
   "cell_type": "code",
   "execution_count": 1,
   "metadata": {},
   "outputs": [],
   "source": [
    "import numpy as np\n",
    "import pandas as pd\n",
    "\n",
    "import matplotlib.pyplot as plt"
   ]
  },
  {
   "cell_type": "code",
   "execution_count": 2,
   "metadata": {},
   "outputs": [
    {
     "data": {
      "text/plain": [
       "'C:\\\\Users\\\\Nils\\\\Documents\\\\KIT-TVWL\\\\Master\\\\SS 18\\\\KD Seminar\\\\Git\\\\mlp'"
      ]
     },
     "execution_count": 2,
     "metadata": {},
     "output_type": "execute_result"
    }
   ],
   "source": [
    "import os\n",
    "wd = os.getcwd()\n",
    "wd"
   ]
  },
  {
   "cell_type": "markdown",
   "metadata": {},
   "source": [
    "**Read in financial Data**"
   ]
  },
  {
   "cell_type": "code",
   "execution_count": 3,
   "metadata": {},
   "outputs": [
    {
     "data": {
      "text/html": [
       "<div>\n",
       "<style scoped>\n",
       "    .dataframe tbody tr th:only-of-type {\n",
       "        vertical-align: middle;\n",
       "    }\n",
       "\n",
       "    .dataframe tbody tr th {\n",
       "        vertical-align: top;\n",
       "    }\n",
       "\n",
       "    .dataframe thead th {\n",
       "        text-align: right;\n",
       "    }\n",
       "</style>\n",
       "<table border=\"1\" class=\"dataframe\">\n",
       "  <thead>\n",
       "    <tr style=\"text-align: right;\">\n",
       "      <th></th>\n",
       "      <th>Samsung</th>\n",
       "      <th>Telefonica</th>\n",
       "      <th>Allianz</th>\n",
       "      <th>Total</th>\n",
       "      <th>Bayer</th>\n",
       "      <th>Tesla</th>\n",
       "      <th>Airbus</th>\n",
       "      <th>Apple</th>\n",
       "      <th>BASF</th>\n",
       "      <th>BMW</th>\n",
       "      <th>Google</th>\n",
       "    </tr>\n",
       "    <tr>\n",
       "      <th>Timestamp</th>\n",
       "      <th></th>\n",
       "      <th></th>\n",
       "      <th></th>\n",
       "      <th></th>\n",
       "      <th></th>\n",
       "      <th></th>\n",
       "      <th></th>\n",
       "      <th></th>\n",
       "      <th></th>\n",
       "      <th></th>\n",
       "      <th></th>\n",
       "    </tr>\n",
       "  </thead>\n",
       "  <tbody>\n",
       "    <tr>\n",
       "      <th>2018-06-26</th>\n",
       "      <td>-0.020011</td>\n",
       "      <td>0.022931</td>\n",
       "      <td>-0.006720</td>\n",
       "      <td>0.018864</td>\n",
       "      <td>0.001459</td>\n",
       "      <td>-0.005366</td>\n",
       "      <td>-0.026297</td>\n",
       "      <td>-0.004166</td>\n",
       "      <td>-0.016150</td>\n",
       "      <td>-0.002037</td>\n",
       "      <td>-0.009024</td>\n",
       "    </tr>\n",
       "    <tr>\n",
       "      <th>2018-06-25</th>\n",
       "      <td>-0.007475</td>\n",
       "      <td>0.019951</td>\n",
       "      <td>-0.001396</td>\n",
       "      <td>0.008597</td>\n",
       "      <td>0.002809</td>\n",
       "      <td>-0.026638</td>\n",
       "      <td>0.005686</td>\n",
       "      <td>-0.012330</td>\n",
       "      <td>0.008662</td>\n",
       "      <td>0.005086</td>\n",
       "      <td>-0.013286</td>\n",
       "    </tr>\n",
       "    <tr>\n",
       "      <th>2018-06-22</th>\n",
       "      <td>0.012780</td>\n",
       "      <td>-0.011590</td>\n",
       "      <td>0.022561</td>\n",
       "      <td>0.021117</td>\n",
       "      <td>0.026346</td>\n",
       "      <td>0.001860</td>\n",
       "      <td>0.035248</td>\n",
       "      <td>0.014983</td>\n",
       "      <td>0.029023</td>\n",
       "      <td>0.018347</td>\n",
       "      <td>0.038439</td>\n",
       "    </tr>\n",
       "    <tr>\n",
       "      <th>2018-06-21</th>\n",
       "      <td>-0.004242</td>\n",
       "      <td>-0.005008</td>\n",
       "      <td>-0.012830</td>\n",
       "      <td>0.002637</td>\n",
       "      <td>-0.025100</td>\n",
       "      <td>0.040761</td>\n",
       "      <td>-0.016659</td>\n",
       "      <td>0.002916</td>\n",
       "      <td>-0.001797</td>\n",
       "      <td>0.011267</td>\n",
       "      <td>0.026642</td>\n",
       "    </tr>\n",
       "    <tr>\n",
       "      <th>2018-06-20</th>\n",
       "      <td>-0.001063</td>\n",
       "      <td>0.024795</td>\n",
       "      <td>0.013967</td>\n",
       "      <td>0.012291</td>\n",
       "      <td>0.005277</td>\n",
       "      <td>0.041458</td>\n",
       "      <td>0.010569</td>\n",
       "      <td>0.005592</td>\n",
       "      <td>0.020061</td>\n",
       "      <td>0.029838</td>\n",
       "      <td>0.003916</td>\n",
       "    </tr>\n",
       "  </tbody>\n",
       "</table>\n",
       "</div>"
      ],
      "text/plain": [
       "             Samsung  Telefonica   Allianz     Total     Bayer     Tesla  \\\n",
       "Timestamp                                                                  \n",
       "2018-06-26 -0.020011    0.022931 -0.006720  0.018864  0.001459 -0.005366   \n",
       "2018-06-25 -0.007475    0.019951 -0.001396  0.008597  0.002809 -0.026638   \n",
       "2018-06-22  0.012780   -0.011590  0.022561  0.021117  0.026346  0.001860   \n",
       "2018-06-21 -0.004242   -0.005008 -0.012830  0.002637 -0.025100  0.040761   \n",
       "2018-06-20 -0.001063    0.024795  0.013967  0.012291  0.005277  0.041458   \n",
       "\n",
       "              Airbus     Apple      BASF       BMW    Google  \n",
       "Timestamp                                                     \n",
       "2018-06-26 -0.026297 -0.004166 -0.016150 -0.002037 -0.009024  \n",
       "2018-06-25  0.005686 -0.012330  0.008662  0.005086 -0.013286  \n",
       "2018-06-22  0.035248  0.014983  0.029023  0.018347  0.038439  \n",
       "2018-06-21 -0.016659  0.002916 -0.001797  0.011267  0.026642  \n",
       "2018-06-20  0.010569  0.005592  0.020061  0.029838  0.003916  "
      ]
     },
     "execution_count": 3,
     "metadata": {},
     "output_type": "execute_result"
    }
   ],
   "source": [
    "fin_data = pd.read_csv(\"../finance_data/data/aggregated_returns.csv\", index_col=[\"Timestamp\"], parse_dates=True)\n",
    "fin_data = fin_data.drop(columns=[\"Unnamed: 0\"])\n",
    "fin_data.head()"
   ]
  },
  {
   "cell_type": "code",
   "execution_count": 4,
   "metadata": {},
   "outputs": [],
   "source": [
    "fin_data_class = fin_data.applymap(lambda x: 0 if x < 0 else 1)"
   ]
  },
  {
   "cell_type": "code",
   "execution_count": 5,
   "metadata": {},
   "outputs": [
    {
     "data": {
      "text/html": [
       "<div>\n",
       "<style scoped>\n",
       "    .dataframe tbody tr th:only-of-type {\n",
       "        vertical-align: middle;\n",
       "    }\n",
       "\n",
       "    .dataframe tbody tr th {\n",
       "        vertical-align: top;\n",
       "    }\n",
       "\n",
       "    .dataframe thead th {\n",
       "        text-align: right;\n",
       "    }\n",
       "</style>\n",
       "<table border=\"1\" class=\"dataframe\">\n",
       "  <thead>\n",
       "    <tr style=\"text-align: right;\">\n",
       "      <th></th>\n",
       "      <th>Samsung</th>\n",
       "      <th>Telefonica</th>\n",
       "      <th>Allianz</th>\n",
       "      <th>Total</th>\n",
       "      <th>Bayer</th>\n",
       "      <th>Tesla</th>\n",
       "      <th>Airbus</th>\n",
       "      <th>Apple</th>\n",
       "      <th>BASF</th>\n",
       "      <th>BMW</th>\n",
       "      <th>Google</th>\n",
       "    </tr>\n",
       "    <tr>\n",
       "      <th>Timestamp</th>\n",
       "      <th></th>\n",
       "      <th></th>\n",
       "      <th></th>\n",
       "      <th></th>\n",
       "      <th></th>\n",
       "      <th></th>\n",
       "      <th></th>\n",
       "      <th></th>\n",
       "      <th></th>\n",
       "      <th></th>\n",
       "      <th></th>\n",
       "    </tr>\n",
       "  </thead>\n",
       "  <tbody>\n",
       "    <tr>\n",
       "      <th>2018-06-26</th>\n",
       "      <td>0</td>\n",
       "      <td>1</td>\n",
       "      <td>0</td>\n",
       "      <td>1</td>\n",
       "      <td>1</td>\n",
       "      <td>0</td>\n",
       "      <td>0</td>\n",
       "      <td>0</td>\n",
       "      <td>0</td>\n",
       "      <td>0</td>\n",
       "      <td>0</td>\n",
       "    </tr>\n",
       "    <tr>\n",
       "      <th>2018-06-25</th>\n",
       "      <td>0</td>\n",
       "      <td>1</td>\n",
       "      <td>0</td>\n",
       "      <td>1</td>\n",
       "      <td>1</td>\n",
       "      <td>0</td>\n",
       "      <td>1</td>\n",
       "      <td>0</td>\n",
       "      <td>1</td>\n",
       "      <td>1</td>\n",
       "      <td>0</td>\n",
       "    </tr>\n",
       "    <tr>\n",
       "      <th>2018-06-22</th>\n",
       "      <td>1</td>\n",
       "      <td>0</td>\n",
       "      <td>1</td>\n",
       "      <td>1</td>\n",
       "      <td>1</td>\n",
       "      <td>1</td>\n",
       "      <td>1</td>\n",
       "      <td>1</td>\n",
       "      <td>1</td>\n",
       "      <td>1</td>\n",
       "      <td>1</td>\n",
       "    </tr>\n",
       "    <tr>\n",
       "      <th>2018-06-21</th>\n",
       "      <td>0</td>\n",
       "      <td>0</td>\n",
       "      <td>0</td>\n",
       "      <td>1</td>\n",
       "      <td>0</td>\n",
       "      <td>1</td>\n",
       "      <td>0</td>\n",
       "      <td>1</td>\n",
       "      <td>0</td>\n",
       "      <td>1</td>\n",
       "      <td>1</td>\n",
       "    </tr>\n",
       "    <tr>\n",
       "      <th>2018-06-20</th>\n",
       "      <td>0</td>\n",
       "      <td>1</td>\n",
       "      <td>1</td>\n",
       "      <td>1</td>\n",
       "      <td>1</td>\n",
       "      <td>1</td>\n",
       "      <td>1</td>\n",
       "      <td>1</td>\n",
       "      <td>1</td>\n",
       "      <td>1</td>\n",
       "      <td>1</td>\n",
       "    </tr>\n",
       "  </tbody>\n",
       "</table>\n",
       "</div>"
      ],
      "text/plain": [
       "            Samsung  Telefonica  Allianz  Total  Bayer  Tesla  Airbus  Apple  \\\n",
       "Timestamp                                                                      \n",
       "2018-06-26        0           1        0      1      1      0       0      0   \n",
       "2018-06-25        0           1        0      1      1      0       1      0   \n",
       "2018-06-22        1           0        1      1      1      1       1      1   \n",
       "2018-06-21        0           0        0      1      0      1       0      1   \n",
       "2018-06-20        0           1        1      1      1      1       1      1   \n",
       "\n",
       "            BASF  BMW  Google  \n",
       "Timestamp                      \n",
       "2018-06-26     0    0       0  \n",
       "2018-06-25     1    1       0  \n",
       "2018-06-22     1    1       1  \n",
       "2018-06-21     0    1       1  \n",
       "2018-06-20     1    1       1  "
      ]
     },
     "execution_count": 5,
     "metadata": {},
     "output_type": "execute_result"
    }
   ],
   "source": [
    "fin_data_class.head()"
   ]
  },
  {
   "cell_type": "code",
   "execution_count": 6,
   "metadata": {},
   "outputs": [
    {
     "data": {
      "text/plain": [
       "{0: 10524,\n",
       " 1: 10266,\n",
       " '0_relative': 50.619999999999997,\n",
       " '1_relative': 49.380000000000003}"
      ]
     },
     "execution_count": 6,
     "metadata": {},
     "output_type": "execute_result"
    }
   ],
   "source": [
    "val_count = {0: 0, 1: 0}\n",
    "for idx, row in fin_data_class.iterrows():\n",
    "    tmp = row.value_counts()\n",
    "    if 0 in tmp:\n",
    "        val_count[0] = val_count[0]  + tmp[0]\n",
    "    if 1 in tmp:\n",
    "        val_count[1] = val_count[1]  + tmp[1]\n",
    "val_count[\"0_relative\"] = round((val_count[0] / (val_count[0] + val_count[1])) * 100, 2) \n",
    "val_count[\"1_relative\"] = round((val_count[1] / (val_count[0] + val_count[1])) * 100, 2) \n",
    "val_count"
   ]
  },
  {
   "cell_type": "markdown",
   "metadata": {},
   "source": [
    "**Read in training Data**"
   ]
  },
  {
   "cell_type": "code",
   "execution_count": 9,
   "metadata": {},
   "outputs": [],
   "source": [
    "path_to_data = \"../doc2vec/data/article_vectors_2016-05-09-2018-06-18.json\""
   ]
  },
  {
   "cell_type": "code",
   "execution_count": 10,
   "metadata": {},
   "outputs": [],
   "source": [
    "data = pd.read_json(path_to_data)"
   ]
  },
  {
   "cell_type": "code",
   "execution_count": 11,
   "metadata": {},
   "outputs": [],
   "source": [
    "data = data.applymap(lambda x: np.array(x))"
   ]
  },
  {
   "cell_type": "code",
   "execution_count": 12,
   "metadata": {},
   "outputs": [
    {
     "data": {
      "text/html": [
       "<div>\n",
       "<style scoped>\n",
       "    .dataframe tbody tr th:only-of-type {\n",
       "        vertical-align: middle;\n",
       "    }\n",
       "\n",
       "    .dataframe tbody tr th {\n",
       "        vertical-align: top;\n",
       "    }\n",
       "\n",
       "    .dataframe thead th {\n",
       "        text-align: right;\n",
       "    }\n",
       "</style>\n",
       "<table border=\"1\" class=\"dataframe\">\n",
       "  <thead>\n",
       "    <tr style=\"text-align: right;\">\n",
       "      <th></th>\n",
       "      <th>Samsung</th>\n",
       "      <th>BASF</th>\n",
       "      <th>Apple</th>\n",
       "      <th>Tesla</th>\n",
       "      <th>Airbus</th>\n",
       "      <th>Bayer</th>\n",
       "      <th>BMW</th>\n",
       "      <th>Telefonica</th>\n",
       "      <th>Google</th>\n",
       "      <th>Allianz</th>\n",
       "      <th>Total</th>\n",
       "    </tr>\n",
       "  </thead>\n",
       "  <tbody>\n",
       "    <tr>\n",
       "      <th>2016-05-09</th>\n",
       "      <td>[[-0.2783023417, 1.64141333103, -0.20274081826...</td>\n",
       "      <td>[[0.224157735705, -1.5261811018, -1.2688174247...</td>\n",
       "      <td>[[-0.722135663033, -1.72117328644, -1.80950939...</td>\n",
       "      <td>[[0.423787772655, -0.74573212862, 0.9875811934...</td>\n",
       "      <td>[[0.148221626878, 1.14429688454, 0.40630602836...</td>\n",
       "      <td>[[-1.70463657379, -1.86712861061, 0.5173683166...</td>\n",
       "      <td>[[0.114925034344, 2.18565130234, 0.77067273855...</td>\n",
       "      <td>[[5.12693452835, 0.508681952953, -1.3149539232...</td>\n",
       "      <td>[[0.143301770091, -2.48351478577, 0.5807461142...</td>\n",
       "      <td>[[1.78534734249, -0.00683000870049, -0.1249627...</td>\n",
       "      <td>[[-4.92617940903, -2.99923372269, -3.530821084...</td>\n",
       "    </tr>\n",
       "    <tr>\n",
       "      <th>2016-05-10</th>\n",
       "      <td>[[-0.674747109413, 1.27446496487, 0.4876792728...</td>\n",
       "      <td>[[-1.70561218262, -1.01267302036, -0.294923424...</td>\n",
       "      <td>[[-1.54350924492, -4.86762571335, 2.2554593086...</td>\n",
       "      <td>[[-2.1006333828, 1.75756955147, -0.47064906358...</td>\n",
       "      <td>[[-1.10437369347, -1.62711632252, -0.592201709...</td>\n",
       "      <td>[[0.421989887953, -0.531891644001, -1.12830972...</td>\n",
       "      <td>[[0.134391367435, 0.00158115802333, 1.10614168...</td>\n",
       "      <td>[[1.03278207779, 3.52327179909, 1.57724928856,...</td>\n",
       "      <td>[[-2.00603866577, -1.06945300102, -1.689569711...</td>\n",
       "      <td>[[-0.55547773838, -0.371566027403, 3.171932458...</td>\n",
       "      <td>[[-0.825915932655, -1.2935500145, -1.318230867...</td>\n",
       "    </tr>\n",
       "  </tbody>\n",
       "</table>\n",
       "</div>"
      ],
      "text/plain": [
       "                                                      Samsung  \\\n",
       "2016-05-09  [[-0.2783023417, 1.64141333103, -0.20274081826...   \n",
       "2016-05-10  [[-0.674747109413, 1.27446496487, 0.4876792728...   \n",
       "\n",
       "                                                         BASF  \\\n",
       "2016-05-09  [[0.224157735705, -1.5261811018, -1.2688174247...   \n",
       "2016-05-10  [[-1.70561218262, -1.01267302036, -0.294923424...   \n",
       "\n",
       "                                                        Apple  \\\n",
       "2016-05-09  [[-0.722135663033, -1.72117328644, -1.80950939...   \n",
       "2016-05-10  [[-1.54350924492, -4.86762571335, 2.2554593086...   \n",
       "\n",
       "                                                        Tesla  \\\n",
       "2016-05-09  [[0.423787772655, -0.74573212862, 0.9875811934...   \n",
       "2016-05-10  [[-2.1006333828, 1.75756955147, -0.47064906358...   \n",
       "\n",
       "                                                       Airbus  \\\n",
       "2016-05-09  [[0.148221626878, 1.14429688454, 0.40630602836...   \n",
       "2016-05-10  [[-1.10437369347, -1.62711632252, -0.592201709...   \n",
       "\n",
       "                                                        Bayer  \\\n",
       "2016-05-09  [[-1.70463657379, -1.86712861061, 0.5173683166...   \n",
       "2016-05-10  [[0.421989887953, -0.531891644001, -1.12830972...   \n",
       "\n",
       "                                                          BMW  \\\n",
       "2016-05-09  [[0.114925034344, 2.18565130234, 0.77067273855...   \n",
       "2016-05-10  [[0.134391367435, 0.00158115802333, 1.10614168...   \n",
       "\n",
       "                                                   Telefonica  \\\n",
       "2016-05-09  [[5.12693452835, 0.508681952953, -1.3149539232...   \n",
       "2016-05-10  [[1.03278207779, 3.52327179909, 1.57724928856,...   \n",
       "\n",
       "                                                       Google  \\\n",
       "2016-05-09  [[0.143301770091, -2.48351478577, 0.5807461142...   \n",
       "2016-05-10  [[-2.00603866577, -1.06945300102, -1.689569711...   \n",
       "\n",
       "                                                      Allianz  \\\n",
       "2016-05-09  [[1.78534734249, -0.00683000870049, -0.1249627...   \n",
       "2016-05-10  [[-0.55547773838, -0.371566027403, 3.171932458...   \n",
       "\n",
       "                                                        Total  \n",
       "2016-05-09  [[-4.92617940903, -2.99923372269, -3.530821084...  \n",
       "2016-05-10  [[-0.825915932655, -1.2935500145, -1.318230867...  "
      ]
     },
     "execution_count": 12,
     "metadata": {},
     "output_type": "execute_result"
    }
   ],
   "source": [
    "data.head(2)"
   ]
  },
  {
   "cell_type": "code",
   "execution_count": 13,
   "metadata": {},
   "outputs": [],
   "source": [
    "fin_data_dates = fin_data.index.date.tolist()\n",
    "data_dates = data.index.date.tolist()"
   ]
  },
  {
   "cell_type": "code",
   "execution_count": 14,
   "metadata": {},
   "outputs": [],
   "source": [
    "available_dates = list(set(fin_data_dates).intersection(data_dates))\n",
    "\n",
    "fin_data_class = fin_data_class[fin_data_class.index.isin(available_dates)]\n",
    "data = data[data.index.isin(available_dates)]"
   ]
  },
  {
   "cell_type": "code",
   "execution_count": 15,
   "metadata": {},
   "outputs": [
    {
     "data": {
      "text/plain": [
       "{0: 2796,\n",
       " 1: 2649,\n",
       " '0_relative': 51.350000000000001,\n",
       " '1_relative': 48.649999999999999}"
      ]
     },
     "execution_count": 15,
     "metadata": {},
     "output_type": "execute_result"
    }
   ],
   "source": [
    "val_count = {0: 0, 1: 0}\n",
    "for idx, row in fin_data_class.iterrows():\n",
    "    tmp = row.value_counts()\n",
    "    if 0 in tmp:\n",
    "        val_count[0] = val_count[0]  + tmp[0]\n",
    "    if 1 in tmp:\n",
    "        val_count[1] = val_count[1]  + tmp[1]\n",
    "val_count[\"0_relative\"] = round((val_count[0] / (val_count[0] + val_count[1])) * 100, 2) \n",
    "val_count[\"1_relative\"] = round((val_count[1] / (val_count[0] + val_count[1])) * 100, 2) \n",
    "val_count"
   ]
  },
  {
   "cell_type": "code",
   "execution_count": 16,
   "metadata": {},
   "outputs": [
    {
     "data": {
      "text/plain": [
       "495"
      ]
     },
     "execution_count": 16,
     "metadata": {},
     "output_type": "execute_result"
    }
   ],
   "source": [
    "len(available_dates)"
   ]
  },
  {
   "cell_type": "code",
   "execution_count": 17,
   "metadata": {},
   "outputs": [
    {
     "data": {
      "text/plain": [
       "(495, 11)"
      ]
     },
     "execution_count": 17,
     "metadata": {},
     "output_type": "execute_result"
    }
   ],
   "source": [
    "data.shape"
   ]
  },
  {
   "cell_type": "code",
   "execution_count": 18,
   "metadata": {},
   "outputs": [],
   "source": [
    "X = []"
   ]
  },
  {
   "cell_type": "code",
   "execution_count": 19,
   "metadata": {},
   "outputs": [
    {
     "name": "stdout",
     "output_type": "stream",
     "text": [
      "2016-05-09\n",
      "2016-05-10\n",
      "2016-05-11\n",
      "2016-05-12\n",
      "2016-05-13\n",
      "2016-05-17\n",
      "2016-05-18\n",
      "2016-05-19\n",
      "2016-05-20\n",
      "2016-05-23\n",
      "2016-05-24\n",
      "2016-05-25\n",
      "2016-05-26\n",
      "2016-05-27\n",
      "2016-05-31\n",
      "2016-06-01\n",
      "2016-06-02\n",
      "2016-06-03\n",
      "2016-06-07\n",
      "2016-06-08\n",
      "2016-06-09\n",
      "2016-06-10\n",
      "2016-06-13\n",
      "2016-06-14\n",
      "2016-06-15\n",
      "2016-06-16\n",
      "2016-06-17\n",
      "2016-06-20\n",
      "2016-06-21\n",
      "2016-06-22\n",
      "2016-06-23\n",
      "2016-06-24\n",
      "2016-06-27\n",
      "2016-06-28\n",
      "2016-06-29\n",
      "2016-06-30\n",
      "2016-07-01\n",
      "2016-07-05\n",
      "2016-07-06\n",
      "2016-07-07\n",
      "2016-07-08\n",
      "2016-07-11\n",
      "2016-07-12\n",
      "2016-07-13\n",
      "2016-07-14\n",
      "2016-07-15\n",
      "2016-07-18\n",
      "2016-07-19\n",
      "2016-07-20\n",
      "2016-07-21\n",
      "2016-07-22\n",
      "2016-07-25\n",
      "2016-07-26\n",
      "2016-07-27\n",
      "2016-07-28\n",
      "2016-07-29\n",
      "2016-08-01\n",
      "2016-08-02\n",
      "2016-08-03\n",
      "2016-08-04\n",
      "2016-08-05\n",
      "2016-08-08\n",
      "2016-08-09\n",
      "2016-08-10\n",
      "2016-08-11\n",
      "2016-08-12\n",
      "2016-08-16\n",
      "2016-08-17\n",
      "2016-08-18\n",
      "2016-08-19\n",
      "2016-08-22\n",
      "2016-08-23\n",
      "2016-08-24\n",
      "2016-08-25\n",
      "2016-08-26\n",
      "2016-08-29\n",
      "2016-08-30\n",
      "2016-08-31\n",
      "2016-09-01\n",
      "2016-09-02\n",
      "2016-09-06\n",
      "2016-09-07\n",
      "2016-09-08\n",
      "2016-09-09\n",
      "2016-09-12\n",
      "2016-09-13\n",
      "2016-09-19\n",
      "2016-09-20\n",
      "2016-09-21\n",
      "2016-09-22\n",
      "2016-09-23\n",
      "2016-09-26\n",
      "2016-09-27\n",
      "2016-09-28\n",
      "2016-09-29\n",
      "2016-09-30\n",
      "2016-10-04\n",
      "2016-10-05\n",
      "2016-10-06\n",
      "2016-10-07\n",
      "2016-10-10\n",
      "2016-10-11\n",
      "2016-10-12\n",
      "2016-10-13\n",
      "2016-10-14\n",
      "2016-10-17\n",
      "2016-10-18\n",
      "2016-10-19\n",
      "2016-10-20\n",
      "2016-10-21\n",
      "2016-10-24\n",
      "2016-10-25\n",
      "2016-10-26\n",
      "2016-10-27\n",
      "2016-10-28\n",
      "2016-10-31\n",
      "2016-11-01\n",
      "2016-11-02\n",
      "2016-11-03\n",
      "2016-11-04\n",
      "2016-11-07\n",
      "2016-11-08\n",
      "2016-11-09\n",
      "2016-11-10\n",
      "2016-11-11\n",
      "2016-11-14\n",
      "2016-11-15\n",
      "2016-11-16\n",
      "2016-11-17\n",
      "2016-11-18\n",
      "2016-11-21\n",
      "2016-11-22\n",
      "2016-11-23\n",
      "2016-11-25\n",
      "2016-11-28\n",
      "2016-11-29\n",
      "2016-11-30\n",
      "2016-12-01\n",
      "2016-12-02\n",
      "2016-12-05\n",
      "2016-12-06\n",
      "2016-12-07\n",
      "2016-12-08\n",
      "2016-12-09\n",
      "2016-12-12\n",
      "2016-12-13\n",
      "2016-12-14\n",
      "2016-12-15\n",
      "2016-12-16\n",
      "2016-12-19\n",
      "2016-12-20\n",
      "2016-12-21\n",
      "2016-12-22\n",
      "2016-12-23\n",
      "2016-12-27\n",
      "2016-12-28\n",
      "2016-12-29\n",
      "2017-01-03\n",
      "2017-01-04\n",
      "2017-01-05\n",
      "2017-01-06\n",
      "2017-01-09\n",
      "2017-01-10\n",
      "2017-01-11\n",
      "2017-01-12\n",
      "2017-01-13\n",
      "2017-01-17\n",
      "2017-01-18\n",
      "2017-01-19\n",
      "2017-01-20\n",
      "2017-01-23\n",
      "2017-01-24\n",
      "2017-01-25\n",
      "2017-01-26\n",
      "2017-01-31\n",
      "2017-02-01\n",
      "2017-02-02\n",
      "2017-02-03\n",
      "2017-02-06\n",
      "2017-02-07\n",
      "2017-02-08\n",
      "2017-02-09\n",
      "2017-02-10\n",
      "2017-02-13\n",
      "2017-02-14\n",
      "2017-02-15\n",
      "2017-02-16\n",
      "2017-02-17\n",
      "2017-02-21\n",
      "2017-02-22\n",
      "2017-02-23\n",
      "2017-02-24\n",
      "2017-02-27\n",
      "2017-02-28\n",
      "2017-03-02\n",
      "2017-03-03\n",
      "2017-03-06\n",
      "2017-03-07\n",
      "2017-03-08\n",
      "2017-03-09\n",
      "2017-03-10\n",
      "2017-03-13\n",
      "2017-03-14\n",
      "2017-03-15\n",
      "2017-03-16\n",
      "2017-03-17\n",
      "2017-03-20\n",
      "2017-03-21\n",
      "2017-03-22\n",
      "2017-03-23\n",
      "2017-03-24\n",
      "2017-03-27\n",
      "2017-03-28\n",
      "2017-03-29\n",
      "2017-03-30\n",
      "2017-03-31\n",
      "2017-04-03\n",
      "2017-04-04\n",
      "2017-04-05\n",
      "2017-04-06\n",
      "2017-04-07\n",
      "2017-04-10\n",
      "2017-04-11\n",
      "2017-04-12\n",
      "2017-04-13\n",
      "2017-04-18\n",
      "2017-04-19\n",
      "2017-04-20\n",
      "2017-04-21\n",
      "2017-04-24\n",
      "2017-04-25\n",
      "2017-04-26\n",
      "2017-04-27\n",
      "2017-04-28\n",
      "2017-05-02\n",
      "2017-05-04\n",
      "2017-05-08\n",
      "2017-05-10\n",
      "2017-05-11\n",
      "2017-05-12\n",
      "2017-05-15\n",
      "2017-05-16\n",
      "2017-05-17\n",
      "2017-05-18\n",
      "2017-05-19\n",
      "2017-05-22\n",
      "2017-05-23\n",
      "2017-05-24\n",
      "2017-05-25\n",
      "2017-05-26\n",
      "2017-05-30\n",
      "2017-05-31\n",
      "2017-06-01\n",
      "2017-06-02\n",
      "2017-06-05\n",
      "2017-06-07\n",
      "2017-06-08\n",
      "2017-06-09\n",
      "2017-06-12\n",
      "2017-06-13\n",
      "2017-06-14\n",
      "2017-06-15\n",
      "2017-06-16\n",
      "2017-06-19\n",
      "2017-06-20\n",
      "2017-06-21\n",
      "2017-06-22\n",
      "2017-06-23\n",
      "2017-06-26\n",
      "2017-06-27\n",
      "2017-06-28\n",
      "2017-06-29\n",
      "2017-06-30\n",
      "2017-07-03\n",
      "2017-07-05\n",
      "2017-07-06\n",
      "2017-07-07\n",
      "2017-07-10\n",
      "2017-07-11\n",
      "2017-07-12\n",
      "2017-07-13\n",
      "2017-07-14\n",
      "2017-07-17\n",
      "2017-07-18\n",
      "2017-07-19\n",
      "2017-07-20\n",
      "2017-07-21\n",
      "2017-07-24\n",
      "2017-07-25\n",
      "2017-07-26\n",
      "2017-07-27\n",
      "2017-07-28\n",
      "2017-07-31\n",
      "2017-08-01\n",
      "2017-08-02\n",
      "2017-08-03\n",
      "2017-08-04\n",
      "2017-08-07\n",
      "2017-08-08\n",
      "2017-08-09\n",
      "2017-08-10\n",
      "2017-08-11\n",
      "2017-08-14\n",
      "2017-08-16\n",
      "2017-08-17\n",
      "2017-08-18\n",
      "2017-08-21\n",
      "2017-08-22\n",
      "2017-08-23\n",
      "2017-08-24\n",
      "2017-08-25\n",
      "2017-08-28\n",
      "2017-08-29\n",
      "2017-08-30\n",
      "2017-08-31\n",
      "2017-09-01\n",
      "2017-09-05\n",
      "2017-09-06\n",
      "2017-09-07\n",
      "2017-09-08\n",
      "2017-09-11\n",
      "2017-09-12\n",
      "2017-09-13\n",
      "2017-09-14\n",
      "2017-09-15\n",
      "2017-09-18\n",
      "2017-09-19\n",
      "2017-09-20\n",
      "2017-09-21\n",
      "2017-09-25\n",
      "2017-09-26\n",
      "2017-09-27\n",
      "2017-09-28\n",
      "2017-09-29\n",
      "2017-10-10\n",
      "2017-10-11\n",
      "2017-10-12\n",
      "2017-10-13\n",
      "2017-10-16\n",
      "2017-10-17\n",
      "2017-10-18\n",
      "2017-10-19\n",
      "2017-10-20\n",
      "2017-10-23\n",
      "2017-10-24\n",
      "2017-10-25\n",
      "2017-10-26\n",
      "2017-10-27\n",
      "2017-10-30\n",
      "2017-10-31\n",
      "2017-11-01\n",
      "2017-11-02\n",
      "2017-11-03\n",
      "2017-11-06\n",
      "2017-11-07\n",
      "2017-11-08\n",
      "2017-11-09\n",
      "2017-11-10\n",
      "2017-11-13\n",
      "2017-11-14\n",
      "2017-11-15\n",
      "2017-11-16\n",
      "2017-11-17\n",
      "2017-11-20\n",
      "2017-11-21\n",
      "2017-11-22\n",
      "2017-11-24\n",
      "2017-11-27\n",
      "2017-11-28\n",
      "2017-11-29\n",
      "2017-11-30\n",
      "2017-12-01\n",
      "2017-12-04\n",
      "2017-12-05\n",
      "2017-12-06\n",
      "2017-12-07\n",
      "2017-12-08\n",
      "2017-12-11\n",
      "2017-12-12\n",
      "2017-12-13\n",
      "2017-12-14\n",
      "2017-12-15\n",
      "2017-12-18\n",
      "2017-12-19\n",
      "2017-12-21\n",
      "2017-12-22\n",
      "2017-12-27\n",
      "2017-12-28\n",
      "2018-01-02\n",
      "2018-01-03\n",
      "2018-01-04\n",
      "2018-01-05\n",
      "2018-01-08\n",
      "2018-01-09\n",
      "2018-01-10\n",
      "2018-01-11\n",
      "2018-01-12\n",
      "2018-01-16\n",
      "2018-01-17\n",
      "2018-01-18\n",
      "2018-01-19\n",
      "2018-01-22\n",
      "2018-01-23\n",
      "2018-01-24\n",
      "2018-01-25\n",
      "2018-01-26\n",
      "2018-01-29\n",
      "2018-01-30\n",
      "2018-01-31\n",
      "2018-02-01\n",
      "2018-02-02\n",
      "2018-02-05\n",
      "2018-02-06\n",
      "2018-02-07\n",
      "2018-02-08\n",
      "2018-02-09\n",
      "2018-02-12\n",
      "2018-02-13\n",
      "2018-02-14\n",
      "2018-02-20\n",
      "2018-02-21\n",
      "2018-02-22\n",
      "2018-02-23\n",
      "2018-02-26\n",
      "2018-02-27\n",
      "2018-02-28\n",
      "2018-03-02\n",
      "2018-03-05\n",
      "2018-03-06\n",
      "2018-03-07\n",
      "2018-03-08\n",
      "2018-03-09\n",
      "2018-03-12\n",
      "2018-03-13\n",
      "2018-03-14\n",
      "2018-03-15\n",
      "2018-03-16\n",
      "2018-03-19\n",
      "2018-03-20\n",
      "2018-03-21\n",
      "2018-03-22\n",
      "2018-03-23\n",
      "2018-03-26\n",
      "2018-03-27\n",
      "2018-03-28\n",
      "2018-03-29\n",
      "2018-04-03\n",
      "2018-04-04\n",
      "2018-04-05\n",
      "2018-04-06\n",
      "2018-04-09\n",
      "2018-04-10\n",
      "2018-04-11\n",
      "2018-04-12\n",
      "2018-04-13\n",
      "2018-04-16\n",
      "2018-04-17\n",
      "2018-04-18\n",
      "2018-04-19\n",
      "2018-04-20\n",
      "2018-04-23\n",
      "2018-04-24\n",
      "2018-04-25\n",
      "2018-04-26\n",
      "2018-04-27\n",
      "2018-04-30\n",
      "2018-05-02\n",
      "2018-05-03\n",
      "2018-05-04\n",
      "2018-05-08\n",
      "2018-05-09\n",
      "2018-05-10\n",
      "2018-05-11\n",
      "2018-05-14\n",
      "2018-05-15\n",
      "2018-05-16\n",
      "2018-05-17\n",
      "2018-05-18\n",
      "2018-05-21\n",
      "2018-05-23\n",
      "2018-05-24\n",
      "2018-05-25\n",
      "2018-05-29\n",
      "2018-05-30\n",
      "2018-05-31\n",
      "2018-06-01\n",
      "2018-06-04\n",
      "2018-06-05\n",
      "2018-06-07\n",
      "2018-06-08\n",
      "2018-06-11\n",
      "2018-06-12\n",
      "2018-06-14\n",
      "2018-06-15\n",
      "2018-06-18\n"
     ]
    }
   ],
   "source": [
    "for idx, row in data.iterrows():\n",
    "    print(idx.date())\n",
    "    tmp = data.loc[idx].values\n",
    "\n",
    "    tmp_data = []\n",
    "    for i,r in enumerate(tmp):\n",
    "        #print(type(r))\n",
    "        #print(type(r))\n",
    "        if hasattr(r, 'shape') and r.shape[0] :\n",
    "            #print(type(r))\n",
    "            #print(\"HEY\")\n",
    "            r = np.array(r)\n",
    "            #if r.shape[0] != 50:\n",
    "            #    print(r.shape)\n",
    "            p = 50-r.shape[0]\n",
    "            r = np.pad(r, ((0,p),(0,0)), \"constant\")\n",
    "            #print(r)\n",
    "        else:\n",
    "            r = np.zeros((50,100))\n",
    "        tmp_data.append(r)\n",
    "    tmp_data = np.array(tmp_data)\n",
    "    tmp_data = tmp_data.reshape((50,100,11))\n",
    "    #print(tmp_data)\n",
    "    X.append(tmp_data)\n",
    "    #data_dict[idx.date()] = tmp\n",
    "    "
   ]
  },
  {
   "cell_type": "code",
   "execution_count": 20,
   "metadata": {},
   "outputs": [
    {
     "data": {
      "text/plain": [
       "(495, 50, 100, 11)"
      ]
     },
     "execution_count": 20,
     "metadata": {},
     "output_type": "execute_result"
    }
   ],
   "source": [
    "#X = np.array(final_d)\n",
    "X = np.array(X)\n",
    "X.shape"
   ]
  },
  {
   "cell_type": "code",
   "execution_count": 21,
   "metadata": {},
   "outputs": [
    {
     "data": {
      "text/plain": [
       "array([ 0.42814672, -0.83220714, -0.49539551, -0.71838945,  0.15086618,\n",
       "        0.70842946,  1.3875035 ,  0.1596328 ,  0.17833374, -0.29385453,\n",
       "       -1.04801702])"
      ]
     },
     "execution_count": 21,
     "metadata": {},
     "output_type": "execute_result"
    }
   ],
   "source": [
    "X[30][0][0]"
   ]
  },
  {
   "cell_type": "code",
   "execution_count": 22,
   "metadata": {},
   "outputs": [
    {
     "data": {
      "text/plain": [
       "(495, 11)"
      ]
     },
     "execution_count": 22,
     "metadata": {},
     "output_type": "execute_result"
    }
   ],
   "source": [
    "Y = fin_data_class.values\n",
    "Y.shape"
   ]
  },
  {
   "cell_type": "markdown",
   "metadata": {},
   "source": [
    "**CNN**"
   ]
  },
  {
   "cell_type": "code",
   "execution_count": 23,
   "metadata": {},
   "outputs": [
    {
     "name": "stderr",
     "output_type": "stream",
     "text": [
      "Using TensorFlow backend.\n"
     ]
    }
   ],
   "source": [
    "from sklearn.model_selection import train_test_split\n",
    "\n",
    "from keras import backend as K\n",
    "import keras\n",
    "\n",
    "from keras.models import Sequential\n",
    "from keras.layers import Dense, Dropout, Activation, Flatten, BatchNormalization, GaussianNoise\n",
    "from keras.layers import Conv1D, Conv2D, MaxPooling2D, AveragePooling2D, GlobalMaxPooling2D\n",
    "\n",
    "from keras import regularizers"
   ]
  },
  {
   "cell_type": "code",
   "execution_count": null,
   "metadata": {},
   "outputs": [],
   "source": []
  },
  {
   "cell_type": "code",
   "execution_count": 82,
   "metadata": {},
   "outputs": [],
   "source": [
    "x_train, x_val, y_train, y_val = train_test_split(X, Y, test_size=0.4, random_state=21)"
   ]
  },
  {
   "cell_type": "code",
   "execution_count": 83,
   "metadata": {},
   "outputs": [
    {
     "data": {
      "text/plain": [
       "(297, 50, 100, 11)"
      ]
     },
     "execution_count": 83,
     "metadata": {},
     "output_type": "execute_result"
    }
   ],
   "source": [
    "x_train.shape"
   ]
  },
  {
   "cell_type": "code",
   "execution_count": 84,
   "metadata": {},
   "outputs": [],
   "source": [
    "num_classes=11\n",
    "num_filters= 100\n",
    "filter_sizes = [3,4,5]\n",
    "embedding_dim = x_train.shape[2]\n",
    "sequence_length = x_train.shape[1] "
   ]
  },
  {
   "cell_type": "code",
   "execution_count": 85,
   "metadata": {},
   "outputs": [
    {
     "data": {
      "text/plain": [
       "50"
      ]
     },
     "execution_count": 85,
     "metadata": {},
     "output_type": "execute_result"
    }
   ],
   "source": [
    "sequence_length"
   ]
  },
  {
   "cell_type": "code",
   "execution_count": 86,
   "metadata": {},
   "outputs": [],
   "source": [
    "def custom_tanh(x):\n",
    "    return (K.tanh((2/3)*x) * 1.5)#1.7159) #(2/3)\n",
    "\n",
    "def custom_sigmoid(x):\n",
    "    return (K.sigmoid((3/4) * x) )#* 1.7159)"
   ]
  },
  {
   "cell_type": "code",
   "execution_count": 101,
   "metadata": {},
   "outputs": [],
   "source": [
    "model = Sequential()\n",
    "model.add(GaussianNoise(stddev=3,input_shape=x_train.shape[1:]))\n",
    "model.add(Conv2D(num_filters, kernel_size=(filter_sizes[0], embedding_dim), padding='valid',input_shape=x_train.shape[1:], \n",
    "                 data_format=\"channels_last\", activation=\"relu\")) #relu\n",
    "#, kernel_regularizer=regularizers.l2(0.01)\n",
    "#model.add(Conv2D(num_filters, kernel_size=(filter_sizes[1], embedding_dim), padding='same', activation=\"relu\"))\n",
    "\n",
    "model.add(BatchNormalization())\n",
    "#model.add(MaxPooling2D(pool_size=(sequence_length - filter_sizes[2] + 1, 1), strides=(1,1))) #data_format=\"channels_last\"\n",
    "model.add(AveragePooling2D(pool_size=(sequence_length - filter_sizes[0] + 1, 1), strides=(1,1))) \n",
    "model.add(BatchNormalization())\n",
    "#model.add(Conv2D(num_filters, kernel_size=(1,embedding_dim), strides=(1,1), activation=\"relu\"))\n",
    "#model.add(MaxPooling2D(pool_size=(sequence_length - filter_sizes[1] + 1, 1), strides=(1,1)))\n",
    "#model.add(Activation('relu'))\n",
    "#model.add(BatchNormalization())\n",
    "model.add(Dropout(0.5))\n",
    "#model.add(GaussianNoise(stddev=3))\n",
    "#model.add(Conv2D(64, (3, 3), padding='same'))\n",
    "#model.add(Activation('relu'))\n",
    "#model.add(Conv2D(64, (3, 3)))\n",
    "#model.add(Activation('relu'))\n",
    "#model.add(MaxPooling2D(pool_size=(2, 2)))\n",
    "#model.add(Dropout(0.25))\n",
    "\n",
    "model.add(Flatten())\n",
    "model.add(Dense(1024, activation=\"relu\")) #custom_tanh\n",
    "#model.add(Activation('relu'))\n",
    "model.add(Dropout(0.5))\n",
    "model.add(Dense(512, activation=\"relu\"))\n",
    "model.add(Dense(512, activation=\"relu\"))\n",
    "model.add(Dense(num_classes, activation=custom_sigmoid)) #\"sigmoid\"  custom_sigmoid "
   ]
  },
  {
   "cell_type": "code",
   "execution_count": 102,
   "metadata": {},
   "outputs": [
    {
     "name": "stdout",
     "output_type": "stream",
     "text": [
      "_________________________________________________________________\n",
      "Layer (type)                 Output Shape              Param #   \n",
      "=================================================================\n",
      "gaussian_noise_17 (GaussianN (None, 50, 100, 11)       0         \n",
      "_________________________________________________________________\n",
      "conv2d_23 (Conv2D)           (None, 48, 1, 100)        330100    \n",
      "_________________________________________________________________\n",
      "batch_normalization_31 (Batc (None, 48, 1, 100)        400       \n",
      "_________________________________________________________________\n",
      "average_pooling2d_16 (Averag (None, 1, 1, 100)         0         \n",
      "_________________________________________________________________\n",
      "batch_normalization_32 (Batc (None, 1, 1, 100)         400       \n",
      "_________________________________________________________________\n",
      "dropout_17 (Dropout)         (None, 1, 1, 100)         0         \n",
      "_________________________________________________________________\n",
      "flatten_9 (Flatten)          (None, 100)               0         \n",
      "_________________________________________________________________\n",
      "dense_33 (Dense)             (None, 1024)              103424    \n",
      "_________________________________________________________________\n",
      "dropout_18 (Dropout)         (None, 1024)              0         \n",
      "_________________________________________________________________\n",
      "dense_34 (Dense)             (None, 512)               524800    \n",
      "_________________________________________________________________\n",
      "dense_35 (Dense)             (None, 512)               262656    \n",
      "_________________________________________________________________\n",
      "dense_36 (Dense)             (None, 11)                5643      \n",
      "=================================================================\n",
      "Total params: 1,227,423\n",
      "Trainable params: 1,227,023\n",
      "Non-trainable params: 400\n",
      "_________________________________________________________________\n"
     ]
    }
   ],
   "source": [
    "#### initiate RMSprop optimizer\n",
    "opt = keras.optimizers.rmsprop(lr=0.001, decay=1e-6)\n",
    "adam_opt = keras.optimizers.adam(lr=0.001, beta_1=0.9, beta_2=0.999, epsilon=1e-8, decay=0.0)\n",
    "# Let's train the model using RMSprop\n",
    "model.compile(loss='binary_crossentropy', #binary_crossentropy\n",
    "              optimizer=adam_opt,#opt,\"Adam\"\n",
    "              metrics=['binary_accuracy'])\n",
    "\n",
    "model.summary()"
   ]
  },
  {
   "cell_type": "code",
   "execution_count": 103,
   "metadata": {},
   "outputs": [
    {
     "name": "stdout",
     "output_type": "stream",
     "text": [
      "Train on 297 samples, validate on 198 samples\n",
      "Epoch 1/100\n",
      " - 5s - loss: 0.7125 - binary_accuracy: 0.4943 - val_loss: 0.6963 - val_binary_accuracy: 0.5152\n",
      "Epoch 2/100\n",
      " - 3s - loss: 0.6927 - binary_accuracy: 0.5338 - val_loss: 0.6964 - val_binary_accuracy: 0.4977\n",
      "Epoch 3/100\n",
      " - 3s - loss: 0.6908 - binary_accuracy: 0.5516 - val_loss: 0.7007 - val_binary_accuracy: 0.5087\n",
      "Epoch 4/100\n",
      " - 3s - loss: 0.6869 - binary_accuracy: 0.5510 - val_loss: 0.6964 - val_binary_accuracy: 0.5110\n",
      "Epoch 5/100\n",
      " - 3s - loss: 0.6854 - binary_accuracy: 0.5531 - val_loss: 0.6955 - val_binary_accuracy: 0.5129\n",
      "Epoch 6/100\n",
      " - 3s - loss: 0.6838 - binary_accuracy: 0.5470 - val_loss: 0.6955 - val_binary_accuracy: 0.5032\n",
      "Epoch 7/100\n",
      " - 3s - loss: 0.6773 - binary_accuracy: 0.5742 - val_loss: 0.6940 - val_binary_accuracy: 0.5156\n",
      "Epoch 8/100\n",
      " - 3s - loss: 0.6787 - binary_accuracy: 0.5865 - val_loss: 0.7036 - val_binary_accuracy: 0.4922\n",
      "Epoch 9/100\n",
      " - 3s - loss: 0.6657 - binary_accuracy: 0.5914 - val_loss: 0.7009 - val_binary_accuracy: 0.5133\n",
      "Epoch 10/100\n",
      " - 3s - loss: 0.6698 - binary_accuracy: 0.5898 - val_loss: 0.7178 - val_binary_accuracy: 0.4798\n",
      "Epoch 11/100\n",
      " - 3s - loss: 0.6717 - binary_accuracy: 0.5779 - val_loss: 0.7016 - val_binary_accuracy: 0.5078\n",
      "Epoch 12/100\n",
      " - 3s - loss: 0.6724 - binary_accuracy: 0.5846 - val_loss: 0.6982 - val_binary_accuracy: 0.5064\n",
      "Epoch 13/100\n",
      " - 3s - loss: 0.6609 - binary_accuracy: 0.6137 - val_loss: 0.7106 - val_binary_accuracy: 0.5106\n",
      "Epoch 14/100\n",
      " - 3s - loss: 0.6605 - binary_accuracy: 0.6058 - val_loss: 0.6982 - val_binary_accuracy: 0.5124\n",
      "Epoch 15/100\n",
      " - 3s - loss: 0.6611 - binary_accuracy: 0.5999 - val_loss: 0.7120 - val_binary_accuracy: 0.5147\n",
      "Epoch 16/100\n",
      " - 3s - loss: 0.6568 - binary_accuracy: 0.6073 - val_loss: 0.6987 - val_binary_accuracy: 0.5239\n",
      "Epoch 17/100\n",
      " - 3s - loss: 0.6553 - binary_accuracy: 0.6171 - val_loss: 0.7307 - val_binary_accuracy: 0.4899\n",
      "Epoch 18/100\n",
      " - 3s - loss: 0.6522 - binary_accuracy: 0.6134 - val_loss: 0.7887 - val_binary_accuracy: 0.4899\n",
      "Epoch 19/100\n",
      " - 3s - loss: 0.6548 - binary_accuracy: 0.6079 - val_loss: 0.7470 - val_binary_accuracy: 0.5009\n",
      "Epoch 20/100\n",
      " - 3s - loss: 0.6615 - binary_accuracy: 0.6082 - val_loss: 0.7323 - val_binary_accuracy: 0.5092\n",
      "Epoch 21/100\n",
      " - 3s - loss: 0.6489 - binary_accuracy: 0.6183 - val_loss: 0.7170 - val_binary_accuracy: 0.5005\n",
      "Epoch 22/100\n",
      " - 3s - loss: 0.6461 - binary_accuracy: 0.6253 - val_loss: 0.7317 - val_binary_accuracy: 0.5032\n",
      "Epoch 23/100\n",
      " - 3s - loss: 0.6477 - binary_accuracy: 0.6339 - val_loss: 0.8194 - val_binary_accuracy: 0.4949\n",
      "Epoch 24/100\n",
      " - 3s - loss: 0.6393 - binary_accuracy: 0.6284 - val_loss: 0.8362 - val_binary_accuracy: 0.4908\n",
      "Epoch 25/100\n",
      " - 3s - loss: 0.6435 - binary_accuracy: 0.6250 - val_loss: 0.7489 - val_binary_accuracy: 0.5028\n",
      "Epoch 26/100\n",
      " - 3s - loss: 0.6454 - binary_accuracy: 0.6275 - val_loss: 0.8066 - val_binary_accuracy: 0.4959\n",
      "Epoch 27/100\n",
      " - 3s - loss: 0.6474 - binary_accuracy: 0.6348 - val_loss: 0.7248 - val_binary_accuracy: 0.5174\n",
      "Epoch 28/100\n",
      " - 3s - loss: 0.6401 - binary_accuracy: 0.6394 - val_loss: 0.7093 - val_binary_accuracy: 0.5211\n",
      "Epoch 29/100\n",
      " - 3s - loss: 0.6313 - binary_accuracy: 0.6507 - val_loss: 0.7263 - val_binary_accuracy: 0.5124\n",
      "Epoch 30/100\n",
      " - 3s - loss: 0.6389 - binary_accuracy: 0.6465 - val_loss: 0.7416 - val_binary_accuracy: 0.5096\n",
      "Epoch 31/100\n",
      " - 3s - loss: 0.6349 - binary_accuracy: 0.6471 - val_loss: 0.7290 - val_binary_accuracy: 0.5248\n",
      "Epoch 32/100\n",
      " - 3s - loss: 0.6348 - binary_accuracy: 0.6425 - val_loss: 0.7741 - val_binary_accuracy: 0.4894\n",
      "Epoch 33/100\n",
      " - 3s - loss: 0.6367 - binary_accuracy: 0.6345 - val_loss: 0.7384 - val_binary_accuracy: 0.5041\n",
      "Epoch 34/100\n",
      " - 3s - loss: 0.6313 - binary_accuracy: 0.6382 - val_loss: 0.7180 - val_binary_accuracy: 0.5152\n",
      "Epoch 35/100\n",
      " - 3s - loss: 0.6274 - binary_accuracy: 0.6501 - val_loss: 0.7440 - val_binary_accuracy: 0.5156\n",
      "Epoch 36/100\n",
      " - 3s - loss: 0.6329 - binary_accuracy: 0.6434 - val_loss: 0.7384 - val_binary_accuracy: 0.5051\n",
      "Epoch 37/100\n",
      " - 3s - loss: 0.6156 - binary_accuracy: 0.6651 - val_loss: 0.7782 - val_binary_accuracy: 0.5197\n",
      "Epoch 38/100\n",
      " - 3s - loss: 0.6300 - binary_accuracy: 0.6376 - val_loss: 0.7259 - val_binary_accuracy: 0.5197\n",
      "Epoch 39/100\n",
      " - 3s - loss: 0.6241 - binary_accuracy: 0.6633 - val_loss: 0.7432 - val_binary_accuracy: 0.5211\n",
      "Epoch 40/100\n",
      " - 3s - loss: 0.6317 - binary_accuracy: 0.6452 - val_loss: 0.7276 - val_binary_accuracy: 0.5225\n",
      "Epoch 41/100\n",
      " - 3s - loss: 0.6153 - binary_accuracy: 0.6661 - val_loss: 0.7094 - val_binary_accuracy: 0.5395\n",
      "Epoch 42/100\n",
      " - 3s - loss: 0.6256 - binary_accuracy: 0.6590 - val_loss: 0.7625 - val_binary_accuracy: 0.5101\n",
      "Epoch 43/100\n",
      " - 3s - loss: 0.6152 - binary_accuracy: 0.6657 - val_loss: 0.7353 - val_binary_accuracy: 0.5179\n",
      "Epoch 44/100\n",
      " - 3s - loss: 0.6224 - binary_accuracy: 0.6495 - val_loss: 0.7265 - val_binary_accuracy: 0.5101\n",
      "Epoch 45/100\n",
      " - 3s - loss: 0.6188 - binary_accuracy: 0.6654 - val_loss: 0.7499 - val_binary_accuracy: 0.5165\n",
      "Epoch 46/100\n",
      " - 3s - loss: 0.6097 - binary_accuracy: 0.6762 - val_loss: 0.8984 - val_binary_accuracy: 0.5000\n",
      "Epoch 47/100\n",
      " - 3s - loss: 0.6055 - binary_accuracy: 0.6737 - val_loss: 0.8167 - val_binary_accuracy: 0.5110\n",
      "Epoch 48/100\n",
      " - 3s - loss: 0.5981 - binary_accuracy: 0.6746 - val_loss: 0.9145 - val_binary_accuracy: 0.5115\n",
      "Epoch 49/100\n",
      " - 3s - loss: 0.6284 - binary_accuracy: 0.6449 - val_loss: 0.7806 - val_binary_accuracy: 0.5014\n",
      "Epoch 50/100\n",
      " - 3s - loss: 0.6087 - binary_accuracy: 0.6590 - val_loss: 0.8118 - val_binary_accuracy: 0.4991\n",
      "Epoch 51/100\n",
      " - 3s - loss: 0.6153 - binary_accuracy: 0.6688 - val_loss: 0.8693 - val_binary_accuracy: 0.4982\n",
      "Epoch 52/100\n",
      " - 3s - loss: 0.6205 - binary_accuracy: 0.6468 - val_loss: 0.7768 - val_binary_accuracy: 0.5197\n",
      "Epoch 53/100\n",
      " - 3s - loss: 0.6131 - binary_accuracy: 0.6673 - val_loss: 0.7751 - val_binary_accuracy: 0.5064\n",
      "Epoch 54/100\n",
      " - 3s - loss: 0.6004 - binary_accuracy: 0.6814 - val_loss: 0.7553 - val_binary_accuracy: 0.5133\n",
      "Epoch 55/100\n",
      " - 3s - loss: 0.6158 - binary_accuracy: 0.6685 - val_loss: 0.7478 - val_binary_accuracy: 0.5083\n",
      "Epoch 56/100\n",
      " - 3s - loss: 0.6125 - binary_accuracy: 0.6703 - val_loss: 0.7639 - val_binary_accuracy: 0.5041\n",
      "Epoch 57/100\n",
      " - 3s - loss: 0.6072 - binary_accuracy: 0.6777 - val_loss: 0.7367 - val_binary_accuracy: 0.5253\n",
      "Epoch 58/100\n",
      " - 3s - loss: 0.5967 - binary_accuracy: 0.6783 - val_loss: 0.8020 - val_binary_accuracy: 0.5046\n",
      "Epoch 59/100\n",
      " - 3s - loss: 0.6053 - binary_accuracy: 0.6765 - val_loss: 0.7788 - val_binary_accuracy: 0.5032\n",
      "Epoch 60/100\n",
      " - 3s - loss: 0.6123 - binary_accuracy: 0.6648 - val_loss: 0.7528 - val_binary_accuracy: 0.4936\n",
      "Epoch 61/100\n",
      " - 4s - loss: 0.5994 - binary_accuracy: 0.6835 - val_loss: 0.7829 - val_binary_accuracy: 0.4995\n",
      "Epoch 62/100\n",
      " - 3s - loss: 0.6030 - binary_accuracy: 0.6752 - val_loss: 0.7578 - val_binary_accuracy: 0.5308\n",
      "Epoch 63/100\n",
      " - 3s - loss: 0.5894 - binary_accuracy: 0.6844 - val_loss: 0.7350 - val_binary_accuracy: 0.5147\n",
      "Epoch 64/100\n",
      " - 3s - loss: 0.5944 - binary_accuracy: 0.6780 - val_loss: 0.7457 - val_binary_accuracy: 0.5087\n",
      "Epoch 65/100\n",
      " - 3s - loss: 0.5872 - binary_accuracy: 0.6912 - val_loss: 0.7668 - val_binary_accuracy: 0.5005\n",
      "Epoch 66/100\n",
      " - 3s - loss: 0.6004 - binary_accuracy: 0.6771 - val_loss: 0.7410 - val_binary_accuracy: 0.5041\n",
      "Epoch 67/100\n",
      " - 3s - loss: 0.5926 - binary_accuracy: 0.6710 - val_loss: 0.7621 - val_binary_accuracy: 0.5294\n",
      "Epoch 68/100\n",
      " - 3s - loss: 0.6062 - binary_accuracy: 0.6734 - val_loss: 0.7895 - val_binary_accuracy: 0.5193\n",
      "Epoch 69/100\n",
      " - 3s - loss: 0.5850 - binary_accuracy: 0.6976 - val_loss: 0.7229 - val_binary_accuracy: 0.5317\n",
      "Epoch 70/100\n",
      " - 3s - loss: 0.5809 - binary_accuracy: 0.7037 - val_loss: 0.7773 - val_binary_accuracy: 0.5060\n",
      "Epoch 71/100\n",
      " - 3s - loss: 0.5909 - binary_accuracy: 0.6860 - val_loss: 0.7659 - val_binary_accuracy: 0.5101\n",
      "Epoch 72/100\n",
      " - 3s - loss: 0.5961 - binary_accuracy: 0.6728 - val_loss: 0.7314 - val_binary_accuracy: 0.5119\n",
      "Epoch 73/100\n",
      " - 3s - loss: 0.5909 - binary_accuracy: 0.6801 - val_loss: 0.7419 - val_binary_accuracy: 0.5211\n",
      "Epoch 74/100\n",
      " - 3s - loss: 0.5825 - binary_accuracy: 0.6860 - val_loss: 0.7419 - val_binary_accuracy: 0.5174\n",
      "Epoch 75/100\n",
      " - 3s - loss: 0.5804 - binary_accuracy: 0.6884 - val_loss: 0.7528 - val_binary_accuracy: 0.5101\n",
      "Epoch 76/100\n",
      " - 3s - loss: 0.5783 - binary_accuracy: 0.7000 - val_loss: 0.7498 - val_binary_accuracy: 0.5119\n",
      "Epoch 77/100\n",
      " - 3s - loss: 0.5725 - binary_accuracy: 0.7019 - val_loss: 0.7873 - val_binary_accuracy: 0.5096\n",
      "Epoch 78/100\n",
      " - 3s - loss: 0.5934 - binary_accuracy: 0.6887 - val_loss: 0.7440 - val_binary_accuracy: 0.5014\n",
      "Epoch 79/100\n",
      " - 3s - loss: 0.5807 - binary_accuracy: 0.6905 - val_loss: 0.8085 - val_binary_accuracy: 0.4899\n",
      "Epoch 80/100\n",
      " - 3s - loss: 0.5769 - binary_accuracy: 0.7062 - val_loss: 0.8159 - val_binary_accuracy: 0.5023\n",
      "Epoch 81/100\n",
      " - 3s - loss: 0.5811 - binary_accuracy: 0.6967 - val_loss: 0.7907 - val_binary_accuracy: 0.4904\n",
      "Epoch 82/100\n",
      " - 3s - loss: 0.5869 - binary_accuracy: 0.6844 - val_loss: 0.8378 - val_binary_accuracy: 0.4927\n",
      "Epoch 83/100\n",
      " - 3s - loss: 0.5811 - binary_accuracy: 0.6890 - val_loss: 0.8483 - val_binary_accuracy: 0.4945\n",
      "Epoch 84/100\n",
      " - 3s - loss: 0.5888 - binary_accuracy: 0.6908 - val_loss: 0.8179 - val_binary_accuracy: 0.4968\n",
      "Epoch 85/100\n",
      " - 3s - loss: 0.5920 - binary_accuracy: 0.6768 - val_loss: 0.8089 - val_binary_accuracy: 0.4927\n",
      "Epoch 86/100\n",
      " - 3s - loss: 0.5785 - binary_accuracy: 0.6884 - val_loss: 0.8153 - val_binary_accuracy: 0.4890\n",
      "Epoch 87/100\n",
      " - 3s - loss: 0.5655 - binary_accuracy: 0.7062 - val_loss: 0.7813 - val_binary_accuracy: 0.5018\n",
      "Epoch 88/100\n",
      " - 3s - loss: 0.5802 - binary_accuracy: 0.6961 - val_loss: 0.7786 - val_binary_accuracy: 0.5179\n",
      "Epoch 89/100\n",
      " - 3s - loss: 0.5798 - binary_accuracy: 0.6945 - val_loss: 0.7727 - val_binary_accuracy: 0.5087\n",
      "Epoch 90/100\n",
      " - 3s - loss: 0.5803 - binary_accuracy: 0.6915 - val_loss: 0.8150 - val_binary_accuracy: 0.5161\n",
      "Epoch 91/100\n",
      " - 3s - loss: 0.5824 - binary_accuracy: 0.6939 - val_loss: 0.8486 - val_binary_accuracy: 0.5069\n",
      "Epoch 92/100\n",
      " - 3s - loss: 0.5626 - binary_accuracy: 0.7058 - val_loss: 0.7945 - val_binary_accuracy: 0.5041\n",
      "Epoch 93/100\n",
      " - 3s - loss: 0.5789 - binary_accuracy: 0.7025 - val_loss: 0.8108 - val_binary_accuracy: 0.4991\n",
      "Epoch 94/100\n",
      " - 3s - loss: 0.5763 - binary_accuracy: 0.6933 - val_loss: 0.7856 - val_binary_accuracy: 0.4931\n",
      "Epoch 95/100\n",
      " - 3s - loss: 0.5647 - binary_accuracy: 0.7019 - val_loss: 0.8380 - val_binary_accuracy: 0.4977\n",
      "Epoch 96/100\n",
      " - 3s - loss: 0.5719 - binary_accuracy: 0.6988 - val_loss: 0.7965 - val_binary_accuracy: 0.4963\n",
      "Epoch 97/100\n",
      " - 4s - loss: 0.5741 - binary_accuracy: 0.7046 - val_loss: 0.7792 - val_binary_accuracy: 0.5023\n",
      "Epoch 98/100\n",
      " - 4s - loss: 0.5821 - binary_accuracy: 0.6853 - val_loss: 0.7780 - val_binary_accuracy: 0.4977\n",
      "Epoch 99/100\n",
      " - 3s - loss: 0.5785 - binary_accuracy: 0.6869 - val_loss: 0.7610 - val_binary_accuracy: 0.5069\n",
      "Epoch 100/100\n",
      " - 3s - loss: 0.5626 - binary_accuracy: 0.7049 - val_loss: 0.7792 - val_binary_accuracy: 0.5041\n"
     ]
    }
   ],
   "source": [
    "history = model.fit(x_train, y_train, validation_data = (x_val, y_val), epochs=100, batch_size=10, verbose=2)"
   ]
  },
  {
   "cell_type": "code",
   "execution_count": 104,
   "metadata": {},
   "outputs": [
    {
     "data": {
      "image/png": "[encoded data removed]",
      "text/plain": [
       "<Figure size 432x288 with 1 Axes>"
      ]
     },
     "metadata": {},
     "output_type": "display_data"
    }
   ],
   "source": [
    "plt.plot(history.history[\"binary_accuracy\"], label=\"acc\")\n",
    "plt.plot(history.history[\"val_binary_accuracy\"], label=\"val_acc\")\n",
    "plt.axhline(0.5, c=\".3\")\n",
    "plt.legend()\n",
    "plt.show()"
   ]
  },
  {
   "cell_type": "code",
   "execution_count": 105,
   "metadata": {},
   "outputs": [
    {
     "data": {
      "image/png": "[encoded data removed]",
      "text/plain": [
       "<Figure size 432x288 with 1 Axes>"
      ]
     },
     "metadata": {},
     "output_type": "display_data"
    }
   ],
   "source": [
    "plt.plot(history.history[\"loss\"], label=\"loss\")\n",
    "plt.plot(history.history[\"val_loss\"], label=\"val_loss\")\n",
    "plt.legend()\n",
    "plt.show()"
   ]
  },
  {
   "cell_type": "code",
   "execution_count": 106,
   "metadata": {},
   "outputs": [],
   "source": [
    "preds = model.predict(X)\n"
   ]
  },
  {
   "cell_type": "code",
   "execution_count": 107,
   "metadata": {},
   "outputs": [
    {
     "data": {
      "text/html": [
       "<div>\n",
       "<style scoped>\n",
       "    .dataframe tbody tr th:only-of-type {\n",
       "        vertical-align: middle;\n",
       "    }\n",
       "\n",
       "    .dataframe tbody tr th {\n",
       "        vertical-align: top;\n",
       "    }\n",
       "\n",
       "    .dataframe thead th {\n",
       "        text-align: right;\n",
       "    }\n",
       "</style>\n",
       "<table border=\"1\" class=\"dataframe\">\n",
       "  <thead>\n",
       "    <tr style=\"text-align: right;\">\n",
       "      <th></th>\n",
       "      <th>Samsung</th>\n",
       "      <th>Telefonica</th>\n",
       "      <th>Allianz</th>\n",
       "      <th>Total</th>\n",
       "      <th>Bayer</th>\n",
       "      <th>Tesla</th>\n",
       "      <th>Airbus</th>\n",
       "      <th>Apple</th>\n",
       "      <th>BASF</th>\n",
       "      <th>BMW</th>\n",
       "      <th>Google</th>\n",
       "    </tr>\n",
       "    <tr>\n",
       "      <th>Timestamp</th>\n",
       "      <th></th>\n",
       "      <th></th>\n",
       "      <th></th>\n",
       "      <th></th>\n",
       "      <th></th>\n",
       "      <th></th>\n",
       "      <th></th>\n",
       "      <th></th>\n",
       "      <th></th>\n",
       "      <th></th>\n",
       "      <th></th>\n",
       "    </tr>\n",
       "  </thead>\n",
       "  <tbody>\n",
       "    <tr>\n",
       "      <th>2018-06-18</th>\n",
       "      <td>0.335103</td>\n",
       "      <td>0.752789</td>\n",
       "      <td>0.548571</td>\n",
       "      <td>0.808693</td>\n",
       "      <td>0.791413</td>\n",
       "      <td>0.777210</td>\n",
       "      <td>0.816072</td>\n",
       "      <td>0.260249</td>\n",
       "      <td>0.702109</td>\n",
       "      <td>0.507300</td>\n",
       "      <td>0.143797</td>\n",
       "    </tr>\n",
       "    <tr>\n",
       "      <th>2018-06-15</th>\n",
       "      <td>0.742311</td>\n",
       "      <td>0.570370</td>\n",
       "      <td>0.856073</td>\n",
       "      <td>0.258788</td>\n",
       "      <td>0.769554</td>\n",
       "      <td>0.558493</td>\n",
       "      <td>0.778521</td>\n",
       "      <td>0.329652</td>\n",
       "      <td>0.710911</td>\n",
       "      <td>0.810072</td>\n",
       "      <td>0.464994</td>\n",
       "    </tr>\n",
       "    <tr>\n",
       "      <th>2018-06-14</th>\n",
       "      <td>0.837552</td>\n",
       "      <td>0.505016</td>\n",
       "      <td>0.934739</td>\n",
       "      <td>0.496353</td>\n",
       "      <td>0.784647</td>\n",
       "      <td>0.386688</td>\n",
       "      <td>0.875893</td>\n",
       "      <td>0.464100</td>\n",
       "      <td>0.914855</td>\n",
       "      <td>0.849305</td>\n",
       "      <td>0.429577</td>\n",
       "    </tr>\n",
       "    <tr>\n",
       "      <th>2018-06-12</th>\n",
       "      <td>0.710447</td>\n",
       "      <td>0.290176</td>\n",
       "      <td>0.732680</td>\n",
       "      <td>0.566733</td>\n",
       "      <td>0.469262</td>\n",
       "      <td>0.532172</td>\n",
       "      <td>0.587147</td>\n",
       "      <td>0.503354</td>\n",
       "      <td>0.722274</td>\n",
       "      <td>0.477530</td>\n",
       "      <td>0.476929</td>\n",
       "    </tr>\n",
       "    <tr>\n",
       "      <th>2018-06-11</th>\n",
       "      <td>0.779927</td>\n",
       "      <td>0.447775</td>\n",
       "      <td>0.643953</td>\n",
       "      <td>0.408998</td>\n",
       "      <td>0.550599</td>\n",
       "      <td>0.462532</td>\n",
       "      <td>0.559283</td>\n",
       "      <td>0.207809</td>\n",
       "      <td>0.672667</td>\n",
       "      <td>0.588936</td>\n",
       "      <td>0.429674</td>\n",
       "    </tr>\n",
       "  </tbody>\n",
       "</table>\n",
       "</div>"
      ],
      "text/plain": [
       "             Samsung  Telefonica   Allianz     Total     Bayer     Tesla  \\\n",
       "Timestamp                                                                  \n",
       "2018-06-18  0.335103    0.752789  0.548571  0.808693  0.791413  0.777210   \n",
       "2018-06-15  0.742311    0.570370  0.856073  0.258788  0.769554  0.558493   \n",
       "2018-06-14  0.837552    0.505016  0.934739  0.496353  0.784647  0.386688   \n",
       "2018-06-12  0.710447    0.290176  0.732680  0.566733  0.469262  0.532172   \n",
       "2018-06-11  0.779927    0.447775  0.643953  0.408998  0.550599  0.462532   \n",
       "\n",
       "              Airbus     Apple      BASF       BMW    Google  \n",
       "Timestamp                                                     \n",
       "2018-06-18  0.816072  0.260249  0.702109  0.507300  0.143797  \n",
       "2018-06-15  0.778521  0.329652  0.710911  0.810072  0.464994  \n",
       "2018-06-14  0.875893  0.464100  0.914855  0.849305  0.429577  \n",
       "2018-06-12  0.587147  0.503354  0.722274  0.477530  0.476929  \n",
       "2018-06-11  0.559283  0.207809  0.672667  0.588936  0.429674  "
      ]
     },
     "execution_count": 107,
     "metadata": {},
     "output_type": "execute_result"
    }
   ],
   "source": [
    "df_predictions = pd.DataFrame(preds, columns=fin_data_class.columns, index = fin_data_class.index)#[1 if t > 0.5 else 0 for t in Y[1]]\n",
    "df_predictions.head()"
   ]
  },
  {
   "cell_type": "code",
   "execution_count": 108,
   "metadata": {},
   "outputs": [],
   "source": [
    "def try_cuts(df, cut_count):\n",
    "    cuts = np.linspace(0,1,cut_count)\n",
    "    accs = []\n",
    "    for c in cuts:\n",
    "        df_tmp = df.applymap(lambda x: 1 if x > c else 0)\n",
    "        df_tmp = fin_data_class.rsub(df_tmp)\n",
    "        df_tmp[\"error_sum\"] = df_tmp.apply(lambda x: np.sum(abs(x)), axis=1)\n",
    "        \n",
    "        total_returns = df_tmp.shape[0] * df_tmp.shape[1]\n",
    "        error_sum = df_tmp[\"error_sum\"].sum()\n",
    "        accuracy = (total_returns - error_sum) / total_returns\n",
    "        \n",
    "        accs.append(accuracy)\n",
    "    return accs, cuts"
   ]
  },
  {
   "cell_type": "code",
   "execution_count": 109,
   "metadata": {},
   "outputs": [],
   "source": [
    "accs, cuts = try_cuts(df_predictions, 30)"
   ]
  },
  {
   "cell_type": "code",
   "execution_count": 110,
   "metadata": {},
   "outputs": [
    {
     "data": {
      "text/plain": [
       "Text(0,0.5,'Accuracy')"
      ]
     },
     "execution_count": 110,
     "metadata": {},
     "output_type": "execute_result"
    },
    {
     "data": {
      "image/png": "[encoded data removed]",
      "text/plain": [
       "<Figure size 432x288 with 1 Axes>"
      ]
     },
     "metadata": {},
     "output_type": "display_data"
    }
   ],
   "source": [
    "plt.plot(cuts, accs)\n",
    "plt.xlabel(\"Cuts\")\n",
    "plt.ylabel(\"Accuracy\")"
   ]
  },
  {
   "cell_type": "code",
   "execution_count": 44,
   "metadata": {},
   "outputs": [
    {
     "data": {
      "text/html": [
       "<div>\n",
       "<style scoped>\n",
       "    .dataframe tbody tr th:only-of-type {\n",
       "        vertical-align: middle;\n",
       "    }\n",
       "\n",
       "    .dataframe tbody tr th {\n",
       "        vertical-align: top;\n",
       "    }\n",
       "\n",
       "    .dataframe thead th {\n",
       "        text-align: right;\n",
       "    }\n",
       "</style>\n",
       "<table border=\"1\" class=\"dataframe\">\n",
       "  <thead>\n",
       "    <tr style=\"text-align: right;\">\n",
       "      <th></th>\n",
       "      <th>Samsung</th>\n",
       "      <th>Telefonica</th>\n",
       "      <th>Allianz</th>\n",
       "      <th>Total</th>\n",
       "      <th>Bayer</th>\n",
       "      <th>Tesla</th>\n",
       "      <th>Airbus</th>\n",
       "      <th>Apple</th>\n",
       "      <th>BASF</th>\n",
       "      <th>BMW</th>\n",
       "      <th>Google</th>\n",
       "    </tr>\n",
       "    <tr>\n",
       "      <th>Timestamp</th>\n",
       "      <th></th>\n",
       "      <th></th>\n",
       "      <th></th>\n",
       "      <th></th>\n",
       "      <th></th>\n",
       "      <th></th>\n",
       "      <th></th>\n",
       "      <th></th>\n",
       "      <th></th>\n",
       "      <th></th>\n",
       "      <th></th>\n",
       "    </tr>\n",
       "  </thead>\n",
       "  <tbody>\n",
       "    <tr>\n",
       "      <th>2017-08-02</th>\n",
       "      <td>0</td>\n",
       "      <td>0</td>\n",
       "      <td>0</td>\n",
       "      <td>0</td>\n",
       "      <td>0</td>\n",
       "      <td>0</td>\n",
       "      <td>0</td>\n",
       "      <td>0</td>\n",
       "      <td>0</td>\n",
       "      <td>0</td>\n",
       "      <td>0</td>\n",
       "    </tr>\n",
       "    <tr>\n",
       "      <th>2017-08-01</th>\n",
       "      <td>0</td>\n",
       "      <td>0</td>\n",
       "      <td>1</td>\n",
       "      <td>0</td>\n",
       "      <td>0</td>\n",
       "      <td>0</td>\n",
       "      <td>1</td>\n",
       "      <td>0</td>\n",
       "      <td>0</td>\n",
       "      <td>0</td>\n",
       "      <td>0</td>\n",
       "    </tr>\n",
       "    <tr>\n",
       "      <th>2017-07-31</th>\n",
       "      <td>0</td>\n",
       "      <td>0</td>\n",
       "      <td>1</td>\n",
       "      <td>0</td>\n",
       "      <td>0</td>\n",
       "      <td>0</td>\n",
       "      <td>1</td>\n",
       "      <td>0</td>\n",
       "      <td>0</td>\n",
       "      <td>0</td>\n",
       "      <td>0</td>\n",
       "    </tr>\n",
       "    <tr>\n",
       "      <th>2017-07-28</th>\n",
       "      <td>0</td>\n",
       "      <td>0</td>\n",
       "      <td>0</td>\n",
       "      <td>0</td>\n",
       "      <td>0</td>\n",
       "      <td>0</td>\n",
       "      <td>0</td>\n",
       "      <td>0</td>\n",
       "      <td>0</td>\n",
       "      <td>0</td>\n",
       "      <td>0</td>\n",
       "    </tr>\n",
       "    <tr>\n",
       "      <th>2017-07-27</th>\n",
       "      <td>0</td>\n",
       "      <td>0</td>\n",
       "      <td>0</td>\n",
       "      <td>0</td>\n",
       "      <td>0</td>\n",
       "      <td>0</td>\n",
       "      <td>0</td>\n",
       "      <td>0</td>\n",
       "      <td>0</td>\n",
       "      <td>0</td>\n",
       "      <td>0</td>\n",
       "    </tr>\n",
       "  </tbody>\n",
       "</table>\n",
       "</div>"
      ],
      "text/plain": [
       "            Samsung  Telefonica  Allianz  Total  Bayer  Tesla  Airbus  Apple  \\\n",
       "Timestamp                                                                      \n",
       "2017-08-02        0           0        0      0      0      0       0      0   \n",
       "2017-08-01        0           0        1      0      0      0       1      0   \n",
       "2017-07-31        0           0        1      0      0      0       1      0   \n",
       "2017-07-28        0           0        0      0      0      0       0      0   \n",
       "2017-07-27        0           0        0      0      0      0       0      0   \n",
       "\n",
       "            BASF  BMW  Google  \n",
       "Timestamp                      \n",
       "2017-08-02     0    0       0  \n",
       "2017-08-01     0    0       0  \n",
       "2017-07-31     0    0       0  \n",
       "2017-07-28     0    0       0  \n",
       "2017-07-27     0    0       0  "
      ]
     },
     "execution_count": 44,
     "metadata": {},
     "output_type": "execute_result"
    }
   ],
   "source": [
    "df_predictions = df_predictions.applymap(lambda x: 1 if x > 0.5 else 0)\n",
    "df_predictions.head()"
   ]
  },
  {
   "cell_type": "code",
   "execution_count": 45,
   "metadata": {},
   "outputs": [
    {
     "data": {
      "text/html": [
       "<div>\n",
       "<style scoped>\n",
       "    .dataframe tbody tr th:only-of-type {\n",
       "        vertical-align: middle;\n",
       "    }\n",
       "\n",
       "    .dataframe tbody tr th {\n",
       "        vertical-align: top;\n",
       "    }\n",
       "\n",
       "    .dataframe thead th {\n",
       "        text-align: right;\n",
       "    }\n",
       "</style>\n",
       "<table border=\"1\" class=\"dataframe\">\n",
       "  <thead>\n",
       "    <tr style=\"text-align: right;\">\n",
       "      <th></th>\n",
       "      <th>Samsung</th>\n",
       "      <th>Telefonica</th>\n",
       "      <th>Allianz</th>\n",
       "      <th>Total</th>\n",
       "      <th>Bayer</th>\n",
       "      <th>Tesla</th>\n",
       "      <th>Airbus</th>\n",
       "      <th>Apple</th>\n",
       "      <th>BASF</th>\n",
       "      <th>BMW</th>\n",
       "      <th>Google</th>\n",
       "    </tr>\n",
       "    <tr>\n",
       "      <th>Timestamp</th>\n",
       "      <th></th>\n",
       "      <th></th>\n",
       "      <th></th>\n",
       "      <th></th>\n",
       "      <th></th>\n",
       "      <th></th>\n",
       "      <th></th>\n",
       "      <th></th>\n",
       "      <th></th>\n",
       "      <th></th>\n",
       "      <th></th>\n",
       "    </tr>\n",
       "  </thead>\n",
       "  <tbody>\n",
       "    <tr>\n",
       "      <th>2018-06-18</th>\n",
       "      <td>0</td>\n",
       "      <td>1</td>\n",
       "      <td>1</td>\n",
       "      <td>1</td>\n",
       "      <td>1</td>\n",
       "      <td>1</td>\n",
       "      <td>1</td>\n",
       "      <td>1</td>\n",
       "      <td>1</td>\n",
       "      <td>1</td>\n",
       "      <td>0</td>\n",
       "    </tr>\n",
       "    <tr>\n",
       "      <th>2018-06-15</th>\n",
       "      <td>1</td>\n",
       "      <td>0</td>\n",
       "      <td>1</td>\n",
       "      <td>0</td>\n",
       "      <td>1</td>\n",
       "      <td>0</td>\n",
       "      <td>1</td>\n",
       "      <td>1</td>\n",
       "      <td>1</td>\n",
       "      <td>1</td>\n",
       "      <td>1</td>\n",
       "    </tr>\n",
       "    <tr>\n",
       "      <th>2018-06-14</th>\n",
       "      <td>1</td>\n",
       "      <td>0</td>\n",
       "      <td>1</td>\n",
       "      <td>1</td>\n",
       "      <td>1</td>\n",
       "      <td>0</td>\n",
       "      <td>1</td>\n",
       "      <td>1</td>\n",
       "      <td>1</td>\n",
       "      <td>1</td>\n",
       "      <td>0</td>\n",
       "    </tr>\n",
       "    <tr>\n",
       "      <th>2018-06-12</th>\n",
       "      <td>1</td>\n",
       "      <td>0</td>\n",
       "      <td>1</td>\n",
       "      <td>1</td>\n",
       "      <td>0</td>\n",
       "      <td>0</td>\n",
       "      <td>1</td>\n",
       "      <td>1</td>\n",
       "      <td>1</td>\n",
       "      <td>1</td>\n",
       "      <td>0</td>\n",
       "    </tr>\n",
       "    <tr>\n",
       "      <th>2018-06-11</th>\n",
       "      <td>1</td>\n",
       "      <td>0</td>\n",
       "      <td>0</td>\n",
       "      <td>0</td>\n",
       "      <td>1</td>\n",
       "      <td>0</td>\n",
       "      <td>1</td>\n",
       "      <td>0</td>\n",
       "      <td>1</td>\n",
       "      <td>1</td>\n",
       "      <td>1</td>\n",
       "    </tr>\n",
       "  </tbody>\n",
       "</table>\n",
       "</div>"
      ],
      "text/plain": [
       "            Samsung  Telefonica  Allianz  Total  Bayer  Tesla  Airbus  Apple  \\\n",
       "Timestamp                                                                      \n",
       "2018-06-18        0           1        1      1      1      1       1      1   \n",
       "2018-06-15        1           0        1      0      1      0       1      1   \n",
       "2018-06-14        1           0        1      1      1      0       1      1   \n",
       "2018-06-12        1           0        1      1      0      0       1      1   \n",
       "2018-06-11        1           0        0      0      1      0       1      0   \n",
       "\n",
       "            BASF  BMW  Google  \n",
       "Timestamp                      \n",
       "2018-06-18     1    1       0  \n",
       "2018-06-15     1    1       1  \n",
       "2018-06-14     1    1       0  \n",
       "2018-06-12     1    1       0  \n",
       "2018-06-11     1    1       1  "
      ]
     },
     "execution_count": 45,
     "metadata": {},
     "output_type": "execute_result"
    }
   ],
   "source": [
    "fin_data_class.head()"
   ]
  },
  {
   "cell_type": "code",
   "execution_count": 202,
   "metadata": {},
   "outputs": [],
   "source": [
    "df_pred_errors = fin_data_class.rsub(df_predictions)"
   ]
  },
  {
   "cell_type": "code",
   "execution_count": 203,
   "metadata": {},
   "outputs": [],
   "source": [
    "def count_fp(x):\n",
    "    company_list = fin_data_class.columns\n",
    "    tmp = x[company_list]\n",
    "    \n",
    "    if 1 in tmp.value_counts():\n",
    "        return tmp.value_counts()[1]\n",
    "    else:\n",
    "        return 0\n",
    "    \n",
    "def count_fn(x):\n",
    "    company_list = fin_data_class.columns\n",
    "    tmp = x[company_list]\n",
    "    \n",
    "    if -1 in tmp.value_counts():\n",
    "        return tmp.value_counts()[-1]\n",
    "    else:\n",
    "        return 0"
   ]
  },
  {
   "cell_type": "code",
   "execution_count": 204,
   "metadata": {},
   "outputs": [],
   "source": [
    "df_pred_errors[\"error_sum\"] = df_pred_errors.apply(lambda x: np.sum(abs(x)), axis=1)\n",
    "#df_pred_errors[\"fale_pos_sum\"] = df_pred_errors.apply(count_fp, axis=1)\n",
    "#df_pred_errors[\"fale_neg_sum\"] = df_pred_errors.apply(count_fn, axis=1)"
   ]
  },
  {
   "cell_type": "code",
   "execution_count": 187,
   "metadata": {},
   "outputs": [
    {
     "data": {
      "text/plain": [
       "732"
      ]
     },
     "execution_count": 187,
     "metadata": {},
     "output_type": "execute_result"
    }
   ],
   "source": [
    "df_pred_errors[\"fale_pos_sum\"].sum()"
   ]
  },
  {
   "cell_type": "code",
   "execution_count": 188,
   "metadata": {},
   "outputs": [
    {
     "data": {
      "text/plain": [
       "330"
      ]
     },
     "execution_count": 188,
     "metadata": {},
     "output_type": "execute_result"
    }
   ],
   "source": [
    "df_pred_errors[\"fale_neg_sum\"].sum()"
   ]
  },
  {
   "cell_type": "code",
   "execution_count": 189,
   "metadata": {},
   "outputs": [
    {
     "data": {
      "text/plain": [
       "2800"
      ]
     },
     "execution_count": 189,
     "metadata": {},
     "output_type": "execute_result"
    }
   ],
   "source": [
    "df_pred_errors.iloc[:200].shape[0] * df_pred_errors.iloc[:200].shape[1]"
   ]
  },
  {
   "cell_type": "code",
   "execution_count": 190,
   "metadata": {},
   "outputs": [
    {
     "data": {
      "text/plain": [
       "190"
      ]
     },
     "execution_count": 190,
     "metadata": {},
     "output_type": "execute_result"
    }
   ],
   "source": [
    "df_pred_errors.iloc[:200].error_sum.sum()"
   ]
  },
  {
   "cell_type": "code",
   "execution_count": 205,
   "metadata": {},
   "outputs": [],
   "source": [
    "total_returns = df_pred_errors.shape[0] * df_pred_errors.shape[1]"
   ]
  },
  {
   "cell_type": "code",
   "execution_count": 206,
   "metadata": {},
   "outputs": [],
   "source": [
    "error_sum = df_pred_errors[\"error_sum\"].sum()"
   ]
  },
  {
   "cell_type": "code",
   "execution_count": 207,
   "metadata": {},
   "outputs": [
    {
     "data": {
      "text/plain": [
       "0.74714285714285711"
      ]
     },
     "execution_count": 207,
     "metadata": {},
     "output_type": "execute_result"
    }
   ],
   "source": [
    "accur = (total_returns - error_sum) / total_returns\n",
    "accur"
   ]
  },
  {
   "cell_type": "code",
   "execution_count": 170,
   "metadata": {},
   "outputs": [
    {
     "data": {
      "text/plain": [
       "(350, 11)"
      ]
     },
     "execution_count": 170,
     "metadata": {},
     "output_type": "execute_result"
    }
   ],
   "source": [
    "preds.shape"
   ]
  },
  {
   "cell_type": "code",
   "execution_count": 171,
   "metadata": {},
   "outputs": [
    {
     "data": {
      "text/plain": [
       "(350, 11)"
      ]
     },
     "execution_count": 171,
     "metadata": {},
     "output_type": "execute_result"
    }
   ],
   "source": [
    "Y.shape"
   ]
  },
  {
   "cell_type": "code",
   "execution_count": 83,
   "metadata": {},
   "outputs": [],
   "source": [
    "from sklearn.metrics import roc_curve, auc, precision_recall_curve"
   ]
  },
  {
   "cell_type": "code",
   "execution_count": 100,
   "metadata": {},
   "outputs": [],
   "source": [
    "precision, recall, thresholds = precision_recall_curve(Y.ravel(), preds.ravel())"
   ]
  },
  {
   "cell_type": "code",
   "execution_count": 101,
   "metadata": {},
   "outputs": [
    {
     "data": {
      "text/plain": [
       "Text(0,0.5,'Precision')"
      ]
     },
     "execution_count": 101,
     "metadata": {},
     "output_type": "execute_result"
    },
    {
     "data": {
      "image/png": "[encoded data removed]",
      "text/plain": [
       "<Figure size 432x288 with 1 Axes>"
      ]
     },
     "metadata": {},
     "output_type": "display_data"
    }
   ],
   "source": [
    "plt.plot((1 - recall), precision)\n",
    "#plt.step((1-recall), thresholds.add(1))\n",
    "plt.plot(plt.xlim(), plt.ylim(), ls=\"--\", c=\".3\")\n",
    "plt.xlabel(\"1 - Recall\")\n",
    "plt.ylabel(\"Precision\")"
   ]
  },
  {
   "cell_type": "code",
   "execution_count": 102,
   "metadata": {},
   "outputs": [],
   "source": [
    "fpr_keras, tpr_keras, thresholds_keras = roc_curve(Y.ravel(), preds.ravel())"
   ]
  },
  {
   "cell_type": "code",
   "execution_count": 103,
   "metadata": {},
   "outputs": [],
   "source": [
    "auc_keras = auc(fpr_keras, tpr_keras)"
   ]
  },
  {
   "cell_type": "code",
   "execution_count": 104,
   "metadata": {},
   "outputs": [
    {
     "data": {
      "image/png": "[encoded data removed]",
      "text/plain": [
       "<Figure size 432x288 with 1 Axes>"
      ]
     },
     "metadata": {},
     "output_type": "display_data"
    }
   ],
   "source": [
    "plt.figure(1)\n",
    "plt.plot([0, 1], [0, 1], 'k--')\n",
    "plt.plot(fpr_keras, tpr_keras, label='Keras (area = {:.3f})'.format(auc_keras))\n",
    "plt.xlabel('False positive rate')\n",
    "plt.ylabel('True positive rate')\n",
    "plt.title('ROC curve')\n",
    "plt.legend(loc='best')\n",
    "plt.show()"
   ]
  },
  {
   "cell_type": "code",
   "execution_count": 25,
   "metadata": {},
   "outputs": [],
   "source": [
    "from keras.layers import Dense, Input, Flatten, Reshape, concatenate, Dropout\n",
    "from keras.layers import Conv1D, Conv2D, MaxPooling1D, MaxPooling2D, Embedding\n",
    "from keras.layers import LSTM, Bidirectional\n",
    "from keras.models import Model\n",
    "from keras import optimizers\n",
    "from keras import regularizers"
   ]
  },
  {
   "cell_type": "code",
   "execution_count": null,
   "metadata": {},
   "outputs": [],
   "source": []
  },
  {
   "cell_type": "code",
   "execution_count": 54,
   "metadata": {},
   "outputs": [
    {
     "data": {
      "text/plain": [
       "array([ 0.,  0.,  0.,  0.,  0.,  0.,  0.,  0.,  0.,  0.,  0.])"
      ]
     },
     "execution_count": 54,
     "metadata": {},
     "output_type": "execute_result"
    }
   ],
   "source": [
    "x_train[0][0][0]"
   ]
  },
  {
   "cell_type": "code",
   "execution_count": 51,
   "metadata": {},
   "outputs": [
    {
     "ename": "ValueError",
     "evalue": "Layer reshape_2 was called with an input that isn't a symbolic tensor. Received type: <class 'numpy.ndarray'>. Full input: [array([[[[ 0.,  0.,  0., ...,  0.,  0.,  0.],\n         [ 0.,  0.,  0., ...,  0.,  0.,  0.],\n         [ 0.,  0.,  0., ...,  0.,  0.,  0.],\n         ..., \n         [ 0.,  0.,  0., ...,  0.,  0.,  0.],\n         [ 0.,  0.,  0., ...,  0.,  0.,  0.],\n         [ 0.,  0.,  0., ...,  0.,  0.,  0.]],\n\n        [[ 0.,  0.,  0., ...,  0.,  0.,  0.],\n         [ 0.,  0.,  0., ...,  0.,  0.,  0.],\n         [ 0.,  0.,  0., ...,  0.,  0.,  0.],\n         ..., \n         [ 0.,  0.,  0., ...,  0.,  0.,  0.],\n         [ 0.,  0.,  0., ...,  0.,  0.,  0.],\n         [ 0.,  0.,  0., ...,  0.,  0.,  0.]],\n\n        [[ 0.,  0.,  0., ...,  0.,  0.,  0.],\n         [ 0.,  0.,  0., ...,  0.,  0.,  0.],\n         [ 0.,  0.,  0., ...,  0.,  0.,  0.],\n         ..., \n         [ 0.,  0.,  0., ...,  0.,  0.,  0.],\n         [ 0.,  0.,  0., ...,  0.,  0.,  0.],\n         [ 0.,  0.,  0., ...,  0.,  0.,  0.]],\n\n        ..., \n        [[ 0.,  0.,  0., ...,  0.,  0.,  0.],\n         [ 0.,  0.,  0., ...,  0.,  0.,  0.],\n         [ 0.,  0.,  0., ...,  0.,  0.,  0.],\n         ..., \n         [ 0.,  0.,  0., ...,  0.,  0.,  0.],\n         [ 0.,  0.,  0., ...,  0.,  0.,  0.],\n         [ 0.,  0.,  0., ...,  0.,  0.,  0.]],\n\n        [[ 0.,  0.,  0., ...,  0.,  0.,  0.],\n         [ 0.,  0.,  0., ...,  0.,  0.,  0.],\n         [ 0.,  0.,  0., ...,  0.,  0.,  0.],\n         ..., \n         [ 0.,  0.,  0., ...,  0.,  0.,  0.],\n         [ 0.,  0.,  0., ...,  0.,  0.,  0.],\n         [ 0.,  0.,  0., ...,  0.,  0.,  0.]],\n\n        [[ 0.,  0.,  0., ...,  0.,  0.,  0.],\n         [ 0.,  0.,  0., ...,  0.,  0.,  0.],\n         [ 0.,  0.,  0., ...,  0.,  0.,  0.],\n         ..., \n         [ 0.,  0.,  0., ...,  0.,  0.,  0.],\n         [ 0.,  0.,  0., ...,  0.,  0.,  0.],\n         [ 0.,  0.,  0., ...,  0.,  0.,  0.]]],\n\n\n       [[[ 0.,  0.,  0., ...,  0.,  0.,  0.],\n         [ 0.,  0.,  0., ...,  0.,  0.,  0.],\n         [ 0.,  0.,  0., ...,  0.,  0.,  0.],\n         ..., \n         [ 0.,  0.,  0., ...,  0.,  0.,  0.],\n         [ 0.,  0.,  0., ...,  0.,  0.,  0.],\n         [ 0.,  0.,  0., ...,  0.,  0.,  0.]],\n\n        [[ 0.,  0.,  0., ...,  0.,  0.,  0.],\n         [ 0.,  0.,  0., ...,  0.,  0.,  0.],\n         [ 0.,  0.,  0., ...,  0.,  0.,  0.],\n         ..., \n         [ 0.,  0.,  0., ...,  0.,  0.,  0.],\n         [ 0.,  0.,  0., ...,  0.,  0.,  0.],\n         [ 0.,  0.,  0., ...,  0.,  0.,  0.]],\n\n        [[ 0.,  0.,  0., ...,  0.,  0.,  0.],\n         [ 0.,  0.,  0., ...,  0.,  0.,  0.],\n         [ 0.,  0.,  0., ...,  0.,  0.,  0.],\n         ..., \n         [ 0.,  0.,  0., ...,  0.,  0.,  0.],\n         [ 0.,  0.,  0., ...,  0.,  0.,  0.],\n         [ 0.,  0.,  0., ...,  0.,  0.,  0.]],\n\n        ..., \n        [[ 0.,  0.,  0., ...,  0.,  0.,  0.],\n         [ 0.,  0.,  0., ...,  0.,  0.,  0.],\n         [ 0.,  0.,  0., ...,  0.,  0.,  0.],\n         ..., \n         [ 0.,  0.,  0., ...,  0.,  0.,  0.],\n         [ 0.,  0.,  0., ...,  0.,  0.,  0.],\n         [ 0.,  0.,  0., ...,  0.,  0.,  0.]],\n\n        [[ 0.,  0.,  0., ...,  0.,  0.,  0.],\n         [ 0.,  0.,  0., ...,  0.,  0.,  0.],\n         [ 0.,  0.,  0., ...,  0.,  0.,  0.],\n         ..., \n         [ 0.,  0.,  0., ...,  0.,  0.,  0.],\n         [ 0.,  0.,  0., ...,  0.,  0.,  0.],\n         [ 0.,  0.,  0., ...,  0.,  0.,  0.]],\n\n        [[ 0.,  0.,  0., ...,  0.,  0.,  0.],\n         [ 0.,  0.,  0., ...,  0.,  0.,  0.],\n         [ 0.,  0.,  0., ...,  0.,  0.,  0.],\n         ..., \n         [ 0.,  0.,  0., ...,  0.,  0.,  0.],\n         [ 0.,  0.,  0., ...,  0.,  0.,  0.],\n         [ 0.,  0.,  0., ...,  0.,  0.,  0.]]],\n\n\n       [[[ 0.,  0.,  0., ...,  0.,  0.,  0.],\n         [ 0.,  0.,  0., ...,  0.,  0.,  0.],\n         [ 0.,  0.,  0., ...,  0.,  0.,  0.],\n         ..., \n         [ 0.,  0.,  0., ...,  0.,  0.,  0.],\n         [ 0.,  0.,  0., ...,  0.,  0.,  0.],\n         [ 0.,  0.,  0., ...,  0.,  0.,  0.]],\n\n        [[ 0.,  0.,  0., ...,  0.,  0.,  0.],\n         [ 0.,  0.,  0., ...,  0.,  0.,  0.],\n         [ 0.,  0.,  0., ...,  0.,  0.,  0.],\n         ..., \n         [ 0.,  0.,  0., ...,  0.,  0.,  0.],\n         [ 0.,  0.,  0., ...,  0.,  0.,  0.],\n         [ 0.,  0.,  0., ...,  0.,  0.,  0.]],\n\n        [[ 0.,  0.,  0., ...,  0.,  0.,  0.],\n         [ 0.,  0.,  0., ...,  0.,  0.,  0.],\n         [ 0.,  0.,  0., ...,  0.,  0.,  0.],\n         ..., \n         [ 0.,  0.,  0., ...,  0.,  0.,  0.],\n         [ 0.,  0.,  0., ...,  0.,  0.,  0.],\n         [ 0.,  0.,  0., ...,  0.,  0.,  0.]],\n\n        ..., \n        [[ 0.,  0.,  0., ...,  0.,  0.,  0.],\n         [ 0.,  0.,  0., ...,  0.,  0.,  0.],\n         [ 0.,  0.,  0., ...,  0.,  0.,  0.],\n         ..., \n         [ 0.,  0.,  0., ...,  0.,  0.,  0.],\n         [ 0.,  0.,  0., ...,  0.,  0.,  0.],\n         [ 0.,  0.,  0., ...,  0.,  0.,  0.]],\n\n        [[ 0.,  0.,  0., ...,  0.,  0.,  0.],\n         [ 0.,  0.,  0., ...,  0.,  0.,  0.],\n         [ 0.,  0.,  0., ...,  0.,  0.,  0.],\n         ..., \n         [ 0.,  0.,  0., ...,  0.,  0.,  0.],\n         [ 0.,  0.,  0., ...,  0.,  0.,  0.],\n         [ 0.,  0.,  0., ...,  0.,  0.,  0.]],\n\n        [[ 0.,  0.,  0., ...,  0.,  0.,  0.],\n         [ 0.,  0.,  0., ...,  0.,  0.,  0.],\n         [ 0.,  0.,  0., ...,  0.,  0.,  0.],\n         ..., \n         [ 0.,  0.,  0., ...,  0.,  0.,  0.],\n         [ 0.,  0.,  0., ...,  0.,  0.,  0.],\n         [ 0.,  0.,  0., ...,  0.,  0.,  0.]]],\n\n\n       ..., \n       [[[ 0.,  0.,  0., ...,  0.,  0.,  0.],\n         [ 0.,  0.,  0., ...,  0.,  0.,  0.],\n         [ 0.,  0.,  0., ...,  0.,  0.,  0.],\n         ..., \n         [ 0.,  0.,  0., ...,  0.,  0.,  0.],\n         [ 0.,  0.,  0., ...,  0.,  0.,  0.],\n         [ 0.,  0.,  0., ...,  0.,  0.,  0.]],\n\n        [[ 0.,  0.,  0., ...,  0.,  0.,  0.],\n         [ 0.,  0.,  0., ...,  0.,  0.,  0.],\n         [ 0.,  0.,  0., ...,  0.,  0.,  0.],\n         ..., \n         [ 0.,  0.,  0., ...,  0.,  0.,  0.],\n         [ 0.,  0.,  0., ...,  0.,  0.,  0.],\n         [ 0.,  0.,  0., ...,  0.,  0.,  0.]],\n\n        [[ 0.,  0.,  0., ...,  0.,  0.,  0.],\n         [ 0.,  0.,  0., ...,  0.,  0.,  0.],\n         [ 0.,  0.,  0., ...,  0.,  0.,  0.],\n         ..., \n         [ 0.,  0.,  0., ...,  0.,  0.,  0.],\n         [ 0.,  0.,  0., ...,  0.,  0.,  0.],\n         [ 0.,  0.,  0., ...,  0.,  0.,  0.]],\n\n        ..., \n        [[ 0.,  0.,  0., ...,  0.,  0.,  0.],\n         [ 0.,  0.,  0., ...,  0.,  0.,  0.],\n         [ 0.,  0.,  0., ...,  0.,  0.,  0.],\n         ..., \n         [ 0.,  0.,  0., ...,  0.,  0.,  0.],\n         [ 0.,  0.,  0., ...,  0.,  0.,  0.],\n         [ 0.,  0.,  0., ...,  0.,  0.,  0.]],\n\n        [[ 0.,  0.,  0., ...,  0.,  0.,  0.],\n         [ 0.,  0.,  0., ...,  0.,  0.,  0.],\n         [ 0.,  0.,  0., ...,  0.,  0.,  0.],\n         ..., \n         [ 0.,  0.,  0., ...,  0.,  0.,  0.],\n         [ 0.,  0.,  0., ...,  0.,  0.,  0.],\n         [ 0.,  0.,  0., ...,  0.,  0.,  0.]],\n\n        [[ 0.,  0.,  0., ...,  0.,  0.,  0.],\n         [ 0.,  0.,  0., ...,  0.,  0.,  0.],\n         [ 0.,  0.,  0., ...,  0.,  0.,  0.],\n         ..., \n         [ 0.,  0.,  0., ...,  0.,  0.,  0.],\n         [ 0.,  0.,  0., ...,  0.,  0.,  0.],\n         [ 0.,  0.,  0., ...,  0.,  0.,  0.]]],\n\n\n       [[[ 0.,  0.,  0., ...,  0.,  0.,  0.],\n         [ 0.,  0.,  0., ...,  0.,  0.,  0.],\n         [ 0.,  0.,  0., ...,  0.,  0.,  0.],\n         ..., \n         [ 0.,  0.,  0., ...,  0.,  0.,  0.],\n         [ 0.,  0.,  0., ...,  0.,  0.,  0.],\n         [ 0.,  0.,  0., ...,  0.,  0.,  0.]],\n\n        [[ 0.,  0.,  0., ...,  0.,  0.,  0.],\n         [ 0.,  0.,  0., ...,  0.,  0.,  0.],\n         [ 0.,  0.,  0., ...,  0.,  0.,  0.],\n         ..., \n         [ 0.,  0.,  0., ...,  0.,  0.,  0.],\n         [ 0.,  0.,  0., ...,  0.,  0.,  0.],\n         [ 0.,  0.,  0., ...,  0.,  0.,  0.]],\n\n        [[ 0.,  0.,  0., ...,  0.,  0.,  0.],\n         [ 0.,  0.,  0., ...,  0.,  0.,  0.],\n         [ 0.,  0.,  0., ...,  0.,  0.,  0.],\n         ..., \n         [ 0.,  0.,  0., ...,  0.,  0.,  0.],\n         [ 0.,  0.,  0., ...,  0.,  0.,  0.],\n         [ 0.,  0.,  0., ...,  0.,  0.,  0.]],\n\n        ..., \n        [[ 0.,  0.,  0., ...,  0.,  0.,  0.],\n         [ 0.,  0.,  0., ...,  0.,  0.,  0.],\n         [ 0.,  0.,  0., ...,  0.,  0.,  0.],\n         ..., \n         [ 0.,  0.,  0., ...,  0.,  0.,  0.],\n         [ 0.,  0.,  0., ...,  0.,  0.,  0.],\n         [ 0.,  0.,  0., ...,  0.,  0.,  0.]],\n\n        [[ 0.,  0.,  0., ...,  0.,  0.,  0.],\n         [ 0.,  0.,  0., ...,  0.,  0.,  0.],\n         [ 0.,  0.,  0., ...,  0.,  0.,  0.],\n         ..., \n         [ 0.,  0.,  0., ...,  0.,  0.,  0.],\n         [ 0.,  0.,  0., ...,  0.,  0.,  0.],\n         [ 0.,  0.,  0., ...,  0.,  0.,  0.]],\n\n        [[ 0.,  0.,  0., ...,  0.,  0.,  0.],\n         [ 0.,  0.,  0., ...,  0.,  0.,  0.],\n         [ 0.,  0.,  0., ...,  0.,  0.,  0.],\n         ..., \n         [ 0.,  0.,  0., ...,  0.,  0.,  0.],\n         [ 0.,  0.,  0., ...,  0.,  0.,  0.],\n         [ 0.,  0.,  0., ...,  0.,  0.,  0.]]],\n\n\n       [[[ 0.,  0.,  0., ...,  0.,  0.,  0.],\n         [ 0.,  0.,  0., ...,  0.,  0.,  0.],\n         [ 0.,  0.,  0., ...,  0.,  0.,  0.],\n         ..., \n         [ 0.,  0.,  0., ...,  0.,  0.,  0.],\n         [ 0.,  0.,  0., ...,  0.,  0.,  0.],\n         [ 0.,  0.,  0., ...,  0.,  0.,  0.]],\n\n        [[ 0.,  0.,  0., ...,  0.,  0.,  0.],\n         [ 0.,  0.,  0., ...,  0.,  0.,  0.],\n         [ 0.,  0.,  0., ...,  0.,  0.,  0.],\n         ..., \n         [ 0.,  0.,  0., ...,  0.,  0.,  0.],\n         [ 0.,  0.,  0., ...,  0.,  0.,  0.],\n         [ 0.,  0.,  0., ...,  0.,  0.,  0.]],\n\n        [[ 0.,  0.,  0., ...,  0.,  0.,  0.],\n         [ 0.,  0.,  0., ...,  0.,  0.,  0.],\n         [ 0.,  0.,  0., ...,  0.,  0.,  0.],\n         ..., \n         [ 0.,  0.,  0., ...,  0.,  0.,  0.],\n         [ 0.,  0.,  0., ...,  0.,  0.,  0.],\n         [ 0.,  0.,  0., ...,  0.,  0.,  0.]],\n\n        ..., \n        [[ 0.,  0.,  0., ...,  0.,  0.,  0.],\n         [ 0.,  0.,  0., ...,  0.,  0.,  0.],\n         [ 0.,  0.,  0., ...,  0.,  0.,  0.],\n         ..., \n         [ 0.,  0.,  0., ...,  0.,  0.,  0.],\n         [ 0.,  0.,  0., ...,  0.,  0.,  0.],\n         [ 0.,  0.,  0., ...,  0.,  0.,  0.]],\n\n        [[ 0.,  0.,  0., ...,  0.,  0.,  0.],\n         [ 0.,  0.,  0., ...,  0.,  0.,  0.],\n         [ 0.,  0.,  0., ...,  0.,  0.,  0.],\n         ..., \n         [ 0.,  0.,  0., ...,  0.,  0.,  0.],\n         [ 0.,  0.,  0., ...,  0.,  0.,  0.],\n         [ 0.,  0.,  0., ...,  0.,  0.,  0.]],\n\n        [[ 0.,  0.,  0., ...,  0.,  0.,  0.],\n         [ 0.,  0.,  0., ...,  0.,  0.,  0.],\n         [ 0.,  0.,  0., ...,  0.,  0.,  0.],\n         ..., \n         [ 0.,  0.,  0., ...,  0.,  0.,  0.],\n         [ 0.,  0.,  0., ...,  0.,  0.,  0.],\n         [ 0.,  0.,  0., ...,  0.,  0.,  0.]]]])]. All inputs to the layer should be tensors.",
     "output_type": "error",
     "traceback": [
      "\u001b[1;31m---------------------------------------------------------------------------\u001b[0m",
      "\u001b[1;31mValueError\u001b[0m                                Traceback (most recent call last)",
      "\u001b[1;32m~\\Anaconda3\\lib\\site-packages\\keras\\engine\\topology.py\u001b[0m in \u001b[0;36massert_input_compatibility\u001b[1;34m(self, inputs)\u001b[0m\n\u001b[0;32m    425\u001b[0m             \u001b[1;32mtry\u001b[0m\u001b[1;33m:\u001b[0m\u001b[1;33m\u001b[0m\u001b[0m\n\u001b[1;32m--> 426\u001b[1;33m                 \u001b[0mK\u001b[0m\u001b[1;33m.\u001b[0m\u001b[0mis_keras_tensor\u001b[0m\u001b[1;33m(\u001b[0m\u001b[0mx\u001b[0m\u001b[1;33m)\u001b[0m\u001b[1;33m\u001b[0m\u001b[0m\n\u001b[0m\u001b[0;32m    427\u001b[0m             \u001b[1;32mexcept\u001b[0m \u001b[0mValueError\u001b[0m\u001b[1;33m:\u001b[0m\u001b[1;33m\u001b[0m\u001b[0m\n",
      "\u001b[1;32m~\\Anaconda3\\lib\\site-packages\\keras\\backend\\tensorflow_backend.py\u001b[0m in \u001b[0;36mis_keras_tensor\u001b[1;34m(x)\u001b[0m\n\u001b[0;32m    457\u001b[0m                           tf.SparseTensor)):\n\u001b[1;32m--> 458\u001b[1;33m         raise ValueError('Unexpectedly found an instance of type `' + str(type(x)) + '`. '\n\u001b[0m\u001b[0;32m    459\u001b[0m                          'Expected a symbolic tensor instance.')\n",
      "\u001b[1;31mValueError\u001b[0m: Unexpectedly found an instance of type `<class 'numpy.ndarray'>`. Expected a symbolic tensor instance.",
      "\nDuring handling of the above exception, another exception occurred:\n",
      "\u001b[1;31mValueError\u001b[0m                                Traceback (most recent call last)",
      "\u001b[1;32m<ipython-input-51-387df3eb7c7e>\u001b[0m in \u001b[0;36m<module>\u001b[1;34m()\u001b[0m\n\u001b[0;32m      1\u001b[0m \u001b[0minputs\u001b[0m \u001b[1;33m=\u001b[0m \u001b[0mInput\u001b[0m\u001b[1;33m(\u001b[0m\u001b[0mshape\u001b[0m\u001b[1;33m=\u001b[0m\u001b[1;33m(\u001b[0m\u001b[0msequence_length\u001b[0m\u001b[1;33m,\u001b[0m\u001b[1;33m)\u001b[0m\u001b[1;33m)\u001b[0m\u001b[1;31m#, dtype='int32'\u001b[0m\u001b[1;33m\u001b[0m\u001b[0m\n\u001b[0;32m      2\u001b[0m \u001b[1;33m\u001b[0m\u001b[0m\n\u001b[1;32m----> 3\u001b[1;33m \u001b[0mreshape\u001b[0m \u001b[1;33m=\u001b[0m \u001b[0mReshape\u001b[0m\u001b[1;33m(\u001b[0m\u001b[1;33m(\u001b[0m\u001b[0msequence_length\u001b[0m\u001b[1;33m,\u001b[0m\u001b[0membedding_dim\u001b[0m\u001b[1;33m,\u001b[0m\u001b[1;36m11\u001b[0m\u001b[1;33m)\u001b[0m\u001b[1;33m)\u001b[0m\u001b[1;33m(\u001b[0m\u001b[0mx_train\u001b[0m\u001b[1;33m)\u001b[0m\u001b[1;33m\u001b[0m\u001b[0m\n\u001b[0m\u001b[0;32m      4\u001b[0m \u001b[1;33m\u001b[0m\u001b[0m\n\u001b[0;32m      5\u001b[0m \u001b[0mconv_0\u001b[0m \u001b[1;33m=\u001b[0m \u001b[0mConv2D\u001b[0m\u001b[1;33m(\u001b[0m\u001b[0mnum_filters\u001b[0m\u001b[1;33m,\u001b[0m \u001b[0mkernel_size\u001b[0m\u001b[1;33m=\u001b[0m\u001b[1;33m(\u001b[0m\u001b[0mfilter_sizes\u001b[0m\u001b[1;33m[\u001b[0m\u001b[1;36m0\u001b[0m\u001b[1;33m]\u001b[0m\u001b[1;33m,\u001b[0m \u001b[0membedding_dim\u001b[0m\u001b[1;33m)\u001b[0m\u001b[1;33m,\u001b[0m \u001b[0mpadding\u001b[0m\u001b[1;33m=\u001b[0m\u001b[1;34m'valid'\u001b[0m\u001b[1;33m,\u001b[0m \u001b[0mkernel_initializer\u001b[0m\u001b[1;33m=\u001b[0m\u001b[1;34m'normal'\u001b[0m\u001b[1;33m,\u001b[0m \u001b[0mactivation\u001b[0m\u001b[1;33m=\u001b[0m\u001b[1;34m'relu'\u001b[0m\u001b[1;33m)\u001b[0m\u001b[1;33m(\u001b[0m\u001b[0mreshape\u001b[0m\u001b[1;33m)\u001b[0m\u001b[1;33m\u001b[0m\u001b[0m\n",
      "\u001b[1;32m~\\Anaconda3\\lib\\site-packages\\keras\\engine\\topology.py\u001b[0m in \u001b[0;36m__call__\u001b[1;34m(self, inputs, **kwargs)\u001b[0m\n\u001b[0;32m    557\u001b[0m                 \u001b[1;31m# Raise exceptions in case the input is not compatible\u001b[0m\u001b[1;33m\u001b[0m\u001b[1;33m\u001b[0m\u001b[0m\n\u001b[0;32m    558\u001b[0m                 \u001b[1;31m# with the input_spec specified in the layer constructor.\u001b[0m\u001b[1;33m\u001b[0m\u001b[1;33m\u001b[0m\u001b[0m\n\u001b[1;32m--> 559\u001b[1;33m                 \u001b[0mself\u001b[0m\u001b[1;33m.\u001b[0m\u001b[0massert_input_compatibility\u001b[0m\u001b[1;33m(\u001b[0m\u001b[0minputs\u001b[0m\u001b[1;33m)\u001b[0m\u001b[1;33m\u001b[0m\u001b[0m\n\u001b[0m\u001b[0;32m    560\u001b[0m \u001b[1;33m\u001b[0m\u001b[0m\n\u001b[0;32m    561\u001b[0m                 \u001b[1;31m# Collect input shapes to build layer.\u001b[0m\u001b[1;33m\u001b[0m\u001b[1;33m\u001b[0m\u001b[0m\n",
      "\u001b[1;32m~\\Anaconda3\\lib\\site-packages\\keras\\engine\\topology.py\u001b[0m in \u001b[0;36massert_input_compatibility\u001b[1;34m(self, inputs)\u001b[0m\n\u001b[0;32m    430\u001b[0m                                  \u001b[1;34m'Received type: '\u001b[0m \u001b[1;33m+\u001b[0m\u001b[1;33m\u001b[0m\u001b[0m\n\u001b[0;32m    431\u001b[0m                                  \u001b[0mstr\u001b[0m\u001b[1;33m(\u001b[0m\u001b[0mtype\u001b[0m\u001b[1;33m(\u001b[0m\u001b[0mx\u001b[0m\u001b[1;33m)\u001b[0m\u001b[1;33m)\u001b[0m \u001b[1;33m+\u001b[0m \u001b[1;34m'. Full input: '\u001b[0m \u001b[1;33m+\u001b[0m\u001b[1;33m\u001b[0m\u001b[0m\n\u001b[1;32m--> 432\u001b[1;33m                                  \u001b[0mstr\u001b[0m\u001b[1;33m(\u001b[0m\u001b[0minputs\u001b[0m\u001b[1;33m)\u001b[0m \u001b[1;33m+\u001b[0m \u001b[1;34m'. All inputs to the layer '\u001b[0m\u001b[1;33m\u001b[0m\u001b[0m\n\u001b[0m\u001b[0;32m    433\u001b[0m                                  'should be tensors.')\n\u001b[0;32m    434\u001b[0m \u001b[1;33m\u001b[0m\u001b[0m\n",
      "\u001b[1;31mValueError\u001b[0m: Layer reshape_2 was called with an input that isn't a symbolic tensor. Received type: <class 'numpy.ndarray'>. Full input: [array([[[[ 0.,  0.,  0., ...,  0.,  0.,  0.],\n         [ 0.,  0.,  0., ...,  0.,  0.,  0.],\n         [ 0.,  0.,  0., ...,  0.,  0.,  0.],\n         ..., \n         [ 0.,  0.,  0., ...,  0.,  0.,  0.],\n         [ 0.,  0.,  0., ...,  0.,  0.,  0.],\n         [ 0.,  0.,  0., ...,  0.,  0.,  0.]],\n\n        [[ 0.,  0.,  0., ...,  0.,  0.,  0.],\n         [ 0.,  0.,  0., ...,  0.,  0.,  0.],\n         [ 0.,  0.,  0., ...,  0.,  0.,  0.],\n         ..., \n         [ 0.,  0.,  0., ...,  0.,  0.,  0.],\n         [ 0.,  0.,  0., ...,  0.,  0.,  0.],\n         [ 0.,  0.,  0., ...,  0.,  0.,  0.]],\n\n        [[ 0.,  0.,  0., ...,  0.,  0.,  0.],\n         [ 0.,  0.,  0., ...,  0.,  0.,  0.],\n         [ 0.,  0.,  0., ...,  0.,  0.,  0.],\n         ..., \n         [ 0.,  0.,  0., ...,  0.,  0.,  0.],\n         [ 0.,  0.,  0., ...,  0.,  0.,  0.],\n         [ 0.,  0.,  0., ...,  0.,  0.,  0.]],\n\n        ..., \n        [[ 0.,  0.,  0., ...,  0.,  0.,  0.],\n         [ 0.,  0.,  0., ...,  0.,  0.,  0.],\n         [ 0.,  0.,  0., ...,  0.,  0.,  0.],\n         ..., \n         [ 0.,  0.,  0., ...,  0.,  0.,  0.],\n         [ 0.,  0.,  0., ...,  0.,  0.,  0.],\n         [ 0.,  0.,  0., ...,  0.,  0.,  0.]],\n\n        [[ 0.,  0.,  0., ...,  0.,  0.,  0.],\n         [ 0.,  0.,  0., ...,  0.,  0.,  0.],\n         [ 0.,  0.,  0., ...,  0.,  0.,  0.],\n         ..., \n         [ 0.,  0.,  0., ...,  0.,  0.,  0.],\n         [ 0.,  0.,  0., ...,  0.,  0.,  0.],\n         [ 0.,  0.,  0., ...,  0.,  0.,  0.]],\n\n        [[ 0.,  0.,  0., ...,  0.,  0.,  0.],\n         [ 0.,  0.,  0., ...,  0.,  0.,  0.],\n         [ 0.,  0.,  0., ...,  0.,  0.,  0.],\n         ..., \n         [ 0.,  0.,  0., ...,  0.,  0.,  0.],\n         [ 0.,  0.,  0., ...,  0.,  0.,  0.],\n         [ 0.,  0.,  0., ...,  0.,  0.,  0.]]],\n\n\n       [[[ 0.,  0.,  0., ...,  0.,  0.,  0.],\n         [ 0.,  0.,  0., ...,  0.,  0.,  0.],\n         [ 0.,  0.,  0., ...,  0.,  0.,  0.],\n         ..., \n         [ 0.,  0.,  0., ...,  0.,  0.,  0.],\n         [ 0.,  0.,  0., ...,  0.,  0.,  0.],\n         [ 0.,  0.,  0., ...,  0.,  0.,  0.]],\n\n        [[ 0.,  0.,  0., ...,  0.,  0.,  0.],\n         [ 0.,  0.,  0., ...,  0.,  0.,  0.],\n         [ 0.,  0.,  0., ...,  0.,  0.,  0.],\n         ..., \n         [ 0.,  0.,  0., ...,  0.,  0.,  0.],\n         [ 0.,  0.,  0., ...,  0.,  0.,  0.],\n         [ 0.,  0.,  0., ...,  0.,  0.,  0.]],\n\n        [[ 0.,  0.,  0., ...,  0.,  0.,  0.],\n         [ 0.,  0.,  0., ...,  0.,  0.,  0.],\n         [ 0.,  0.,  0., ...,  0.,  0.,  0.],\n         ..., \n         [ 0.,  0.,  0., ...,  0.,  0.,  0.],\n         [ 0.,  0.,  0., ...,  0.,  0.,  0.],\n         [ 0.,  0.,  0., ...,  0.,  0.,  0.]],\n\n        ..., \n        [[ 0.,  0.,  0., ...,  0.,  0.,  0.],\n         [ 0.,  0.,  0., ...,  0.,  0.,  0.],\n         [ 0.,  0.,  0., ...,  0.,  0.,  0.],\n         ..., \n         [ 0.,  0.,  0., ...,  0.,  0.,  0.],\n         [ 0.,  0.,  0., ...,  0.,  0.,  0.],\n         [ 0.,  0.,  0., ...,  0.,  0.,  0.]],\n\n        [[ 0.,  0.,  0., ...,  0.,  0.,  0.],\n         [ 0.,  0.,  0., ...,  0.,  0.,  0.],\n         [ 0.,  0.,  0., ...,  0.,  0.,  0.],\n         ..., \n         [ 0.,  0.,  0., ...,  0.,  0.,  0.],\n         [ 0.,  0.,  0., ...,  0.,  0.,  0.],\n         [ 0.,  0.,  0., ...,  0.,  0.,  0.]],\n\n        [[ 0.,  0.,  0., ...,  0.,  0.,  0.],\n         [ 0.,  0.,  0., ...,  0.,  0.,  0.],\n         [ 0.,  0.,  0., ...,  0.,  0.,  0.],\n         ..., \n         [ 0.,  0.,  0., ...,  0.,  0.,  0.],\n         [ 0.,  0.,  0., ...,  0.,  0.,  0.],\n         [ 0.,  0.,  0., ...,  0.,  0.,  0.]]],\n\n\n       [[[ 0.,  0.,  0., ...,  0.,  0.,  0.],\n         [ 0.,  0.,  0., ...,  0.,  0.,  0.],\n         [ 0.,  0.,  0., ...,  0.,  0.,  0.],\n         ..., \n         [ 0.,  0.,  0., ...,  0.,  0.,  0.],\n         [ 0.,  0.,  0., ...,  0.,  0.,  0.],\n         [ 0.,  0.,  0., ...,  0.,  0.,  0.]],\n\n        [[ 0.,  0.,  0., ...,  0.,  0.,  0.],\n         [ 0.,  0.,  0., ...,  0.,  0.,  0.],\n         [ 0.,  0.,  0., ...,  0.,  0.,  0.],\n         ..., \n         [ 0.,  0.,  0., ...,  0.,  0.,  0.],\n         [ 0.,  0.,  0., ...,  0.,  0.,  0.],\n         [ 0.,  0.,  0., ...,  0.,  0.,  0.]],\n\n        [[ 0.,  0.,  0., ...,  0.,  0.,  0.],\n         [ 0.,  0.,  0., ...,  0.,  0.,  0.],\n         [ 0.,  0.,  0., ...,  0.,  0.,  0.],\n         ..., \n         [ 0.,  0.,  0., ...,  0.,  0.,  0.],\n         [ 0.,  0.,  0., ...,  0.,  0.,  0.],\n         [ 0.,  0.,  0., ...,  0.,  0.,  0.]],\n\n        ..., \n        [[ 0.,  0.,  0., ...,  0.,  0.,  0.],\n         [ 0.,  0.,  0., ...,  0.,  0.,  0.],\n         [ 0.,  0.,  0., ...,  0.,  0.,  0.],\n         ..., \n         [ 0.,  0.,  0., ...,  0.,  0.,  0.],\n         [ 0.,  0.,  0., ...,  0.,  0.,  0.],\n         [ 0.,  0.,  0., ...,  0.,  0.,  0.]],\n\n        [[ 0.,  0.,  0., ...,  0.,  0.,  0.],\n         [ 0.,  0.,  0., ...,  0.,  0.,  0.],\n         [ 0.,  0.,  0., ...,  0.,  0.,  0.],\n         ..., \n         [ 0.,  0.,  0., ...,  0.,  0.,  0.],\n         [ 0.,  0.,  0., ...,  0.,  0.,  0.],\n         [ 0.,  0.,  0., ...,  0.,  0.,  0.]],\n\n        [[ 0.,  0.,  0., ...,  0.,  0.,  0.],\n         [ 0.,  0.,  0., ...,  0.,  0.,  0.],\n         [ 0.,  0.,  0., ...,  0.,  0.,  0.],\n         ..., \n         [ 0.,  0.,  0., ...,  0.,  0.,  0.],\n         [ 0.,  0.,  0., ...,  0.,  0.,  0.],\n         [ 0.,  0.,  0., ...,  0.,  0.,  0.]]],\n\n\n       ..., \n       [[[ 0.,  0.,  0., ...,  0.,  0.,  0.],\n         [ 0.,  0.,  0., ...,  0.,  0.,  0.],\n         [ 0.,  0.,  0., ...,  0.,  0.,  0.],\n         ..., \n         [ 0.,  0.,  0., ...,  0.,  0.,  0.],\n         [ 0.,  0.,  0., ...,  0.,  0.,  0.],\n         [ 0.,  0.,  0., ...,  0.,  0.,  0.]],\n\n        [[ 0.,  0.,  0., ...,  0.,  0.,  0.],\n         [ 0.,  0.,  0., ...,  0.,  0.,  0.],\n         [ 0.,  0.,  0., ...,  0.,  0.,  0.],\n         ..., \n         [ 0.,  0.,  0., ...,  0.,  0.,  0.],\n         [ 0.,  0.,  0., ...,  0.,  0.,  0.],\n         [ 0.,  0.,  0., ...,  0.,  0.,  0.]],\n\n        [[ 0.,  0.,  0., ...,  0.,  0.,  0.],\n         [ 0.,  0.,  0., ...,  0.,  0.,  0.],\n         [ 0.,  0.,  0., ...,  0.,  0.,  0.],\n         ..., \n         [ 0.,  0.,  0., ...,  0.,  0.,  0.],\n         [ 0.,  0.,  0., ...,  0.,  0.,  0.],\n         [ 0.,  0.,  0., ...,  0.,  0.,  0.]],\n\n        ..., \n        [[ 0.,  0.,  0., ...,  0.,  0.,  0.],\n         [ 0.,  0.,  0., ...,  0.,  0.,  0.],\n         [ 0.,  0.,  0., ...,  0.,  0.,  0.],\n         ..., \n         [ 0.,  0.,  0., ...,  0.,  0.,  0.],\n         [ 0.,  0.,  0., ...,  0.,  0.,  0.],\n         [ 0.,  0.,  0., ...,  0.,  0.,  0.]],\n\n        [[ 0.,  0.,  0., ...,  0.,  0.,  0.],\n         [ 0.,  0.,  0., ...,  0.,  0.,  0.],\n         [ 0.,  0.,  0., ...,  0.,  0.,  0.],\n         ..., \n         [ 0.,  0.,  0., ...,  0.,  0.,  0.],\n         [ 0.,  0.,  0., ...,  0.,  0.,  0.],\n         [ 0.,  0.,  0., ...,  0.,  0.,  0.]],\n\n        [[ 0.,  0.,  0., ...,  0.,  0.,  0.],\n         [ 0.,  0.,  0., ...,  0.,  0.,  0.],\n         [ 0.,  0.,  0., ...,  0.,  0.,  0.],\n         ..., \n         [ 0.,  0.,  0., ...,  0.,  0.,  0.],\n         [ 0.,  0.,  0., ...,  0.,  0.,  0.],\n         [ 0.,  0.,  0., ...,  0.,  0.,  0.]]],\n\n\n       [[[ 0.,  0.,  0., ...,  0.,  0.,  0.],\n         [ 0.,  0.,  0., ...,  0.,  0.,  0.],\n         [ 0.,  0.,  0., ...,  0.,  0.,  0.],\n         ..., \n         [ 0.,  0.,  0., ...,  0.,  0.,  0.],\n         [ 0.,  0.,  0., ...,  0.,  0.,  0.],\n         [ 0.,  0.,  0., ...,  0.,  0.,  0.]],\n\n        [[ 0.,  0.,  0., ...,  0.,  0.,  0.],\n         [ 0.,  0.,  0., ...,  0.,  0.,  0.],\n         [ 0.,  0.,  0., ...,  0.,  0.,  0.],\n         ..., \n         [ 0.,  0.,  0., ...,  0.,  0.,  0.],\n         [ 0.,  0.,  0., ...,  0.,  0.,  0.],\n         [ 0.,  0.,  0., ...,  0.,  0.,  0.]],\n\n        [[ 0.,  0.,  0., ...,  0.,  0.,  0.],\n         [ 0.,  0.,  0., ...,  0.,  0.,  0.],\n         [ 0.,  0.,  0., ...,  0.,  0.,  0.],\n         ..., \n         [ 0.,  0.,  0., ...,  0.,  0.,  0.],\n         [ 0.,  0.,  0., ...,  0.,  0.,  0.],\n         [ 0.,  0.,  0., ...,  0.,  0.,  0.]],\n\n        ..., \n        [[ 0.,  0.,  0., ...,  0.,  0.,  0.],\n         [ 0.,  0.,  0., ...,  0.,  0.,  0.],\n         [ 0.,  0.,  0., ...,  0.,  0.,  0.],\n         ..., \n         [ 0.,  0.,  0., ...,  0.,  0.,  0.],\n         [ 0.,  0.,  0., ...,  0.,  0.,  0.],\n         [ 0.,  0.,  0., ...,  0.,  0.,  0.]],\n\n        [[ 0.,  0.,  0., ...,  0.,  0.,  0.],\n         [ 0.,  0.,  0., ...,  0.,  0.,  0.],\n         [ 0.,  0.,  0., ...,  0.,  0.,  0.],\n         ..., \n         [ 0.,  0.,  0., ...,  0.,  0.,  0.],\n         [ 0.,  0.,  0., ...,  0.,  0.,  0.],\n         [ 0.,  0.,  0., ...,  0.,  0.,  0.]],\n\n        [[ 0.,  0.,  0., ...,  0.,  0.,  0.],\n         [ 0.,  0.,  0., ...,  0.,  0.,  0.],\n         [ 0.,  0.,  0., ...,  0.,  0.,  0.],\n         ..., \n         [ 0.,  0.,  0., ...,  0.,  0.,  0.],\n         [ 0.,  0.,  0., ...,  0.,  0.,  0.],\n         [ 0.,  0.,  0., ...,  0.,  0.,  0.]]],\n\n\n       [[[ 0.,  0.,  0., ...,  0.,  0.,  0.],\n         [ 0.,  0.,  0., ...,  0.,  0.,  0.],\n         [ 0.,  0.,  0., ...,  0.,  0.,  0.],\n         ..., \n         [ 0.,  0.,  0., ...,  0.,  0.,  0.],\n         [ 0.,  0.,  0., ...,  0.,  0.,  0.],\n         [ 0.,  0.,  0., ...,  0.,  0.,  0.]],\n\n        [[ 0.,  0.,  0., ...,  0.,  0.,  0.],\n         [ 0.,  0.,  0., ...,  0.,  0.,  0.],\n         [ 0.,  0.,  0., ...,  0.,  0.,  0.],\n         ..., \n         [ 0.,  0.,  0., ...,  0.,  0.,  0.],\n         [ 0.,  0.,  0., ...,  0.,  0.,  0.],\n         [ 0.,  0.,  0., ...,  0.,  0.,  0.]],\n\n        [[ 0.,  0.,  0., ...,  0.,  0.,  0.],\n         [ 0.,  0.,  0., ...,  0.,  0.,  0.],\n         [ 0.,  0.,  0., ...,  0.,  0.,  0.],\n         ..., \n         [ 0.,  0.,  0., ...,  0.,  0.,  0.],\n         [ 0.,  0.,  0., ...,  0.,  0.,  0.],\n         [ 0.,  0.,  0., ...,  0.,  0.,  0.]],\n\n        ..., \n        [[ 0.,  0.,  0., ...,  0.,  0.,  0.],\n         [ 0.,  0.,  0., ...,  0.,  0.,  0.],\n         [ 0.,  0.,  0., ...,  0.,  0.,  0.],\n         ..., \n         [ 0.,  0.,  0., ...,  0.,  0.,  0.],\n         [ 0.,  0.,  0., ...,  0.,  0.,  0.],\n         [ 0.,  0.,  0., ...,  0.,  0.,  0.]],\n\n        [[ 0.,  0.,  0., ...,  0.,  0.,  0.],\n         [ 0.,  0.,  0., ...,  0.,  0.,  0.],\n         [ 0.,  0.,  0., ...,  0.,  0.,  0.],\n         ..., \n         [ 0.,  0.,  0., ...,  0.,  0.,  0.],\n         [ 0.,  0.,  0., ...,  0.,  0.,  0.],\n         [ 0.,  0.,  0., ...,  0.,  0.,  0.]],\n\n        [[ 0.,  0.,  0., ...,  0.,  0.,  0.],\n         [ 0.,  0.,  0., ...,  0.,  0.,  0.],\n         [ 0.,  0.,  0., ...,  0.,  0.,  0.],\n         ..., \n         [ 0.,  0.,  0., ...,  0.,  0.,  0.],\n         [ 0.,  0.,  0., ...,  0.,  0.,  0.],\n         [ 0.,  0.,  0., ...,  0.,  0.,  0.]]]])]. All inputs to the layer should be tensors."
     ]
    }
   ],
   "source": [
    "inputs = Input(shape=(sequence_length,))#, dtype='int32'\n",
    "\n",
    "reshape = Reshape((sequence_length,embedding_dim,11))(x_train)\n",
    "\n",
    "conv_0 = Conv2D(num_filters, kernel_size=(filter_sizes[0], embedding_dim), padding='valid', kernel_initializer='normal', activation='relu')(reshape)\n",
    "conv_1 = Conv2D(num_filters, kernel_size=(filter_sizes[1], embedding_dim), padding='valid', kernel_initializer='normal', activation='relu')(reshape)\n",
    "conv_2 = Conv2D(num_filters, kernel_size=(filter_sizes[2], embedding_dim), padding='valid', kernel_initializer='normal', activation='relu')(reshape)\n",
    "\n",
    "maxpool_0 = MaxPool2D(pool_size=(sequence_length - filter_sizes[0] + 1, 1), strides=(1,1), padding='valid')(conv_0)\n",
    "maxpool_1 = MaxPool2D(pool_size=(sequence_length - filter_sizes[1] + 1, 1), strides=(1,1), padding='valid')(conv_1)\n",
    "maxpool_2 = MaxPool2D(pool_size=(sequence_length - filter_sizes[2] + 1, 1), strides=(1,1), padding='valid')(conv_2)\n",
    "\n",
    "concatenated_tensor = Concatenate(axis=1)([maxpool_0, maxpool_1, maxpool_2])\n",
    "flatten = Flatten()(concatenated_tensor)\n",
    "dropout = Dropout(drop)(flatten)\n",
    "output = Dense(units=2, activation='softmax')(dropout)\n",
    "\n",
    "# this creates a model that includes\n",
    "model = Model(inputs=inputs, outputs=output)\n",
    "\n",
    "checkpoint = ModelCheckpoint('weights.{epoch:03d}-{val_acc:.4f}.hdf5', monitor='val_acc', verbose=1, save_best_only=True, mode='auto')\n",
    "adam = Adam(lr=1e-4, beta_1=0.9, beta_2=0.999, epsilon=1e-08, decay=0.0)\n",
    "\n",
    "model.compile(optimizer=adam, loss='binary_crossentropy', metrics=['accuracy'])\n",
    "print(\"Traning Model...\")\n",
    "model.fit(X_train, y_train, batch_size=batch_size, epochs=epochs, verbose=1, callbacks=[checkpoint], validation_data=(X_test, y_test)) # starts training"
   ]
  },
  {
   "cell_type": "code",
   "execution_count": 44,
   "metadata": {},
   "outputs": [],
   "source": [
    "model.compile(loss='binary_crossentropy',\n",
    "              optimizer=\"Adam\",#opt,\n",
    "              metrics=['binary_accuracy'])"
   ]
  },
  {
   "cell_type": "code",
   "execution_count": 45,
   "metadata": {},
   "outputs": [
    {
     "name": "stdout",
     "output_type": "stream",
     "text": [
      "Train on 103 samples, validate on 45 samples\n",
      "Epoch 1/20\n",
      " - 3s - loss: 0.6931 - binary_accuracy: 0.4987 - val_loss: 0.6931 - val_binary_accuracy: 0.5131\n",
      "Epoch 2/20\n",
      " - 2s - loss: 0.6930 - binary_accuracy: 0.5446 - val_loss: 0.6930 - val_binary_accuracy: 0.5131\n",
      "Epoch 3/20\n",
      " - 2s - loss: 0.6930 - binary_accuracy: 0.5428 - val_loss: 0.6930 - val_binary_accuracy: 0.5232\n",
      "Epoch 4/20\n",
      " - 2s - loss: 0.6930 - binary_accuracy: 0.5437 - val_loss: 0.6930 - val_binary_accuracy: 0.5232\n",
      "Epoch 5/20\n",
      " - 3s - loss: 0.6929 - binary_accuracy: 0.5437 - val_loss: 0.6929 - val_binary_accuracy: 0.5232\n",
      "Epoch 6/20\n",
      " - 2s - loss: 0.6929 - binary_accuracy: 0.5437 - val_loss: 0.6929 - val_binary_accuracy: 0.5232\n",
      "Epoch 7/20\n",
      " - 2s - loss: 0.6928 - binary_accuracy: 0.5437 - val_loss: 0.6929 - val_binary_accuracy: 0.5232\n",
      "Epoch 8/20\n",
      " - 3s - loss: 0.6928 - binary_accuracy: 0.5437 - val_loss: 0.6928 - val_binary_accuracy: 0.5232\n",
      "Epoch 9/20\n",
      " - 3s - loss: 0.6927 - binary_accuracy: 0.5437 - val_loss: 0.6928 - val_binary_accuracy: 0.5232\n",
      "Epoch 10/20\n",
      " - 4s - loss: 0.6926 - binary_accuracy: 0.5437 - val_loss: 0.6927 - val_binary_accuracy: 0.5232\n",
      "Epoch 11/20\n",
      " - 4s - loss: 0.6926 - binary_accuracy: 0.5437 - val_loss: 0.6927 - val_binary_accuracy: 0.5232\n",
      "Epoch 12/20\n",
      " - 4s - loss: 0.6925 - binary_accuracy: 0.5437 - val_loss: 0.6927 - val_binary_accuracy: 0.5232\n",
      "Epoch 13/20\n",
      " - 5s - loss: 0.6924 - binary_accuracy: 0.5437 - val_loss: 0.6926 - val_binary_accuracy: 0.5232\n",
      "Epoch 14/20\n",
      " - 5s - loss: 0.6924 - binary_accuracy: 0.5437 - val_loss: 0.6926 - val_binary_accuracy: 0.5232\n",
      "Epoch 15/20\n",
      " - 5s - loss: 0.6923 - binary_accuracy: 0.5437 - val_loss: 0.6925 - val_binary_accuracy: 0.5232\n",
      "Epoch 16/20\n",
      " - 4s - loss: 0.6923 - binary_accuracy: 0.5437 - val_loss: 0.6925 - val_binary_accuracy: 0.5232\n",
      "Epoch 17/20\n",
      " - 3s - loss: 0.6922 - binary_accuracy: 0.5437 - val_loss: 0.6925 - val_binary_accuracy: 0.5232\n",
      "Epoch 18/20\n",
      " - 3s - loss: 0.6922 - binary_accuracy: 0.5437 - val_loss: 0.6924 - val_binary_accuracy: 0.5232\n",
      "Epoch 19/20\n",
      " - 2s - loss: 0.6921 - binary_accuracy: 0.5437 - val_loss: 0.6923 - val_binary_accuracy: 0.5131\n",
      "Epoch 20/20\n",
      " - 3s - loss: 0.6921 - binary_accuracy: 0.5446 - val_loss: 0.6923 - val_binary_accuracy: 0.5131\n"
     ]
    }
   ],
   "source": [
    "history = model.fit(x_train, y_train, validation_data = (x_val, y_val), epochs=20, batch_size=25, verbose=2)"
   ]
  },
  {
   "cell_type": "code",
   "execution_count": 49,
   "metadata": {},
   "outputs": [
    {
     "ename": "TypeError",
     "evalue": "'History' object is not subscriptable",
     "output_type": "error",
     "traceback": [
      "\u001b[1;31m---------------------------------------------------------------------------\u001b[0m",
      "\u001b[1;31mTypeError\u001b[0m                                 Traceback (most recent call last)",
      "\u001b[1;32m<ipython-input-49-887f9596feea>\u001b[0m in \u001b[0;36m<module>\u001b[1;34m()\u001b[0m\n\u001b[1;32m----> 1\u001b[1;33m \u001b[0mhistory\u001b[0m\u001b[1;33m[\u001b[0m\u001b[1;34m\"val_binary_accuracy\"\u001b[0m\u001b[1;33m]\u001b[0m\u001b[1;33m.\u001b[0m\u001b[0mplot\u001b[0m\u001b[1;33m(\u001b[0m\u001b[1;33m)\u001b[0m\u001b[1;33m\u001b[0m\u001b[0m\n\u001b[0m",
      "\u001b[1;31mTypeError\u001b[0m: 'History' object is not subscriptable"
     ]
    }
   ],
   "source": [
    "history[\"val_binary_accuracy\"].plot()"
   ]
  }
 ],
 "metadata": {
  "kernelspec": {
   "display_name": "Python 3",
   "language": "python",
   "name": "python3"
  },
  "language_info": {
   "codemirror_mode": {
    "name": "ipython",
    "version": 3
   },
   "file_extension": ".py",
   "mimetype": "text/x-python",
   "name": "python",
   "nbconvert_exporter": "python",
   "pygments_lexer": "ipython3",
   "version": "3.6.5"
  }
 },
 "nbformat": 4,
 "nbformat_minor": 2
}

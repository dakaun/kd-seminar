{
 "cells": [
  {
   "cell_type": "code",
   "execution_count": 1,
   "metadata": {},
   "outputs": [],
   "source": [
    "import numpy as np\n",
    "import pandas as pd\n",
    "\n",
    "import matplotlib.pyplot as plt"
   ]
  },
  {
   "cell_type": "code",
   "execution_count": 2,
   "metadata": {},
   "outputs": [
    {
     "data": {
      "text/plain": [
       "'C:\\\\Users\\\\Nils\\\\Documents\\\\KIT-TVWL\\\\Master\\\\SS 18\\\\KD Seminar\\\\Git\\\\mlp'"
      ]
     },
     "execution_count": 2,
     "metadata": {},
     "output_type": "execute_result"
    }
   ],
   "source": [
    "import os\n",
    "wd = os.getcwd()\n",
    "wd"
   ]
  },
  {
   "cell_type": "markdown",
   "metadata": {},
   "source": [
    "**Read in financial Data**"
   ]
  },
  {
   "cell_type": "code",
   "execution_count": 284,
   "metadata": {},
   "outputs": [
    {
     "data": {
      "text/html": [
       "<div>\n",
       "<style scoped>\n",
       "    .dataframe tbody tr th:only-of-type {\n",
       "        vertical-align: middle;\n",
       "    }\n",
       "\n",
       "    .dataframe tbody tr th {\n",
       "        vertical-align: top;\n",
       "    }\n",
       "\n",
       "    .dataframe thead th {\n",
       "        text-align: right;\n",
       "    }\n",
       "</style>\n",
       "<table border=\"1\" class=\"dataframe\">\n",
       "  <thead>\n",
       "    <tr style=\"text-align: right;\">\n",
       "      <th></th>\n",
       "      <th>Samsung</th>\n",
       "      <th>Telefonica</th>\n",
       "      <th>Allianz</th>\n",
       "      <th>Total</th>\n",
       "      <th>Bayer</th>\n",
       "      <th>Tesla</th>\n",
       "      <th>Airbus</th>\n",
       "      <th>Apple</th>\n",
       "      <th>BASF</th>\n",
       "      <th>BMW</th>\n",
       "      <th>Google</th>\n",
       "    </tr>\n",
       "    <tr>\n",
       "      <th>Timestamp</th>\n",
       "      <th></th>\n",
       "      <th></th>\n",
       "      <th></th>\n",
       "      <th></th>\n",
       "      <th></th>\n",
       "      <th></th>\n",
       "      <th></th>\n",
       "      <th></th>\n",
       "      <th></th>\n",
       "      <th></th>\n",
       "      <th></th>\n",
       "    </tr>\n",
       "  </thead>\n",
       "  <tbody>\n",
       "    <tr>\n",
       "      <th>2010-06-30</th>\n",
       "      <td>-0.022990</td>\n",
       "      <td>0.031939</td>\n",
       "      <td>0.005759</td>\n",
       "      <td>-0.002937</td>\n",
       "      <td>0.005449</td>\n",
       "      <td>-0.002515</td>\n",
       "      <td>-0.002350</td>\n",
       "      <td>-0.018279</td>\n",
       "      <td>-0.003982</td>\n",
       "      <td>0.004127</td>\n",
       "      <td>-0.026947</td>\n",
       "    </tr>\n",
       "    <tr>\n",
       "      <th>2010-07-01</th>\n",
       "      <td>-0.010390</td>\n",
       "      <td>0.023302</td>\n",
       "      <td>-0.021987</td>\n",
       "      <td>0.013874</td>\n",
       "      <td>-0.009283</td>\n",
       "      <td>-0.081723</td>\n",
       "      <td>-0.051293</td>\n",
       "      <td>-0.012200</td>\n",
       "      <td>-0.027190</td>\n",
       "      <td>-0.047668</td>\n",
       "      <td>-0.019717</td>\n",
       "    </tr>\n",
       "    <tr>\n",
       "      <th>2010-07-02</th>\n",
       "      <td>0.001305</td>\n",
       "      <td>0.010501</td>\n",
       "      <td>0.004610</td>\n",
       "      <td>-0.011670</td>\n",
       "      <td>-0.026683</td>\n",
       "      <td>-0.134312</td>\n",
       "      <td>-0.018751</td>\n",
       "      <td>-0.006217</td>\n",
       "      <td>-0.001368</td>\n",
       "      <td>-0.008280</td>\n",
       "      <td>-0.034667</td>\n",
       "    </tr>\n",
       "    <tr>\n",
       "      <th>2010-07-06</th>\n",
       "      <td>0.010376</td>\n",
       "      <td>-0.009063</td>\n",
       "      <td>0.023455</td>\n",
       "      <td>0.005852</td>\n",
       "      <td>0.017777</td>\n",
       "      <td>-0.175470</td>\n",
       "      <td>0.019735</td>\n",
       "      <td>0.006820</td>\n",
       "      <td>0.028094</td>\n",
       "      <td>0.023085</td>\n",
       "      <td>0.001238</td>\n",
       "    </tr>\n",
       "    <tr>\n",
       "      <th>2010-07-07</th>\n",
       "      <td>-0.007772</td>\n",
       "      <td>0.018515</td>\n",
       "      <td>0.007211</td>\n",
       "      <td>0.035820</td>\n",
       "      <td>0.006629</td>\n",
       "      <td>-0.019430</td>\n",
       "      <td>0.023836</td>\n",
       "      <td>0.039568</td>\n",
       "      <td>-0.001796</td>\n",
       "      <td>0.019048</td>\n",
       "      <td>-0.002878</td>\n",
       "    </tr>\n",
       "  </tbody>\n",
       "</table>\n",
       "</div>"
      ],
      "text/plain": [
       "             Samsung  Telefonica   Allianz     Total     Bayer     Tesla  \\\n",
       "Timestamp                                                                  \n",
       "2010-06-30 -0.022990    0.031939  0.005759 -0.002937  0.005449 -0.002515   \n",
       "2010-07-01 -0.010390    0.023302 -0.021987  0.013874 -0.009283 -0.081723   \n",
       "2010-07-02  0.001305    0.010501  0.004610 -0.011670 -0.026683 -0.134312   \n",
       "2010-07-06  0.010376   -0.009063  0.023455  0.005852  0.017777 -0.175470   \n",
       "2010-07-07 -0.007772    0.018515  0.007211  0.035820  0.006629 -0.019430   \n",
       "\n",
       "              Airbus     Apple      BASF       BMW    Google  \n",
       "Timestamp                                                     \n",
       "2010-06-30 -0.002350 -0.018279 -0.003982  0.004127 -0.026947  \n",
       "2010-07-01 -0.051293 -0.012200 -0.027190 -0.047668 -0.019717  \n",
       "2010-07-02 -0.018751 -0.006217 -0.001368 -0.008280 -0.034667  \n",
       "2010-07-06  0.019735  0.006820  0.028094  0.023085  0.001238  \n",
       "2010-07-07  0.023836  0.039568 -0.001796  0.019048 -0.002878  "
      ]
     },
     "execution_count": 284,
     "metadata": {},
     "output_type": "execute_result"
    }
   ],
   "source": [
    "fin_data = pd.read_csv(\"../finance_data/data/aggregated_returns.csv\", index_col=[\"Timestamp\"], parse_dates=True)\n",
    "fin_data = fin_data.drop(columns=[\"Unnamed: 0\"])\n",
    "fin_data = fin_data.sort_index()\n",
    "fin_data.head()"
   ]
  },
  {
   "cell_type": "code",
   "execution_count": 285,
   "metadata": {},
   "outputs": [
    {
     "data": {
      "text/plain": [
       "(1896, 11)"
      ]
     },
     "execution_count": 285,
     "metadata": {},
     "output_type": "execute_result"
    }
   ],
   "source": [
    "fin_data.shape"
   ]
  },
  {
   "cell_type": "code",
   "execution_count": 286,
   "metadata": {},
   "outputs": [
    {
     "data": {
      "text/html": [
       "<div>\n",
       "<style scoped>\n",
       "    .dataframe tbody tr th:only-of-type {\n",
       "        vertical-align: middle;\n",
       "    }\n",
       "\n",
       "    .dataframe tbody tr th {\n",
       "        vertical-align: top;\n",
       "    }\n",
       "\n",
       "    .dataframe thead th {\n",
       "        text-align: right;\n",
       "    }\n",
       "</style>\n",
       "<table border=\"1\" class=\"dataframe\">\n",
       "  <thead>\n",
       "    <tr style=\"text-align: right;\">\n",
       "      <th></th>\n",
       "      <th>Samsung</th>\n",
       "      <th>Telefonica</th>\n",
       "      <th>Allianz</th>\n",
       "      <th>Total</th>\n",
       "      <th>Bayer</th>\n",
       "      <th>Tesla</th>\n",
       "      <th>Airbus</th>\n",
       "      <th>Apple</th>\n",
       "      <th>BASF</th>\n",
       "      <th>BMW</th>\n",
       "      <th>Google</th>\n",
       "    </tr>\n",
       "    <tr>\n",
       "      <th>Timestamp</th>\n",
       "      <th></th>\n",
       "      <th></th>\n",
       "      <th></th>\n",
       "      <th></th>\n",
       "      <th></th>\n",
       "      <th></th>\n",
       "      <th></th>\n",
       "      <th></th>\n",
       "      <th></th>\n",
       "      <th></th>\n",
       "      <th></th>\n",
       "    </tr>\n",
       "  </thead>\n",
       "  <tbody>\n",
       "    <tr>\n",
       "      <th>2010-06-30</th>\n",
       "      <td>-0.010390</td>\n",
       "      <td>0.023302</td>\n",
       "      <td>-0.021987</td>\n",
       "      <td>0.013874</td>\n",
       "      <td>-0.009283</td>\n",
       "      <td>-0.081723</td>\n",
       "      <td>-0.051293</td>\n",
       "      <td>-0.012200</td>\n",
       "      <td>-0.027190</td>\n",
       "      <td>-0.047668</td>\n",
       "      <td>-0.019717</td>\n",
       "    </tr>\n",
       "    <tr>\n",
       "      <th>2010-07-01</th>\n",
       "      <td>0.001305</td>\n",
       "      <td>0.010501</td>\n",
       "      <td>0.004610</td>\n",
       "      <td>-0.011670</td>\n",
       "      <td>-0.026683</td>\n",
       "      <td>-0.134312</td>\n",
       "      <td>-0.018751</td>\n",
       "      <td>-0.006217</td>\n",
       "      <td>-0.001368</td>\n",
       "      <td>-0.008280</td>\n",
       "      <td>-0.034667</td>\n",
       "    </tr>\n",
       "    <tr>\n",
       "      <th>2010-07-02</th>\n",
       "      <td>0.010376</td>\n",
       "      <td>-0.009063</td>\n",
       "      <td>0.023455</td>\n",
       "      <td>0.005852</td>\n",
       "      <td>0.017777</td>\n",
       "      <td>-0.175470</td>\n",
       "      <td>0.019735</td>\n",
       "      <td>0.006820</td>\n",
       "      <td>0.028094</td>\n",
       "      <td>0.023085</td>\n",
       "      <td>0.001238</td>\n",
       "    </tr>\n",
       "    <tr>\n",
       "      <th>2010-07-06</th>\n",
       "      <td>-0.007772</td>\n",
       "      <td>0.018515</td>\n",
       "      <td>0.007211</td>\n",
       "      <td>0.035820</td>\n",
       "      <td>0.006629</td>\n",
       "      <td>-0.019430</td>\n",
       "      <td>0.023836</td>\n",
       "      <td>0.039568</td>\n",
       "      <td>-0.001796</td>\n",
       "      <td>0.019048</td>\n",
       "      <td>-0.002878</td>\n",
       "    </tr>\n",
       "  </tbody>\n",
       "</table>\n",
       "</div>"
      ],
      "text/plain": [
       "             Samsung  Telefonica   Allianz     Total     Bayer     Tesla  \\\n",
       "Timestamp                                                                  \n",
       "2010-06-30 -0.010390    0.023302 -0.021987  0.013874 -0.009283 -0.081723   \n",
       "2010-07-01  0.001305    0.010501  0.004610 -0.011670 -0.026683 -0.134312   \n",
       "2010-07-02  0.010376   -0.009063  0.023455  0.005852  0.017777 -0.175470   \n",
       "2010-07-06 -0.007772    0.018515  0.007211  0.035820  0.006629 -0.019430   \n",
       "\n",
       "              Airbus     Apple      BASF       BMW    Google  \n",
       "Timestamp                                                     \n",
       "2010-06-30 -0.051293 -0.012200 -0.027190 -0.047668 -0.019717  \n",
       "2010-07-01 -0.018751 -0.006217 -0.001368 -0.008280 -0.034667  \n",
       "2010-07-02  0.019735  0.006820  0.028094  0.023085  0.001238  \n",
       "2010-07-06  0.023836  0.039568 -0.001796  0.019048 -0.002878  "
      ]
     },
     "execution_count": 286,
     "metadata": {},
     "output_type": "execute_result"
    }
   ],
   "source": [
    "fin_data.shift(-1)[0:4]"
   ]
  },
  {
   "cell_type": "code",
   "execution_count": 287,
   "metadata": {},
   "outputs": [],
   "source": [
    "fin_data_class = fin_data.applymap(lambda x: 0 if x < 0 else 1)\n",
    "fin_data_class = fin_data_class.shift(-1)"
   ]
  },
  {
   "cell_type": "code",
   "execution_count": 288,
   "metadata": {},
   "outputs": [
    {
     "data": {
      "text/html": [
       "<div>\n",
       "<style scoped>\n",
       "    .dataframe tbody tr th:only-of-type {\n",
       "        vertical-align: middle;\n",
       "    }\n",
       "\n",
       "    .dataframe tbody tr th {\n",
       "        vertical-align: top;\n",
       "    }\n",
       "\n",
       "    .dataframe thead th {\n",
       "        text-align: right;\n",
       "    }\n",
       "</style>\n",
       "<table border=\"1\" class=\"dataframe\">\n",
       "  <thead>\n",
       "    <tr style=\"text-align: right;\">\n",
       "      <th></th>\n",
       "      <th>Samsung</th>\n",
       "      <th>Telefonica</th>\n",
       "      <th>Allianz</th>\n",
       "      <th>Total</th>\n",
       "      <th>Bayer</th>\n",
       "      <th>Tesla</th>\n",
       "      <th>Airbus</th>\n",
       "      <th>Apple</th>\n",
       "      <th>BASF</th>\n",
       "      <th>BMW</th>\n",
       "      <th>Google</th>\n",
       "    </tr>\n",
       "    <tr>\n",
       "      <th>Timestamp</th>\n",
       "      <th></th>\n",
       "      <th></th>\n",
       "      <th></th>\n",
       "      <th></th>\n",
       "      <th></th>\n",
       "      <th></th>\n",
       "      <th></th>\n",
       "      <th></th>\n",
       "      <th></th>\n",
       "      <th></th>\n",
       "      <th></th>\n",
       "    </tr>\n",
       "  </thead>\n",
       "  <tbody>\n",
       "    <tr>\n",
       "      <th>2010-06-30</th>\n",
       "      <td>0.0</td>\n",
       "      <td>1.0</td>\n",
       "      <td>0.0</td>\n",
       "      <td>1.0</td>\n",
       "      <td>0.0</td>\n",
       "      <td>0.0</td>\n",
       "      <td>0.0</td>\n",
       "      <td>0.0</td>\n",
       "      <td>0.0</td>\n",
       "      <td>0.0</td>\n",
       "      <td>0.0</td>\n",
       "    </tr>\n",
       "    <tr>\n",
       "      <th>2010-07-01</th>\n",
       "      <td>1.0</td>\n",
       "      <td>1.0</td>\n",
       "      <td>1.0</td>\n",
       "      <td>0.0</td>\n",
       "      <td>0.0</td>\n",
       "      <td>0.0</td>\n",
       "      <td>0.0</td>\n",
       "      <td>0.0</td>\n",
       "      <td>0.0</td>\n",
       "      <td>0.0</td>\n",
       "      <td>0.0</td>\n",
       "    </tr>\n",
       "    <tr>\n",
       "      <th>2010-07-02</th>\n",
       "      <td>1.0</td>\n",
       "      <td>0.0</td>\n",
       "      <td>1.0</td>\n",
       "      <td>1.0</td>\n",
       "      <td>1.0</td>\n",
       "      <td>0.0</td>\n",
       "      <td>1.0</td>\n",
       "      <td>1.0</td>\n",
       "      <td>1.0</td>\n",
       "      <td>1.0</td>\n",
       "      <td>1.0</td>\n",
       "    </tr>\n",
       "    <tr>\n",
       "      <th>2010-07-06</th>\n",
       "      <td>0.0</td>\n",
       "      <td>1.0</td>\n",
       "      <td>1.0</td>\n",
       "      <td>1.0</td>\n",
       "      <td>1.0</td>\n",
       "      <td>0.0</td>\n",
       "      <td>1.0</td>\n",
       "      <td>1.0</td>\n",
       "      <td>0.0</td>\n",
       "      <td>1.0</td>\n",
       "      <td>0.0</td>\n",
       "    </tr>\n",
       "    <tr>\n",
       "      <th>2010-07-07</th>\n",
       "      <td>1.0</td>\n",
       "      <td>1.0</td>\n",
       "      <td>1.0</td>\n",
       "      <td>1.0</td>\n",
       "      <td>1.0</td>\n",
       "      <td>1.0</td>\n",
       "      <td>1.0</td>\n",
       "      <td>0.0</td>\n",
       "      <td>1.0</td>\n",
       "      <td>0.0</td>\n",
       "      <td>1.0</td>\n",
       "    </tr>\n",
       "  </tbody>\n",
       "</table>\n",
       "</div>"
      ],
      "text/plain": [
       "            Samsung  Telefonica  Allianz  Total  Bayer  Tesla  Airbus  Apple  \\\n",
       "Timestamp                                                                      \n",
       "2010-06-30      0.0         1.0      0.0    1.0    0.0    0.0     0.0    0.0   \n",
       "2010-07-01      1.0         1.0      1.0    0.0    0.0    0.0     0.0    0.0   \n",
       "2010-07-02      1.0         0.0      1.0    1.0    1.0    0.0     1.0    1.0   \n",
       "2010-07-06      0.0         1.0      1.0    1.0    1.0    0.0     1.0    1.0   \n",
       "2010-07-07      1.0         1.0      1.0    1.0    1.0    1.0     1.0    0.0   \n",
       "\n",
       "            BASF  BMW  Google  \n",
       "Timestamp                      \n",
       "2010-06-30   0.0  0.0     0.0  \n",
       "2010-07-01   0.0  0.0     0.0  \n",
       "2010-07-02   1.0  1.0     1.0  \n",
       "2010-07-06   0.0  1.0     0.0  \n",
       "2010-07-07   1.0  0.0     1.0  "
      ]
     },
     "execution_count": 288,
     "metadata": {},
     "output_type": "execute_result"
    }
   ],
   "source": [
    "fin_data_class.head()"
   ]
  },
  {
   "cell_type": "code",
   "execution_count": 289,
   "metadata": {},
   "outputs": [
    {
     "data": {
      "text/plain": [
       "{0: 9902, 1: 10943, '0_relative': 47.5, '1_relative': 52.5}"
      ]
     },
     "execution_count": 289,
     "metadata": {},
     "output_type": "execute_result"
    }
   ],
   "source": [
    "val_count = {0: 0, 1: 0}\n",
    "for idx, row in fin_data_class.iterrows():\n",
    "    tmp = row.value_counts()\n",
    "    if 0 in tmp:\n",
    "        val_count[0] = val_count[0]  + tmp[0]\n",
    "    if 1 in tmp:\n",
    "        val_count[1] = val_count[1]  + tmp[1]\n",
    "val_count[\"0_relative\"] = round((val_count[0] / (val_count[0] + val_count[1])) * 100, 2) \n",
    "val_count[\"1_relative\"] = round((val_count[1] / (val_count[0] + val_count[1])) * 100, 2) \n",
    "val_count"
   ]
  },
  {
   "cell_type": "markdown",
   "metadata": {},
   "source": [
    "**Read in training Data**"
   ]
  },
  {
   "cell_type": "code",
   "execution_count": 290,
   "metadata": {},
   "outputs": [],
   "source": [
    "path_to_data = \"../doc2vec/data/article_vectors_2015-11-25-2018-06-18.json\""
   ]
  },
  {
   "cell_type": "code",
   "execution_count": 291,
   "metadata": {},
   "outputs": [],
   "source": [
    "data = pd.read_json(path_to_data)"
   ]
  },
  {
   "cell_type": "code",
   "execution_count": 292,
   "metadata": {},
   "outputs": [],
   "source": [
    "data = data.applymap(lambda x: np.array(x))"
   ]
  },
  {
   "cell_type": "code",
   "execution_count": 293,
   "metadata": {},
   "outputs": [
    {
     "data": {
      "text/html": [
       "<div>\n",
       "<style scoped>\n",
       "    .dataframe tbody tr th:only-of-type {\n",
       "        vertical-align: middle;\n",
       "    }\n",
       "\n",
       "    .dataframe tbody tr th {\n",
       "        vertical-align: top;\n",
       "    }\n",
       "\n",
       "    .dataframe thead th {\n",
       "        text-align: right;\n",
       "    }\n",
       "</style>\n",
       "<table border=\"1\" class=\"dataframe\">\n",
       "  <thead>\n",
       "    <tr style=\"text-align: right;\">\n",
       "      <th></th>\n",
       "      <th>Samsung</th>\n",
       "      <th>BASF</th>\n",
       "      <th>Apple</th>\n",
       "      <th>Tesla</th>\n",
       "      <th>Airbus</th>\n",
       "      <th>Bayer</th>\n",
       "      <th>BMW</th>\n",
       "      <th>Telefonica</th>\n",
       "      <th>Google</th>\n",
       "      <th>Allianz</th>\n",
       "      <th>Total</th>\n",
       "    </tr>\n",
       "  </thead>\n",
       "  <tbody>\n",
       "    <tr>\n",
       "      <th>2015-11-25</th>\n",
       "      <td>[[-0.09097237885, -0.512056529522, 0.448597371...</td>\n",
       "      <td>[[-0.224870830774, -3.794226408, -1.9525440931...</td>\n",
       "      <td>[[-2.04224681854, -1.60448515415, 0.2704625129...</td>\n",
       "      <td>[[-2.1069715023, -1.426415205, 1.64306604862, ...</td>\n",
       "      <td>[[2.23846936226, 3.11426877975, 0.093617297709...</td>\n",
       "      <td>[[1.51722872257, 2.5938539505, -0.247232601047...</td>\n",
       "      <td>[[0.157938063145, 0.579978168011, 0.4118370115...</td>\n",
       "      <td>[[0.473003387451, 2.60217881203, -0.5277323126...</td>\n",
       "      <td>[[-0.520612180233, -0.675680935383, -0.3074057...</td>\n",
       "      <td>[[0.0183677487075, 1.12623000145, -0.909998118...</td>\n",
       "      <td>[[-2.72483801842, 0.991170525551, -2.009325027...</td>\n",
       "    </tr>\n",
       "    <tr>\n",
       "      <th>2015-11-26</th>\n",
       "      <td>[[3.81038761139, 0.261076569557, 0.50902235508...</td>\n",
       "      <td>[[-1.22998988628, 0.361293852329, -0.980951845...</td>\n",
       "      <td>[[-0.65575748682, -0.652606129646, -1.20090234...</td>\n",
       "      <td>[[2.21736645699, -0.283544570208, 0.7639598250...</td>\n",
       "      <td>[[1.23432075977, 0.239986360073, -0.5406541228...</td>\n",
       "      <td>[[0.239219143987, -1.13649022579, -0.161926895...</td>\n",
       "      <td>[[-1.17502439022, 0.608320355415, 0.2831627428...</td>\n",
       "      <td>[[0.459036916494, 2.74760985374, -0.9232062101...</td>\n",
       "      <td>[[-0.319721221924, -0.454306691885, -1.1206489...</td>\n",
       "      <td>[[-2.44475650787, 1.04553902149, -0.1332414597...</td>\n",
       "      <td>[[0.563275456429, -2.01511955261, 1.2207951545...</td>\n",
       "    </tr>\n",
       "  </tbody>\n",
       "</table>\n",
       "</div>"
      ],
      "text/plain": [
       "                                                      Samsung  \\\n",
       "2015-11-25  [[-0.09097237885, -0.512056529522, 0.448597371...   \n",
       "2015-11-26  [[3.81038761139, 0.261076569557, 0.50902235508...   \n",
       "\n",
       "                                                         BASF  \\\n",
       "2015-11-25  [[-0.224870830774, -3.794226408, -1.9525440931...   \n",
       "2015-11-26  [[-1.22998988628, 0.361293852329, -0.980951845...   \n",
       "\n",
       "                                                        Apple  \\\n",
       "2015-11-25  [[-2.04224681854, -1.60448515415, 0.2704625129...   \n",
       "2015-11-26  [[-0.65575748682, -0.652606129646, -1.20090234...   \n",
       "\n",
       "                                                        Tesla  \\\n",
       "2015-11-25  [[-2.1069715023, -1.426415205, 1.64306604862, ...   \n",
       "2015-11-26  [[2.21736645699, -0.283544570208, 0.7639598250...   \n",
       "\n",
       "                                                       Airbus  \\\n",
       "2015-11-25  [[2.23846936226, 3.11426877975, 0.093617297709...   \n",
       "2015-11-26  [[1.23432075977, 0.239986360073, -0.5406541228...   \n",
       "\n",
       "                                                        Bayer  \\\n",
       "2015-11-25  [[1.51722872257, 2.5938539505, -0.247232601047...   \n",
       "2015-11-26  [[0.239219143987, -1.13649022579, -0.161926895...   \n",
       "\n",
       "                                                          BMW  \\\n",
       "2015-11-25  [[0.157938063145, 0.579978168011, 0.4118370115...   \n",
       "2015-11-26  [[-1.17502439022, 0.608320355415, 0.2831627428...   \n",
       "\n",
       "                                                   Telefonica  \\\n",
       "2015-11-25  [[0.473003387451, 2.60217881203, -0.5277323126...   \n",
       "2015-11-26  [[0.459036916494, 2.74760985374, -0.9232062101...   \n",
       "\n",
       "                                                       Google  \\\n",
       "2015-11-25  [[-0.520612180233, -0.675680935383, -0.3074057...   \n",
       "2015-11-26  [[-0.319721221924, -0.454306691885, -1.1206489...   \n",
       "\n",
       "                                                      Allianz  \\\n",
       "2015-11-25  [[0.0183677487075, 1.12623000145, -0.909998118...   \n",
       "2015-11-26  [[-2.44475650787, 1.04553902149, -0.1332414597...   \n",
       "\n",
       "                                                        Total  \n",
       "2015-11-25  [[-2.72483801842, 0.991170525551, -2.009325027...  \n",
       "2015-11-26  [[0.563275456429, -2.01511955261, 1.2207951545...  "
      ]
     },
     "execution_count": 293,
     "metadata": {},
     "output_type": "execute_result"
    }
   ],
   "source": [
    "data.head(2)"
   ]
  },
  {
   "cell_type": "code",
   "execution_count": 294,
   "metadata": {},
   "outputs": [],
   "source": [
    "fin_data_dates = fin_data.index.date.tolist()\n",
    "data_dates = data.index.date.tolist()"
   ]
  },
  {
   "cell_type": "code",
   "execution_count": 295,
   "metadata": {},
   "outputs": [],
   "source": [
    "available_dates = list(set(fin_data_dates).intersection(data_dates))\n",
    "\n",
    "fin_data_class = fin_data_class[fin_data_class.index.isin(available_dates)]\n",
    "fin_data_train = fin_data[fin_data.index.isin(available_dates)]\n",
    "data = data[data.index.isin(available_dates)]"
   ]
  },
  {
   "cell_type": "code",
   "execution_count": 296,
   "metadata": {},
   "outputs": [
    {
     "data": {
      "text/plain": [
       "{0: 3104, 1: 3397, '0_relative': 47.75, '1_relative': 52.25}"
      ]
     },
     "execution_count": 296,
     "metadata": {},
     "output_type": "execute_result"
    }
   ],
   "source": [
    "val_count = {0: 0, 1: 0}\n",
    "for idx, row in fin_data_class.iterrows():\n",
    "    tmp = row.value_counts()\n",
    "    if 0 in tmp:\n",
    "        val_count[0] = val_count[0]  + tmp[0]\n",
    "    if 1 in tmp:\n",
    "        val_count[1] = val_count[1]  + tmp[1]\n",
    "val_count[\"0_relative\"] = round((val_count[0] / (val_count[0] + val_count[1])) * 100, 2) \n",
    "val_count[\"1_relative\"] = round((val_count[1] / (val_count[0] + val_count[1])) * 100, 2) \n",
    "val_count"
   ]
  },
  {
   "cell_type": "code",
   "execution_count": 297,
   "metadata": {},
   "outputs": [
    {
     "data": {
      "text/plain": [
       "591"
      ]
     },
     "execution_count": 297,
     "metadata": {},
     "output_type": "execute_result"
    }
   ],
   "source": [
    "len(available_dates)"
   ]
  },
  {
   "cell_type": "code",
   "execution_count": 298,
   "metadata": {},
   "outputs": [
    {
     "data": {
      "text/plain": [
       "(591, 11)"
      ]
     },
     "execution_count": 298,
     "metadata": {},
     "output_type": "execute_result"
    }
   ],
   "source": [
    "fin_data_train_vals = fin_data_train.values#.reshape(fin_data_train.shape[0], 1, fin_data_train.shape[1])\n",
    "fin_data_train_vals.shape"
   ]
  },
  {
   "cell_type": "code",
   "execution_count": 299,
   "metadata": {},
   "outputs": [
    {
     "data": {
      "text/plain": [
       "(591, 11)"
      ]
     },
     "execution_count": 299,
     "metadata": {},
     "output_type": "execute_result"
    }
   ],
   "source": [
    "data.shape"
   ]
  },
  {
   "cell_type": "code",
   "execution_count": 300,
   "metadata": {},
   "outputs": [],
   "source": [
    "X = []"
   ]
  },
  {
   "cell_type": "code",
   "execution_count": 301,
   "metadata": {},
   "outputs": [],
   "source": [
    "for idx, row in data.iterrows():\n",
    "    #print(idx.date())\n",
    "    tmp = data.loc[idx].values\n",
    "\n",
    "    tmp_data = []\n",
    "    for i,r in enumerate(tmp):\n",
    "        #print(type(r))\n",
    "        #print(type(r))\n",
    "        if hasattr(r, 'shape') and r.shape[0] :\n",
    "            #print(type(r))\n",
    "            #print(\"HEY\")\n",
    "            r = np.array(r)\n",
    "            #if r.shape[0] != 50:\n",
    "            #    print(r.shape)\n",
    "            p = 50-r.shape[0]\n",
    "            r = np.pad(r, ((0,p),(0,0)), \"constant\")\n",
    "            #print(r)\n",
    "        else:\n",
    "            r = np.zeros((50,100))\n",
    "        tmp_data.append(r)\n",
    "    tmp_data = np.array(tmp_data)\n",
    "    tmp_data = tmp_data.reshape((50,100,11))\n",
    "    #print(tmp_data)\n",
    "    X.append(tmp_data)\n",
    "    #data_dict[idx.date()] = tmp\n",
    "    "
   ]
  },
  {
   "cell_type": "code",
   "execution_count": 302,
   "metadata": {},
   "outputs": [
    {
     "data": {
      "text/plain": [
       "array([[-0.09097238, -0.51205653,  0.44859737, ...,  1.4446882 ,\n",
       "         0.47213051, -2.83995199],\n",
       "       [ 1.95817542,  0.74424815,  1.44354796, ..., -2.98738217,\n",
       "        -0.17140767, -2.34347701],\n",
       "       [ 0.48954654, -0.95549279, -2.56482577, ..., -2.01952577,\n",
       "         2.60814977,  2.29795051],\n",
       "       ..., \n",
       "       [ 1.70078266, -1.97810698,  0.12305968, ...,  2.63470483,\n",
       "         0.11687999, -2.34644175],\n",
       "       [ 0.56562304,  1.07893801, -1.85002875, ...,  0.65592211,\n",
       "        -0.54387766, -0.20035765],\n",
       "       [-1.85888422,  0.01419361,  0.76624453, ..., -0.70436901,\n",
       "         1.79512227, -2.3566792 ]])"
      ]
     },
     "execution_count": 302,
     "metadata": {},
     "output_type": "execute_result"
    }
   ],
   "source": [
    "X[0][0]"
   ]
  },
  {
   "cell_type": "code",
   "execution_count": 303,
   "metadata": {},
   "outputs": [
    {
     "data": {
      "text/plain": [
       "(591, 50, 100, 11)"
      ]
     },
     "execution_count": 303,
     "metadata": {},
     "output_type": "execute_result"
    }
   ],
   "source": [
    "#X = np.array(final_d)\n",
    "X = np.array(X)\n",
    "X.shape"
   ]
  },
  {
   "cell_type": "code",
   "execution_count": null,
   "metadata": {},
   "outputs": [],
   "source": [
    "#m[:, ::-1]"
   ]
  },
  {
   "cell_type": "code",
   "execution_count": 304,
   "metadata": {},
   "outputs": [
    {
     "data": {
      "text/plain": [
       "(300, 50, 100, 11)"
      ]
     },
     "execution_count": 304,
     "metadata": {},
     "output_type": "execute_result"
    }
   ],
   "source": [
    "X_flipped = np.flipud(X[:300])\n",
    "X_flipped.shape"
   ]
  },
  {
   "cell_type": "code",
   "execution_count": 305,
   "metadata": {},
   "outputs": [
    {
     "data": {
      "text/plain": [
       "array([[ 0.,  0.,  0., ...,  0.,  0.,  0.],\n",
       "       [ 0.,  0.,  0., ...,  0.,  0.,  0.],\n",
       "       [ 0.,  0.,  0., ...,  0.,  0.,  0.],\n",
       "       ..., \n",
       "       [ 0.,  0.,  0., ...,  0.,  0.,  0.],\n",
       "       [ 0.,  0.,  0., ...,  0.,  0.,  0.],\n",
       "       [ 0.,  0.,  0., ...,  0.,  0.,  0.]])"
      ]
     },
     "execution_count": 305,
     "metadata": {},
     "output_type": "execute_result"
    }
   ],
   "source": [
    "X_flipped[0][-1]"
   ]
  },
  {
   "cell_type": "code",
   "execution_count": 306,
   "metadata": {},
   "outputs": [
    {
     "data": {
      "text/plain": [
       "(600, 50, 100, 11)"
      ]
     },
     "execution_count": 306,
     "metadata": {},
     "output_type": "execute_result"
    }
   ],
   "source": [
    "X_augmented = np.concatenate((X[:300], X_flipped))\n",
    "X_augmented.shape"
   ]
  },
  {
   "cell_type": "code",
   "execution_count": 307,
   "metadata": {},
   "outputs": [
    {
     "data": {
      "text/plain": [
       "(600, 11)"
      ]
     },
     "execution_count": 307,
     "metadata": {},
     "output_type": "execute_result"
    }
   ],
   "source": [
    "Y = fin_data_class.values\n",
    "Y_augmented = np.concatenate((Y[:300], Y[:300].copy()))\n",
    "Y_augmented.shape"
   ]
  },
  {
   "cell_type": "code",
   "execution_count": 308,
   "metadata": {},
   "outputs": [
    {
     "data": {
      "text/plain": [
       "(600, 11)"
      ]
     },
     "execution_count": 308,
     "metadata": {},
     "output_type": "execute_result"
    }
   ],
   "source": [
    "fin_data_train_vals_augmented = np.concatenate((fin_data_train_vals[:300], fin_data_train_vals[:300].copy()))\n",
    "fin_data_train_vals_augmented.shape"
   ]
  },
  {
   "cell_type": "markdown",
   "metadata": {},
   "source": [
    "**CNN**"
   ]
  },
  {
   "cell_type": "code",
   "execution_count": 309,
   "metadata": {},
   "outputs": [],
   "source": [
    "from sklearn.model_selection import train_test_split\n",
    "\n",
    "from keras import backend as K\n",
    "import keras\n",
    "\n",
    "from keras.models import Sequential\n",
    "from keras.layers import Dense, Dropout, Activation, Flatten, BatchNormalization, GaussianNoise, GaussianDropout\n",
    "from keras.layers import Conv1D, Conv2D, MaxPooling2D, AveragePooling2D, GlobalMaxPooling2D, GlobalMaxPooling3D\n",
    "\n",
    "from keras.initializers import RandomNormal\n",
    "\n",
    "from keras import regularizers\n",
    "\n",
    "from collections import Counter"
   ]
  },
  {
   "cell_type": "code",
   "execution_count": 310,
   "metadata": {},
   "outputs": [],
   "source": [
    "def precision(y_true, y_pred):\n",
    "    true_positives = K.sum(K.round(K.clip(y_true * y_pred, 0, 1)))\n",
    "    predicted_positives = K.sum(K.round(K.clip(y_pred, 0, 1)))\n",
    "    precision = true_positives / (predicted_positives + K.epsilon())\n",
    "    return precision\n",
    "\n",
    "\n",
    "def recall(y_true, y_pred):\n",
    "    true_positives = K.sum(K.round(K.clip(y_true * y_pred, 0, 1)))\n",
    "    possible_positives = K.sum(K.round(K.clip(y_true, 0, 1)))\n",
    "    recall = true_positives / (possible_positives + K.epsilon())\n",
    "    return recall\n",
    "\n",
    "\n",
    "def f1(y_true, y_pred):\n",
    "    def recall(y_true, y_pred):\n",
    "        true_positives = K.sum(K.round(K.clip(y_true * y_pred, 0, 1)))\n",
    "        possible_positives = K.sum(K.round(K.clip(y_true, 0, 1)))\n",
    "        recall = true_positives / (possible_positives + K.epsilon())\n",
    "        return recall\n",
    "\n",
    "    def precision(y_true, y_pred):\n",
    "        true_positives = K.sum(K.round(K.clip(y_true * y_pred, 0, 1)))\n",
    "        predicted_positives = K.sum(K.round(K.clip(y_pred, 0, 1)))\n",
    "        precision = true_positives / (predicted_positives + K.epsilon())\n",
    "        return precision\n",
    "\n",
    "    precision = precision(y_true, y_pred)\n",
    "    recall = recall(y_true, y_pred)\n",
    "    return 2 * ((precision * recall) / (precision + recall + K.epsilon()))\n"
   ]
  },
  {
   "cell_type": "code",
   "execution_count": 311,
   "metadata": {},
   "outputs": [
    {
     "data": {
      "text/plain": [
       "(600, 11)"
      ]
     },
     "execution_count": 311,
     "metadata": {},
     "output_type": "execute_result"
    }
   ],
   "source": [
    "Y_augmented.shape"
   ]
  },
  {
   "cell_type": "code",
   "execution_count": 312,
   "metadata": {},
   "outputs": [],
   "source": [
    "x_train, x_val, x_ret_train, x_ret_val, y_train, y_val = train_test_split(X, fin_data_train_vals, Y, \n",
    "                                                  test_size=0.4, random_state=58)\n",
    "\n",
    "x_train_aug, x_val_aug, x_ret_train_aug, x_ret_val_aug, y_train_aug, y_val_aug = train_test_split(X_augmented, fin_data_train_vals_augmented, Y_augmented, test_size=0.01, random_state=58)"
   ]
  },
  {
   "cell_type": "code",
   "execution_count": 120,
   "metadata": {},
   "outputs": [
    {
     "data": {
      "text/plain": [
       "{0: 3414, 1: 3120, '0_relative': 52.25, '1_relative': 47.75}"
      ]
     },
     "execution_count": 120,
     "metadata": {},
     "output_type": "execute_result"
    }
   ],
   "source": [
    "val_count = {0: 0, 1: 0}\n",
    "\n",
    "for y in y_train_aug:\n",
    "    tmp = Counter(y)\n",
    "    #print(tmp)\n",
    "    if 0 in tmp:\n",
    "        val_count[0] = val_count[0]  + tmp[0]\n",
    "    if 1 in tmp:\n",
    "        val_count[1] = val_count[1]  + tmp[1]\n",
    "val_count[\"0_relative\"] = round((val_count[0] / (val_count[0] + val_count[1])) * 100, 2) \n",
    "val_count[\"1_relative\"] = round((val_count[1] / (val_count[0] + val_count[1])) * 100, 2) \n",
    "val_count"
   ]
  },
  {
   "cell_type": "code",
   "execution_count": 121,
   "metadata": {},
   "outputs": [
    {
     "data": {
      "text/plain": [
       "(594, 50, 100, 11)"
      ]
     },
     "execution_count": 121,
     "metadata": {},
     "output_type": "execute_result"
    }
   ],
   "source": [
    "x_train_aug.shape"
   ]
  },
  {
   "cell_type": "code",
   "execution_count": 264,
   "metadata": {},
   "outputs": [],
   "source": [
    "num_classes=11\n",
    "num_filters= 150\n",
    "filter_sizes = [3,4,5]\n",
    "embedding_dim = x_train_aug.shape[2]\n",
    "sequence_length = x_train_aug.shape[1] "
   ]
  },
  {
   "cell_type": "code",
   "execution_count": 123,
   "metadata": {},
   "outputs": [
    {
     "data": {
      "text/plain": [
       "50"
      ]
     },
     "execution_count": 123,
     "metadata": {},
     "output_type": "execute_result"
    }
   ],
   "source": [
    "sequence_length"
   ]
  },
  {
   "cell_type": "code",
   "execution_count": 124,
   "metadata": {},
   "outputs": [],
   "source": [
    "def custom_tanh(x):\n",
    "    return (K.tanh((2/3)*x) * 1.5)#1.7159) #(2/3)\n",
    "\n",
    "def custom_sigmoid(x):\n",
    "    return (K.sigmoid((3/4) * x) )#* 1.7159)"
   ]
  },
  {
   "cell_type": "code",
   "execution_count": 130,
   "metadata": {},
   "outputs": [],
   "source": [
    "def make_first_model():\n",
    "    model = Sequential()\n",
    "    model.add(GaussianNoise(stddev=1,input_shape=x_train_aug.shape[1:]))\n",
    "    model.add(Conv2D(num_filters, kernel_size=(filter_sizes[0], embedding_dim), padding='valid',#input_shape=x_train.shape[1:], \n",
    "                     data_format=\"channels_last\", activation=\"relu\", kernel_regularizer=regularizers.l2(0.01),\n",
    "                     kernel_initializer=RandomNormal())) #relu\n",
    "    #, kernel_regularizer=regularizers.l2(0.01)\n",
    "    #model.add(Conv2D(num_filters, kernel_size=(filter_sizes[1], embedding_dim), padding='same', activation=\"relu\"))\n",
    "\n",
    "    model.add(BatchNormalization(axis=3))\n",
    "    model.add(GaussianDropout(0.4))\n",
    "    #model.add(MaxPooling2D(pool_size=(sequence_length - filter_sizes[0] + 1, 1), strides=(1,1))) #data_format=\"channels_last\"\n",
    "    model.add(AveragePooling2D(pool_size=(sequence_length - filter_sizes[0] + 1, 1), strides=(1,1))) \n",
    "    #model.add(GlobalMaxPooling3D(data_format=\"channels_last\"))\n",
    "    model.add(BatchNormalization(axis=3))\n",
    "    #model.add(Conv2D(num_filters, kernel_size=(1,embedding_dim), strides=(1,1), activation=\"relu\"))\n",
    "    #model.add(MaxPooling2D(pool_size=(sequence_length - filter_sizes[1] + 1, 1), strides=(1,1)))\n",
    "    #model.add(Activation('relu'))\n",
    "    #model.add(BatchNormalization())\n",
    "    model.add(Dropout(0.5))\n",
    "    #model.add(GaussianNoise(stddev=3))\n",
    "\n",
    "    #model.add(MaxPooling2D(pool_size=(2, 2)))\n",
    "    #model.add(Dropout(0.25))\n",
    "\n",
    "    model.add(Flatten())\n",
    "    #model.add(GaussianDropout(0.5))\n",
    "    model.add(Dense(512, activation=\"relu\")) #custom_tanh \"relu\" custom_tanh\n",
    "    #model.add(Activation('relu'))\n",
    "    model.add(GaussianDropout(0.5))\n",
    "    #model.add(Dense(512, activation=\"relu\"))\n",
    "    #model.add(Dense(512, activation=\"relu\"))\n",
    "    model.add(Dense(num_classes, activation=custom_sigmoid)) #\"sigmoid\"  custom_sigmoid \n",
    "    \n",
    "    adam_opt = keras.optimizers.adam(lr=0.0001, beta_1=0.9, beta_2=0.999, epsilon=1e-8, decay=0.0)\n",
    "\n",
    "    model.compile(loss='binary_crossentropy', \n",
    "              optimizer=adam_opt,#opt,\"Adam\"\n",
    "              metrics=['binary_accuracy', f1, precision, recall]) #'binary_accuracy',\n",
    "    \n",
    "    return model"
   ]
  },
  {
   "cell_type": "code",
   "execution_count": 131,
   "metadata": {},
   "outputs": [
    {
     "name": "stdout",
     "output_type": "stream",
     "text": [
      "_________________________________________________________________\n",
      "Layer (type)                 Output Shape              Param #   \n",
      "=================================================================\n",
      "gaussian_noise_3 (GaussianNo (None, 50, 100, 11)       0         \n",
      "_________________________________________________________________\n",
      "conv2d_4 (Conv2D)            (None, 48, 1, 100)        330100    \n",
      "_________________________________________________________________\n",
      "batch_normalization_5 (Batch (None, 48, 1, 100)        400       \n",
      "_________________________________________________________________\n",
      "gaussian_dropout_6 (Gaussian (None, 48, 1, 100)        0         \n",
      "_________________________________________________________________\n",
      "average_pooling2d_2 (Average (None, 1, 1, 100)         0         \n",
      "_________________________________________________________________\n",
      "batch_normalization_6 (Batch (None, 1, 1, 100)         400       \n",
      "_________________________________________________________________\n",
      "dropout_3 (Dropout)          (None, 1, 1, 100)         0         \n",
      "_________________________________________________________________\n",
      "flatten_3 (Flatten)          (None, 100)               0         \n",
      "_________________________________________________________________\n",
      "dense_5 (Dense)              (None, 512)               51712     \n",
      "_________________________________________________________________\n",
      "gaussian_dropout_7 (Gaussian (None, 512)               0         \n",
      "_________________________________________________________________\n",
      "dense_6 (Dense)              (None, 11)                5643      \n",
      "=================================================================\n",
      "Total params: 388,255\n",
      "Trainable params: 387,855\n",
      "Non-trainable params: 400\n",
      "_________________________________________________________________\n"
     ]
    }
   ],
   "source": [
    "first_model = make_first_model()\n",
    "first_model.summary()"
   ]
  },
  {
   "cell_type": "code",
   "execution_count": 132,
   "metadata": {},
   "outputs": [
    {
     "name": "stdout",
     "output_type": "stream",
     "text": [
      "Train on 594 samples, validate on 6 samples\n",
      "Epoch 1/60\n",
      " - 5s - loss: 8.6004 - binary_accuracy: 0.4963 - f1: 0.4541 - precision: 0.4707 - recall: 0.4447 - val_loss: 8.1400 - val_binary_accuracy: 0.5152 - val_f1: 0.3600 - val_precision: 0.4500 - val_recall: 0.3000\n",
      "Epoch 2/60\n",
      " - 4s - loss: 7.8637 - binary_accuracy: 0.5021 - f1: 0.4605 - precision: 0.4795 - recall: 0.4550 - val_loss: 7.4551 - val_binary_accuracy: 0.5000 - val_f1: 0.4590 - val_precision: 0.4516 - val_recall: 0.4667\n",
      "Epoch 3/60\n",
      " - 4s - loss: 7.2001 - binary_accuracy: 0.5159 - f1: 0.4778 - precision: 0.4928 - recall: 0.4723 - val_loss: 6.8436 - val_binary_accuracy: 0.4848 - val_f1: 0.5278 - val_precision: 0.4524 - val_recall: 0.6333\n",
      "Epoch 4/60\n",
      " - 4s - loss: 6.6224 - binary_accuracy: 0.5018 - f1: 0.4611 - precision: 0.4806 - recall: 0.4539 - val_loss: 6.2933 - val_binary_accuracy: 0.5152 - val_f1: 0.5676 - val_precision: 0.4773 - val_recall: 0.7000\n",
      "Epoch 5/60\n",
      " - 5s - loss: 6.0985 - binary_accuracy: 0.5060 - f1: 0.4587 - precision: 0.4809 - recall: 0.4456 - val_loss: 5.8062 - val_binary_accuracy: 0.4697 - val_f1: 0.5333 - val_precision: 0.4444 - val_recall: 0.6667\n",
      "Epoch 6/60\n",
      " - 4s - loss: 5.6069 - binary_accuracy: 0.5165 - f1: 0.4695 - precision: 0.4944 - recall: 0.4558 - val_loss: 5.3594 - val_binary_accuracy: 0.4545 - val_f1: 0.5135 - val_precision: 0.4318 - val_recall: 0.6333\n",
      "Epoch 7/60\n",
      " - 5s - loss: 5.1745 - binary_accuracy: 0.5170 - f1: 0.4692 - precision: 0.4937 - recall: 0.4558 - val_loss: 4.9554 - val_binary_accuracy: 0.5303 - val_f1: 0.5974 - val_precision: 0.4894 - val_recall: 0.7667\n",
      "Epoch 8/60\n",
      " - 4s - loss: 4.7798 - binary_accuracy: 0.5239 - f1: 0.4771 - precision: 0.5018 - recall: 0.4624 - val_loss: 4.5940 - val_binary_accuracy: 0.4545 - val_f1: 0.5135 - val_precision: 0.4318 - val_recall: 0.6333\n",
      "Epoch 9/60\n",
      " - 5s - loss: 4.4350 - binary_accuracy: 0.5136 - f1: 0.4598 - precision: 0.4905 - recall: 0.4412 - val_loss: 4.2698 - val_binary_accuracy: 0.4848 - val_f1: 0.5405 - val_precision: 0.4545 - val_recall: 0.6667\n",
      "Epoch 10/60\n",
      " - 4s - loss: 4.1101 - binary_accuracy: 0.5317 - f1: 0.4848 - precision: 0.5091 - recall: 0.4692 - val_loss: 3.9673 - val_binary_accuracy: 0.4848 - val_f1: 0.5641 - val_precision: 0.4583 - val_recall: 0.7333\n",
      "Epoch 11/60\n",
      " - 5s - loss: 3.8302 - binary_accuracy: 0.5202 - f1: 0.4740 - precision: 0.4988 - recall: 0.4628 - val_loss: 3.6928 - val_binary_accuracy: 0.5000 - val_f1: 0.5714 - val_precision: 0.4681 - val_recall: 0.7333\n",
      "Epoch 12/60\n",
      " - 6s - loss: 3.5600 - binary_accuracy: 0.5340 - f1: 0.4929 - precision: 0.5129 - recall: 0.4804 - val_loss: 3.4447 - val_binary_accuracy: 0.4545 - val_f1: 0.5263 - val_precision: 0.4348 - val_recall: 0.6667\n",
      "Epoch 13/60\n",
      " - 4s - loss: 3.3274 - binary_accuracy: 0.5341 - f1: 0.4822 - precision: 0.5130 - recall: 0.4641 - val_loss: 3.2262 - val_binary_accuracy: 0.4545 - val_f1: 0.5263 - val_precision: 0.4348 - val_recall: 0.6667\n",
      "Epoch 14/60\n",
      " - 5s - loss: 3.1148 - binary_accuracy: 0.5314 - f1: 0.4885 - precision: 0.5121 - recall: 0.4786 - val_loss: 3.0208 - val_binary_accuracy: 0.5000 - val_f1: 0.5714 - val_precision: 0.4681 - val_recall: 0.7333\n",
      "Epoch 15/60\n",
      " - 5s - loss: 2.9256 - binary_accuracy: 0.5323 - f1: 0.4897 - precision: 0.5095 - recall: 0.4788 - val_loss: 2.8362 - val_binary_accuracy: 0.4848 - val_f1: 0.5641 - val_precision: 0.4583 - val_recall: 0.7333\n",
      "Epoch 16/60\n",
      " - 4s - loss: 2.7492 - binary_accuracy: 0.5373 - f1: 0.4888 - precision: 0.5182 - recall: 0.4743 - val_loss: 2.6788 - val_binary_accuracy: 0.4242 - val_f1: 0.5128 - val_precision: 0.4167 - val_recall: 0.6667\n",
      "Epoch 17/60\n",
      " - 5s - loss: 2.5965 - binary_accuracy: 0.5407 - f1: 0.4974 - precision: 0.5213 - recall: 0.4830 - val_loss: 2.5329 - val_binary_accuracy: 0.3788 - val_f1: 0.4810 - val_precision: 0.3878 - val_recall: 0.6333\n",
      "Epoch 18/60\n",
      " - 5s - loss: 2.4441 - binary_accuracy: 0.5473 - f1: 0.5053 - precision: 0.5251 - recall: 0.4927 - val_loss: 2.3949 - val_binary_accuracy: 0.4242 - val_f1: 0.5000 - val_precision: 0.4130 - val_recall: 0.6333\n",
      "Epoch 19/60\n",
      " - 5s - loss: 2.3164 - binary_accuracy: 0.5530 - f1: 0.5120 - precision: 0.5353 - recall: 0.4995 - val_loss: 2.2756 - val_binary_accuracy: 0.4394 - val_f1: 0.4308 - val_precision: 0.4000 - val_recall: 0.4667\n",
      "Epoch 20/60\n",
      " - 5s - loss: 2.1981 - binary_accuracy: 0.5530 - f1: 0.5061 - precision: 0.5357 - recall: 0.4891 - val_loss: 2.1559 - val_binary_accuracy: 0.4848 - val_f1: 0.5278 - val_precision: 0.4524 - val_recall: 0.6333\n",
      "Epoch 21/60\n",
      " - 4s - loss: 2.0929 - binary_accuracy: 0.5516 - f1: 0.5044 - precision: 0.5348 - recall: 0.4883 - val_loss: 2.0585 - val_binary_accuracy: 0.4848 - val_f1: 0.5000 - val_precision: 0.4474 - val_recall: 0.5667\n",
      "Epoch 22/60\n",
      " - 5s - loss: 1.9976 - binary_accuracy: 0.5603 - f1: 0.5186 - precision: 0.5422 - recall: 0.5065 - val_loss: 1.9872 - val_binary_accuracy: 0.5000 - val_f1: 0.4762 - val_precision: 0.4545 - val_recall: 0.5000\n",
      "Epoch 23/60\n",
      " - 4s - loss: 1.9057 - binary_accuracy: 0.5617 - f1: 0.5222 - precision: 0.5430 - recall: 0.5103 - val_loss: 1.9039 - val_binary_accuracy: 0.4848 - val_f1: 0.4687 - val_precision: 0.4412 - val_recall: 0.5000\n",
      "Epoch 24/60\n",
      " - 5s - loss: 1.8184 - binary_accuracy: 0.5741 - f1: 0.5283 - precision: 0.5570 - recall: 0.5104 - val_loss: 1.8240 - val_binary_accuracy: 0.5152 - val_f1: 0.4839 - val_precision: 0.4688 - val_recall: 0.5000\n",
      "Epoch 25/60\n",
      " - 5s - loss: 1.7445 - binary_accuracy: 0.5712 - f1: 0.5293 - precision: 0.5520 - recall: 0.5159 - val_loss: 1.7739 - val_binary_accuracy: 0.4848 - val_f1: 0.5143 - val_precision: 0.4500 - val_recall: 0.6000\n",
      "Epoch 26/60\n",
      " - 6s - loss: 1.6820 - binary_accuracy: 0.5701 - f1: 0.5250 - precision: 0.5543 - recall: 0.5070 - val_loss: 1.7081 - val_binary_accuracy: 0.4848 - val_f1: 0.5278 - val_precision: 0.4524 - val_recall: 0.6333\n",
      "Epoch 27/60\n",
      " - 5s - loss: 1.6094 - binary_accuracy: 0.5856 - f1: 0.5419 - precision: 0.5703 - recall: 0.5248 - val_loss: 1.6586 - val_binary_accuracy: 0.5000 - val_f1: 0.5600 - val_precision: 0.4667 - val_recall: 0.7000\n",
      "Epoch 28/60\n",
      " - 4s - loss: 1.5529 - binary_accuracy: 0.5923 - f1: 0.5534 - precision: 0.5772 - recall: 0.5417 - val_loss: 1.5948 - val_binary_accuracy: 0.4394 - val_f1: 0.5195 - val_precision: 0.4255 - val_recall: 0.6667\n",
      "Epoch 29/60\n",
      " - 5s - loss: 1.5036 - binary_accuracy: 0.5921 - f1: 0.5533 - precision: 0.5785 - recall: 0.5403 - val_loss: 1.5632 - val_binary_accuracy: 0.4091 - val_f1: 0.5185 - val_precision: 0.4118 - val_recall: 0.7000\n",
      "Epoch 30/60\n",
      " - 5s - loss: 1.4530 - binary_accuracy: 0.5937 - f1: 0.5583 - precision: 0.5798 - recall: 0.5475 - val_loss: 1.5159 - val_binary_accuracy: 0.4242 - val_f1: 0.5000 - val_precision: 0.4130 - val_recall: 0.6333\n",
      "Epoch 31/60\n",
      " - 4s - loss: 1.4002 - binary_accuracy: 0.6035 - f1: 0.5694 - precision: 0.5883 - recall: 0.5626 - val_loss: 1.4988 - val_binary_accuracy: 0.4242 - val_f1: 0.5476 - val_precision: 0.4259 - val_recall: 0.7667\n",
      "Epoch 32/60\n",
      " - 6s - loss: 1.3634 - binary_accuracy: 0.6082 - f1: 0.5737 - precision: 0.5969 - recall: 0.5676 - val_loss: 1.4479 - val_binary_accuracy: 0.4242 - val_f1: 0.4865 - val_precision: 0.4091 - val_recall: 0.6000\n",
      "Epoch 33/60\n",
      " - 4s - loss: 1.3162 - binary_accuracy: 0.6197 - f1: 0.5820 - precision: 0.6116 - recall: 0.5631 - val_loss: 1.4136 - val_binary_accuracy: 0.4242 - val_f1: 0.4242 - val_precision: 0.3889 - val_recall: 0.4667\n",
      "Epoch 34/60\n",
      " - 4s - loss: 1.2856 - binary_accuracy: 0.6166 - f1: 0.5772 - precision: 0.6047 - recall: 0.5615 - val_loss: 1.3973 - val_binary_accuracy: 0.4242 - val_f1: 0.4722 - val_precision: 0.4048 - val_recall: 0.5667\n",
      "Epoch 35/60\n",
      " - 5s - loss: 1.2551 - binary_accuracy: 0.6142 - f1: 0.5869 - precision: 0.6018 - recall: 0.5850 - val_loss: 1.3808 - val_binary_accuracy: 0.4697 - val_f1: 0.5570 - val_precision: 0.4490 - val_recall: 0.7333\n",
      "Epoch 36/60\n",
      " - 4s - loss: 1.2173 - binary_accuracy: 0.6296 - f1: 0.5910 - precision: 0.6193 - recall: 0.5757 - val_loss: 1.3346 - val_binary_accuracy: 0.4394 - val_f1: 0.4932 - val_precision: 0.4186 - val_recall: 0.6000\n",
      "Epoch 37/60\n",
      " - 5s - loss: 1.1864 - binary_accuracy: 0.6301 - f1: 0.5962 - precision: 0.6180 - recall: 0.5853 - val_loss: 1.3112 - val_binary_accuracy: 0.4242 - val_f1: 0.3871 - val_precision: 0.3750 - val_recall: 0.4000\n",
      "Epoch 38/60\n",
      " - 4s - loss: 1.1604 - binary_accuracy: 0.6331 - f1: 0.6017 - precision: 0.6212 - recall: 0.5965 - val_loss: 1.3150 - val_binary_accuracy: 0.4848 - val_f1: 0.3929 - val_precision: 0.4231 - val_recall: 0.3667\n",
      "Epoch 39/60\n",
      " - 4s - loss: 1.1387 - binary_accuracy: 0.6351 - f1: 0.6068 - precision: 0.6222 - recall: 0.6037 - val_loss: 1.2698 - val_binary_accuracy: 0.4545 - val_f1: 0.3793 - val_precision: 0.3929 - val_recall: 0.3667\n",
      "Epoch 40/60\n",
      " - 4s - loss: 1.1111 - binary_accuracy: 0.6400 - f1: 0.6133 - precision: 0.6276 - recall: 0.6089 - val_loss: 1.2535 - val_binary_accuracy: 0.4545 - val_f1: 0.4706 - val_precision: 0.4211 - val_recall: 0.5333\n",
      "Epoch 41/60\n",
      " - 4s - loss: 1.0842 - binary_accuracy: 0.6485 - f1: 0.6149 - precision: 0.6380 - recall: 0.6049 - val_loss: 1.2801 - val_binary_accuracy: 0.4697 - val_f1: 0.4615 - val_precision: 0.4286 - val_recall: 0.5000\n",
      "Epoch 42/60\n",
      " - 5s - loss: 1.0608 - binary_accuracy: 0.6572 - f1: 0.6322 - precision: 0.6441 - recall: 0.6334 - val_loss: 1.2622 - val_binary_accuracy: 0.3939 - val_f1: 0.4118 - val_precision: 0.3684 - val_recall: 0.4667\n",
      "Epoch 43/60\n",
      " - 5s - loss: 1.0460 - binary_accuracy: 0.6474 - f1: 0.6182 - precision: 0.6377 - recall: 0.6101 - val_loss: 1.2191 - val_binary_accuracy: 0.4242 - val_f1: 0.4571 - val_precision: 0.4000 - val_recall: 0.5333\n",
      "Epoch 44/60\n",
      " - 4s - loss: 1.0293 - binary_accuracy: 0.6492 - f1: 0.6188 - precision: 0.6413 - recall: 0.6078 - val_loss: 1.1989 - val_binary_accuracy: 0.4242 - val_f1: 0.4062 - val_precision: 0.3824 - val_recall: 0.4333\n",
      "Epoch 45/60\n",
      " - 5s - loss: 1.0061 - binary_accuracy: 0.6619 - f1: 0.6401 - precision: 0.6509 - recall: 0.6420 - val_loss: 1.2001 - val_binary_accuracy: 0.4242 - val_f1: 0.4412 - val_precision: 0.3947 - val_recall: 0.5000\n",
      "Epoch 46/60\n",
      " - 5s - loss: 0.9920 - binary_accuracy: 0.6564 - f1: 0.6278 - precision: 0.6470 - recall: 0.6206 - val_loss: 1.1496 - val_binary_accuracy: 0.3939 - val_f1: 0.3548 - val_precision: 0.3438 - val_recall: 0.3667\n",
      "Epoch 47/60\n",
      " - 5s - loss: 0.9746 - binary_accuracy: 0.6763 - f1: 0.6512 - precision: 0.6632 - recall: 0.6473 - val_loss: 1.1767 - val_binary_accuracy: 0.4848 - val_f1: 0.4333 - val_precision: 0.4333 - val_recall: 0.4333\n",
      "Epoch 48/60\n",
      " - 5s - loss: 0.9604 - binary_accuracy: 0.6667 - f1: 0.6378 - precision: 0.6593 - recall: 0.6279 - val_loss: 1.2087 - val_binary_accuracy: 0.4242 - val_f1: 0.4242 - val_precision: 0.3889 - val_recall: 0.4667\n",
      "Epoch 49/60\n",
      " - 4s - loss: 0.9510 - binary_accuracy: 0.6619 - f1: 0.6370 - precision: 0.6534 - recall: 0.6369 - val_loss: 1.1707 - val_binary_accuracy: 0.4091 - val_f1: 0.4179 - val_precision: 0.3784 - val_recall: 0.4667\n",
      "Epoch 50/60\n",
      " - 5s - loss: 0.9415 - binary_accuracy: 0.6612 - f1: 0.6305 - precision: 0.6533 - recall: 0.6188 - val_loss: 1.1482 - val_binary_accuracy: 0.4545 - val_f1: 0.4375 - val_precision: 0.4118 - val_recall: 0.4667\n",
      "Epoch 51/60\n",
      " - 4s - loss: 0.9321 - binary_accuracy: 0.6650 - f1: 0.6388 - precision: 0.6566 - recall: 0.6336 - val_loss: 1.2193 - val_binary_accuracy: 0.4242 - val_f1: 0.4865 - val_precision: 0.4091 - val_recall: 0.6000\n",
      "Epoch 52/60\n",
      " - 5s - loss: 0.9216 - binary_accuracy: 0.6677 - f1: 0.6411 - precision: 0.6593 - recall: 0.6351 - val_loss: 1.1918 - val_binary_accuracy: 0.4394 - val_f1: 0.4308 - val_precision: 0.4000 - val_recall: 0.4667\n",
      "Epoch 53/60\n",
      " - 5s - loss: 0.9021 - binary_accuracy: 0.6778 - f1: 0.6553 - precision: 0.6674 - recall: 0.6517 - val_loss: 1.1721 - val_binary_accuracy: 0.4242 - val_f1: 0.4062 - val_precision: 0.3824 - val_recall: 0.4333\n",
      "Epoch 54/60\n",
      " - 4s - loss: 0.8814 - binary_accuracy: 0.6798 - f1: 0.6582 - precision: 0.6682 - recall: 0.6594 - val_loss: 1.1959 - val_binary_accuracy: 0.4545 - val_f1: 0.5000 - val_precision: 0.4286 - val_recall: 0.6000\n",
      "Epoch 55/60\n",
      " - 5s - loss: 0.8832 - binary_accuracy: 0.6774 - f1: 0.6540 - precision: 0.6690 - recall: 0.6483 - val_loss: 1.1921 - val_binary_accuracy: 0.4091 - val_f1: 0.4000 - val_precision: 0.3714 - val_recall: 0.4333\n",
      "Epoch 56/60\n",
      " - 5s - loss: 0.8705 - binary_accuracy: 0.6768 - f1: 0.6526 - precision: 0.6699 - recall: 0.6470 - val_loss: 1.1677 - val_binary_accuracy: 0.4545 - val_f1: 0.4545 - val_precision: 0.4167 - val_recall: 0.5000\n",
      "Epoch 57/60\n",
      " - 5s - loss: 0.8696 - binary_accuracy: 0.6792 - f1: 0.6577 - precision: 0.6679 - recall: 0.6583 - val_loss: 1.1727 - val_binary_accuracy: 0.4697 - val_f1: 0.5070 - val_precision: 0.4390 - val_recall: 0.6000\n",
      "Epoch 58/60\n",
      " - 5s - loss: 0.8606 - binary_accuracy: 0.6758 - f1: 0.6517 - precision: 0.6683 - recall: 0.6506 - val_loss: 1.1535 - val_binary_accuracy: 0.4091 - val_f1: 0.4000 - val_precision: 0.3714 - val_recall: 0.4333\n",
      "Epoch 59/60\n",
      " - 4s - loss: 0.8439 - binary_accuracy: 0.6896 - f1: 0.6642 - precision: 0.6819 - recall: 0.6583 - val_loss: 1.1632 - val_binary_accuracy: 0.4091 - val_f1: 0.3810 - val_precision: 0.3636 - val_recall: 0.4000\n",
      "Epoch 60/60\n",
      " - 5s - loss: 0.8453 - binary_accuracy: 0.6797 - f1: 0.6545 - precision: 0.6718 - recall: 0.6480 - val_loss: 1.1893 - val_binary_accuracy: 0.4545 - val_f1: 0.4375 - val_precision: 0.4118 - val_recall: 0.4667\n"
     ]
    }
   ],
   "source": [
    "history = first_model.fit(x_train_aug, y_train_aug, validation_data = (x_val_aug, y_val_aug),\n",
    "                          epochs=60, batch_size=10, verbose=2)"
   ]
  },
  {
   "cell_type": "code",
   "execution_count": 233,
   "metadata": {},
   "outputs": [
    {
     "data": {
      "image/png": "[encoded data removed]",
      "text/plain": [
       "<Figure size 432x288 with 1 Axes>"
      ]
     },
     "metadata": {},
     "output_type": "display_data"
    }
   ],
   "source": [
    "plt.plot(history.history[\"binary_accuracy\"], label=\"acc\")\n",
    "plt.plot(history.history[\"val_binary_accuracy\"], label=\"val_acc\")\n",
    "plt.axhline(0.5, c=\".3\")\n",
    "plt.legend()\n",
    "plt.show()"
   ]
  },
  {
   "cell_type": "code",
   "execution_count": 234,
   "metadata": {},
   "outputs": [
    {
     "data": {
      "image/png": "[encoded data removed]",
      "text/plain": [
       "<Figure size 432x288 with 1 Axes>"
      ]
     },
     "metadata": {},
     "output_type": "display_data"
    }
   ],
   "source": [
    "plt.plot(history.history[\"recall\"], label=\"recall\")\n",
    "plt.plot(history.history[\"val_recall\"], label=\"val_recall\")\n",
    "\n",
    "plt.legend()\n",
    "plt.show()"
   ]
  },
  {
   "cell_type": "code",
   "execution_count": 235,
   "metadata": {},
   "outputs": [
    {
     "data": {
      "image/png": "[encoded data removed]",
      "text/plain": [
       "<Figure size 432x288 with 1 Axes>"
      ]
     },
     "metadata": {},
     "output_type": "display_data"
    }
   ],
   "source": [
    "plt.plot(history.history[\"precision\"], label=\"precision\")\n",
    "plt.plot(history.history[\"val_precision\"], label=\"val_precision\")\n",
    "\n",
    "plt.legend()\n",
    "plt.show()"
   ]
  },
  {
   "cell_type": "code",
   "execution_count": 236,
   "metadata": {},
   "outputs": [
    {
     "data": {
      "image/png": "[encoded data removed]",
      "text/plain": [
       "<Figure size 432x288 with 1 Axes>"
      ]
     },
     "metadata": {},
     "output_type": "display_data"
    }
   ],
   "source": [
    "plt.plot(history.history[\"loss\"], label=\"loss\")\n",
    "plt.plot(history.history[\"val_loss\"], label=\"val_loss\")\n",
    "plt.legend()\n",
    "plt.show()"
   ]
  },
  {
   "cell_type": "code",
   "execution_count": 237,
   "metadata": {},
   "outputs": [],
   "source": [
    "preds = first_model.predict(X)#X[300:]\n"
   ]
  },
  {
   "cell_type": "code",
   "execution_count": 238,
   "metadata": {},
   "outputs": [],
   "source": [
    "df_y_val = pd.DataFrame(y_val_aug, columns=fin_data_class.columns)"
   ]
  },
  {
   "cell_type": "code",
   "execution_count": 239,
   "metadata": {},
   "outputs": [
    {
     "data": {
      "text/plain": [
       "(591, 11)"
      ]
     },
     "execution_count": 239,
     "metadata": {},
     "output_type": "execute_result"
    }
   ],
   "source": [
    "fin_data_class.shape"
   ]
  },
  {
   "cell_type": "code",
   "execution_count": 240,
   "metadata": {},
   "outputs": [
    {
     "data": {
      "text/html": [
       "<div>\n",
       "<style scoped>\n",
       "    .dataframe tbody tr th:only-of-type {\n",
       "        vertical-align: middle;\n",
       "    }\n",
       "\n",
       "    .dataframe tbody tr th {\n",
       "        vertical-align: top;\n",
       "    }\n",
       "\n",
       "    .dataframe thead th {\n",
       "        text-align: right;\n",
       "    }\n",
       "</style>\n",
       "<table border=\"1\" class=\"dataframe\">\n",
       "  <thead>\n",
       "    <tr style=\"text-align: right;\">\n",
       "      <th></th>\n",
       "      <th>Samsung</th>\n",
       "      <th>Telefonica</th>\n",
       "      <th>Allianz</th>\n",
       "      <th>Total</th>\n",
       "      <th>Bayer</th>\n",
       "      <th>Tesla</th>\n",
       "      <th>Airbus</th>\n",
       "      <th>Apple</th>\n",
       "      <th>BASF</th>\n",
       "      <th>BMW</th>\n",
       "      <th>Google</th>\n",
       "    </tr>\n",
       "    <tr>\n",
       "      <th>Timestamp</th>\n",
       "      <th></th>\n",
       "      <th></th>\n",
       "      <th></th>\n",
       "      <th></th>\n",
       "      <th></th>\n",
       "      <th></th>\n",
       "      <th></th>\n",
       "      <th></th>\n",
       "      <th></th>\n",
       "      <th></th>\n",
       "      <th></th>\n",
       "    </tr>\n",
       "  </thead>\n",
       "  <tbody>\n",
       "    <tr>\n",
       "      <th>2015-11-25</th>\n",
       "      <td>0.769683</td>\n",
       "      <td>0.875923</td>\n",
       "      <td>0.322254</td>\n",
       "      <td>0.458435</td>\n",
       "      <td>0.206550</td>\n",
       "      <td>0.850359</td>\n",
       "      <td>0.412612</td>\n",
       "      <td>0.419158</td>\n",
       "      <td>0.389960</td>\n",
       "      <td>0.650681</td>\n",
       "      <td>0.728095</td>\n",
       "    </tr>\n",
       "    <tr>\n",
       "      <th>2015-11-27</th>\n",
       "      <td>0.492658</td>\n",
       "      <td>0.211967</td>\n",
       "      <td>0.258724</td>\n",
       "      <td>0.366455</td>\n",
       "      <td>0.393365</td>\n",
       "      <td>0.293715</td>\n",
       "      <td>0.407564</td>\n",
       "      <td>0.492536</td>\n",
       "      <td>0.332296</td>\n",
       "      <td>0.439444</td>\n",
       "      <td>0.214607</td>\n",
       "    </tr>\n",
       "    <tr>\n",
       "      <th>2015-11-30</th>\n",
       "      <td>0.591274</td>\n",
       "      <td>0.151623</td>\n",
       "      <td>0.494811</td>\n",
       "      <td>0.865134</td>\n",
       "      <td>0.777221</td>\n",
       "      <td>0.856104</td>\n",
       "      <td>0.454776</td>\n",
       "      <td>0.616003</td>\n",
       "      <td>0.551285</td>\n",
       "      <td>0.750511</td>\n",
       "      <td>0.261494</td>\n",
       "    </tr>\n",
       "    <tr>\n",
       "      <th>2015-12-01</th>\n",
       "      <td>0.792483</td>\n",
       "      <td>0.615463</td>\n",
       "      <td>0.774238</td>\n",
       "      <td>0.843108</td>\n",
       "      <td>0.854925</td>\n",
       "      <td>0.395807</td>\n",
       "      <td>0.719354</td>\n",
       "      <td>0.809630</td>\n",
       "      <td>0.791909</td>\n",
       "      <td>0.837737</td>\n",
       "      <td>0.763015</td>\n",
       "    </tr>\n",
       "    <tr>\n",
       "      <th>2015-12-02</th>\n",
       "      <td>0.763555</td>\n",
       "      <td>0.582255</td>\n",
       "      <td>0.499583</td>\n",
       "      <td>0.389961</td>\n",
       "      <td>0.532820</td>\n",
       "      <td>0.675412</td>\n",
       "      <td>0.674807</td>\n",
       "      <td>0.277465</td>\n",
       "      <td>0.743508</td>\n",
       "      <td>0.685168</td>\n",
       "      <td>0.750569</td>\n",
       "    </tr>\n",
       "  </tbody>\n",
       "</table>\n",
       "</div>"
      ],
      "text/plain": [
       "             Samsung  Telefonica   Allianz     Total     Bayer     Tesla  \\\n",
       "Timestamp                                                                  \n",
       "2015-11-25  0.769683    0.875923  0.322254  0.458435  0.206550  0.850359   \n",
       "2015-11-27  0.492658    0.211967  0.258724  0.366455  0.393365  0.293715   \n",
       "2015-11-30  0.591274    0.151623  0.494811  0.865134  0.777221  0.856104   \n",
       "2015-12-01  0.792483    0.615463  0.774238  0.843108  0.854925  0.395807   \n",
       "2015-12-02  0.763555    0.582255  0.499583  0.389961  0.532820  0.675412   \n",
       "\n",
       "              Airbus     Apple      BASF       BMW    Google  \n",
       "Timestamp                                                     \n",
       "2015-11-25  0.412612  0.419158  0.389960  0.650681  0.728095  \n",
       "2015-11-27  0.407564  0.492536  0.332296  0.439444  0.214607  \n",
       "2015-11-30  0.454776  0.616003  0.551285  0.750511  0.261494  \n",
       "2015-12-01  0.719354  0.809630  0.791909  0.837737  0.763015  \n",
       "2015-12-02  0.674807  0.277465  0.743508  0.685168  0.750569  "
      ]
     },
     "execution_count": 240,
     "metadata": {},
     "output_type": "execute_result"
    }
   ],
   "source": [
    "df_predictions = pd.DataFrame(preds, columns=fin_data_class.columns, index = fin_data_class.index) #, index = fin_data_class.index\n",
    "df_predictions.head()"
   ]
  },
  {
   "cell_type": "code",
   "execution_count": 141,
   "metadata": {},
   "outputs": [],
   "source": [
    "def count_fp(x):\n",
    "    company_list = fin_data_class.columns\n",
    "    tmp = x[company_list]\n",
    "    \n",
    "    if 1 in tmp.value_counts() or 1.0 in tmp.value_counts():\n",
    "\n",
    "        return tmp.value_counts()[1]\n",
    "        \n",
    "    else:\n",
    "        return 0\n",
    "    \n",
    "def count_fn(x):\n",
    "    company_list = fin_data_class.columns\n",
    "    tmp = x[company_list]\n",
    "    \n",
    "    if -1 in tmp.value_counts() or -1.0 in tmp.value_counts():\n",
    "\n",
    "        return tmp.value_counts()[-1]\n",
    "    \n",
    "    else:\n",
    "        return 0"
   ]
  },
  {
   "cell_type": "code",
   "execution_count": 142,
   "metadata": {},
   "outputs": [],
   "source": [
    "def try_cuts_arr(df, cut_count):\n",
    "    \n",
    "    cuts = np.linspace(0,1,cut_count)\n",
    "    accs = []\n",
    "    fp = []\n",
    "    fn = []\n",
    "    \n",
    "    \n",
    "    for c in cuts:\n",
    "        df_tmp = df.applymap(lambda x: 1 if x > c else 0)\n",
    "\n",
    "        df_tmp = df_y_val.rsub(df_tmp)\n",
    "        df_tmp[\"error_sum\"] = df_tmp.apply(lambda x: np.sum(abs(x)), axis=1)\n",
    "        \n",
    "        total_returns = df_tmp.shape[0] * df_tmp.shape[1]\n",
    "        error_sum = df_tmp[\"error_sum\"].sum()\n",
    "        accuracy = (total_returns - error_sum) / total_returns\n",
    "        \n",
    "        accs.append(accuracy)\n",
    "        \n",
    "        false_positive = np.sum(df_tmp.apply(count_fp, axis=1))\n",
    "        false_negative = df_tmp.apply(count_fn, axis=1).sum()\n",
    "        \n",
    "        fp.append(false_positive)\n",
    "        fn.append(false_negative)\n",
    "        \n",
    "    return accs, fp, fn, cuts"
   ]
  },
  {
   "cell_type": "code",
   "execution_count": 143,
   "metadata": {},
   "outputs": [],
   "source": [
    "def try_cuts(df, cut_count, subset=None):\n",
    "    \n",
    "    cuts = np.linspace(0,1,cut_count)\n",
    "    accs = []\n",
    "    fp = []\n",
    "    fn = []\n",
    "    \n",
    "    for c in cuts:\n",
    "        df_tmp = df.applymap(lambda x: 1 if x > c else 0)\n",
    "        if subset:\n",
    "            df_tmp = fin_data_class[subset].rsub(df_tmp)\n",
    "        else:\n",
    "            df_tmp = fin_data_class.rsub(df_tmp)\n",
    "        df_tmp[\"error_sum\"] = df_tmp.apply(lambda x: np.sum(abs(x)), axis=1)\n",
    "        \n",
    "        total_returns = df_tmp.shape[0] * df_tmp.shape[1]\n",
    "        error_sum = df_tmp[\"error_sum\"].sum()\n",
    "        accuracy = (total_returns - error_sum) / total_returns\n",
    "        \n",
    "        accs.append(accuracy)\n",
    "        \n",
    "        false_positive = np.sum(df_tmp.apply(count_fp, axis=1))\n",
    "        false_negative = df_tmp.apply(count_fn, axis=1).sum()\n",
    "        \n",
    "        fp.append(false_positive)\n",
    "        fn.append(false_negative)\n",
    "        \n",
    "        \n",
    "    return accs, fp, fn, cuts"
   ]
  },
  {
   "cell_type": "code",
   "execution_count": 171,
   "metadata": {},
   "outputs": [],
   "source": [
    "accs, fp, fn, cuts = try_cuts(df_predictions, 60, subset=None) #subset=slice(300, -1)\n",
    "#accs, fp, fn, cuts = try_cuts_arr(df_predictions, 30)"
   ]
  },
  {
   "cell_type": "code",
   "execution_count": 172,
   "metadata": {},
   "outputs": [
    {
     "data": {
      "text/plain": [
       "0.5423728813559322"
      ]
     },
     "execution_count": 172,
     "metadata": {},
     "output_type": "execute_result"
    }
   ],
   "source": [
    "max_index = accs.index(max(accs))\n",
    "cuts[max_index]"
   ]
  },
  {
   "cell_type": "code",
   "execution_count": 173,
   "metadata": {},
   "outputs": [
    {
     "data": {
      "image/png": "[encoded data removed]",
      "text/plain": [
       "<Figure size 432x288 with 1 Axes>"
      ]
     },
     "metadata": {},
     "output_type": "display_data"
    }
   ],
   "source": [
    "plt.plot(cuts, fp, label=\"FP\")\n",
    "plt.plot(cuts, fn, label=\"FN\")\n",
    "plt.xlabel(\"Cuts\")\n",
    "plt.legend()\n",
    "plt.show()"
   ]
  },
  {
   "cell_type": "code",
   "execution_count": 174,
   "metadata": {},
   "outputs": [
    {
     "data": {
      "text/plain": [
       "Text(0,0.5,'Accuracy')"
      ]
     },
     "execution_count": 174,
     "metadata": {},
     "output_type": "execute_result"
    },
    {
     "data": {
      "image/png": "[encoded data removed]",
      "text/plain": [
       "<Figure size 432x288 with 1 Axes>"
      ]
     },
     "metadata": {},
     "output_type": "display_data"
    }
   ],
   "source": [
    "plt.plot(cuts, accs)\n",
    "plt.xlabel(\"Cuts\")\n",
    "plt.ylabel(\"Accuracy\")"
   ]
  },
  {
   "cell_type": "code",
   "execution_count": 175,
   "metadata": {},
   "outputs": [
    {
     "data": {
      "text/plain": [
       "False"
      ]
     },
     "execution_count": 175,
     "metadata": {},
     "output_type": "execute_result"
    }
   ],
   "source": [
    "(np.array(fp)==np.array(fn)).all()"
   ]
  },
  {
   "cell_type": "code",
   "execution_count": 176,
   "metadata": {},
   "outputs": [
    {
     "data": {
      "text/html": [
       "<div>\n",
       "<style scoped>\n",
       "    .dataframe tbody tr th:only-of-type {\n",
       "        vertical-align: middle;\n",
       "    }\n",
       "\n",
       "    .dataframe tbody tr th {\n",
       "        vertical-align: top;\n",
       "    }\n",
       "\n",
       "    .dataframe thead th {\n",
       "        text-align: right;\n",
       "    }\n",
       "</style>\n",
       "<table border=\"1\" class=\"dataframe\">\n",
       "  <thead>\n",
       "    <tr style=\"text-align: right;\">\n",
       "      <th></th>\n",
       "      <th>Samsung</th>\n",
       "      <th>Telefonica</th>\n",
       "      <th>Allianz</th>\n",
       "      <th>Total</th>\n",
       "      <th>Bayer</th>\n",
       "      <th>Tesla</th>\n",
       "      <th>Airbus</th>\n",
       "      <th>Apple</th>\n",
       "      <th>BASF</th>\n",
       "      <th>BMW</th>\n",
       "      <th>Google</th>\n",
       "    </tr>\n",
       "    <tr>\n",
       "      <th>Timestamp</th>\n",
       "      <th></th>\n",
       "      <th></th>\n",
       "      <th></th>\n",
       "      <th></th>\n",
       "      <th></th>\n",
       "      <th></th>\n",
       "      <th></th>\n",
       "      <th></th>\n",
       "      <th></th>\n",
       "      <th></th>\n",
       "      <th></th>\n",
       "    </tr>\n",
       "  </thead>\n",
       "  <tbody>\n",
       "    <tr>\n",
       "      <th>2015-11-25</th>\n",
       "      <td>1</td>\n",
       "      <td>1</td>\n",
       "      <td>0</td>\n",
       "      <td>0</td>\n",
       "      <td>0</td>\n",
       "      <td>1</td>\n",
       "      <td>0</td>\n",
       "      <td>0</td>\n",
       "      <td>0</td>\n",
       "      <td>1</td>\n",
       "      <td>1</td>\n",
       "    </tr>\n",
       "    <tr>\n",
       "      <th>2015-11-27</th>\n",
       "      <td>0</td>\n",
       "      <td>0</td>\n",
       "      <td>0</td>\n",
       "      <td>0</td>\n",
       "      <td>0</td>\n",
       "      <td>0</td>\n",
       "      <td>0</td>\n",
       "      <td>0</td>\n",
       "      <td>0</td>\n",
       "      <td>0</td>\n",
       "      <td>0</td>\n",
       "    </tr>\n",
       "    <tr>\n",
       "      <th>2015-11-30</th>\n",
       "      <td>1</td>\n",
       "      <td>0</td>\n",
       "      <td>0</td>\n",
       "      <td>1</td>\n",
       "      <td>1</td>\n",
       "      <td>1</td>\n",
       "      <td>0</td>\n",
       "      <td>1</td>\n",
       "      <td>1</td>\n",
       "      <td>1</td>\n",
       "      <td>0</td>\n",
       "    </tr>\n",
       "    <tr>\n",
       "      <th>2015-12-01</th>\n",
       "      <td>1</td>\n",
       "      <td>1</td>\n",
       "      <td>1</td>\n",
       "      <td>1</td>\n",
       "      <td>1</td>\n",
       "      <td>0</td>\n",
       "      <td>1</td>\n",
       "      <td>1</td>\n",
       "      <td>1</td>\n",
       "      <td>1</td>\n",
       "      <td>1</td>\n",
       "    </tr>\n",
       "    <tr>\n",
       "      <th>2015-12-02</th>\n",
       "      <td>1</td>\n",
       "      <td>1</td>\n",
       "      <td>0</td>\n",
       "      <td>0</td>\n",
       "      <td>0</td>\n",
       "      <td>1</td>\n",
       "      <td>1</td>\n",
       "      <td>0</td>\n",
       "      <td>1</td>\n",
       "      <td>1</td>\n",
       "      <td>1</td>\n",
       "    </tr>\n",
       "  </tbody>\n",
       "</table>\n",
       "</div>"
      ],
      "text/plain": [
       "            Samsung  Telefonica  Allianz  Total  Bayer  Tesla  Airbus  Apple  \\\n",
       "Timestamp                                                                      \n",
       "2015-11-25        1           1        0      0      0      1       0      0   \n",
       "2015-11-27        0           0        0      0      0      0       0      0   \n",
       "2015-11-30        1           0        0      1      1      1       0      1   \n",
       "2015-12-01        1           1        1      1      1      0       1      1   \n",
       "2015-12-02        1           1        0      0      0      1       1      0   \n",
       "\n",
       "            BASF  BMW  Google  \n",
       "Timestamp                      \n",
       "2015-11-25     0    1       1  \n",
       "2015-11-27     0    0       0  \n",
       "2015-11-30     1    1       0  \n",
       "2015-12-01     1    1       1  \n",
       "2015-12-02     1    1       1  "
      ]
     },
     "execution_count": 176,
     "metadata": {},
     "output_type": "execute_result"
    }
   ],
   "source": [
    "df_predictions = df_predictions.applymap(lambda x: 1 if x > cuts[max_index] else 0) #cuts[max_index]\n",
    "df_predictions.to_csv(\"./predictions/predictions_frst_model_non_training_data_with_data_augmentation.csv\")\n",
    "df_predictions.head()"
   ]
  },
  {
   "cell_type": "code",
   "execution_count": 149,
   "metadata": {},
   "outputs": [
    {
     "data": {
      "text/html": [
       "<div>\n",
       "<style scoped>\n",
       "    .dataframe tbody tr th:only-of-type {\n",
       "        vertical-align: middle;\n",
       "    }\n",
       "\n",
       "    .dataframe tbody tr th {\n",
       "        vertical-align: top;\n",
       "    }\n",
       "\n",
       "    .dataframe thead th {\n",
       "        text-align: right;\n",
       "    }\n",
       "</style>\n",
       "<table border=\"1\" class=\"dataframe\">\n",
       "  <thead>\n",
       "    <tr style=\"text-align: right;\">\n",
       "      <th></th>\n",
       "      <th>Samsung</th>\n",
       "      <th>Telefonica</th>\n",
       "      <th>Allianz</th>\n",
       "      <th>Total</th>\n",
       "      <th>Bayer</th>\n",
       "      <th>Tesla</th>\n",
       "      <th>Airbus</th>\n",
       "      <th>Apple</th>\n",
       "      <th>BASF</th>\n",
       "      <th>BMW</th>\n",
       "      <th>Google</th>\n",
       "    </tr>\n",
       "    <tr>\n",
       "      <th>Timestamp</th>\n",
       "      <th></th>\n",
       "      <th></th>\n",
       "      <th></th>\n",
       "      <th></th>\n",
       "      <th></th>\n",
       "      <th></th>\n",
       "      <th></th>\n",
       "      <th></th>\n",
       "      <th></th>\n",
       "      <th></th>\n",
       "      <th></th>\n",
       "    </tr>\n",
       "  </thead>\n",
       "  <tbody>\n",
       "    <tr>\n",
       "      <th>2015-11-25</th>\n",
       "      <td>1.0</td>\n",
       "      <td>1.0</td>\n",
       "      <td>0.0</td>\n",
       "      <td>0.0</td>\n",
       "      <td>0.0</td>\n",
       "      <td>1.0</td>\n",
       "      <td>0.0</td>\n",
       "      <td>0.0</td>\n",
       "      <td>0.0</td>\n",
       "      <td>0.0</td>\n",
       "      <td>1.0</td>\n",
       "    </tr>\n",
       "    <tr>\n",
       "      <th>2015-11-27</th>\n",
       "      <td>0.0</td>\n",
       "      <td>0.0</td>\n",
       "      <td>1.0</td>\n",
       "      <td>0.0</td>\n",
       "      <td>1.0</td>\n",
       "      <td>0.0</td>\n",
       "      <td>1.0</td>\n",
       "      <td>1.0</td>\n",
       "      <td>1.0</td>\n",
       "      <td>1.0</td>\n",
       "      <td>0.0</td>\n",
       "    </tr>\n",
       "    <tr>\n",
       "      <th>2015-11-30</th>\n",
       "      <td>1.0</td>\n",
       "      <td>0.0</td>\n",
       "      <td>1.0</td>\n",
       "      <td>1.0</td>\n",
       "      <td>1.0</td>\n",
       "      <td>1.0</td>\n",
       "      <td>0.0</td>\n",
       "      <td>1.0</td>\n",
       "      <td>1.0</td>\n",
       "      <td>1.0</td>\n",
       "      <td>0.0</td>\n",
       "    </tr>\n",
       "    <tr>\n",
       "      <th>2015-12-01</th>\n",
       "      <td>1.0</td>\n",
       "      <td>0.0</td>\n",
       "      <td>1.0</td>\n",
       "      <td>1.0</td>\n",
       "      <td>1.0</td>\n",
       "      <td>0.0</td>\n",
       "      <td>1.0</td>\n",
       "      <td>1.0</td>\n",
       "      <td>1.0</td>\n",
       "      <td>1.0</td>\n",
       "      <td>1.0</td>\n",
       "    </tr>\n",
       "    <tr>\n",
       "      <th>2015-12-02</th>\n",
       "      <td>1.0</td>\n",
       "      <td>1.0</td>\n",
       "      <td>1.0</td>\n",
       "      <td>0.0</td>\n",
       "      <td>1.0</td>\n",
       "      <td>1.0</td>\n",
       "      <td>0.0</td>\n",
       "      <td>0.0</td>\n",
       "      <td>1.0</td>\n",
       "      <td>1.0</td>\n",
       "      <td>1.0</td>\n",
       "    </tr>\n",
       "  </tbody>\n",
       "</table>\n",
       "</div>"
      ],
      "text/plain": [
       "            Samsung  Telefonica  Allianz  Total  Bayer  Tesla  Airbus  Apple  \\\n",
       "Timestamp                                                                      \n",
       "2015-11-25      1.0         1.0      0.0    0.0    0.0    1.0     0.0    0.0   \n",
       "2015-11-27      0.0         0.0      1.0    0.0    1.0    0.0     1.0    1.0   \n",
       "2015-11-30      1.0         0.0      1.0    1.0    1.0    1.0     0.0    1.0   \n",
       "2015-12-01      1.0         0.0      1.0    1.0    1.0    0.0     1.0    1.0   \n",
       "2015-12-02      1.0         1.0      1.0    0.0    1.0    1.0     0.0    0.0   \n",
       "\n",
       "            BASF  BMW  Google  \n",
       "Timestamp                      \n",
       "2015-11-25   0.0  0.0     1.0  \n",
       "2015-11-27   1.0  1.0     0.0  \n",
       "2015-11-30   1.0  1.0     0.0  \n",
       "2015-12-01   1.0  1.0     1.0  \n",
       "2015-12-02   1.0  1.0     1.0  "
      ]
     },
     "execution_count": 149,
     "metadata": {},
     "output_type": "execute_result"
    }
   ],
   "source": [
    "fin_data_class.head()"
   ]
  },
  {
   "cell_type": "code",
   "execution_count": 150,
   "metadata": {},
   "outputs": [],
   "source": [
    "df_pred_errors = fin_data_class.rsub(df_predictions)"
   ]
  },
  {
   "cell_type": "code",
   "execution_count": 151,
   "metadata": {},
   "outputs": [],
   "source": [
    "df_pred_errors[\"error_sum\"] = df_pred_errors.apply(lambda x: np.sum(abs(x)), axis=1)\n",
    "df_pred_errors[\"fale_pos_sum\"] = df_pred_errors.apply(count_fp, axis=1)\n",
    "df_pred_errors[\"fale_neg_sum\"] = df_pred_errors.apply(count_fn, axis=1)"
   ]
  },
  {
   "cell_type": "code",
   "execution_count": 152,
   "metadata": {},
   "outputs": [
    {
     "data": {
      "text/plain": [
       "1303"
      ]
     },
     "execution_count": 152,
     "metadata": {},
     "output_type": "execute_result"
    }
   ],
   "source": [
    "df_pred_errors[\"fale_pos_sum\"].sum()"
   ]
  },
  {
   "cell_type": "code",
   "execution_count": 153,
   "metadata": {},
   "outputs": [
    {
     "data": {
      "text/plain": [
       "264"
      ]
     },
     "execution_count": 153,
     "metadata": {},
     "output_type": "execute_result"
    }
   ],
   "source": [
    "df_pred_errors[\"fale_neg_sum\"].sum()"
   ]
  },
  {
   "cell_type": "code",
   "execution_count": 154,
   "metadata": {},
   "outputs": [],
   "source": [
    "from sklearn.metrics import roc_curve, auc, precision_recall_curve, confusion_matrix\n",
    "from sklearn.metrics import classification_report"
   ]
  },
  {
   "cell_type": "code",
   "execution_count": 155,
   "metadata": {},
   "outputs": [
    {
     "name": "stdout",
     "output_type": "stream",
     "text": [
      "             precision    recall  f1-score   support\n",
      "\n",
      "        0.0       0.52      0.18      0.27      1588\n",
      "        1.0       0.51      0.84      0.63      1613\n",
      "\n",
      "avg / total       0.51      0.51      0.45      3201\n",
      "\n"
     ]
    }
   ],
   "source": [
    "print(classification_report(Y[300:].ravel(), df_predictions.values.ravel()))"
   ]
  },
  {
   "cell_type": "code",
   "execution_count": 156,
   "metadata": {},
   "outputs": [],
   "source": [
    "precision, recall, thresholds = precision_recall_curve(Y[300:].ravel(), preds.ravel())"
   ]
  },
  {
   "cell_type": "code",
   "execution_count": 157,
   "metadata": {},
   "outputs": [
    {
     "data": {
      "text/plain": [
       "Text(0,0.5,'Precision')"
      ]
     },
     "execution_count": 157,
     "metadata": {},
     "output_type": "execute_result"
    },
    {
     "data": {
      "image/png": "[encoded data removed]",
      "text/plain": [
       "<Figure size 432x288 with 1 Axes>"
      ]
     },
     "metadata": {},
     "output_type": "display_data"
    }
   ],
   "source": [
    "plt.plot((1 - recall), precision)\n",
    "#plt.step((1-recall), thresholds.add(1))\n",
    "plt.plot(plt.xlim(), plt.ylim(), ls=\"--\", c=\".3\")\n",
    "plt.xlabel(\"1 - Recall\")\n",
    "plt.ylabel(\"Precision\")"
   ]
  },
  {
   "cell_type": "code",
   "execution_count": 158,
   "metadata": {},
   "outputs": [],
   "source": [
    "fpr_keras, tpr_keras, thresholds_keras = roc_curve(Y[300:].ravel(), preds.ravel())"
   ]
  },
  {
   "cell_type": "code",
   "execution_count": 159,
   "metadata": {},
   "outputs": [],
   "source": [
    "auc_keras = auc(fpr_keras, tpr_keras)"
   ]
  },
  {
   "cell_type": "code",
   "execution_count": 160,
   "metadata": {},
   "outputs": [
    {
     "data": {
      "image/png": "[encoded data removed]",
      "text/plain": [
       "<Figure size 432x288 with 1 Axes>"
      ]
     },
     "metadata": {},
     "output_type": "display_data"
    }
   ],
   "source": [
    "plt.figure(1)\n",
    "plt.plot([0, 1], [0, 1], 'k--')\n",
    "plt.plot(fpr_keras, tpr_keras, label='Keras (area = {:.3f})'.format(auc_keras))\n",
    "plt.xlabel('False positive rate')\n",
    "plt.ylabel('True positive rate')\n",
    "plt.title('ROC curve')\n",
    "plt.legend(loc='best')\n",
    "plt.show()"
   ]
  },
  {
   "cell_type": "code",
   "execution_count": 161,
   "metadata": {},
   "outputs": [
    {
     "data": {
      "text/plain": [
       "array([[ 285, 1303],\n",
       "       [ 264, 1349]], dtype=int64)"
      ]
     },
     "execution_count": 161,
     "metadata": {},
     "output_type": "execute_result"
    }
   ],
   "source": [
    "confusion_matrix(Y[300:].ravel(), df_predictions.values.ravel())"
   ]
  },
  {
   "cell_type": "markdown",
   "metadata": {},
   "source": [
    "## Second Model"
   ]
  },
  {
   "cell_type": "code",
   "execution_count": 313,
   "metadata": {},
   "outputs": [],
   "source": [
    "from keras.layers import Dense, Input, Flatten, Reshape, concatenate, Dropout, Concatenate, Activation\n",
    "from keras.layers import Conv1D, Conv2D, MaxPooling1D, MaxPooling2D, Embedding, MaxPool2D, AvgPool2D\n",
    "from keras.callbacks import ModelCheckpoint\n",
    "from keras.callbacks import TensorBoard\n",
    "from keras.models import Model\n",
    "from keras import optimizers\n",
    "from keras import regularizers\n",
    "\n",
    "from keras.optimizers import Adam"
   ]
  },
  {
   "cell_type": "code",
   "execution_count": 314,
   "metadata": {},
   "outputs": [],
   "source": [
    "def _bn_relu(input):\n",
    "    \"\"\"Helper to build a BN -> relu block\n",
    "    \"\"\"\n",
    "    norm = BatchNormalization(axis=3)(input)\n",
    "    return Activation(\"relu\")(norm)\n",
    "\n",
    "def _relu_bn(input):\n",
    "    \"\"\"Helper to build a relu -> BN block\n",
    "    \"\"\"\n",
    "    act = Activation(\"relu\")(input)\n",
    "    return BatchNormalization(axis=3)(act)\n",
    "\n",
    "def _bn_relu_flat(input):\n",
    "    \"\"\"Helper to build a BN -> relu block\n",
    "    \"\"\"\n",
    "    norm = BatchNormalization(axis=1)(input)\n",
    "    return Activation(\"relu\")(norm)"
   ]
  },
  {
   "cell_type": "code",
   "execution_count": 318,
   "metadata": {},
   "outputs": [
    {
     "name": "stdout",
     "output_type": "stream",
     "text": [
      "Traning Model...\n",
      "__________________________________________________________________________________________________\n",
      "Layer (type)                    Output Shape         Param #     Connected to                     \n",
      "==================================================================================================\n",
      "input_d2v (InputLayer)          (None, 50, 100, 11)  0                                            \n",
      "__________________________________________________________________________________________________\n",
      "conv2d_32 (Conv2D)              (None, 48, 1, 150)   495150      input_d2v[0][0]                  \n",
      "__________________________________________________________________________________________________\n",
      "conv2d_33 (Conv2D)              (None, 47, 1, 150)   660150      input_d2v[0][0]                  \n",
      "__________________________________________________________________________________________________\n",
      "conv2d_34 (Conv2D)              (None, 46, 1, 150)   825150      input_d2v[0][0]                  \n",
      "__________________________________________________________________________________________________\n",
      "batch_normalization_43 (BatchNo (None, 48, 1, 150)   600         conv2d_32[0][0]                  \n",
      "__________________________________________________________________________________________________\n",
      "batch_normalization_44 (BatchNo (None, 47, 1, 150)   600         conv2d_33[0][0]                  \n",
      "__________________________________________________________________________________________________\n",
      "batch_normalization_45 (BatchNo (None, 46, 1, 150)   600         conv2d_34[0][0]                  \n",
      "__________________________________________________________________________________________________\n",
      "activation_34 (Activation)      (None, 48, 1, 150)   0           batch_normalization_43[0][0]     \n",
      "__________________________________________________________________________________________________\n",
      "activation_35 (Activation)      (None, 47, 1, 150)   0           batch_normalization_44[0][0]     \n",
      "__________________________________________________________________________________________________\n",
      "activation_36 (Activation)      (None, 46, 1, 150)   0           batch_normalization_45[0][0]     \n",
      "__________________________________________________________________________________________________\n",
      "max_pooling2d_29 (MaxPooling2D) (None, 1, 1, 150)    0           activation_34[0][0]              \n",
      "__________________________________________________________________________________________________\n",
      "max_pooling2d_30 (MaxPooling2D) (None, 1, 1, 150)    0           activation_35[0][0]              \n",
      "__________________________________________________________________________________________________\n",
      "average_pooling2d_32 (AveragePo (None, 1, 1, 150)    0           activation_36[0][0]              \n",
      "__________________________________________________________________________________________________\n",
      "dropout_43 (Dropout)            (None, 1, 1, 150)    0           max_pooling2d_29[0][0]           \n",
      "__________________________________________________________________________________________________\n",
      "dropout_44 (Dropout)            (None, 1, 1, 150)    0           max_pooling2d_30[0][0]           \n",
      "__________________________________________________________________________________________________\n",
      "dropout_45 (Dropout)            (None, 1, 1, 150)    0           average_pooling2d_32[0][0]       \n",
      "__________________________________________________________________________________________________\n",
      "concatenate_19 (Concatenate)    (None, 1, 1, 450)    0           dropout_43[0][0]                 \n",
      "                                                                 dropout_44[0][0]                 \n",
      "                                                                 dropout_45[0][0]                 \n",
      "__________________________________________________________________________________________________\n",
      "input_rets (InputLayer)         (None, 11)           0                                            \n",
      "__________________________________________________________________________________________________\n",
      "flatten_13 (Flatten)            (None, 450)          0           concatenate_19[0][0]             \n",
      "__________________________________________________________________________________________________\n",
      "dense_37 (Dense)                (None, 50)           600         input_rets[0][0]                 \n",
      "__________________________________________________________________________________________________\n",
      "concatenate_20 (Concatenate)    (None, 500)          0           flatten_13[0][0]                 \n",
      "                                                                 dense_37[0][0]                   \n",
      "__________________________________________________________________________________________________\n",
      "dense_38 (Dense)                (None, 256)          128256      concatenate_20[0][0]             \n",
      "__________________________________________________________________________________________________\n",
      "batch_normalization_46 (BatchNo (None, 256)          1024        dense_38[0][0]                   \n",
      "__________________________________________________________________________________________________\n",
      "activation_37 (Activation)      (None, 256)          0           batch_normalization_46[0][0]     \n",
      "__________________________________________________________________________________________________\n",
      "dropout_46 (Dropout)            (None, 256)          0           activation_37[0][0]              \n",
      "__________________________________________________________________________________________________\n",
      "dense_39 (Dense)                (None, 128)          32896       dropout_46[0][0]                 \n",
      "__________________________________________________________________________________________________\n",
      "batch_normalization_47 (BatchNo (None, 128)          512         dense_39[0][0]                   \n",
      "__________________________________________________________________________________________________\n",
      "activation_38 (Activation)      (None, 128)          0           batch_normalization_47[0][0]     \n",
      "__________________________________________________________________________________________________\n",
      "dropout_47 (Dropout)            (None, 128)          0           activation_38[0][0]              \n",
      "__________________________________________________________________________________________________\n",
      "dense_40 (Dense)                (None, 11)           1419        dropout_47[0][0]                 \n",
      "==================================================================================================\n",
      "Total params: 2,146,957\n",
      "Trainable params: 2,145,289\n",
      "Non-trainable params: 1,668\n",
      "__________________________________________________________________________________________________\n"
     ]
    }
   ],
   "source": [
    "inputs = Input(shape=x_train.shape[1:], dtype=\"float64\", name=\"input_d2v\")#, dtype='int32'[1:]\n",
    "\n",
    "return_inputs = Input(shape=x_ret_train.shape[1:], name=\"input_rets\")#, dtype=\"float64\")\n",
    "\n",
    "#reshape = Reshape((x_train[0],sequence_length,embedding_dim,11))(x_train)\n",
    "dense_returns = Dense(50, activation=custom_tanh)(return_inputs)\n",
    "\n",
    "conv_0 = Conv2D(num_filters, kernel_size=(filter_sizes[0], embedding_dim), padding='valid', \n",
    "                kernel_initializer='RandomNormal', kernel_regularizer=regularizers.l1(0.001))(inputs) #, activation='relu'\n",
    "batch_norm_0 = _bn_relu(conv_0)\n",
    "conv_1 = Conv2D(num_filters, kernel_size=(filter_sizes[1], embedding_dim), padding='valid', \n",
    "                kernel_initializer='RandomNormal', kernel_regularizer=regularizers.l1(0.001))(inputs) #, activation='relu'\n",
    "batch_norm_1 = _bn_relu(conv_1)#atchNormalization()(conv_1)\n",
    "conv_2 = Conv2D(num_filters, kernel_size=(filter_sizes[2], embedding_dim), padding='valid', \n",
    "                kernel_initializer='RandomNormal', kernel_regularizer=regularizers.l1(0.001))(inputs) #, activation='relu'\n",
    "batch_norm_2 = _bn_relu(conv_2) #BatchNormalization()(conv_2)\n",
    "\n",
    "\n",
    "\n",
    "maxpool_0 = MaxPool2D(pool_size=(sequence_length - filter_sizes[0] + 1, 1), \n",
    "                      strides=(1,1), padding='valid')(batch_norm_0)#(conv_0)\n",
    "avgpool_0 = AvgPool2D(pool_size=(sequence_length - filter_sizes[0] + 1, 1), \n",
    "                      strides=(1,1), padding='valid')(batch_norm_0)#(conv_0)\n",
    "dropout_0 = Dropout(0.5)(maxpool_0)\n",
    "maxpool_1 = MaxPool2D(pool_size=(sequence_length - filter_sizes[1] + 1, 1), \n",
    "                      strides=(1,1), padding='valid')(batch_norm_1)#(conv_1)\n",
    "avgpool_1 = AvgPool2D(pool_size=(sequence_length - filter_sizes[1] + 1, 1), \n",
    "                      strides=(1,1), padding='valid')(batch_norm_1)#(conv_0)\n",
    "dropout_1 = Dropout(0.5)(maxpool_1)\n",
    "maxpool_2 = MaxPool2D(pool_size=(sequence_length - filter_sizes[2] + 1, 1), \n",
    "                      strides=(1,1), padding='valid')(batch_norm_2)#(conv_2)\n",
    "avgpool_2 = AvgPool2D(pool_size=(sequence_length - filter_sizes[2] + 1, 1), \n",
    "                      strides=(1,1), padding='valid')(batch_norm_2)#(conv_0)\n",
    "dropout_2 = Dropout(0.5)(avgpool_2)\n",
    "\n",
    "concatenated_tensor = concatenate([dropout_0, dropout_1, dropout_2]) #(axis=1) ([maxpool_0, maxpool_1, maxpool_2])\n",
    "flatten = Flatten()(concatenated_tensor)\n",
    "flatten_with_returns = concatenate([flatten, dense_returns])\n",
    "#flatten_2 = Flatten()(flatten_with_returns)\n",
    "hidden_layer = Dense(256)(flatten_with_returns) #flatten , activation=\"relu\"\n",
    "batch_norm_3 = _bn_relu_flat(hidden_layer)\n",
    "dropout_3 = Dropout(0.5)(batch_norm_3)\n",
    "hidden_layer_2 = Dense(128)(dropout_3) #flatten , activation=\"relu\"\n",
    "batch_norm_4 = _bn_relu_flat(hidden_layer_2)\n",
    "dropout_4 = Dropout(0.5)(batch_norm_4)\n",
    "output = Dense(num_classes, activation=custom_sigmoid)(dropout_4) #\"softmax\"\n",
    "\n",
    "# this creates a model that includes\n",
    "model = Model(inputs=[inputs, return_inputs], outputs=output)\n",
    "\n",
    "checkpoint = ModelCheckpoint('weights.{epoch:03d}-{val_acc:.4f}.hdf5', monitor='val_acc', verbose=2, \n",
    "                             save_best_only=True, mode='auto')\n",
    "tensorboard = TensorBoard(log_dir='./logs/run1', histogram_freq=1, write_graph=True, write_images=False)  \n",
    "\n",
    "adam = Adam(lr=1e-4, beta_1=0.9, beta_2=0.999, epsilon=1e-8, decay=0.0) #1e-8\n",
    "\n",
    "model.compile(optimizer=adam, loss='binary_crossentropy', metrics=['accuracy', f1, recall, precision])\n",
    "print(\"Traning Model...\")\n",
    "model.summary()"
   ]
  },
  {
   "cell_type": "code",
   "execution_count": 319,
   "metadata": {},
   "outputs": [],
   "source": [
    "model_train_input = {\"input_d2v\": x_train_aug, \"input_rets\": x_ret_train_aug}\n",
    "model_val_input = {\"input_d2v\": x_val_aug, \"input_rets\": x_ret_val_aug}"
   ]
  },
  {
   "cell_type": "code",
   "execution_count": 320,
   "metadata": {},
   "outputs": [
    {
     "data": {
      "text/plain": [
       "(594, 11)"
      ]
     },
     "execution_count": 320,
     "metadata": {},
     "output_type": "execute_result"
    }
   ],
   "source": [
    "y_train_aug.shape"
   ]
  },
  {
   "cell_type": "code",
   "execution_count": 321,
   "metadata": {},
   "outputs": [
    {
     "name": "stdout",
     "output_type": "stream",
     "text": [
      "Train on 594 samples, validate on 6 samples\n",
      "Epoch 1/60\n",
      "Epoch 00001: val_acc improved from -inf to 0.63636, saving model to weights.001-0.6364.hdf5\n",
      " - 18s - loss: 78.1403 - acc: 0.5087 - f1: 0.5621 - recall: 0.5987 - precision: 0.5311 - val_loss: 76.1947 - val_acc: 0.6364 - val_f1: 0.7273 - val_recall: 0.7805 - val_precision: 0.6809\n",
      "Epoch 2/60\n",
      "Epoch 00002: val_acc did not improve\n",
      " - 11s - loss: 74.6318 - acc: 0.5066 - f1: 0.5594 - recall: 0.5957 - precision: 0.5289 - val_loss: 72.6643 - val_acc: 0.6212 - val_f1: 0.7126 - val_recall: 0.7561 - val_precision: 0.6739\n",
      "Epoch 3/60\n",
      "Epoch 00003: val_acc did not improve\n",
      " - 12s - loss: 71.2192 - acc: 0.5194 - f1: 0.5721 - recall: 0.6122 - precision: 0.5396 - val_loss: 69.3140 - val_acc: 0.6212 - val_f1: 0.6988 - val_recall: 0.7073 - val_precision: 0.6905\n",
      "Epoch 4/60\n",
      "Epoch 00004: val_acc improved from 0.63636 to 0.68182, saving model to weights.004-0.6818.hdf5\n",
      " - 12s - loss: 67.9283 - acc: 0.5139 - f1: 0.5601 - recall: 0.5881 - precision: 0.5376 - val_loss: 66.0845 - val_acc: 0.6818 - val_f1: 0.7342 - val_recall: 0.7073 - val_precision: 0.7632\n",
      "Epoch 5/60\n",
      "Epoch 00005: val_acc did not improve\n",
      " - 13s - loss: 64.7414 - acc: 0.5162 - f1: 0.5672 - recall: 0.6025 - precision: 0.5385 - val_loss: 62.9689 - val_acc: 0.5455 - val_f1: 0.6154 - val_recall: 0.5854 - val_precision: 0.6486\n",
      "Epoch 6/60\n",
      "Epoch 00006: val_acc did not improve\n",
      " - 12s - loss: 61.6785 - acc: 0.5083 - f1: 0.5571 - recall: 0.5877 - precision: 0.5327 - val_loss: 59.9569 - val_acc: 0.5455 - val_f1: 0.6250 - val_recall: 0.6098 - val_precision: 0.6410\n",
      "Epoch 7/60\n",
      "Epoch 00007: val_acc did not improve\n",
      " - 13s - loss: 58.7029 - acc: 0.5156 - f1: 0.5636 - recall: 0.5946 - precision: 0.5382 - val_loss: 57.0485 - val_acc: 0.5758 - val_f1: 0.6500 - val_recall: 0.6341 - val_precision: 0.6667\n",
      "Epoch 8/60\n",
      "Epoch 00008: val_acc did not improve\n",
      " - 13s - loss: 55.8311 - acc: 0.5167 - f1: 0.5655 - recall: 0.5992 - precision: 0.5382 - val_loss: 54.2482 - val_acc: 0.5303 - val_f1: 0.6265 - val_recall: 0.6341 - val_precision: 0.6190\n",
      "Epoch 9/60\n",
      "Epoch 00009: val_acc did not improve\n",
      " - 14s - loss: 53.0822 - acc: 0.5096 - f1: 0.5597 - recall: 0.5932 - precision: 0.5317 - val_loss: 51.5480 - val_acc: 0.5000 - val_f1: 0.6118 - val_recall: 0.6341 - val_precision: 0.5909\n",
      "Epoch 10/60\n",
      "Epoch 00010: val_acc did not improve\n",
      " - 13s - loss: 50.4258 - acc: 0.5063 - f1: 0.5551 - recall: 0.5858 - precision: 0.5297 - val_loss: 48.9479 - val_acc: 0.4848 - val_f1: 0.5854 - val_recall: 0.5854 - val_precision: 0.5854\n",
      "Epoch 11/60\n",
      "Epoch 00011: val_acc did not improve\n",
      " - 13s - loss: 47.8503 - acc: 0.5182 - f1: 0.5628 - recall: 0.5902 - precision: 0.5400 - val_loss: 46.4446 - val_acc: 0.4848 - val_f1: 0.5854 - val_recall: 0.5854 - val_precision: 0.5854\n",
      "Epoch 12/60\n",
      "Epoch 00012: val_acc did not improve\n",
      " - 15s - loss: 45.4029 - acc: 0.5063 - f1: 0.5534 - recall: 0.5803 - precision: 0.5308 - val_loss: 44.0383 - val_acc: 0.4848 - val_f1: 0.5854 - val_recall: 0.5854 - val_precision: 0.5854\n",
      "Epoch 13/60\n",
      "Epoch 00013: val_acc did not improve\n",
      " - 13s - loss: 43.0439 - acc: 0.5090 - f1: 0.5564 - recall: 0.5842 - precision: 0.5323 - val_loss: 41.7279 - val_acc: 0.4697 - val_f1: 0.5679 - val_recall: 0.5610 - val_precision: 0.5750\n",
      "Epoch 14/60\n",
      "Epoch 00014: val_acc did not improve\n",
      " - 13s - loss: 40.7868 - acc: 0.4962 - f1: 0.5430 - recall: 0.5698 - precision: 0.5217 - val_loss: 39.5140 - val_acc: 0.4394 - val_f1: 0.5316 - val_recall: 0.5122 - val_precision: 0.5526\n",
      "Epoch 15/60\n",
      "Epoch 00015: val_acc did not improve\n",
      " - 14s - loss: 38.6008 - acc: 0.5077 - f1: 0.5532 - recall: 0.5783 - precision: 0.5317 - val_loss: 37.3929 - val_acc: 0.4394 - val_f1: 0.5316 - val_recall: 0.5122 - val_precision: 0.5526\n",
      "Epoch 16/60\n",
      "Epoch 00016: val_acc did not improve\n",
      " - 13s - loss: 36.5225 - acc: 0.5070 - f1: 0.5557 - recall: 0.5858 - precision: 0.5304 - val_loss: 35.3629 - val_acc: 0.4545 - val_f1: 0.5385 - val_recall: 0.5122 - val_precision: 0.5676\n",
      "Epoch 17/60\n",
      "Epoch 00017: val_acc did not improve\n",
      " - 12s - loss: 34.5325 - acc: 0.5162 - f1: 0.5552 - recall: 0.5731 - precision: 0.5397 - val_loss: 33.4213 - val_acc: 0.4394 - val_f1: 0.5316 - val_recall: 0.5122 - val_precision: 0.5526\n",
      "Epoch 18/60\n",
      "Epoch 00018: val_acc did not improve\n",
      " - 12s - loss: 32.6352 - acc: 0.4998 - f1: 0.5465 - recall: 0.5719 - precision: 0.5245 - val_loss: 31.5676 - val_acc: 0.4394 - val_f1: 0.5316 - val_recall: 0.5122 - val_precision: 0.5526\n",
      "Epoch 19/60\n",
      "Epoch 00019: val_acc did not improve\n",
      " - 13s - loss: 30.8078 - acc: 0.5136 - f1: 0.5601 - recall: 0.5892 - precision: 0.5367 - val_loss: 29.7983 - val_acc: 0.4697 - val_f1: 0.5679 - val_recall: 0.5610 - val_precision: 0.5750\n",
      "Epoch 20/60\n",
      "Epoch 00020: val_acc did not improve\n",
      " - 13s - loss: 29.0858 - acc: 0.5136 - f1: 0.5595 - recall: 0.5870 - precision: 0.5358 - val_loss: 28.1116 - val_acc: 0.4848 - val_f1: 0.5750 - val_recall: 0.5610 - val_precision: 0.5897\n",
      "Epoch 21/60\n",
      "Epoch 00021: val_acc did not improve\n",
      " - 12s - loss: 27.4357 - acc: 0.5119 - f1: 0.5556 - recall: 0.5798 - precision: 0.5353 - val_loss: 26.5050 - val_acc: 0.4848 - val_f1: 0.5750 - val_recall: 0.5610 - val_precision: 0.5897\n",
      "Epoch 22/60\n",
      "Epoch 00022: val_acc did not improve\n",
      " - 12s - loss: 25.8611 - acc: 0.5104 - f1: 0.5558 - recall: 0.5821 - precision: 0.5337 - val_loss: 24.9772 - val_acc: 0.4848 - val_f1: 0.5750 - val_recall: 0.5610 - val_precision: 0.5897\n",
      "Epoch 23/60\n",
      "Epoch 00023: val_acc did not improve\n",
      " - 12s - loss: 24.3794 - acc: 0.5054 - f1: 0.5503 - recall: 0.5746 - precision: 0.5298 - val_loss: 23.5246 - val_acc: 0.4697 - val_f1: 0.5570 - val_recall: 0.5366 - val_precision: 0.5789\n",
      "Epoch 24/60\n",
      "Epoch 00024: val_acc did not improve\n",
      " - 13s - loss: 22.9562 - acc: 0.5035 - f1: 0.5486 - recall: 0.5733 - precision: 0.5283 - val_loss: 22.1460 - val_acc: 0.4848 - val_f1: 0.5641 - val_recall: 0.5366 - val_precision: 0.5946\n",
      "Epoch 25/60\n",
      "Epoch 00025: val_acc did not improve\n",
      " - 13s - loss: 21.5931 - acc: 0.5217 - f1: 0.5645 - recall: 0.5883 - precision: 0.5437 - val_loss: 20.8359 - val_acc: 0.4848 - val_f1: 0.5641 - val_recall: 0.5366 - val_precision: 0.5946\n",
      "Epoch 26/60\n",
      "Epoch 00026: val_acc did not improve\n",
      " - 13s - loss: 20.3377 - acc: 0.5020 - f1: 0.5457 - recall: 0.5681 - precision: 0.5266 - val_loss: 19.5955 - val_acc: 0.5000 - val_f1: 0.5714 - val_recall: 0.5366 - val_precision: 0.6111\n",
      "Epoch 27/60\n",
      "Epoch 00027: val_acc did not improve\n",
      " - 12s - loss: 19.1110 - acc: 0.5080 - f1: 0.5529 - recall: 0.5780 - precision: 0.5318 - val_loss: 18.4206 - val_acc: 0.5000 - val_f1: 0.5714 - val_recall: 0.5366 - val_precision: 0.6111\n",
      "Epoch 28/60\n",
      "Epoch 00028: val_acc did not improve\n",
      " - 13s - loss: 17.9751 - acc: 0.5012 - f1: 0.5426 - recall: 0.5640 - precision: 0.5266 - val_loss: 17.3100 - val_acc: 0.5000 - val_f1: 0.5714 - val_recall: 0.5366 - val_precision: 0.6111\n",
      "Epoch 29/60\n",
      "Epoch 00029: val_acc did not improve\n",
      " - 11s - loss: 16.8968 - acc: 0.4998 - f1: 0.5432 - recall: 0.5650 - precision: 0.5253 - val_loss: 16.2596 - val_acc: 0.5000 - val_f1: 0.5714 - val_recall: 0.5366 - val_precision: 0.6111\n",
      "Epoch 30/60\n",
      "Epoch 00030: val_acc did not improve\n",
      " - 10s - loss: 15.8685 - acc: 0.5032 - f1: 0.5459 - recall: 0.5671 - precision: 0.5284 - val_loss: 15.2681 - val_acc: 0.5152 - val_f1: 0.5897 - val_recall: 0.5610 - val_precision: 0.6216\n",
      "Epoch 31/60\n",
      "Epoch 00031: val_acc did not improve\n",
      " - 11s - loss: 14.8992 - acc: 0.5095 - f1: 0.5467 - recall: 0.5638 - precision: 0.5328 - val_loss: 14.3344 - val_acc: 0.5000 - val_f1: 0.5823 - val_recall: 0.5610 - val_precision: 0.6053\n",
      "Epoch 32/60\n",
      "Epoch 00032: val_acc did not improve\n",
      " - 11s - loss: 13.9869 - acc: 0.5089 - f1: 0.5513 - recall: 0.5751 - precision: 0.5328 - val_loss: 13.4518 - val_acc: 0.4848 - val_f1: 0.5641 - val_recall: 0.5366 - val_precision: 0.5946\n",
      "Epoch 33/60\n",
      "Epoch 00033: val_acc did not improve\n",
      " - 10s - loss: 13.1293 - acc: 0.5153 - f1: 0.5523 - recall: 0.5695 - precision: 0.5395 - val_loss: 12.6227 - val_acc: 0.4848 - val_f1: 0.5641 - val_recall: 0.5366 - val_precision: 0.5946\n",
      "Epoch 34/60\n",
      "Epoch 00034: val_acc did not improve\n",
      " - 11s - loss: 12.3126 - acc: 0.5254 - f1: 0.5683 - recall: 0.5932 - precision: 0.5472 - val_loss: 11.8400 - val_acc: 0.4697 - val_f1: 0.5455 - val_recall: 0.5122 - val_precision: 0.5833\n",
      "Epoch 35/60\n",
      "Epoch 00035: val_acc did not improve\n",
      " - 11s - loss: 11.5630 - acc: 0.5055 - f1: 0.5463 - recall: 0.5651 - precision: 0.5310 - val_loss: 11.1065 - val_acc: 0.4545 - val_f1: 0.5263 - val_recall: 0.4878 - val_precision: 0.5714\n",
      "Epoch 36/60\n",
      "Epoch 00036: val_acc did not improve\n",
      " - 11s - loss: 10.8395 - acc: 0.5216 - f1: 0.5648 - recall: 0.5919 - precision: 0.5435 - val_loss: 10.4177 - val_acc: 0.4697 - val_f1: 0.5333 - val_recall: 0.4878 - val_precision: 0.5882\n",
      "Epoch 37/60\n",
      "Epoch 00037: val_acc did not improve\n",
      " - 12s - loss: 10.1814 - acc: 0.5051 - f1: 0.5420 - recall: 0.5560 - precision: 0.5308 - val_loss: 9.7705 - val_acc: 0.4697 - val_f1: 0.5205 - val_recall: 0.4634 - val_precision: 0.5938\n",
      "Epoch 38/60\n",
      "Epoch 00038: val_acc did not improve\n",
      " - 11s - loss: 9.5510 - acc: 0.5055 - f1: 0.5493 - recall: 0.5727 - precision: 0.5298 - val_loss: 9.1661 - val_acc: 0.4848 - val_f1: 0.5278 - val_recall: 0.4634 - val_precision: 0.6129\n",
      "Epoch 39/60\n",
      "Epoch 00039: val_acc did not improve\n",
      " - 11s - loss: 8.9545 - acc: 0.5182 - f1: 0.5628 - recall: 0.5896 - precision: 0.5413 - val_loss: 8.5974 - val_acc: 0.4848 - val_f1: 0.5278 - val_recall: 0.4634 - val_precision: 0.6129\n",
      "Epoch 40/60\n",
      "Epoch 00040: val_acc did not improve\n",
      " - 10s - loss: 8.4037 - acc: 0.5161 - f1: 0.5647 - recall: 0.5950 - precision: 0.5388 - val_loss: 8.0672 - val_acc: 0.4848 - val_f1: 0.5278 - val_recall: 0.4634 - val_precision: 0.6129\n",
      "Epoch 41/60\n",
      "Epoch 00041: val_acc did not improve\n",
      " - 11s - loss: 7.8896 - acc: 0.5185 - f1: 0.5604 - recall: 0.5837 - precision: 0.5410 - val_loss: 7.5721 - val_acc: 0.4848 - val_f1: 0.5278 - val_recall: 0.4634 - val_precision: 0.6129\n",
      "Epoch 42/60\n",
      "Epoch 00042: val_acc did not improve\n",
      " - 11s - loss: 7.4108 - acc: 0.5110 - f1: 0.5529 - recall: 0.5758 - precision: 0.5339 - val_loss: 7.1079 - val_acc: 0.4697 - val_f1: 0.5070 - val_recall: 0.4390 - val_precision: 0.6000\n",
      "Epoch 43/60\n",
      "Epoch 00043: val_acc did not improve\n",
      " - 11s - loss: 6.9670 - acc: 0.5093 - f1: 0.5521 - recall: 0.5746 - precision: 0.5333 - val_loss: 6.6770 - val_acc: 0.4848 - val_f1: 0.5143 - val_recall: 0.4390 - val_precision: 0.6207\n",
      "Epoch 44/60\n",
      "Epoch 00044: val_acc did not improve\n",
      " - 11s - loss: 6.5544 - acc: 0.5029 - f1: 0.5436 - recall: 0.5628 - precision: 0.5283 - val_loss: 6.2755 - val_acc: 0.5000 - val_f1: 0.5217 - val_recall: 0.4390 - val_precision: 0.6429\n",
      "Epoch 45/60\n",
      "Epoch 00045: val_acc did not improve\n",
      " - 11s - loss: 6.1492 - acc: 0.5200 - f1: 0.5562 - recall: 0.5718 - precision: 0.5436 - val_loss: 5.9005 - val_acc: 0.5000 - val_f1: 0.5217 - val_recall: 0.4390 - val_precision: 0.6429\n",
      "Epoch 46/60\n",
      "Epoch 00046: val_acc did not improve\n",
      " - 13s - loss: 5.7896 - acc: 0.5150 - f1: 0.5531 - recall: 0.5719 - precision: 0.5383 - val_loss: 5.5535 - val_acc: 0.4697 - val_f1: 0.4928 - val_recall: 0.4146 - val_precision: 0.6071\n",
      "Epoch 47/60\n",
      "Epoch 00047: val_acc did not improve\n",
      " - 14s - loss: 5.4525 - acc: 0.5159 - f1: 0.5594 - recall: 0.5854 - precision: 0.5383 - val_loss: 5.2279 - val_acc: 0.4545 - val_f1: 0.4706 - val_recall: 0.3902 - val_precision: 0.5926\n",
      "Epoch 48/60\n",
      "Epoch 00048: val_acc did not improve\n",
      " - 13s - loss: 5.1421 - acc: 0.5113 - f1: 0.5546 - recall: 0.5780 - precision: 0.5349 - val_loss: 4.9312 - val_acc: 0.4848 - val_f1: 0.4848 - val_recall: 0.3902 - val_precision: 0.6400\n",
      "Epoch 49/60\n",
      "Epoch 00049: val_acc did not improve\n",
      " - 13s - loss: 4.8456 - acc: 0.5219 - f1: 0.5648 - recall: 0.5897 - precision: 0.5439 - val_loss: 4.6504 - val_acc: 0.4848 - val_f1: 0.4848 - val_recall: 0.3902 - val_precision: 0.6400\n",
      "Epoch 50/60\n",
      "Epoch 00050: val_acc did not improve\n",
      " - 14s - loss: 4.5759 - acc: 0.5237 - f1: 0.5637 - recall: 0.5871 - precision: 0.5461 - val_loss: 4.3916 - val_acc: 0.4848 - val_f1: 0.4848 - val_recall: 0.3902 - val_precision: 0.6400\n",
      "Epoch 51/60\n",
      "Epoch 00051: val_acc did not improve\n",
      " - 15s - loss: 4.3231 - acc: 0.5207 - f1: 0.5605 - recall: 0.5813 - precision: 0.5435 - val_loss: 4.1469 - val_acc: 0.4697 - val_f1: 0.4615 - val_recall: 0.3659 - val_precision: 0.6250\n",
      "Epoch 52/60\n",
      "Epoch 00052: val_acc did not improve\n",
      " - 15s - loss: 4.1048 - acc: 0.5011 - f1: 0.5453 - recall: 0.5679 - precision: 0.5261 - val_loss: 3.9256 - val_acc: 0.4697 - val_f1: 0.4615 - val_recall: 0.3659 - val_precision: 0.6250\n",
      "Epoch 53/60\n",
      "Epoch 00053: val_acc did not improve\n",
      " - 14s - loss: 3.8859 - acc: 0.5083 - f1: 0.5514 - recall: 0.5747 - precision: 0.5328 - val_loss: 3.7186 - val_acc: 0.4545 - val_f1: 0.4545 - val_recall: 0.3659 - val_precision: 0.6000\n",
      "Epoch 54/60\n",
      "Epoch 00054: val_acc did not improve\n",
      " - 12s - loss: 3.6801 - acc: 0.5170 - f1: 0.5575 - recall: 0.5784 - precision: 0.5414 - val_loss: 3.5261 - val_acc: 0.4848 - val_f1: 0.4848 - val_recall: 0.3902 - val_precision: 0.6400\n",
      "Epoch 55/60\n",
      "Epoch 00055: val_acc did not improve\n",
      " - 12s - loss: 3.4973 - acc: 0.5158 - f1: 0.5588 - recall: 0.5831 - precision: 0.5389 - val_loss: 3.3527 - val_acc: 0.4848 - val_f1: 0.4848 - val_recall: 0.3902 - val_precision: 0.6400\n",
      "Epoch 56/60\n",
      "Epoch 00056: val_acc did not improve\n",
      " - 12s - loss: 3.3275 - acc: 0.5148 - f1: 0.5587 - recall: 0.5839 - precision: 0.5378 - val_loss: 3.1867 - val_acc: 0.5000 - val_f1: 0.5075 - val_recall: 0.4146 - val_precision: 0.6538\n",
      "Epoch 57/60\n",
      "Epoch 00057: val_acc did not improve\n",
      " - 11s - loss: 3.1698 - acc: 0.5217 - f1: 0.5642 - recall: 0.5879 - precision: 0.5441 - val_loss: 3.0413 - val_acc: 0.5000 - val_f1: 0.5075 - val_recall: 0.4146 - val_precision: 0.6538\n",
      "Epoch 58/60\n",
      "Epoch 00058: val_acc did not improve\n",
      " - 11s - loss: 3.0338 - acc: 0.5138 - f1: 0.5587 - recall: 0.5854 - precision: 0.5367 - val_loss: 2.9035 - val_acc: 0.5000 - val_f1: 0.5075 - val_recall: 0.4146 - val_precision: 0.6538\n",
      "Epoch 59/60\n",
      "Epoch 00059: val_acc did not improve\n",
      " - 11s - loss: 2.9017 - acc: 0.5136 - f1: 0.5575 - recall: 0.5817 - precision: 0.5368 - val_loss: 2.7744 - val_acc: 0.4848 - val_f1: 0.5000 - val_recall: 0.4146 - val_precision: 0.6296\n",
      "Epoch 60/60\n",
      "Epoch 00060: val_acc did not improve\n",
      " - 12s - loss: 2.7637 - acc: 0.5188 - f1: 0.5619 - recall: 0.5856 - precision: 0.5419 - val_loss: 2.6564 - val_acc: 0.4697 - val_f1: 0.4928 - val_recall: 0.4146 - val_precision: 0.6071\n"
     ]
    }
   ],
   "source": [
    "model2 = model.fit(model_train_input, y_train_aug, batch_size=32, epochs=60, verbose=2, callbacks=[checkpoint], #tensorboard\n",
    "                   validation_data=(model_val_input, y_val_aug)) # starts training"
   ]
  },
  {
   "cell_type": "code",
   "execution_count": 322,
   "metadata": {},
   "outputs": [
    {
     "data": {
      "image/png": "[encoded data removed]",
      "text/plain": [
       "<Figure size 432x288 with 1 Axes>"
      ]
     },
     "metadata": {},
     "output_type": "display_data"
    }
   ],
   "source": [
    "plt.plot(model2.history[\"acc\"], label=\"acc\")\n",
    "plt.plot(model2.history[\"val_acc\"], label=\"val_acc\")\n",
    "plt.axhline(0.5, c=\".3\")\n",
    "plt.legend()\n",
    "plt.show()"
   ]
  },
  {
   "cell_type": "code",
   "execution_count": 323,
   "metadata": {},
   "outputs": [
    {
     "data": {
      "image/png": "[encoded data removed]",
      "text/plain": [
       "<Figure size 432x288 with 1 Axes>"
      ]
     },
     "metadata": {},
     "output_type": "display_data"
    }
   ],
   "source": [
    "plt.plot(model2.history[\"f1\"], label=\"f1\")\n",
    "plt.plot(model2.history[\"val_f1\"], label=\"val_f1\")\n",
    "\n",
    "plt.legend()\n",
    "plt.show()"
   ]
  },
  {
   "cell_type": "code",
   "execution_count": 324,
   "metadata": {},
   "outputs": [
    {
     "data": {
      "image/png": "[encoded data removed]",
      "text/plain": [
       "<Figure size 432x288 with 1 Axes>"
      ]
     },
     "metadata": {},
     "output_type": "display_data"
    }
   ],
   "source": [
    "plt.plot(model2.history[\"recall\"], label=\"recall\")\n",
    "plt.plot(model2.history[\"val_recall\"], label=\"val_recall\")\n",
    "\n",
    "plt.legend()\n",
    "plt.show()"
   ]
  },
  {
   "cell_type": "code",
   "execution_count": 325,
   "metadata": {},
   "outputs": [
    {
     "data": {
      "image/png": "[encoded data removed]",
      "text/plain": [
       "<Figure size 432x288 with 1 Axes>"
      ]
     },
     "metadata": {},
     "output_type": "display_data"
    }
   ],
   "source": [
    "plt.plot(model2.history[\"loss\"], label=\"acc\")\n",
    "plt.plot(model2.history[\"val_loss\"], label=\"val_acc\")\n",
    "plt.legend()\n",
    "plt.show()"
   ]
  },
  {
   "cell_type": "code",
   "execution_count": 326,
   "metadata": {},
   "outputs": [],
   "source": [
    "preds2 = model.predict([X[300:], fin_data_train_vals[300:]])"
   ]
  },
  {
   "cell_type": "code",
   "execution_count": 327,
   "metadata": {},
   "outputs": [
    {
     "data": {
      "text/html": [
       "<div>\n",
       "<style scoped>\n",
       "    .dataframe tbody tr th:only-of-type {\n",
       "        vertical-align: middle;\n",
       "    }\n",
       "\n",
       "    .dataframe tbody tr th {\n",
       "        vertical-align: top;\n",
       "    }\n",
       "\n",
       "    .dataframe thead th {\n",
       "        text-align: right;\n",
       "    }\n",
       "</style>\n",
       "<table border=\"1\" class=\"dataframe\">\n",
       "  <thead>\n",
       "    <tr style=\"text-align: right;\">\n",
       "      <th></th>\n",
       "      <th>Samsung</th>\n",
       "      <th>Telefonica</th>\n",
       "      <th>Allianz</th>\n",
       "      <th>Total</th>\n",
       "      <th>Bayer</th>\n",
       "      <th>Tesla</th>\n",
       "      <th>Airbus</th>\n",
       "      <th>Apple</th>\n",
       "      <th>BASF</th>\n",
       "      <th>BMW</th>\n",
       "      <th>Google</th>\n",
       "    </tr>\n",
       "    <tr>\n",
       "      <th>Timestamp</th>\n",
       "      <th></th>\n",
       "      <th></th>\n",
       "      <th></th>\n",
       "      <th></th>\n",
       "      <th></th>\n",
       "      <th></th>\n",
       "      <th></th>\n",
       "      <th></th>\n",
       "      <th></th>\n",
       "      <th></th>\n",
       "      <th></th>\n",
       "    </tr>\n",
       "  </thead>\n",
       "  <tbody>\n",
       "    <tr>\n",
       "      <th>2017-03-16</th>\n",
       "      <td>0.556646</td>\n",
       "      <td>0.478174</td>\n",
       "      <td>0.547453</td>\n",
       "      <td>0.534088</td>\n",
       "      <td>0.510106</td>\n",
       "      <td>0.465790</td>\n",
       "      <td>0.537112</td>\n",
       "      <td>0.490327</td>\n",
       "      <td>0.481985</td>\n",
       "      <td>0.474605</td>\n",
       "      <td>0.443605</td>\n",
       "    </tr>\n",
       "    <tr>\n",
       "      <th>2017-03-17</th>\n",
       "      <td>0.536055</td>\n",
       "      <td>0.461570</td>\n",
       "      <td>0.569908</td>\n",
       "      <td>0.565544</td>\n",
       "      <td>0.509083</td>\n",
       "      <td>0.486554</td>\n",
       "      <td>0.554193</td>\n",
       "      <td>0.449249</td>\n",
       "      <td>0.478197</td>\n",
       "      <td>0.485805</td>\n",
       "      <td>0.447369</td>\n",
       "    </tr>\n",
       "    <tr>\n",
       "      <th>2017-03-20</th>\n",
       "      <td>0.545807</td>\n",
       "      <td>0.484752</td>\n",
       "      <td>0.536010</td>\n",
       "      <td>0.532452</td>\n",
       "      <td>0.500150</td>\n",
       "      <td>0.489072</td>\n",
       "      <td>0.529660</td>\n",
       "      <td>0.484092</td>\n",
       "      <td>0.501854</td>\n",
       "      <td>0.483898</td>\n",
       "      <td>0.465522</td>\n",
       "    </tr>\n",
       "    <tr>\n",
       "      <th>2017-03-21</th>\n",
       "      <td>0.578641</td>\n",
       "      <td>0.444170</td>\n",
       "      <td>0.530612</td>\n",
       "      <td>0.570145</td>\n",
       "      <td>0.488992</td>\n",
       "      <td>0.501111</td>\n",
       "      <td>0.557445</td>\n",
       "      <td>0.469205</td>\n",
       "      <td>0.483279</td>\n",
       "      <td>0.450129</td>\n",
       "      <td>0.476344</td>\n",
       "    </tr>\n",
       "    <tr>\n",
       "      <th>2017-03-22</th>\n",
       "      <td>0.563035</td>\n",
       "      <td>0.474697</td>\n",
       "      <td>0.554222</td>\n",
       "      <td>0.528193</td>\n",
       "      <td>0.511711</td>\n",
       "      <td>0.507954</td>\n",
       "      <td>0.557651</td>\n",
       "      <td>0.493816</td>\n",
       "      <td>0.466486</td>\n",
       "      <td>0.473110</td>\n",
       "      <td>0.469104</td>\n",
       "    </tr>\n",
       "  </tbody>\n",
       "</table>\n",
       "</div>"
      ],
      "text/plain": [
       "             Samsung  Telefonica   Allianz     Total     Bayer     Tesla  \\\n",
       "Timestamp                                                                  \n",
       "2017-03-16  0.556646    0.478174  0.547453  0.534088  0.510106  0.465790   \n",
       "2017-03-17  0.536055    0.461570  0.569908  0.565544  0.509083  0.486554   \n",
       "2017-03-20  0.545807    0.484752  0.536010  0.532452  0.500150  0.489072   \n",
       "2017-03-21  0.578641    0.444170  0.530612  0.570145  0.488992  0.501111   \n",
       "2017-03-22  0.563035    0.474697  0.554222  0.528193  0.511711  0.507954   \n",
       "\n",
       "              Airbus     Apple      BASF       BMW    Google  \n",
       "Timestamp                                                     \n",
       "2017-03-16  0.537112  0.490327  0.481985  0.474605  0.443605  \n",
       "2017-03-17  0.554193  0.449249  0.478197  0.485805  0.447369  \n",
       "2017-03-20  0.529660  0.484092  0.501854  0.483898  0.465522  \n",
       "2017-03-21  0.557445  0.469205  0.483279  0.450129  0.476344  \n",
       "2017-03-22  0.557651  0.493816  0.466486  0.473110  0.469104  "
      ]
     },
     "execution_count": 327,
     "metadata": {},
     "output_type": "execute_result"
    }
   ],
   "source": [
    "df_predictions2 = pd.DataFrame(preds2, columns=fin_data_class.columns, index = fin_data_class[300:].index) #, index = fin_data_class[300:].index\n",
    "df_predictions2.head()"
   ]
  },
  {
   "cell_type": "code",
   "execution_count": 328,
   "metadata": {},
   "outputs": [
    {
     "name": "stdout",
     "output_type": "stream",
     "text": [
      "Achieved Accuracy 55.87% with a cut at 0.43\n"
     ]
    }
   ],
   "source": [
    "accs, fp, fn, cuts = try_cuts(df_predictions2, 50, subset=slice(300,-1)) #, subset=slice(0,250)\n",
    "#accs, fp, fn, cuts = try_cuts_arr(df_predictions2, 60)\n",
    "max_index = accs.index(max(accs))\n",
    "print(\"Achieved Accuracy {}% with a cut at {}\".format(round(max(accs)*100, 2), round(cuts[max_index], 2)))"
   ]
  },
  {
   "cell_type": "code",
   "execution_count": 329,
   "metadata": {},
   "outputs": [
    {
     "data": {
      "image/png": "[encoded data removed]",
      "text/plain": [
       "<Figure size 432x288 with 1 Axes>"
      ]
     },
     "metadata": {},
     "output_type": "display_data"
    }
   ],
   "source": [
    "plt.plot(cuts, fp, label=\"false pos\")\n",
    "plt.plot(cuts, fn, label=\"false neg\")\n",
    "plt.legend()\n",
    "plt.show()"
   ]
  },
  {
   "cell_type": "code",
   "execution_count": 330,
   "metadata": {},
   "outputs": [
    {
     "data": {
      "text/plain": [
       "Text(0,0.5,'Accuracy')"
      ]
     },
     "execution_count": 330,
     "metadata": {},
     "output_type": "execute_result"
    },
    {
     "data": {
      "image/png": "[encoded data removed]",
      "text/plain": [
       "<Figure size 432x288 with 1 Axes>"
      ]
     },
     "metadata": {},
     "output_type": "display_data"
    }
   ],
   "source": [
    "plt.plot(cuts, accs)\n",
    "plt.xlabel(\"Cuts\")\n",
    "plt.ylabel(\"Accuracy\")"
   ]
  },
  {
   "cell_type": "code",
   "execution_count": 331,
   "metadata": {},
   "outputs": [
    {
     "data": {
      "text/html": [
       "<div>\n",
       "<style scoped>\n",
       "    .dataframe tbody tr th:only-of-type {\n",
       "        vertical-align: middle;\n",
       "    }\n",
       "\n",
       "    .dataframe tbody tr th {\n",
       "        vertical-align: top;\n",
       "    }\n",
       "\n",
       "    .dataframe thead th {\n",
       "        text-align: right;\n",
       "    }\n",
       "</style>\n",
       "<table border=\"1\" class=\"dataframe\">\n",
       "  <thead>\n",
       "    <tr style=\"text-align: right;\">\n",
       "      <th></th>\n",
       "      <th>Samsung</th>\n",
       "      <th>Telefonica</th>\n",
       "      <th>Allianz</th>\n",
       "      <th>Total</th>\n",
       "      <th>Bayer</th>\n",
       "      <th>Tesla</th>\n",
       "      <th>Airbus</th>\n",
       "      <th>Apple</th>\n",
       "      <th>BASF</th>\n",
       "      <th>BMW</th>\n",
       "      <th>Google</th>\n",
       "    </tr>\n",
       "    <tr>\n",
       "      <th>Timestamp</th>\n",
       "      <th></th>\n",
       "      <th></th>\n",
       "      <th></th>\n",
       "      <th></th>\n",
       "      <th></th>\n",
       "      <th></th>\n",
       "      <th></th>\n",
       "      <th></th>\n",
       "      <th></th>\n",
       "      <th></th>\n",
       "      <th></th>\n",
       "    </tr>\n",
       "  </thead>\n",
       "  <tbody>\n",
       "    <tr>\n",
       "      <th>2018-06-11</th>\n",
       "      <td>1</td>\n",
       "      <td>0</td>\n",
       "      <td>1</td>\n",
       "      <td>1</td>\n",
       "      <td>0</td>\n",
       "      <td>0</td>\n",
       "      <td>1</td>\n",
       "      <td>0</td>\n",
       "      <td>0</td>\n",
       "      <td>0</td>\n",
       "      <td>0</td>\n",
       "    </tr>\n",
       "    <tr>\n",
       "      <th>2018-06-12</th>\n",
       "      <td>1</td>\n",
       "      <td>0</td>\n",
       "      <td>1</td>\n",
       "      <td>1</td>\n",
       "      <td>0</td>\n",
       "      <td>0</td>\n",
       "      <td>1</td>\n",
       "      <td>0</td>\n",
       "      <td>0</td>\n",
       "      <td>0</td>\n",
       "      <td>0</td>\n",
       "    </tr>\n",
       "    <tr>\n",
       "      <th>2018-06-14</th>\n",
       "      <td>1</td>\n",
       "      <td>0</td>\n",
       "      <td>1</td>\n",
       "      <td>1</td>\n",
       "      <td>1</td>\n",
       "      <td>1</td>\n",
       "      <td>1</td>\n",
       "      <td>0</td>\n",
       "      <td>0</td>\n",
       "      <td>0</td>\n",
       "      <td>0</td>\n",
       "    </tr>\n",
       "    <tr>\n",
       "      <th>2018-06-15</th>\n",
       "      <td>1</td>\n",
       "      <td>0</td>\n",
       "      <td>1</td>\n",
       "      <td>1</td>\n",
       "      <td>0</td>\n",
       "      <td>0</td>\n",
       "      <td>1</td>\n",
       "      <td>0</td>\n",
       "      <td>0</td>\n",
       "      <td>0</td>\n",
       "      <td>0</td>\n",
       "    </tr>\n",
       "    <tr>\n",
       "      <th>2018-06-18</th>\n",
       "      <td>1</td>\n",
       "      <td>0</td>\n",
       "      <td>1</td>\n",
       "      <td>1</td>\n",
       "      <td>0</td>\n",
       "      <td>0</td>\n",
       "      <td>1</td>\n",
       "      <td>0</td>\n",
       "      <td>0</td>\n",
       "      <td>0</td>\n",
       "      <td>0</td>\n",
       "    </tr>\n",
       "  </tbody>\n",
       "</table>\n",
       "</div>"
      ],
      "text/plain": [
       "            Samsung  Telefonica  Allianz  Total  Bayer  Tesla  Airbus  Apple  \\\n",
       "Timestamp                                                                      \n",
       "2018-06-11        1           0        1      1      0      0       1      0   \n",
       "2018-06-12        1           0        1      1      0      0       1      0   \n",
       "2018-06-14        1           0        1      1      1      1       1      0   \n",
       "2018-06-15        1           0        1      1      0      0       1      0   \n",
       "2018-06-18        1           0        1      1      0      0       1      0   \n",
       "\n",
       "            BASF  BMW  Google  \n",
       "Timestamp                      \n",
       "2018-06-11     0    0       0  \n",
       "2018-06-12     0    0       0  \n",
       "2018-06-14     0    0       0  \n",
       "2018-06-15     0    0       0  \n",
       "2018-06-18     0    0       0  "
      ]
     },
     "execution_count": 331,
     "metadata": {},
     "output_type": "execute_result"
    }
   ],
   "source": [
    "df_predictions2 = df_predictions2.applymap(lambda x: 1 if x > 0.51 else 0) # cuts[max_index]\n",
    "df_predictions2.to_csv(\"./predictions/predictions_scnd_model_without_training_LOOKING_AT_PR.csv\")\n",
    "df_predictions2.tail()"
   ]
  },
  {
   "cell_type": "code",
   "execution_count": 255,
   "metadata": {},
   "outputs": [
    {
     "data": {
      "text/html": [
       "<div>\n",
       "<style scoped>\n",
       "    .dataframe tbody tr th:only-of-type {\n",
       "        vertical-align: middle;\n",
       "    }\n",
       "\n",
       "    .dataframe tbody tr th {\n",
       "        vertical-align: top;\n",
       "    }\n",
       "\n",
       "    .dataframe thead th {\n",
       "        text-align: right;\n",
       "    }\n",
       "</style>\n",
       "<table border=\"1\" class=\"dataframe\">\n",
       "  <thead>\n",
       "    <tr style=\"text-align: right;\">\n",
       "      <th></th>\n",
       "      <th>Samsung</th>\n",
       "      <th>Telefonica</th>\n",
       "      <th>Allianz</th>\n",
       "      <th>Total</th>\n",
       "      <th>Bayer</th>\n",
       "      <th>Tesla</th>\n",
       "      <th>Airbus</th>\n",
       "      <th>Apple</th>\n",
       "      <th>BASF</th>\n",
       "      <th>BMW</th>\n",
       "      <th>Google</th>\n",
       "    </tr>\n",
       "    <tr>\n",
       "      <th>Timestamp</th>\n",
       "      <th></th>\n",
       "      <th></th>\n",
       "      <th></th>\n",
       "      <th></th>\n",
       "      <th></th>\n",
       "      <th></th>\n",
       "      <th></th>\n",
       "      <th></th>\n",
       "      <th></th>\n",
       "      <th></th>\n",
       "      <th></th>\n",
       "    </tr>\n",
       "  </thead>\n",
       "  <tbody>\n",
       "    <tr>\n",
       "      <th>2018-06-11</th>\n",
       "      <td>1.0</td>\n",
       "      <td>0.0</td>\n",
       "      <td>1.0</td>\n",
       "      <td>1.0</td>\n",
       "      <td>0.0</td>\n",
       "      <td>0.0</td>\n",
       "      <td>1.0</td>\n",
       "      <td>1.0</td>\n",
       "      <td>1.0</td>\n",
       "      <td>1.0</td>\n",
       "      <td>0.0</td>\n",
       "    </tr>\n",
       "    <tr>\n",
       "      <th>2018-06-12</th>\n",
       "      <td>1.0</td>\n",
       "      <td>0.0</td>\n",
       "      <td>1.0</td>\n",
       "      <td>1.0</td>\n",
       "      <td>1.0</td>\n",
       "      <td>0.0</td>\n",
       "      <td>1.0</td>\n",
       "      <td>1.0</td>\n",
       "      <td>1.0</td>\n",
       "      <td>1.0</td>\n",
       "      <td>0.0</td>\n",
       "    </tr>\n",
       "    <tr>\n",
       "      <th>2018-06-14</th>\n",
       "      <td>1.0</td>\n",
       "      <td>0.0</td>\n",
       "      <td>1.0</td>\n",
       "      <td>0.0</td>\n",
       "      <td>1.0</td>\n",
       "      <td>0.0</td>\n",
       "      <td>1.0</td>\n",
       "      <td>1.0</td>\n",
       "      <td>1.0</td>\n",
       "      <td>1.0</td>\n",
       "      <td>1.0</td>\n",
       "    </tr>\n",
       "    <tr>\n",
       "      <th>2018-06-15</th>\n",
       "      <td>0.0</td>\n",
       "      <td>1.0</td>\n",
       "      <td>1.0</td>\n",
       "      <td>1.0</td>\n",
       "      <td>1.0</td>\n",
       "      <td>1.0</td>\n",
       "      <td>1.0</td>\n",
       "      <td>1.0</td>\n",
       "      <td>1.0</td>\n",
       "      <td>1.0</td>\n",
       "      <td>0.0</td>\n",
       "    </tr>\n",
       "    <tr>\n",
       "      <th>2018-06-18</th>\n",
       "      <td>1.0</td>\n",
       "      <td>1.0</td>\n",
       "      <td>1.0</td>\n",
       "      <td>0.0</td>\n",
       "      <td>0.0</td>\n",
       "      <td>0.0</td>\n",
       "      <td>1.0</td>\n",
       "      <td>0.0</td>\n",
       "      <td>0.0</td>\n",
       "      <td>1.0</td>\n",
       "      <td>0.0</td>\n",
       "    </tr>\n",
       "  </tbody>\n",
       "</table>\n",
       "</div>"
      ],
      "text/plain": [
       "            Samsung  Telefonica  Allianz  Total  Bayer  Tesla  Airbus  Apple  \\\n",
       "Timestamp                                                                      \n",
       "2018-06-11      1.0         0.0      1.0    1.0    0.0    0.0     1.0    1.0   \n",
       "2018-06-12      1.0         0.0      1.0    1.0    1.0    0.0     1.0    1.0   \n",
       "2018-06-14      1.0         0.0      1.0    0.0    1.0    0.0     1.0    1.0   \n",
       "2018-06-15      0.0         1.0      1.0    1.0    1.0    1.0     1.0    1.0   \n",
       "2018-06-18      1.0         1.0      1.0    0.0    0.0    0.0     1.0    0.0   \n",
       "\n",
       "            BASF  BMW  Google  \n",
       "Timestamp                      \n",
       "2018-06-11   1.0  1.0     0.0  \n",
       "2018-06-12   1.0  1.0     0.0  \n",
       "2018-06-14   1.0  1.0     1.0  \n",
       "2018-06-15   1.0  1.0     0.0  \n",
       "2018-06-18   0.0  1.0     0.0  "
      ]
     },
     "execution_count": 255,
     "metadata": {},
     "output_type": "execute_result"
    }
   ],
   "source": [
    "fin_data_class.tail()"
   ]
  },
  {
   "cell_type": "code",
   "execution_count": 281,
   "metadata": {},
   "outputs": [],
   "source": [
    "precision, recall, thresholds = precision_recall_curve(Y[300:].ravel(), preds2.ravel())"
   ]
  },
  {
   "cell_type": "code",
   "execution_count": 282,
   "metadata": {},
   "outputs": [
    {
     "data": {
      "text/plain": [
       "Text(0,0.5,'Precision')"
      ]
     },
     "execution_count": 282,
     "metadata": {},
     "output_type": "execute_result"
    },
    {
     "data": {
      "image/png": "[encoded data removed]",
      "text/plain": [
       "<Figure size 432x288 with 1 Axes>"
      ]
     },
     "metadata": {},
     "output_type": "display_data"
    }
   ],
   "source": [
    "plt.plot((1 - recall), precision)\n",
    "#plt.step((1-recall), thresholds.add(1))\n",
    "plt.plot(plt.xlim(), plt.ylim(), ls=\"--\", c=\".3\")\n",
    "plt.xlabel(\"1 - Recall\")\n",
    "plt.ylabel(\"Precision\")"
   ]
  },
  {
   "cell_type": "code",
   "execution_count": 207,
   "metadata": {},
   "outputs": [],
   "source": []
  },
  {
   "cell_type": "code",
   "execution_count": 332,
   "metadata": {},
   "outputs": [
    {
     "name": "stdout",
     "output_type": "stream",
     "text": [
      "             precision    recall  f1-score   support\n",
      "\n",
      "        0.0       0.50      0.60      0.54      1551\n",
      "        1.0       0.54      0.44      0.48      1650\n",
      "\n",
      "avg / total       0.52      0.52      0.51      3201\n",
      "\n"
     ]
    }
   ],
   "source": [
    "print(classification_report(Y[300:].ravel(), df_predictions2.values.ravel()))"
   ]
  },
  {
   "cell_type": "code",
   "execution_count": 333,
   "metadata": {},
   "outputs": [
    {
     "data": {
      "text/plain": [
       "array([[924, 627],\n",
       "       [922, 728]], dtype=int64)"
      ]
     },
     "execution_count": 333,
     "metadata": {},
     "output_type": "execute_result"
    }
   ],
   "source": [
    "confusion_matrix(Y[300:].ravel(), df_predictions2.values.ravel())"
   ]
  },
  {
   "cell_type": "code",
   "execution_count": null,
   "metadata": {},
   "outputs": [],
   "source": []
  }
 ],
 "metadata": {
  "kernelspec": {
   "display_name": "Python 3",
   "language": "python",
   "name": "python3"
  },
  "language_info": {
   "codemirror_mode": {
    "name": "ipython",
    "version": 3
   },
   "file_extension": ".py",
   "mimetype": "text/x-python",
   "name": "python",
   "nbconvert_exporter": "python",
   "pygments_lexer": "ipython3",
   "version": "3.6.5"
  }
 },
 "nbformat": 4,
 "nbformat_minor": 2
}

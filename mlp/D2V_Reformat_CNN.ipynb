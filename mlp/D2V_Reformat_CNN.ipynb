{
 "cells": [
  {
   "cell_type": "markdown",
   "metadata": {},
   "source": [
    "# KD-Seminar\n",
    "## CNN"
   ]
  },
  {
   "cell_type": "markdown",
   "metadata": {},
   "source": [
    "Basic Imports"
   ]
  },
  {
   "cell_type": "code",
   "execution_count": 28,
   "metadata": {},
   "outputs": [],
   "source": [
    "import numpy as np\n",
    "import pandas as pd\n",
    "\n",
    "import matplotlib.pyplot as plt\n",
    "%config InlineBackend.figure_format = 'retina'"
   ]
  },
  {
   "cell_type": "code",
   "execution_count": 5,
   "metadata": {},
   "outputs": [
    {
     "data": {
      "text/plain": [
       "'C:\\\\Users\\\\Nils\\\\Documents\\\\KIT-TVWL\\\\Master\\\\SS 18\\\\KD Seminar\\\\Git\\\\mlp'"
      ]
     },
     "execution_count": 5,
     "metadata": {},
     "output_type": "execute_result"
    }
   ],
   "source": [
    "import os\n",
    "wd = os.getcwd()\n",
    "wd"
   ]
  },
  {
   "cell_type": "markdown",
   "metadata": {},
   "source": [
    "### Loading Data"
   ]
  },
  {
   "cell_type": "markdown",
   "metadata": {},
   "source": [
    "**Read in financial Data**"
   ]
  },
  {
   "cell_type": "code",
   "execution_count": 6,
   "metadata": {},
   "outputs": [
    {
     "data": {
      "text/html": [
       "<div>\n",
       "<style scoped>\n",
       "    .dataframe tbody tr th:only-of-type {\n",
       "        vertical-align: middle;\n",
       "    }\n",
       "\n",
       "    .dataframe tbody tr th {\n",
       "        vertical-align: top;\n",
       "    }\n",
       "\n",
       "    .dataframe thead th {\n",
       "        text-align: right;\n",
       "    }\n",
       "</style>\n",
       "<table border=\"1\" class=\"dataframe\">\n",
       "  <thead>\n",
       "    <tr style=\"text-align: right;\">\n",
       "      <th></th>\n",
       "      <th>Samsung</th>\n",
       "      <th>Telefonica</th>\n",
       "      <th>Allianz</th>\n",
       "      <th>Total</th>\n",
       "      <th>Bayer</th>\n",
       "      <th>Tesla</th>\n",
       "      <th>Airbus</th>\n",
       "      <th>Apple</th>\n",
       "      <th>BASF</th>\n",
       "      <th>BMW</th>\n",
       "      <th>Google</th>\n",
       "    </tr>\n",
       "    <tr>\n",
       "      <th>Timestamp</th>\n",
       "      <th></th>\n",
       "      <th></th>\n",
       "      <th></th>\n",
       "      <th></th>\n",
       "      <th></th>\n",
       "      <th></th>\n",
       "      <th></th>\n",
       "      <th></th>\n",
       "      <th></th>\n",
       "      <th></th>\n",
       "      <th></th>\n",
       "    </tr>\n",
       "  </thead>\n",
       "  <tbody>\n",
       "    <tr>\n",
       "      <th>2010-06-30</th>\n",
       "      <td>-0.022990</td>\n",
       "      <td>0.031939</td>\n",
       "      <td>0.005759</td>\n",
       "      <td>-0.002937</td>\n",
       "      <td>0.005449</td>\n",
       "      <td>-0.002515</td>\n",
       "      <td>-0.002350</td>\n",
       "      <td>-0.018279</td>\n",
       "      <td>-0.003982</td>\n",
       "      <td>0.004127</td>\n",
       "      <td>-0.026947</td>\n",
       "    </tr>\n",
       "    <tr>\n",
       "      <th>2010-07-01</th>\n",
       "      <td>-0.010390</td>\n",
       "      <td>0.023302</td>\n",
       "      <td>-0.021987</td>\n",
       "      <td>0.013874</td>\n",
       "      <td>-0.009283</td>\n",
       "      <td>-0.081723</td>\n",
       "      <td>-0.051293</td>\n",
       "      <td>-0.012200</td>\n",
       "      <td>-0.027190</td>\n",
       "      <td>-0.047668</td>\n",
       "      <td>-0.019717</td>\n",
       "    </tr>\n",
       "    <tr>\n",
       "      <th>2010-07-02</th>\n",
       "      <td>0.001305</td>\n",
       "      <td>0.010501</td>\n",
       "      <td>0.004610</td>\n",
       "      <td>-0.011670</td>\n",
       "      <td>-0.026683</td>\n",
       "      <td>-0.134312</td>\n",
       "      <td>-0.018751</td>\n",
       "      <td>-0.006217</td>\n",
       "      <td>-0.001368</td>\n",
       "      <td>-0.008280</td>\n",
       "      <td>-0.034667</td>\n",
       "    </tr>\n",
       "    <tr>\n",
       "      <th>2010-07-06</th>\n",
       "      <td>0.010376</td>\n",
       "      <td>-0.009063</td>\n",
       "      <td>0.023455</td>\n",
       "      <td>0.005852</td>\n",
       "      <td>0.017777</td>\n",
       "      <td>-0.175470</td>\n",
       "      <td>0.019735</td>\n",
       "      <td>0.006820</td>\n",
       "      <td>0.028094</td>\n",
       "      <td>0.023085</td>\n",
       "      <td>0.001238</td>\n",
       "    </tr>\n",
       "    <tr>\n",
       "      <th>2010-07-07</th>\n",
       "      <td>-0.007772</td>\n",
       "      <td>0.018515</td>\n",
       "      <td>0.007211</td>\n",
       "      <td>0.035820</td>\n",
       "      <td>0.006629</td>\n",
       "      <td>-0.019430</td>\n",
       "      <td>0.023836</td>\n",
       "      <td>0.039568</td>\n",
       "      <td>-0.001796</td>\n",
       "      <td>0.019048</td>\n",
       "      <td>-0.002878</td>\n",
       "    </tr>\n",
       "  </tbody>\n",
       "</table>\n",
       "</div>"
      ],
      "text/plain": [
       "             Samsung  Telefonica   Allianz     Total     Bayer     Tesla  \\\n",
       "Timestamp                                                                  \n",
       "2010-06-30 -0.022990    0.031939  0.005759 -0.002937  0.005449 -0.002515   \n",
       "2010-07-01 -0.010390    0.023302 -0.021987  0.013874 -0.009283 -0.081723   \n",
       "2010-07-02  0.001305    0.010501  0.004610 -0.011670 -0.026683 -0.134312   \n",
       "2010-07-06  0.010376   -0.009063  0.023455  0.005852  0.017777 -0.175470   \n",
       "2010-07-07 -0.007772    0.018515  0.007211  0.035820  0.006629 -0.019430   \n",
       "\n",
       "              Airbus     Apple      BASF       BMW    Google  \n",
       "Timestamp                                                     \n",
       "2010-06-30 -0.002350 -0.018279 -0.003982  0.004127 -0.026947  \n",
       "2010-07-01 -0.051293 -0.012200 -0.027190 -0.047668 -0.019717  \n",
       "2010-07-02 -0.018751 -0.006217 -0.001368 -0.008280 -0.034667  \n",
       "2010-07-06  0.019735  0.006820  0.028094  0.023085  0.001238  \n",
       "2010-07-07  0.023836  0.039568 -0.001796  0.019048 -0.002878  "
      ]
     },
     "execution_count": 6,
     "metadata": {},
     "output_type": "execute_result"
    }
   ],
   "source": [
    "fin_data = pd.read_csv(\"../finance_data/data/aggregated_returns.csv\", index_col=[\"Timestamp\"], parse_dates=True)\n",
    "fin_data = fin_data.drop(columns=[\"Unnamed: 0\"])\n",
    "fin_data = fin_data.sort_index()\n",
    "fin_data.head()"
   ]
  },
  {
   "cell_type": "code",
   "execution_count": 7,
   "metadata": {},
   "outputs": [
    {
     "data": {
      "text/plain": [
       "(1896, 11)"
      ]
     },
     "execution_count": 7,
     "metadata": {},
     "output_type": "execute_result"
    }
   ],
   "source": [
    "fin_data.shape"
   ]
  },
  {
   "cell_type": "code",
   "execution_count": 8,
   "metadata": {},
   "outputs": [
    {
     "data": {
      "text/html": [
       "<div>\n",
       "<style scoped>\n",
       "    .dataframe tbody tr th:only-of-type {\n",
       "        vertical-align: middle;\n",
       "    }\n",
       "\n",
       "    .dataframe tbody tr th {\n",
       "        vertical-align: top;\n",
       "    }\n",
       "\n",
       "    .dataframe thead th {\n",
       "        text-align: right;\n",
       "    }\n",
       "</style>\n",
       "<table border=\"1\" class=\"dataframe\">\n",
       "  <thead>\n",
       "    <tr style=\"text-align: right;\">\n",
       "      <th></th>\n",
       "      <th>Samsung</th>\n",
       "      <th>Telefonica</th>\n",
       "      <th>Allianz</th>\n",
       "      <th>Total</th>\n",
       "      <th>Bayer</th>\n",
       "      <th>Tesla</th>\n",
       "      <th>Airbus</th>\n",
       "      <th>Apple</th>\n",
       "      <th>BASF</th>\n",
       "      <th>BMW</th>\n",
       "      <th>Google</th>\n",
       "    </tr>\n",
       "    <tr>\n",
       "      <th>Timestamp</th>\n",
       "      <th></th>\n",
       "      <th></th>\n",
       "      <th></th>\n",
       "      <th></th>\n",
       "      <th></th>\n",
       "      <th></th>\n",
       "      <th></th>\n",
       "      <th></th>\n",
       "      <th></th>\n",
       "      <th></th>\n",
       "      <th></th>\n",
       "    </tr>\n",
       "  </thead>\n",
       "  <tbody>\n",
       "    <tr>\n",
       "      <th>2010-06-30</th>\n",
       "      <td>-0.010390</td>\n",
       "      <td>0.023302</td>\n",
       "      <td>-0.021987</td>\n",
       "      <td>0.013874</td>\n",
       "      <td>-0.009283</td>\n",
       "      <td>-0.081723</td>\n",
       "      <td>-0.051293</td>\n",
       "      <td>-0.012200</td>\n",
       "      <td>-0.027190</td>\n",
       "      <td>-0.047668</td>\n",
       "      <td>-0.019717</td>\n",
       "    </tr>\n",
       "    <tr>\n",
       "      <th>2010-07-01</th>\n",
       "      <td>0.001305</td>\n",
       "      <td>0.010501</td>\n",
       "      <td>0.004610</td>\n",
       "      <td>-0.011670</td>\n",
       "      <td>-0.026683</td>\n",
       "      <td>-0.134312</td>\n",
       "      <td>-0.018751</td>\n",
       "      <td>-0.006217</td>\n",
       "      <td>-0.001368</td>\n",
       "      <td>-0.008280</td>\n",
       "      <td>-0.034667</td>\n",
       "    </tr>\n",
       "    <tr>\n",
       "      <th>2010-07-02</th>\n",
       "      <td>0.010376</td>\n",
       "      <td>-0.009063</td>\n",
       "      <td>0.023455</td>\n",
       "      <td>0.005852</td>\n",
       "      <td>0.017777</td>\n",
       "      <td>-0.175470</td>\n",
       "      <td>0.019735</td>\n",
       "      <td>0.006820</td>\n",
       "      <td>0.028094</td>\n",
       "      <td>0.023085</td>\n",
       "      <td>0.001238</td>\n",
       "    </tr>\n",
       "    <tr>\n",
       "      <th>2010-07-06</th>\n",
       "      <td>-0.007772</td>\n",
       "      <td>0.018515</td>\n",
       "      <td>0.007211</td>\n",
       "      <td>0.035820</td>\n",
       "      <td>0.006629</td>\n",
       "      <td>-0.019430</td>\n",
       "      <td>0.023836</td>\n",
       "      <td>0.039568</td>\n",
       "      <td>-0.001796</td>\n",
       "      <td>0.019048</td>\n",
       "      <td>-0.002878</td>\n",
       "    </tr>\n",
       "  </tbody>\n",
       "</table>\n",
       "</div>"
      ],
      "text/plain": [
       "             Samsung  Telefonica   Allianz     Total     Bayer     Tesla  \\\n",
       "Timestamp                                                                  \n",
       "2010-06-30 -0.010390    0.023302 -0.021987  0.013874 -0.009283 -0.081723   \n",
       "2010-07-01  0.001305    0.010501  0.004610 -0.011670 -0.026683 -0.134312   \n",
       "2010-07-02  0.010376   -0.009063  0.023455  0.005852  0.017777 -0.175470   \n",
       "2010-07-06 -0.007772    0.018515  0.007211  0.035820  0.006629 -0.019430   \n",
       "\n",
       "              Airbus     Apple      BASF       BMW    Google  \n",
       "Timestamp                                                     \n",
       "2010-06-30 -0.051293 -0.012200 -0.027190 -0.047668 -0.019717  \n",
       "2010-07-01 -0.018751 -0.006217 -0.001368 -0.008280 -0.034667  \n",
       "2010-07-02  0.019735  0.006820  0.028094  0.023085  0.001238  \n",
       "2010-07-06  0.023836  0.039568 -0.001796  0.019048 -0.002878  "
      ]
     },
     "execution_count": 8,
     "metadata": {},
     "output_type": "execute_result"
    }
   ],
   "source": [
    "fin_data.shift(-1)[0:4]"
   ]
  },
  {
   "cell_type": "code",
   "execution_count": 9,
   "metadata": {},
   "outputs": [],
   "source": [
    "fin_data_class = fin_data.applymap(lambda x: 0 if x < 0 else 1)\n",
    "fin_data_class = fin_data_class.shift(-1)"
   ]
  },
  {
   "cell_type": "code",
   "execution_count": 10,
   "metadata": {},
   "outputs": [
    {
     "data": {
      "text/html": [
       "<div>\n",
       "<style scoped>\n",
       "    .dataframe tbody tr th:only-of-type {\n",
       "        vertical-align: middle;\n",
       "    }\n",
       "\n",
       "    .dataframe tbody tr th {\n",
       "        vertical-align: top;\n",
       "    }\n",
       "\n",
       "    .dataframe thead th {\n",
       "        text-align: right;\n",
       "    }\n",
       "</style>\n",
       "<table border=\"1\" class=\"dataframe\">\n",
       "  <thead>\n",
       "    <tr style=\"text-align: right;\">\n",
       "      <th></th>\n",
       "      <th>Samsung</th>\n",
       "      <th>Telefonica</th>\n",
       "      <th>Allianz</th>\n",
       "      <th>Total</th>\n",
       "      <th>Bayer</th>\n",
       "      <th>Tesla</th>\n",
       "      <th>Airbus</th>\n",
       "      <th>Apple</th>\n",
       "      <th>BASF</th>\n",
       "      <th>BMW</th>\n",
       "      <th>Google</th>\n",
       "    </tr>\n",
       "    <tr>\n",
       "      <th>Timestamp</th>\n",
       "      <th></th>\n",
       "      <th></th>\n",
       "      <th></th>\n",
       "      <th></th>\n",
       "      <th></th>\n",
       "      <th></th>\n",
       "      <th></th>\n",
       "      <th></th>\n",
       "      <th></th>\n",
       "      <th></th>\n",
       "      <th></th>\n",
       "    </tr>\n",
       "  </thead>\n",
       "  <tbody>\n",
       "    <tr>\n",
       "      <th>2010-06-30</th>\n",
       "      <td>0.0</td>\n",
       "      <td>1.0</td>\n",
       "      <td>0.0</td>\n",
       "      <td>1.0</td>\n",
       "      <td>0.0</td>\n",
       "      <td>0.0</td>\n",
       "      <td>0.0</td>\n",
       "      <td>0.0</td>\n",
       "      <td>0.0</td>\n",
       "      <td>0.0</td>\n",
       "      <td>0.0</td>\n",
       "    </tr>\n",
       "    <tr>\n",
       "      <th>2010-07-01</th>\n",
       "      <td>1.0</td>\n",
       "      <td>1.0</td>\n",
       "      <td>1.0</td>\n",
       "      <td>0.0</td>\n",
       "      <td>0.0</td>\n",
       "      <td>0.0</td>\n",
       "      <td>0.0</td>\n",
       "      <td>0.0</td>\n",
       "      <td>0.0</td>\n",
       "      <td>0.0</td>\n",
       "      <td>0.0</td>\n",
       "    </tr>\n",
       "    <tr>\n",
       "      <th>2010-07-02</th>\n",
       "      <td>1.0</td>\n",
       "      <td>0.0</td>\n",
       "      <td>1.0</td>\n",
       "      <td>1.0</td>\n",
       "      <td>1.0</td>\n",
       "      <td>0.0</td>\n",
       "      <td>1.0</td>\n",
       "      <td>1.0</td>\n",
       "      <td>1.0</td>\n",
       "      <td>1.0</td>\n",
       "      <td>1.0</td>\n",
       "    </tr>\n",
       "    <tr>\n",
       "      <th>2010-07-06</th>\n",
       "      <td>0.0</td>\n",
       "      <td>1.0</td>\n",
       "      <td>1.0</td>\n",
       "      <td>1.0</td>\n",
       "      <td>1.0</td>\n",
       "      <td>0.0</td>\n",
       "      <td>1.0</td>\n",
       "      <td>1.0</td>\n",
       "      <td>0.0</td>\n",
       "      <td>1.0</td>\n",
       "      <td>0.0</td>\n",
       "    </tr>\n",
       "    <tr>\n",
       "      <th>2010-07-07</th>\n",
       "      <td>1.0</td>\n",
       "      <td>1.0</td>\n",
       "      <td>1.0</td>\n",
       "      <td>1.0</td>\n",
       "      <td>1.0</td>\n",
       "      <td>1.0</td>\n",
       "      <td>1.0</td>\n",
       "      <td>0.0</td>\n",
       "      <td>1.0</td>\n",
       "      <td>0.0</td>\n",
       "      <td>1.0</td>\n",
       "    </tr>\n",
       "  </tbody>\n",
       "</table>\n",
       "</div>"
      ],
      "text/plain": [
       "            Samsung  Telefonica  Allianz  Total  Bayer  Tesla  Airbus  Apple  \\\n",
       "Timestamp                                                                      \n",
       "2010-06-30      0.0         1.0      0.0    1.0    0.0    0.0     0.0    0.0   \n",
       "2010-07-01      1.0         1.0      1.0    0.0    0.0    0.0     0.0    0.0   \n",
       "2010-07-02      1.0         0.0      1.0    1.0    1.0    0.0     1.0    1.0   \n",
       "2010-07-06      0.0         1.0      1.0    1.0    1.0    0.0     1.0    1.0   \n",
       "2010-07-07      1.0         1.0      1.0    1.0    1.0    1.0     1.0    0.0   \n",
       "\n",
       "            BASF  BMW  Google  \n",
       "Timestamp                      \n",
       "2010-06-30   0.0  0.0     0.0  \n",
       "2010-07-01   0.0  0.0     0.0  \n",
       "2010-07-02   1.0  1.0     1.0  \n",
       "2010-07-06   0.0  1.0     0.0  \n",
       "2010-07-07   1.0  0.0     1.0  "
      ]
     },
     "execution_count": 10,
     "metadata": {},
     "output_type": "execute_result"
    }
   ],
   "source": [
    "fin_data_class.head()"
   ]
  },
  {
   "cell_type": "code",
   "execution_count": 11,
   "metadata": {},
   "outputs": [
    {
     "data": {
      "text/plain": [
       "{0: 9902, 1: 10943, '0_relative': 47.5, '1_relative': 52.5}"
      ]
     },
     "execution_count": 11,
     "metadata": {},
     "output_type": "execute_result"
    }
   ],
   "source": [
    "val_count = {0: 0, 1: 0}\n",
    "for idx, row in fin_data_class.iterrows():\n",
    "    tmp = row.value_counts()\n",
    "    if 0 in tmp:\n",
    "        val_count[0] = val_count[0]  + tmp[0]\n",
    "    if 1 in tmp:\n",
    "        val_count[1] = val_count[1]  + tmp[1]\n",
    "val_count[\"0_relative\"] = round((val_count[0] / (val_count[0] + val_count[1])) * 100, 2) \n",
    "val_count[\"1_relative\"] = round((val_count[1] / (val_count[0] + val_count[1])) * 100, 2) \n",
    "val_count"
   ]
  },
  {
   "cell_type": "markdown",
   "metadata": {},
   "source": [
    "**Read in Document Data**"
   ]
  },
  {
   "cell_type": "code",
   "execution_count": 12,
   "metadata": {},
   "outputs": [],
   "source": [
    "path_to_data = \"../doc2vec/data/article_vectors_2015-11-25-2018-06-18.json\""
   ]
  },
  {
   "cell_type": "code",
   "execution_count": 13,
   "metadata": {},
   "outputs": [],
   "source": [
    "data = pd.read_json(path_to_data)"
   ]
  },
  {
   "cell_type": "code",
   "execution_count": 14,
   "metadata": {},
   "outputs": [],
   "source": [
    "data = data.applymap(lambda x: np.array(x))"
   ]
  },
  {
   "cell_type": "code",
   "execution_count": 15,
   "metadata": {},
   "outputs": [
    {
     "data": {
      "text/html": [
       "<div>\n",
       "<style scoped>\n",
       "    .dataframe tbody tr th:only-of-type {\n",
       "        vertical-align: middle;\n",
       "    }\n",
       "\n",
       "    .dataframe tbody tr th {\n",
       "        vertical-align: top;\n",
       "    }\n",
       "\n",
       "    .dataframe thead th {\n",
       "        text-align: right;\n",
       "    }\n",
       "</style>\n",
       "<table border=\"1\" class=\"dataframe\">\n",
       "  <thead>\n",
       "    <tr style=\"text-align: right;\">\n",
       "      <th></th>\n",
       "      <th>Samsung</th>\n",
       "      <th>BASF</th>\n",
       "      <th>Apple</th>\n",
       "      <th>Tesla</th>\n",
       "      <th>Airbus</th>\n",
       "      <th>Bayer</th>\n",
       "      <th>BMW</th>\n",
       "      <th>Telefonica</th>\n",
       "      <th>Google</th>\n",
       "      <th>Allianz</th>\n",
       "      <th>Total</th>\n",
       "    </tr>\n",
       "  </thead>\n",
       "  <tbody>\n",
       "    <tr>\n",
       "      <th>2015-11-25</th>\n",
       "      <td>[[-0.09097237885, -0.512056529522, 0.448597371...</td>\n",
       "      <td>[[-0.224870830774, -3.794226408, -1.9525440931...</td>\n",
       "      <td>[[-2.04224681854, -1.60448515415, 0.2704625129...</td>\n",
       "      <td>[[-2.1069715023, -1.426415205, 1.64306604862, ...</td>\n",
       "      <td>[[2.23846936226, 3.11426877975, 0.093617297709...</td>\n",
       "      <td>[[1.51722872257, 2.5938539505, -0.247232601047...</td>\n",
       "      <td>[[0.157938063145, 0.579978168011, 0.4118370115...</td>\n",
       "      <td>[[0.473003387451, 2.60217881203, -0.5277323126...</td>\n",
       "      <td>[[-0.520612180233, -0.675680935383, -0.3074057...</td>\n",
       "      <td>[[0.0183677487075, 1.12623000145, -0.909998118...</td>\n",
       "      <td>[[-2.72483801842, 0.991170525551, -2.009325027...</td>\n",
       "    </tr>\n",
       "    <tr>\n",
       "      <th>2015-11-26</th>\n",
       "      <td>[[3.81038761139, 0.261076569557, 0.50902235508...</td>\n",
       "      <td>[[-1.22998988628, 0.361293852329, -0.980951845...</td>\n",
       "      <td>[[-0.65575748682, -0.652606129646, -1.20090234...</td>\n",
       "      <td>[[2.21736645699, -0.283544570208, 0.7639598250...</td>\n",
       "      <td>[[1.23432075977, 0.239986360073, -0.5406541228...</td>\n",
       "      <td>[[0.239219143987, -1.13649022579, -0.161926895...</td>\n",
       "      <td>[[-1.17502439022, 0.608320355415, 0.2831627428...</td>\n",
       "      <td>[[0.459036916494, 2.74760985374, -0.9232062101...</td>\n",
       "      <td>[[-0.319721221924, -0.454306691885, -1.1206489...</td>\n",
       "      <td>[[-2.44475650787, 1.04553902149, -0.1332414597...</td>\n",
       "      <td>[[0.563275456429, -2.01511955261, 1.2207951545...</td>\n",
       "    </tr>\n",
       "  </tbody>\n",
       "</table>\n",
       "</div>"
      ],
      "text/plain": [
       "                                                      Samsung  \\\n",
       "2015-11-25  [[-0.09097237885, -0.512056529522, 0.448597371...   \n",
       "2015-11-26  [[3.81038761139, 0.261076569557, 0.50902235508...   \n",
       "\n",
       "                                                         BASF  \\\n",
       "2015-11-25  [[-0.224870830774, -3.794226408, -1.9525440931...   \n",
       "2015-11-26  [[-1.22998988628, 0.361293852329, -0.980951845...   \n",
       "\n",
       "                                                        Apple  \\\n",
       "2015-11-25  [[-2.04224681854, -1.60448515415, 0.2704625129...   \n",
       "2015-11-26  [[-0.65575748682, -0.652606129646, -1.20090234...   \n",
       "\n",
       "                                                        Tesla  \\\n",
       "2015-11-25  [[-2.1069715023, -1.426415205, 1.64306604862, ...   \n",
       "2015-11-26  [[2.21736645699, -0.283544570208, 0.7639598250...   \n",
       "\n",
       "                                                       Airbus  \\\n",
       "2015-11-25  [[2.23846936226, 3.11426877975, 0.093617297709...   \n",
       "2015-11-26  [[1.23432075977, 0.239986360073, -0.5406541228...   \n",
       "\n",
       "                                                        Bayer  \\\n",
       "2015-11-25  [[1.51722872257, 2.5938539505, -0.247232601047...   \n",
       "2015-11-26  [[0.239219143987, -1.13649022579, -0.161926895...   \n",
       "\n",
       "                                                          BMW  \\\n",
       "2015-11-25  [[0.157938063145, 0.579978168011, 0.4118370115...   \n",
       "2015-11-26  [[-1.17502439022, 0.608320355415, 0.2831627428...   \n",
       "\n",
       "                                                   Telefonica  \\\n",
       "2015-11-25  [[0.473003387451, 2.60217881203, -0.5277323126...   \n",
       "2015-11-26  [[0.459036916494, 2.74760985374, -0.9232062101...   \n",
       "\n",
       "                                                       Google  \\\n",
       "2015-11-25  [[-0.520612180233, -0.675680935383, -0.3074057...   \n",
       "2015-11-26  [[-0.319721221924, -0.454306691885, -1.1206489...   \n",
       "\n",
       "                                                      Allianz  \\\n",
       "2015-11-25  [[0.0183677487075, 1.12623000145, -0.909998118...   \n",
       "2015-11-26  [[-2.44475650787, 1.04553902149, -0.1332414597...   \n",
       "\n",
       "                                                        Total  \n",
       "2015-11-25  [[-2.72483801842, 0.991170525551, -2.009325027...  \n",
       "2015-11-26  [[0.563275456429, -2.01511955261, 1.2207951545...  "
      ]
     },
     "execution_count": 15,
     "metadata": {},
     "output_type": "execute_result"
    }
   ],
   "source": [
    "data.head(2)"
   ]
  },
  {
   "cell_type": "code",
   "execution_count": 16,
   "metadata": {},
   "outputs": [],
   "source": [
    "fin_data_dates = fin_data.index.date.tolist()\n",
    "data_dates = data.index.date.tolist()"
   ]
  },
  {
   "cell_type": "markdown",
   "metadata": {},
   "source": [
    "_________________________________________________________________________________________________________________________"
   ]
  },
  {
   "cell_type": "markdown",
   "metadata": {},
   "source": [
    "### Data Preprocessing"
   ]
  },
  {
   "cell_type": "markdown",
   "metadata": {},
   "source": [
    "**Filter Data**"
   ]
  },
  {
   "cell_type": "code",
   "execution_count": 17,
   "metadata": {},
   "outputs": [],
   "source": [
    "available_dates = list(set(fin_data_dates).intersection(data_dates))\n",
    "\n",
    "fin_data_class = fin_data_class[fin_data_class.index.isin(available_dates)]\n",
    "fin_data_train = fin_data[fin_data.index.isin(available_dates)]\n",
    "data = data[data.index.isin(available_dates)]"
   ]
  },
  {
   "cell_type": "code",
   "execution_count": 18,
   "metadata": {},
   "outputs": [
    {
     "data": {
      "text/plain": [
       "{0: 3104, 1: 3397, '0_relative': 47.75, '1_relative': 52.25}"
      ]
     },
     "execution_count": 18,
     "metadata": {},
     "output_type": "execute_result"
    }
   ],
   "source": [
    "val_count = {0: 0, 1: 0}\n",
    "for idx, row in fin_data_class.iterrows():\n",
    "    tmp = row.value_counts()\n",
    "    if 0 in tmp:\n",
    "        val_count[0] = val_count[0]  + tmp[0]\n",
    "    if 1 in tmp:\n",
    "        val_count[1] = val_count[1]  + tmp[1]\n",
    "val_count[\"0_relative\"] = round((val_count[0] / (val_count[0] + val_count[1])) * 100, 2) \n",
    "val_count[\"1_relative\"] = round((val_count[1] / (val_count[0] + val_count[1])) * 100, 2) \n",
    "val_count"
   ]
  },
  {
   "cell_type": "code",
   "execution_count": 19,
   "metadata": {},
   "outputs": [
    {
     "data": {
      "text/plain": [
       "591"
      ]
     },
     "execution_count": 19,
     "metadata": {},
     "output_type": "execute_result"
    }
   ],
   "source": [
    "len(available_dates)"
   ]
  },
  {
   "cell_type": "code",
   "execution_count": 20,
   "metadata": {},
   "outputs": [
    {
     "data": {
      "text/plain": [
       "(591, 11)"
      ]
     },
     "execution_count": 20,
     "metadata": {},
     "output_type": "execute_result"
    }
   ],
   "source": [
    "fin_data_train_vals = fin_data_train.values#.reshape(fin_data_train.shape[0], 1, fin_data_train.shape[1])\n",
    "fin_data_train_vals.shape"
   ]
  },
  {
   "cell_type": "code",
   "execution_count": 21,
   "metadata": {},
   "outputs": [
    {
     "data": {
      "text/plain": [
       "(591, 11)"
      ]
     },
     "execution_count": 21,
     "metadata": {},
     "output_type": "execute_result"
    }
   ],
   "source": [
    "data.shape"
   ]
  },
  {
   "cell_type": "markdown",
   "metadata": {},
   "source": [
    "**Reformat Document Data to 4 dimensional Matrix** <br>\n",
    "*\"Box of Cubes:\"* <br>\n",
    "1st Dimension: Training Sample (single Day)<br>\n",
    "*\"Cube:\"* <br>\n",
    "2nd Dimension: (Max.) 50 - Articles of a Company - rest is filled with 0s <br>\n",
    "3rd Dimension: 100 - Dimension of Document Vector <br>\n",
    "4th Dimension: 11 - Each Company per Day"
   ]
  },
  {
   "cell_type": "code",
   "execution_count": 22,
   "metadata": {},
   "outputs": [],
   "source": [
    "X = []"
   ]
  },
  {
   "cell_type": "code",
   "execution_count": 23,
   "metadata": {},
   "outputs": [],
   "source": [
    "for idx, row in data.iterrows():\n",
    "    #print(idx.date())\n",
    "    tmp = data.loc[idx].values\n",
    "\n",
    "    tmp_data = []\n",
    "    for i,r in enumerate(tmp):\n",
    "        #print(type(r))\n",
    "        #print(type(r))\n",
    "        if hasattr(r, 'shape') and r.shape[0] :\n",
    "            #print(type(r))\n",
    "            #print(\"HEY\")\n",
    "            r = np.array(r)\n",
    "            #if r.shape[0] != 50:\n",
    "            #    print(r.shape)\n",
    "            p = 50-r.shape[0]\n",
    "            r = np.pad(r, ((0,p),(0,0)), \"constant\")\n",
    "            #print(r)\n",
    "        else:\n",
    "            r = np.zeros((50,100))\n",
    "        tmp_data.append(r)\n",
    "    tmp_data = np.array(tmp_data)\n",
    "    tmp_data = tmp_data.reshape((50,100,11))\n",
    "    #print(tmp_data)\n",
    "    X.append(tmp_data)\n",
    "    #data_dict[idx.date()] = tmp\n",
    "    "
   ]
  },
  {
   "cell_type": "code",
   "execution_count": 24,
   "metadata": {},
   "outputs": [
    {
     "data": {
      "text/plain": [
       "array([[-0.09097238, -0.51205653,  0.44859737, ...,  1.4446882 ,\n",
       "         0.47213051, -2.83995199],\n",
       "       [ 1.95817542,  0.74424815,  1.44354796, ..., -2.98738217,\n",
       "        -0.17140767, -2.34347701],\n",
       "       [ 0.48954654, -0.95549279, -2.56482577, ..., -2.01952577,\n",
       "         2.60814977,  2.29795051],\n",
       "       ..., \n",
       "       [ 1.70078266, -1.97810698,  0.12305968, ...,  2.63470483,\n",
       "         0.11687999, -2.34644175],\n",
       "       [ 0.56562304,  1.07893801, -1.85002875, ...,  0.65592211,\n",
       "        -0.54387766, -0.20035765],\n",
       "       [-1.85888422,  0.01419361,  0.76624453, ..., -0.70436901,\n",
       "         1.79512227, -2.3566792 ]])"
      ]
     },
     "execution_count": 24,
     "metadata": {},
     "output_type": "execute_result"
    }
   ],
   "source": [
    "X[0][0]"
   ]
  },
  {
   "cell_type": "code",
   "execution_count": 25,
   "metadata": {},
   "outputs": [
    {
     "data": {
      "text/plain": [
       "(591, 50, 100, 11)"
      ]
     },
     "execution_count": 25,
     "metadata": {},
     "output_type": "execute_result"
    }
   ],
   "source": [
    "#X = np.array(final_d)\n",
    "X = np.array(X)\n",
    "X.shape"
   ]
  },
  {
   "cell_type": "code",
   "execution_count": 26,
   "metadata": {},
   "outputs": [],
   "source": [
    "#m[:, ::-1]"
   ]
  },
  {
   "cell_type": "markdown",
   "metadata": {},
   "source": [
    "### Data Augmentation"
   ]
  },
  {
   "cell_type": "code",
   "execution_count": 48,
   "metadata": {},
   "outputs": [
    {
     "data": {
      "text/plain": [
       "(300, 50, 100, 11)"
      ]
     },
     "execution_count": 48,
     "metadata": {},
     "output_type": "execute_result"
    }
   ],
   "source": [
    "tst = X[:300][:,:,::-1,:]\n",
    "tst.shape"
   ]
  },
  {
   "cell_type": "code",
   "execution_count": 49,
   "metadata": {},
   "outputs": [
    {
     "data": {
      "text/plain": [
       "(300, 50, 100, 11)"
      ]
     },
     "execution_count": 49,
     "metadata": {},
     "output_type": "execute_result"
    }
   ],
   "source": [
    "X_flipped = np.flipud(X[:300])\n",
    "X_flipped.shape"
   ]
  },
  {
   "cell_type": "code",
   "execution_count": 50,
   "metadata": {},
   "outputs": [
    {
     "data": {
      "text/plain": [
       "(900, 50, 100, 11)"
      ]
     },
     "execution_count": 50,
     "metadata": {},
     "output_type": "execute_result"
    }
   ],
   "source": [
    "X_augmented = np.concatenate((X[:300], X_flipped, tst))\n",
    "X_augmented.shape"
   ]
  },
  {
   "cell_type": "code",
   "execution_count": 51,
   "metadata": {},
   "outputs": [
    {
     "data": {
      "text/plain": [
       "(900, 11)"
      ]
     },
     "execution_count": 51,
     "metadata": {},
     "output_type": "execute_result"
    }
   ],
   "source": [
    "Y = fin_data_class.values\n",
    "Y_augmented = np.concatenate((Y[:300], Y[:300].copy(), Y[:300].copy()))\n",
    "Y_augmented.shape"
   ]
  },
  {
   "cell_type": "code",
   "execution_count": 52,
   "metadata": {},
   "outputs": [
    {
     "data": {
      "text/plain": [
       "(900, 11)"
      ]
     },
     "execution_count": 52,
     "metadata": {},
     "output_type": "execute_result"
    }
   ],
   "source": [
    "fin_data_train_vals_augmented = np.concatenate((fin_data_train_vals[:300], fin_data_train_vals[:300].copy(), fin_data_train_vals[:300].copy()))\n",
    "fin_data_train_vals_augmented.shape"
   ]
  },
  {
   "cell_type": "markdown",
   "metadata": {},
   "source": [
    "## First, simple CNN Model"
   ]
  },
  {
   "cell_type": "markdown",
   "metadata": {},
   "source": [
    "**Imports**"
   ]
  },
  {
   "cell_type": "code",
   "execution_count": 53,
   "metadata": {},
   "outputs": [
    {
     "name": "stderr",
     "output_type": "stream",
     "text": [
      "Using TensorFlow backend.\n"
     ]
    }
   ],
   "source": [
    "from sklearn.model_selection import train_test_split\n",
    "\n",
    "from keras import backend as K\n",
    "import keras\n",
    "\n",
    "from keras.models import Sequential\n",
    "from keras.layers import Dense, Dropout, Activation, Flatten, BatchNormalization, GaussianNoise, GaussianDropout\n",
    "from keras.layers import Conv1D, Conv2D, MaxPooling2D, AveragePooling2D, GlobalMaxPooling2D, GlobalMaxPooling3D\n",
    "\n",
    "from keras.initializers import RandomNormal\n",
    "\n",
    "from keras import regularizers\n",
    "\n",
    "from collections import Counter"
   ]
  },
  {
   "cell_type": "markdown",
   "metadata": {},
   "source": [
    "**Metrics**"
   ]
  },
  {
   "cell_type": "code",
   "execution_count": 122,
   "metadata": {},
   "outputs": [],
   "source": [
    "def precision(y_true, y_pred):\n",
    "    true_positives = K.sum(K.round(K.clip(y_true * y_pred, 0, 1)))\n",
    "    predicted_positives = K.sum(K.round(K.clip(y_pred, 0, 1)))\n",
    "    precision = true_positives / (predicted_positives + K.epsilon())\n",
    "    return precision\n",
    "\n",
    "\n",
    "def recall(y_true, y_pred):\n",
    "    true_positives = K.sum(K.round(K.clip(y_true * y_pred, 0, 1)))\n",
    "    possible_positives = K.sum(K.round(K.clip(y_true, 0, 1)))\n",
    "    recall = true_positives / (possible_positives + K.epsilon())\n",
    "    return recall\n",
    "\n",
    "\n",
    "def f1(y_true, y_pred):\n",
    "    def recall(y_true, y_pred):\n",
    "        true_positives = K.sum(K.round(K.clip(y_true * y_pred, 0, 1)))\n",
    "        possible_positives = K.sum(K.round(K.clip(y_true, 0, 1)))\n",
    "        recall = true_positives / (possible_positives + K.epsilon())\n",
    "        return recall\n",
    "\n",
    "    def precision(y_true, y_pred):\n",
    "        true_positives = K.sum(K.round(K.clip(y_true * y_pred, 0, 1)))\n",
    "        predicted_positives = K.sum(K.round(K.clip(y_pred, 0, 1)))\n",
    "        precision = true_positives / (predicted_positives + K.epsilon())\n",
    "        return precision\n",
    "\n",
    "    precision = precision(y_true, y_pred)\n",
    "    recall = recall(y_true, y_pred)\n",
    "    return 2 * ((precision * recall) / (precision + recall + K.epsilon()))\n"
   ]
  },
  {
   "cell_type": "code",
   "execution_count": 55,
   "metadata": {},
   "outputs": [
    {
     "data": {
      "text/plain": [
       "(900, 11)"
      ]
     },
     "execution_count": 55,
     "metadata": {},
     "output_type": "execute_result"
    }
   ],
   "source": [
    "Y_augmented.shape"
   ]
  },
  {
   "cell_type": "markdown",
   "metadata": {},
   "source": [
    "**Train-Test-Split**"
   ]
  },
  {
   "cell_type": "code",
   "execution_count": 56,
   "metadata": {},
   "outputs": [],
   "source": [
    "x_train, x_val, x_ret_train, x_ret_val, y_train, y_val = train_test_split(X, fin_data_train_vals, Y, \n",
    "                                                  test_size=0.4, random_state=58)\n",
    "\n",
    "x_train_aug, x_val_aug, x_ret_train_aug, x_ret_val_aug, y_train_aug, y_val_aug = train_test_split(X_augmented, fin_data_train_vals_augmented, Y_augmented, test_size=0.01, random_state=58)"
   ]
  },
  {
   "cell_type": "markdown",
   "metadata": {},
   "source": [
    "Check Distribution "
   ]
  },
  {
   "cell_type": "code",
   "execution_count": 57,
   "metadata": {},
   "outputs": [
    {
     "data": {
      "text/plain": [
       "{0: 4600, 1: 5201, '0_relative': 46.93, '1_relative': 53.07}"
      ]
     },
     "execution_count": 57,
     "metadata": {},
     "output_type": "execute_result"
    }
   ],
   "source": [
    "val_count = {0: 0, 1: 0}\n",
    "\n",
    "for y in y_train_aug:\n",
    "    tmp = Counter(y)\n",
    "    #print(tmp)\n",
    "    if 0 in tmp:\n",
    "        val_count[0] = val_count[0]  + tmp[0]\n",
    "    if 1 in tmp:\n",
    "        val_count[1] = val_count[1]  + tmp[1]\n",
    "val_count[\"0_relative\"] = round((val_count[0] / (val_count[0] + val_count[1])) * 100, 2) \n",
    "val_count[\"1_relative\"] = round((val_count[1] / (val_count[0] + val_count[1])) * 100, 2) \n",
    "val_count"
   ]
  },
  {
   "cell_type": "code",
   "execution_count": 121,
   "metadata": {},
   "outputs": [
    {
     "data": {
      "text/plain": [
       "(594, 50, 100, 11)"
      ]
     },
     "execution_count": 121,
     "metadata": {},
     "output_type": "execute_result"
    }
   ],
   "source": [
    "x_train_aug.shape"
   ]
  },
  {
   "cell_type": "markdown",
   "metadata": {},
   "source": [
    "Parameters of CNN"
   ]
  },
  {
   "cell_type": "code",
   "execution_count": 62,
   "metadata": {},
   "outputs": [],
   "source": [
    "num_classes=11\n",
    "num_filters= 150\n",
    "filter_sizes = [3,4,5]\n",
    "embedding_dim = x_train_aug.shape[2]\n",
    "sequence_length = x_train_aug.shape[1] \n",
    "input_shape = x_train.shape[1:] if not x_train is None else x_train_aug[1:]\n",
    "\n",
    "reg_param = 0.01\n",
    "noise_layer_std = 1"
   ]
  },
  {
   "cell_type": "code",
   "execution_count": 63,
   "metadata": {},
   "outputs": [
    {
     "data": {
      "text/plain": [
       "50"
      ]
     },
     "execution_count": 63,
     "metadata": {},
     "output_type": "execute_result"
    }
   ],
   "source": [
    "sequence_length"
   ]
  },
  {
   "cell_type": "code",
   "execution_count": 64,
   "metadata": {},
   "outputs": [],
   "source": [
    "def custom_tanh(x):\n",
    "    return (K.tanh((2/3)*x) * 1.5)#1.7159) #(2/3)\n",
    "\n",
    "def custom_sigmoid(x):\n",
    "    return (K.sigmoid((3/4) * x) )#* 1.7159)"
   ]
  },
  {
   "cell_type": "code",
   "execution_count": 65,
   "metadata": {},
   "outputs": [],
   "source": [
    "def make_first_model():\n",
    "    model = Sequential()\n",
    "    model.add(GaussianNoise(stddev=noise_layer_std,input_shape=input_shape))\n",
    "    model.add(Conv2D(num_filters, kernel_size=(filter_sizes[0], embedding_dim), padding='valid',#input_shape=x_train.shape[1:], \n",
    "                     data_format=\"channels_last\", activation=\"relu\", kernel_regularizer=regularizers.l2(reg_param),\n",
    "                     kernel_initializer=RandomNormal())) #relu\n",
    "    #, kernel_regularizer=regularizers.l2(0.01)\n",
    "    #model.add(Conv2D(num_filters, kernel_size=(filter_sizes[1], embedding_dim), padding='same', activation=\"relu\"))\n",
    "\n",
    "    model.add(BatchNormalization(axis=3))\n",
    "    model.add(GaussianDropout(0.5))\n",
    "    #model.add(MaxPooling2D(pool_size=(sequence_length - filter_sizes[0] + 1, 1), strides=(1,1))) #data_format=\"channels_last\"\n",
    "    model.add(AveragePooling2D(pool_size=(sequence_length - filter_sizes[0] + 1, 1), strides=(1,1))) \n",
    "    #model.add(GlobalMaxPooling3D(data_format=\"channels_last\"))\n",
    "    model.add(BatchNormalization(axis=3))\n",
    "    #model.add(Conv2D(num_filters, kernel_size=(1,embedding_dim), strides=(1,1), activation=\"relu\"))\n",
    "    #model.add(MaxPooling2D(pool_size=(sequence_length - filter_sizes[1] + 1, 1), strides=(1,1)))\n",
    "    #model.add(Activation('relu'))\n",
    "    #model.add(BatchNormalization())\n",
    "    model.add(Dropout(0.5))\n",
    "    #model.add(GaussianNoise(stddev=3))\n",
    "\n",
    "    #model.add(MaxPooling2D(pool_size=(2, 2)))\n",
    "    #model.add(Dropout(0.25))\n",
    "\n",
    "    model.add(Flatten())\n",
    "    #model.add(GaussianDropout(0.5))\n",
    "    model.add(Dense(512, activation=\"relu\")) #custom_tanh \"relu\" custom_tanh\n",
    "    #model.add(Activation('relu'))\n",
    "    model.add(GaussianDropout(0.5))\n",
    "    #model.add(Dense(512, activation=\"relu\"))\n",
    "    #model.add(Dense(512, activation=\"relu\"))\n",
    "    model.add(Dense(num_classes, activation=custom_sigmoid)) #\"sigmoid\"  custom_sigmoid \n",
    "    \n",
    "    adam_opt = keras.optimizers.adam(lr=0.0001, beta_1=0.9, beta_2=0.999, epsilon=1e-8, decay=0.0)\n",
    "\n",
    "    model.compile(loss='binary_crossentropy', \n",
    "              optimizer=adam_opt,#opt,\"Adam\"\n",
    "              metrics=['binary_accuracy', f1, precision, recall]) #'binary_accuracy',\n",
    "    \n",
    "    return model"
   ]
  },
  {
   "cell_type": "code",
   "execution_count": 66,
   "metadata": {},
   "outputs": [
    {
     "name": "stdout",
     "output_type": "stream",
     "text": [
      "_________________________________________________________________\n",
      "Layer (type)                 Output Shape              Param #   \n",
      "=================================================================\n",
      "gaussian_noise_1 (GaussianNo (None, 50, 100, 11)       0         \n",
      "_________________________________________________________________\n",
      "conv2d_1 (Conv2D)            (None, 48, 1, 150)        495150    \n",
      "_________________________________________________________________\n",
      "batch_normalization_1 (Batch (None, 48, 1, 150)        600       \n",
      "_________________________________________________________________\n",
      "gaussian_dropout_1 (Gaussian (None, 48, 1, 150)        0         \n",
      "_________________________________________________________________\n",
      "average_pooling2d_1 (Average (None, 1, 1, 150)         0         \n",
      "_________________________________________________________________\n",
      "batch_normalization_2 (Batch (None, 1, 1, 150)         600       \n",
      "_________________________________________________________________\n",
      "dropout_1 (Dropout)          (None, 1, 1, 150)         0         \n",
      "_________________________________________________________________\n",
      "flatten_1 (Flatten)          (None, 150)               0         \n",
      "_________________________________________________________________\n",
      "dense_1 (Dense)              (None, 512)               77312     \n",
      "_________________________________________________________________\n",
      "gaussian_dropout_2 (Gaussian (None, 512)               0         \n",
      "_________________________________________________________________\n",
      "dense_2 (Dense)              (None, 11)                5643      \n",
      "=================================================================\n",
      "Total params: 579,305\n",
      "Trainable params: 578,705\n",
      "Non-trainable params: 600\n",
      "_________________________________________________________________\n"
     ]
    }
   ],
   "source": [
    "first_model = make_first_model()\n",
    "first_model.summary()"
   ]
  },
  {
   "cell_type": "code",
   "execution_count": 67,
   "metadata": {},
   "outputs": [
    {
     "name": "stdout",
     "output_type": "stream",
     "text": [
      "Train on 891 samples, validate on 9 samples\n",
      "Epoch 1/70\n",
      " - 7s - loss: 12.7817 - binary_accuracy: 0.5135 - f1: 0.5429 - precision: 0.5412 - recall: 0.5464 - val_loss: 12.2466 - val_binary_accuracy: 0.5758 - val_f1: 0.4878 - val_precision: 0.4762 - val_recall: 0.5000\n",
      "Epoch 2/70\n",
      " - 9s - loss: 12.0149 - binary_accuracy: 0.5027 - f1: 0.5377 - precision: 0.5309 - recall: 0.5479 - val_loss: 11.5161 - val_binary_accuracy: 0.6061 - val_f1: 0.5517 - val_precision: 0.5106 - val_recall: 0.6000\n",
      "Epoch 3/70\n",
      " - 8s - loss: 11.2842 - binary_accuracy: 0.5030 - f1: 0.5415 - precision: 0.5301 - recall: 0.5554 - val_loss: 10.8279 - val_binary_accuracy: 0.5354 - val_f1: 0.5106 - val_precision: 0.4444 - val_recall: 0.6000\n",
      "Epoch 4/70\n",
      " - 8s - loss: 10.5985 - binary_accuracy: 0.5089 - f1: 0.5444 - precision: 0.5366 - recall: 0.5554 - val_loss: 10.1831 - val_binary_accuracy: 0.4747 - val_f1: 0.5000 - val_precision: 0.4062 - val_recall: 0.6500\n",
      "Epoch 5/70\n",
      " - 8s - loss: 9.9608 - binary_accuracy: 0.5136 - f1: 0.5510 - precision: 0.5388 - recall: 0.5668 - val_loss: 9.5781 - val_binary_accuracy: 0.5051 - val_f1: 0.5421 - val_precision: 0.4328 - val_recall: 0.7250\n",
      "Epoch 6/70\n",
      " - 9s - loss: 9.3649 - binary_accuracy: 0.5132 - f1: 0.5510 - precision: 0.5389 - recall: 0.5664 - val_loss: 9.0061 - val_binary_accuracy: 0.5152 - val_f1: 0.5789 - val_precision: 0.4459 - val_recall: 0.8250\n",
      "Epoch 7/70\n",
      " - 8s - loss: 8.8082 - binary_accuracy: 0.5063 - f1: 0.5504 - precision: 0.5323 - recall: 0.5726 - val_loss: 8.4725 - val_binary_accuracy: 0.4646 - val_f1: 0.5391 - val_precision: 0.4133 - val_recall: 0.7750\n",
      "Epoch 8/70\n",
      " - 9s - loss: 8.2811 - binary_accuracy: 0.5181 - f1: 0.5575 - precision: 0.5433 - recall: 0.5751 - val_loss: 7.9726 - val_binary_accuracy: 0.4242 - val_f1: 0.5043 - val_precision: 0.3867 - val_recall: 0.7250\n",
      "Epoch 9/70\n",
      " - 8s - loss: 7.7975 - binary_accuracy: 0.5069 - f1: 0.5485 - precision: 0.5331 - recall: 0.5673 - val_loss: 7.5028 - val_binary_accuracy: 0.4545 - val_f1: 0.5424 - val_precision: 0.4103 - val_recall: 0.8000\n",
      "Epoch 10/70\n",
      " - 8s - loss: 7.3283 - binary_accuracy: 0.5272 - f1: 0.5707 - precision: 0.5495 - recall: 0.5952 - val_loss: 7.0619 - val_binary_accuracy: 0.4444 - val_f1: 0.5455 - val_precision: 0.4074 - val_recall: 0.8250\n",
      "Epoch 11/70\n",
      " - 9s - loss: 6.9065 - binary_accuracy: 0.5155 - f1: 0.5595 - precision: 0.5407 - recall: 0.5840 - val_loss: 6.6540 - val_binary_accuracy: 0.4242 - val_f1: 0.5128 - val_precision: 0.3896 - val_recall: 0.7500\n",
      "Epoch 12/70\n",
      " - 9s - loss: 6.4985 - binary_accuracy: 0.5274 - f1: 0.5735 - precision: 0.5503 - recall: 0.6004 - val_loss: 6.2685 - val_binary_accuracy: 0.4747 - val_f1: 0.5273 - val_precision: 0.4143 - val_recall: 0.7250\n",
      "Epoch 13/70\n",
      " - 9s - loss: 6.1259 - binary_accuracy: 0.5109 - f1: 0.5560 - precision: 0.5360 - recall: 0.5793 - val_loss: 5.9031 - val_binary_accuracy: 0.4545 - val_f1: 0.5345 - val_precision: 0.4079 - val_recall: 0.7750\n",
      "Epoch 14/70\n",
      " - 9s - loss: 5.7727 - binary_accuracy: 0.5211 - f1: 0.5636 - precision: 0.5461 - recall: 0.5865 - val_loss: 5.5601 - val_binary_accuracy: 0.4343 - val_f1: 0.5172 - val_precision: 0.3947 - val_recall: 0.7500\n",
      "Epoch 15/70\n",
      " - 9s - loss: 5.4455 - binary_accuracy: 0.5244 - f1: 0.5689 - precision: 0.5475 - recall: 0.5955 - val_loss: 5.2463 - val_binary_accuracy: 0.4444 - val_f1: 0.4954 - val_precision: 0.3913 - val_recall: 0.6750\n",
      "Epoch 16/70\n",
      " - 8s - loss: 5.1340 - binary_accuracy: 0.5152 - f1: 0.5552 - precision: 0.5402 - recall: 0.5733 - val_loss: 4.9458 - val_binary_accuracy: 0.4747 - val_f1: 0.5000 - val_precision: 0.4062 - val_recall: 0.6500\n",
      "Epoch 17/70\n",
      " - 8s - loss: 4.8522 - binary_accuracy: 0.5168 - f1: 0.5601 - precision: 0.5418 - recall: 0.5830 - val_loss: 4.6661 - val_binary_accuracy: 0.4444 - val_f1: 0.5045 - val_precision: 0.3944 - val_recall: 0.7000\n",
      "Epoch 18/70\n",
      " - 8s - loss: 4.5722 - binary_accuracy: 0.5196 - f1: 0.5628 - precision: 0.5440 - recall: 0.5852 - val_loss: 4.4081 - val_binary_accuracy: 0.4242 - val_f1: 0.4865 - val_precision: 0.3803 - val_recall: 0.6750\n",
      "Epoch 19/70\n",
      " - 8s - loss: 4.3218 - binary_accuracy: 0.5222 - f1: 0.5684 - precision: 0.5454 - recall: 0.5959 - val_loss: 4.1649 - val_binary_accuracy: 0.3939 - val_f1: 0.4444 - val_precision: 0.3529 - val_recall: 0.6000\n",
      "Epoch 20/70\n",
      " - 7s - loss: 4.0839 - binary_accuracy: 0.5192 - f1: 0.5645 - precision: 0.5436 - recall: 0.5908 - val_loss: 3.9446 - val_binary_accuracy: 0.4040 - val_f1: 0.4381 - val_precision: 0.3538 - val_recall: 0.5750\n",
      "Epoch 21/70\n",
      " - 7s - loss: 3.8578 - binary_accuracy: 0.5246 - f1: 0.5683 - precision: 0.5475 - recall: 0.5937 - val_loss: 3.7240 - val_binary_accuracy: 0.4747 - val_f1: 0.4902 - val_precision: 0.4032 - val_recall: 0.6250\n",
      "Epoch 22/70\n",
      " - 7s - loss: 3.6542 - binary_accuracy: 0.5276 - f1: 0.5747 - precision: 0.5501 - recall: 0.6059 - val_loss: 3.5312 - val_binary_accuracy: 0.4848 - val_f1: 0.5143 - val_precision: 0.4154 - val_recall: 0.6750\n",
      "Epoch 23/70\n",
      " - 7s - loss: 3.4534 - binary_accuracy: 0.5288 - f1: 0.5773 - precision: 0.5510 - recall: 0.6091 - val_loss: 3.3465 - val_binary_accuracy: 0.4545 - val_f1: 0.4906 - val_precision: 0.3939 - val_recall: 0.6500\n",
      "Epoch 24/70\n",
      " - 7s - loss: 3.2805 - binary_accuracy: 0.5240 - f1: 0.5707 - precision: 0.5466 - recall: 0.5994 - val_loss: 3.1706 - val_binary_accuracy: 0.4141 - val_f1: 0.4423 - val_precision: 0.3594 - val_recall: 0.5750\n",
      "Epoch 25/70\n",
      " - 7s - loss: 3.1096 - binary_accuracy: 0.5257 - f1: 0.5731 - precision: 0.5477 - recall: 0.6036 - val_loss: 3.0059 - val_binary_accuracy: 0.4949 - val_f1: 0.5283 - val_precision: 0.4242 - val_recall: 0.7000\n",
      "Epoch 26/70\n",
      " - 7s - loss: 2.9523 - binary_accuracy: 0.5244 - f1: 0.5716 - precision: 0.5476 - recall: 0.6014 - val_loss: 2.8594 - val_binary_accuracy: 0.4848 - val_f1: 0.5321 - val_precision: 0.4203 - val_recall: 0.7250\n",
      "Epoch 27/70\n",
      " - 7s - loss: 2.7984 - binary_accuracy: 0.5245 - f1: 0.5714 - precision: 0.5481 - recall: 0.6004 - val_loss: 2.7113 - val_binary_accuracy: 0.4646 - val_f1: 0.5138 - val_precision: 0.4058 - val_recall: 0.7000\n",
      "Epoch 28/70\n",
      " - 7s - loss: 2.6663 - binary_accuracy: 0.5282 - f1: 0.5719 - precision: 0.5513 - recall: 0.5967 - val_loss: 2.5805 - val_binary_accuracy: 0.4747 - val_f1: 0.4902 - val_precision: 0.4032 - val_recall: 0.6250\n",
      "Epoch 29/70\n",
      " - 7s - loss: 2.5347 - binary_accuracy: 0.5284 - f1: 0.5733 - precision: 0.5515 - recall: 0.5994 - val_loss: 2.4522 - val_binary_accuracy: 0.4646 - val_f1: 0.4752 - val_precision: 0.3934 - val_recall: 0.6000\n",
      "Epoch 30/70\n",
      " - 7s - loss: 2.4129 - binary_accuracy: 0.5357 - f1: 0.5811 - precision: 0.5572 - recall: 0.6090 - val_loss: 2.3376 - val_binary_accuracy: 0.5253 - val_f1: 0.5524 - val_precision: 0.4462 - val_recall: 0.7250\n",
      "Epoch 31/70\n",
      " - 6s - loss: 2.3056 - binary_accuracy: 0.5344 - f1: 0.5814 - precision: 0.5559 - recall: 0.6138 - val_loss: 2.2350 - val_binary_accuracy: 0.4848 - val_f1: 0.5321 - val_precision: 0.4203 - val_recall: 0.7250\n",
      "Epoch 32/70\n",
      " - 7s - loss: 2.1991 - binary_accuracy: 0.5346 - f1: 0.5805 - precision: 0.5567 - recall: 0.6094 - val_loss: 2.1436 - val_binary_accuracy: 0.4848 - val_f1: 0.5487 - val_precision: 0.4247 - val_recall: 0.7750\n",
      "Epoch 33/70\n",
      " - 7s - loss: 2.1058 - binary_accuracy: 0.5343 - f1: 0.5800 - precision: 0.5561 - recall: 0.6083 - val_loss: 2.0527 - val_binary_accuracy: 0.4141 - val_f1: 0.4630 - val_precision: 0.3676 - val_recall: 0.6250\n",
      "Epoch 34/70\n",
      " - 8s - loss: 2.0154 - binary_accuracy: 0.5367 - f1: 0.5839 - precision: 0.5583 - recall: 0.6161 - val_loss: 1.9641 - val_binary_accuracy: 0.4646 - val_f1: 0.4421 - val_precision: 0.3818 - val_recall: 0.5250\n",
      "Epoch 35/70\n",
      " - 7s - loss: 1.9339 - binary_accuracy: 0.5308 - f1: 0.5766 - precision: 0.5527 - recall: 0.6054 - val_loss: 1.8896 - val_binary_accuracy: 0.4545 - val_f1: 0.4255 - val_precision: 0.3704 - val_recall: 0.5000\n",
      "Epoch 36/70\n",
      " - 7s - loss: 1.8505 - binary_accuracy: 0.5410 - f1: 0.5882 - precision: 0.5603 - recall: 0.6219 - val_loss: 1.8163 - val_binary_accuracy: 0.4646 - val_f1: 0.4421 - val_precision: 0.3818 - val_recall: 0.5250\n",
      "Epoch 37/70\n",
      " - 7s - loss: 1.7842 - binary_accuracy: 0.5388 - f1: 0.5854 - precision: 0.5601 - recall: 0.6167 - val_loss: 1.7445 - val_binary_accuracy: 0.4343 - val_f1: 0.4043 - val_precision: 0.3519 - val_recall: 0.4750\n",
      "Epoch 38/70\n",
      " - 7s - loss: 1.7160 - binary_accuracy: 0.5382 - f1: 0.5842 - precision: 0.5597 - recall: 0.6141 - val_loss: 1.6676 - val_binary_accuracy: 0.5455 - val_f1: 0.4706 - val_precision: 0.4444 - val_recall: 0.5000\n",
      "Epoch 39/70\n",
      " - 8s - loss: 1.6413 - binary_accuracy: 0.5545 - f1: 0.5908 - precision: 0.5764 - recall: 0.6092 - val_loss: 1.6187 - val_binary_accuracy: 0.4242 - val_f1: 0.3736 - val_precision: 0.3333 - val_recall: 0.4250\n",
      "Epoch 40/70\n",
      " - 8s - loss: 1.5949 - binary_accuracy: 0.5461 - f1: 0.5882 - precision: 0.5670 - recall: 0.6135 - val_loss: 1.5772 - val_binary_accuracy: 0.4040 - val_f1: 0.4040 - val_precision: 0.3390 - val_recall: 0.5000\n",
      "Epoch 41/70\n",
      " - 8s - loss: 1.5349 - binary_accuracy: 0.5534 - f1: 0.5994 - precision: 0.5712 - recall: 0.6337 - val_loss: 1.5219 - val_binary_accuracy: 0.4141 - val_f1: 0.4200 - val_precision: 0.3500 - val_recall: 0.5250\n",
      "Epoch 42/70\n",
      " - 9s - loss: 1.4856 - binary_accuracy: 0.5532 - f1: 0.6007 - precision: 0.5719 - recall: 0.6361 - val_loss: 1.4794 - val_binary_accuracy: 0.4444 - val_f1: 0.4762 - val_precision: 0.3846 - val_recall: 0.6250\n",
      "Epoch 43/70\n",
      " - 9s - loss: 1.4384 - binary_accuracy: 0.5538 - f1: 0.5983 - precision: 0.5729 - recall: 0.6296 - val_loss: 1.4373 - val_binary_accuracy: 0.4545 - val_f1: 0.4490 - val_precision: 0.3793 - val_recall: 0.5500\n",
      "Epoch 44/70\n",
      " - 9s - loss: 1.3968 - binary_accuracy: 0.5494 - f1: 0.5917 - precision: 0.5691 - recall: 0.6178 - val_loss: 1.3759 - val_binary_accuracy: 0.4848 - val_f1: 0.4848 - val_precision: 0.4068 - val_recall: 0.6000\n",
      "Epoch 45/70\n",
      " - 7s - loss: 1.3515 - binary_accuracy: 0.5706 - f1: 0.6110 - precision: 0.5881 - recall: 0.6380 - val_loss: 1.3347 - val_binary_accuracy: 0.5455 - val_f1: 0.5455 - val_precision: 0.4576 - val_recall: 0.6750\n",
      "Epoch 46/70\n",
      " - 9s - loss: 1.3114 - binary_accuracy: 0.5651 - f1: 0.6089 - precision: 0.5828 - recall: 0.6408 - val_loss: 1.2977 - val_binary_accuracy: 0.5253 - val_f1: 0.5347 - val_precision: 0.4426 - val_recall: 0.6750\n",
      "Epoch 47/70\n",
      " - 7s - loss: 1.2727 - binary_accuracy: 0.5742 - f1: 0.6115 - precision: 0.5933 - recall: 0.6350 - val_loss: 1.3121 - val_binary_accuracy: 0.4242 - val_f1: 0.4571 - val_precision: 0.3692 - val_recall: 0.6000\n",
      "Epoch 48/70\n",
      " - 7s - loss: 1.2528 - binary_accuracy: 0.5595 - f1: 0.6016 - precision: 0.5782 - recall: 0.6295 - val_loss: 1.2564 - val_binary_accuracy: 0.4747 - val_f1: 0.4583 - val_precision: 0.3929 - val_recall: 0.5500\n",
      "Epoch 49/70\n",
      " - 7s - loss: 1.2128 - binary_accuracy: 0.5771 - f1: 0.6123 - precision: 0.5968 - recall: 0.6332 - val_loss: 1.2206 - val_binary_accuracy: 0.5152 - val_f1: 0.5000 - val_precision: 0.4286 - val_recall: 0.6000\n",
      "Epoch 50/70\n",
      " - 8s - loss: 1.1807 - binary_accuracy: 0.5822 - f1: 0.6189 - precision: 0.6000 - recall: 0.6418 - val_loss: 1.2229 - val_binary_accuracy: 0.4040 - val_f1: 0.4040 - val_precision: 0.3390 - val_recall: 0.5000\n",
      "Epoch 51/70\n",
      " - 7s - loss: 1.1617 - binary_accuracy: 0.5774 - f1: 0.6181 - precision: 0.5946 - recall: 0.6466 - val_loss: 1.1905 - val_binary_accuracy: 0.4747 - val_f1: 0.4468 - val_precision: 0.3889 - val_recall: 0.5250\n",
      "Epoch 52/70\n",
      " - 7s - loss: 1.1351 - binary_accuracy: 0.5873 - f1: 0.6273 - precision: 0.6024 - recall: 0.6578 - val_loss: 1.1837 - val_binary_accuracy: 0.4545 - val_f1: 0.4600 - val_precision: 0.3833 - val_recall: 0.5750\n",
      "Epoch 53/70\n",
      " - 8s - loss: 1.1130 - binary_accuracy: 0.5875 - f1: 0.6246 - precision: 0.6033 - recall: 0.6498 - val_loss: 1.1784 - val_binary_accuracy: 0.3939 - val_f1: 0.4000 - val_precision: 0.3333 - val_recall: 0.5000\n",
      "Epoch 54/70\n",
      " - 8s - loss: 1.0952 - binary_accuracy: 0.5891 - f1: 0.6300 - precision: 0.6026 - recall: 0.6615 - val_loss: 1.1238 - val_binary_accuracy: 0.4747 - val_f1: 0.4222 - val_precision: 0.3800 - val_recall: 0.4750\n",
      "Epoch 55/70\n",
      " - 7s - loss: 1.0712 - binary_accuracy: 0.5952 - f1: 0.6305 - precision: 0.6108 - recall: 0.6547 - val_loss: 1.1127 - val_binary_accuracy: 0.5051 - val_f1: 0.4615 - val_precision: 0.4118 - val_recall: 0.5250\n",
      "Epoch 56/70\n",
      " - 8s - loss: 1.0569 - binary_accuracy: 0.5872 - f1: 0.6269 - precision: 0.6026 - recall: 0.6562 - val_loss: 1.1266 - val_binary_accuracy: 0.4343 - val_f1: 0.4615 - val_precision: 0.3750 - val_recall: 0.6000\n",
      "Epoch 57/70\n",
      " - 9s - loss: 1.0268 - binary_accuracy: 0.6026 - f1: 0.6334 - precision: 0.6196 - recall: 0.6500 - val_loss: 1.1283 - val_binary_accuracy: 0.4242 - val_f1: 0.4124 - val_precision: 0.3509 - val_recall: 0.5000\n",
      "Epoch 58/70\n",
      " - 9s - loss: 1.0160 - binary_accuracy: 0.6085 - f1: 0.6441 - precision: 0.6218 - recall: 0.6711 - val_loss: 1.1091 - val_binary_accuracy: 0.4141 - val_f1: 0.4528 - val_precision: 0.3636 - val_recall: 0.6000\n",
      "Epoch 59/70\n",
      " - 9s - loss: 1.0009 - binary_accuracy: 0.6073 - f1: 0.6394 - precision: 0.6234 - recall: 0.6594 - val_loss: 1.0951 - val_binary_accuracy: 0.3939 - val_f1: 0.4643 - val_precision: 0.3611 - val_recall: 0.6500\n",
      "Epoch 60/70\n",
      " - 9s - loss: 0.9818 - binary_accuracy: 0.6116 - f1: 0.6472 - precision: 0.6239 - recall: 0.6750 - val_loss: 1.0850 - val_binary_accuracy: 0.4141 - val_f1: 0.4528 - val_precision: 0.3636 - val_recall: 0.6000\n",
      "Epoch 61/70\n",
      " - 12s - loss: 0.9716 - binary_accuracy: 0.6137 - f1: 0.6454 - precision: 0.6284 - recall: 0.6674 - val_loss: 1.0781 - val_binary_accuracy: 0.4343 - val_f1: 0.4400 - val_precision: 0.3667 - val_recall: 0.5500\n",
      "Epoch 62/70\n",
      " - 11s - loss: 0.9560 - binary_accuracy: 0.6195 - f1: 0.6502 - precision: 0.6345 - recall: 0.6700 - val_loss: 1.0709 - val_binary_accuracy: 0.4242 - val_f1: 0.4771 - val_precision: 0.3768 - val_recall: 0.6500\n",
      "Epoch 63/70\n",
      " - 9s - loss: 0.9430 - binary_accuracy: 0.6202 - f1: 0.6564 - precision: 0.6311 - recall: 0.6869 - val_loss: 1.0841 - val_binary_accuracy: 0.3030 - val_f1: 0.3429 - val_precision: 0.2769 - val_recall: 0.4500\n",
      "Epoch 64/70\n",
      " - 10s - loss: 0.9312 - binary_accuracy: 0.6264 - f1: 0.6623 - precision: 0.6354 - recall: 0.6934 - val_loss: 1.0656 - val_binary_accuracy: 0.3838 - val_f1: 0.4078 - val_precision: 0.3333 - val_recall: 0.5250\n",
      "Epoch 65/70\n",
      " - 11s - loss: 0.9219 - binary_accuracy: 0.6348 - f1: 0.6633 - precision: 0.6493 - recall: 0.6814 - val_loss: 1.0695 - val_binary_accuracy: 0.3636 - val_f1: 0.4000 - val_precision: 0.3231 - val_recall: 0.5250\n",
      "Epoch 66/70\n",
      " - 11s - loss: 0.9091 - binary_accuracy: 0.6270 - f1: 0.6547 - precision: 0.6432 - recall: 0.6702 - val_loss: 1.0769 - val_binary_accuracy: 0.3939 - val_f1: 0.4545 - val_precision: 0.3571 - val_recall: 0.6250\n",
      "Epoch 67/70\n",
      " - 12s - loss: 0.8970 - binary_accuracy: 0.6455 - f1: 0.6742 - precision: 0.6572 - recall: 0.6956 - val_loss: 1.0462 - val_binary_accuracy: 0.3737 - val_f1: 0.3800 - val_precision: 0.3167 - val_recall: 0.4750\n",
      "Epoch 68/70\n",
      " - 12s - loss: 0.8839 - binary_accuracy: 0.6405 - f1: 0.6703 - precision: 0.6534 - recall: 0.6902 - val_loss: 1.0492 - val_binary_accuracy: 0.3535 - val_f1: 0.4182 - val_precision: 0.3286 - val_recall: 0.5750\n",
      "Epoch 69/70\n",
      " - 12s - loss: 0.8801 - binary_accuracy: 0.6379 - f1: 0.6709 - precision: 0.6483 - recall: 0.6976 - val_loss: 1.0307 - val_binary_accuracy: 0.3232 - val_f1: 0.3495 - val_precision: 0.2857 - val_recall: 0.4500\n",
      "Epoch 70/70\n",
      " - 11s - loss: 0.8609 - binary_accuracy: 0.6536 - f1: 0.6794 - precision: 0.6669 - recall: 0.6967 - val_loss: 1.0348 - val_binary_accuracy: 0.3939 - val_f1: 0.4231 - val_precision: 0.3438 - val_recall: 0.5500\n"
     ]
    }
   ],
   "source": [
    "history = first_model.fit(x_train_aug, y_train_aug, validation_data = (x_val_aug, y_val_aug),\n",
    "                          epochs=70, batch_size=32, verbose=2)"
   ]
  },
  {
   "cell_type": "markdown",
   "metadata": {},
   "source": [
    "**Plot Results**"
   ]
  },
  {
   "cell_type": "code",
   "execution_count": 68,
   "metadata": {},
   "outputs": [
    {
     "data": {
      "image/png": "[encoded data removed]",
      "text/plain": [
       "<Figure size 432x288 with 1 Axes>"
      ]
     },
     "metadata": {
      "image/png": {
       "height": 250,
       "width": 380
      }
     },
     "output_type": "display_data"
    }
   ],
   "source": [
    "plt.plot(history.history[\"binary_accuracy\"], label=\"acc\")\n",
    "plt.plot(history.history[\"val_binary_accuracy\"], label=\"val_acc\")\n",
    "plt.axhline(0.5, c=\".3\")\n",
    "plt.legend()\n",
    "plt.show()"
   ]
  },
  {
   "cell_type": "code",
   "execution_count": 69,
   "metadata": {},
   "outputs": [
    {
     "data": {
      "image/png": "[encoded data removed]",
      "text/plain": [
       "<Figure size 432x288 with 1 Axes>"
      ]
     },
     "metadata": {
      "image/png": {
       "height": 250,
       "width": 380
      }
     },
     "output_type": "display_data"
    }
   ],
   "source": [
    "plt.plot(history.history[\"recall\"], label=\"recall\")\n",
    "plt.plot(history.history[\"val_recall\"], label=\"val_recall\")\n",
    "\n",
    "plt.legend()\n",
    "plt.show()"
   ]
  },
  {
   "cell_type": "code",
   "execution_count": 70,
   "metadata": {},
   "outputs": [
    {
     "data": {
      "image/png": "[encoded data removed]",
      "text/plain": [
       "<Figure size 432x288 with 1 Axes>"
      ]
     },
     "metadata": {
      "image/png": {
       "height": 250,
       "width": 380
      }
     },
     "output_type": "display_data"
    }
   ],
   "source": [
    "plt.plot(history.history[\"precision\"], label=\"precision\")\n",
    "plt.plot(history.history[\"val_precision\"], label=\"val_precision\")\n",
    "\n",
    "plt.legend()\n",
    "plt.show()"
   ]
  },
  {
   "cell_type": "code",
   "execution_count": 71,
   "metadata": {},
   "outputs": [
    {
     "data": {
      "image/png": "[encoded data removed]",
      "text/plain": [
       "<Figure size 432x288 with 1 Axes>"
      ]
     },
     "metadata": {
      "image/png": {
       "height": 250,
       "width": 370
      }
     },
     "output_type": "display_data"
    }
   ],
   "source": [
    "plt.plot(history.history[\"loss\"], label=\"loss\")\n",
    "plt.plot(history.history[\"val_loss\"], label=\"val_loss\")\n",
    "plt.legend()\n",
    "plt.show()"
   ]
  },
  {
   "cell_type": "markdown",
   "metadata": {},
   "source": [
    "**Prep for Cut-Analysis**"
   ]
  },
  {
   "cell_type": "code",
   "execution_count": 105,
   "metadata": {},
   "outputs": [],
   "source": [
    "preds = first_model.predict(X[300:])#X[300:]\n"
   ]
  },
  {
   "cell_type": "code",
   "execution_count": 106,
   "metadata": {},
   "outputs": [],
   "source": [
    "df_y_val = pd.DataFrame(y_val_aug, columns=fin_data_class.columns)"
   ]
  },
  {
   "cell_type": "code",
   "execution_count": 107,
   "metadata": {},
   "outputs": [
    {
     "data": {
      "text/plain": [
       "(591, 11)"
      ]
     },
     "execution_count": 107,
     "metadata": {},
     "output_type": "execute_result"
    }
   ],
   "source": [
    "fin_data_class.shape"
   ]
  },
  {
   "cell_type": "code",
   "execution_count": 108,
   "metadata": {},
   "outputs": [
    {
     "data": {
      "text/html": [
       "<div>\n",
       "<style scoped>\n",
       "    .dataframe tbody tr th:only-of-type {\n",
       "        vertical-align: middle;\n",
       "    }\n",
       "\n",
       "    .dataframe tbody tr th {\n",
       "        vertical-align: top;\n",
       "    }\n",
       "\n",
       "    .dataframe thead th {\n",
       "        text-align: right;\n",
       "    }\n",
       "</style>\n",
       "<table border=\"1\" class=\"dataframe\">\n",
       "  <thead>\n",
       "    <tr style=\"text-align: right;\">\n",
       "      <th></th>\n",
       "      <th>Samsung</th>\n",
       "      <th>Telefonica</th>\n",
       "      <th>Allianz</th>\n",
       "      <th>Total</th>\n",
       "      <th>Bayer</th>\n",
       "      <th>Tesla</th>\n",
       "      <th>Airbus</th>\n",
       "      <th>Apple</th>\n",
       "      <th>BASF</th>\n",
       "      <th>BMW</th>\n",
       "      <th>Google</th>\n",
       "    </tr>\n",
       "    <tr>\n",
       "      <th>Timestamp</th>\n",
       "      <th></th>\n",
       "      <th></th>\n",
       "      <th></th>\n",
       "      <th></th>\n",
       "      <th></th>\n",
       "      <th></th>\n",
       "      <th></th>\n",
       "      <th></th>\n",
       "      <th></th>\n",
       "      <th></th>\n",
       "      <th></th>\n",
       "    </tr>\n",
       "  </thead>\n",
       "  <tbody>\n",
       "    <tr>\n",
       "      <th>2017-03-16</th>\n",
       "      <td>0.505784</td>\n",
       "      <td>0.596999</td>\n",
       "      <td>0.553734</td>\n",
       "      <td>0.617917</td>\n",
       "      <td>0.463506</td>\n",
       "      <td>0.603407</td>\n",
       "      <td>0.598566</td>\n",
       "      <td>0.486642</td>\n",
       "      <td>0.533264</td>\n",
       "      <td>0.410653</td>\n",
       "      <td>0.640461</td>\n",
       "    </tr>\n",
       "    <tr>\n",
       "      <th>2017-03-17</th>\n",
       "      <td>0.461058</td>\n",
       "      <td>0.438127</td>\n",
       "      <td>0.603179</td>\n",
       "      <td>0.623206</td>\n",
       "      <td>0.451609</td>\n",
       "      <td>0.552140</td>\n",
       "      <td>0.567309</td>\n",
       "      <td>0.490813</td>\n",
       "      <td>0.532630</td>\n",
       "      <td>0.364347</td>\n",
       "      <td>0.612499</td>\n",
       "    </tr>\n",
       "    <tr>\n",
       "      <th>2017-03-20</th>\n",
       "      <td>0.477641</td>\n",
       "      <td>0.439657</td>\n",
       "      <td>0.629398</td>\n",
       "      <td>0.732390</td>\n",
       "      <td>0.490458</td>\n",
       "      <td>0.404734</td>\n",
       "      <td>0.588484</td>\n",
       "      <td>0.422359</td>\n",
       "      <td>0.577873</td>\n",
       "      <td>0.427088</td>\n",
       "      <td>0.480845</td>\n",
       "    </tr>\n",
       "    <tr>\n",
       "      <th>2017-03-21</th>\n",
       "      <td>0.518871</td>\n",
       "      <td>0.465165</td>\n",
       "      <td>0.507460</td>\n",
       "      <td>0.611408</td>\n",
       "      <td>0.414793</td>\n",
       "      <td>0.548531</td>\n",
       "      <td>0.606988</td>\n",
       "      <td>0.480802</td>\n",
       "      <td>0.505636</td>\n",
       "      <td>0.385341</td>\n",
       "      <td>0.618259</td>\n",
       "    </tr>\n",
       "    <tr>\n",
       "      <th>2017-03-22</th>\n",
       "      <td>0.458265</td>\n",
       "      <td>0.477485</td>\n",
       "      <td>0.653269</td>\n",
       "      <td>0.670338</td>\n",
       "      <td>0.485495</td>\n",
       "      <td>0.388667</td>\n",
       "      <td>0.597428</td>\n",
       "      <td>0.482984</td>\n",
       "      <td>0.598038</td>\n",
       "      <td>0.448466</td>\n",
       "      <td>0.461582</td>\n",
       "    </tr>\n",
       "  </tbody>\n",
       "</table>\n",
       "</div>"
      ],
      "text/plain": [
       "             Samsung  Telefonica   Allianz     Total     Bayer     Tesla  \\\n",
       "Timestamp                                                                  \n",
       "2017-03-16  0.505784    0.596999  0.553734  0.617917  0.463506  0.603407   \n",
       "2017-03-17  0.461058    0.438127  0.603179  0.623206  0.451609  0.552140   \n",
       "2017-03-20  0.477641    0.439657  0.629398  0.732390  0.490458  0.404734   \n",
       "2017-03-21  0.518871    0.465165  0.507460  0.611408  0.414793  0.548531   \n",
       "2017-03-22  0.458265    0.477485  0.653269  0.670338  0.485495  0.388667   \n",
       "\n",
       "              Airbus     Apple      BASF       BMW    Google  \n",
       "Timestamp                                                     \n",
       "2017-03-16  0.598566  0.486642  0.533264  0.410653  0.640461  \n",
       "2017-03-17  0.567309  0.490813  0.532630  0.364347  0.612499  \n",
       "2017-03-20  0.588484  0.422359  0.577873  0.427088  0.480845  \n",
       "2017-03-21  0.606988  0.480802  0.505636  0.385341  0.618259  \n",
       "2017-03-22  0.597428  0.482984  0.598038  0.448466  0.461582  "
      ]
     },
     "execution_count": 108,
     "metadata": {},
     "output_type": "execute_result"
    }
   ],
   "source": [
    "df_predictions = pd.DataFrame(preds, columns=fin_data_class.columns, index = fin_data_class[300:].index) #, index = fin_data_class.index\n",
    "df_predictions.head()"
   ]
  },
  {
   "cell_type": "markdown",
   "metadata": {},
   "source": [
    "### Cut-Analysis"
   ]
  },
  {
   "cell_type": "markdown",
   "metadata": {},
   "source": [
    "**Calculate False Positives & False Negatives of a Result Dataframe**"
   ]
  },
  {
   "cell_type": "code",
   "execution_count": 76,
   "metadata": {},
   "outputs": [],
   "source": [
    "def count_fp(x):\n",
    "    company_list = fin_data_class.columns\n",
    "    tmp = x[company_list]\n",
    "    \n",
    "    if 1 in tmp.value_counts() or 1.0 in tmp.value_counts():\n",
    "\n",
    "        return tmp.value_counts()[1]\n",
    "        \n",
    "    else:\n",
    "        return 0\n",
    "    \n",
    "def count_fn(x):\n",
    "    company_list = fin_data_class.columns\n",
    "    tmp = x[company_list]\n",
    "    \n",
    "    if -1 in tmp.value_counts() or -1.0 in tmp.value_counts():\n",
    "\n",
    "        return tmp.value_counts()[-1]\n",
    "    \n",
    "    else:\n",
    "        return 0"
   ]
  },
  {
   "cell_type": "markdown",
   "metadata": {},
   "source": [
    "**Iterate over different cuts and save accuracy, FP & FN**"
   ]
  },
  {
   "cell_type": "code",
   "execution_count": 77,
   "metadata": {},
   "outputs": [],
   "source": [
    "def try_cuts_arr(df, cut_count):\n",
    "    \n",
    "    cuts = np.linspace(0,1,cut_count)\n",
    "    accs = []\n",
    "    fp = []\n",
    "    fn = []\n",
    "    \n",
    "    \n",
    "    for c in cuts:\n",
    "        df_tmp = df.applymap(lambda x: 1 if x > c else 0)\n",
    "\n",
    "        df_tmp = df_y_val.rsub(df_tmp)\n",
    "        df_tmp[\"error_sum\"] = df_tmp.apply(lambda x: np.sum(abs(x)), axis=1)\n",
    "        \n",
    "        total_returns = df_tmp.shape[0] * df_tmp.shape[1]\n",
    "        error_sum = df_tmp[\"error_sum\"].sum()\n",
    "        accuracy = (total_returns - error_sum) / total_returns\n",
    "        \n",
    "        accs.append(accuracy)\n",
    "        \n",
    "        false_positive = np.sum(df_tmp.apply(count_fp, axis=1))\n",
    "        false_negative = df_tmp.apply(count_fn, axis=1).sum()\n",
    "        \n",
    "        fp.append(false_positive)\n",
    "        fn.append(false_negative)\n",
    "        \n",
    "    return accs, fp, fn, cuts"
   ]
  },
  {
   "cell_type": "code",
   "execution_count": 78,
   "metadata": {},
   "outputs": [],
   "source": [
    "def try_cuts(df, cut_count, subset=None):\n",
    "    \n",
    "    cuts = np.linspace(0,1,cut_count)\n",
    "    accs = []\n",
    "    fp = []\n",
    "    fn = []\n",
    "    \n",
    "    for c in cuts:\n",
    "        df_tmp = df.applymap(lambda x: 1 if x > c else 0)\n",
    "        if subset:\n",
    "            df_tmp = fin_data_class[subset].rsub(df_tmp)\n",
    "        else:\n",
    "            df_tmp = fin_data_class.rsub(df_tmp)\n",
    "        df_tmp[\"error_sum\"] = df_tmp.apply(lambda x: np.sum(abs(x)), axis=1)\n",
    "        \n",
    "        total_returns = df_tmp.shape[0] * df_tmp.shape[1]\n",
    "        error_sum = df_tmp[\"error_sum\"].sum()\n",
    "        accuracy = (total_returns - error_sum) / total_returns\n",
    "        \n",
    "        accs.append(accuracy)\n",
    "        \n",
    "        false_positive = np.sum(df_tmp.apply(count_fp, axis=1))\n",
    "        false_negative = df_tmp.apply(count_fn, axis=1).sum()\n",
    "        \n",
    "        fp.append(false_positive)\n",
    "        fn.append(false_negative)\n",
    "        \n",
    "        \n",
    "    return accs, fp, fn, cuts"
   ]
  },
  {
   "cell_type": "code",
   "execution_count": 84,
   "metadata": {},
   "outputs": [],
   "source": [
    "def second_largest(numbers):\n",
    "    count = 0\n",
    "    m1 = m2 = float('-inf')\n",
    "    for x in numbers:\n",
    "        count += 1\n",
    "        if x > m2:\n",
    "            if x >= m1:\n",
    "                m1, m2 = x, m1            \n",
    "            else:\n",
    "                m2 = x\n",
    "    return m2 if count >= 2 else None"
   ]
  },
  {
   "cell_type": "code",
   "execution_count": 79,
   "metadata": {},
   "outputs": [],
   "source": [
    "accs, fp, fn, cuts = try_cuts(df_predictions, 60, subset=slice(300, -1)) #subset=slice(300, -1)\n",
    "#accs, fp, fn, cuts = try_cuts_arr(df_predictions, 30)"
   ]
  },
  {
   "cell_type": "code",
   "execution_count": 85,
   "metadata": {},
   "outputs": [
    {
     "data": {
      "text/plain": [
       "0.56557846506300113"
      ]
     },
     "execution_count": 85,
     "metadata": {},
     "output_type": "execute_result"
    }
   ],
   "source": [
    "second_largest(accs)"
   ]
  },
  {
   "cell_type": "code",
   "execution_count": 86,
   "metadata": {},
   "outputs": [
    {
     "name": "stdout",
     "output_type": "stream",
     "text": [
      "Achieved Accuracy 56.56% with a cut at 0.41\n",
      "Second highest Accuracy 56.56% with a cut at 0.41\n"
     ]
    }
   ],
   "source": [
    "max_index = accs.index(max(accs))\n",
    "snd_max_index = accs.index(second_largest(accs))\n",
    "cuts[max_index]\n",
    "print(\"Achieved Accuracy {}% with a cut at {}\".format(round(max(accs)*100, 2), round(cuts[max_index], 2)))\n",
    "print(\"Second highest Accuracy {}% with a cut at {}\".format(round(second_largest(accs) * 100, 2), round(cuts[snd_max_index], 2)))"
   ]
  },
  {
   "cell_type": "code",
   "execution_count": 81,
   "metadata": {},
   "outputs": [
    {
     "data": {
      "image/png": "[encoded data removed]",
      "text/plain": [
       "<Figure size 432x288 with 1 Axes>"
      ]
     },
     "metadata": {
      "image/png": {
       "height": 263,
       "width": 383
      }
     },
     "output_type": "display_data"
    }
   ],
   "source": [
    "plt.plot(cuts, fp, label=\"FP\")\n",
    "plt.plot(cuts, fn, label=\"FN\")\n",
    "plt.xlabel(\"Cuts\")\n",
    "plt.legend()\n",
    "plt.show()"
   ]
  },
  {
   "cell_type": "code",
   "execution_count": 100,
   "metadata": {},
   "outputs": [
    {
     "data": {
      "text/plain": [
       "Text(0,0.5,'Accuracy')"
      ]
     },
     "execution_count": 100,
     "metadata": {},
     "output_type": "execute_result"
    },
    {
     "data": {
      "image/png": "[encoded data removed]",
      "text/plain": [
       "<Figure size 432x288 with 1 Axes>"
      ]
     },
     "metadata": {
      "image/png": {
       "height": 263,
       "width": 400
      }
     },
     "output_type": "display_data"
    }
   ],
   "source": [
    "plt.plot(cuts, accs)\n",
    "plt.grid(True)\n",
    "plt.xlabel(\"Cuts\")\n",
    "plt.xticks(np.linspace(0,1,11))\n",
    "plt.ylabel(\"Accuracy\")"
   ]
  },
  {
   "cell_type": "markdown",
   "metadata": {},
   "source": [
    "**Apply Cut**"
   ]
  },
  {
   "cell_type": "code",
   "execution_count": 109,
   "metadata": {},
   "outputs": [
    {
     "data": {
      "text/html": [
       "<div>\n",
       "<style scoped>\n",
       "    .dataframe tbody tr th:only-of-type {\n",
       "        vertical-align: middle;\n",
       "    }\n",
       "\n",
       "    .dataframe tbody tr th {\n",
       "        vertical-align: top;\n",
       "    }\n",
       "\n",
       "    .dataframe thead th {\n",
       "        text-align: right;\n",
       "    }\n",
       "</style>\n",
       "<table border=\"1\" class=\"dataframe\">\n",
       "  <thead>\n",
       "    <tr style=\"text-align: right;\">\n",
       "      <th></th>\n",
       "      <th>Samsung</th>\n",
       "      <th>Telefonica</th>\n",
       "      <th>Allianz</th>\n",
       "      <th>Total</th>\n",
       "      <th>Bayer</th>\n",
       "      <th>Tesla</th>\n",
       "      <th>Airbus</th>\n",
       "      <th>Apple</th>\n",
       "      <th>BASF</th>\n",
       "      <th>BMW</th>\n",
       "      <th>Google</th>\n",
       "    </tr>\n",
       "    <tr>\n",
       "      <th>Timestamp</th>\n",
       "      <th></th>\n",
       "      <th></th>\n",
       "      <th></th>\n",
       "      <th></th>\n",
       "      <th></th>\n",
       "      <th></th>\n",
       "      <th></th>\n",
       "      <th></th>\n",
       "      <th></th>\n",
       "      <th></th>\n",
       "      <th></th>\n",
       "    </tr>\n",
       "  </thead>\n",
       "  <tbody>\n",
       "    <tr>\n",
       "      <th>2017-03-16</th>\n",
       "      <td>0</td>\n",
       "      <td>1</td>\n",
       "      <td>1</td>\n",
       "      <td>1</td>\n",
       "      <td>0</td>\n",
       "      <td>1</td>\n",
       "      <td>1</td>\n",
       "      <td>0</td>\n",
       "      <td>0</td>\n",
       "      <td>0</td>\n",
       "      <td>1</td>\n",
       "    </tr>\n",
       "    <tr>\n",
       "      <th>2017-03-17</th>\n",
       "      <td>0</td>\n",
       "      <td>0</td>\n",
       "      <td>1</td>\n",
       "      <td>1</td>\n",
       "      <td>0</td>\n",
       "      <td>1</td>\n",
       "      <td>1</td>\n",
       "      <td>0</td>\n",
       "      <td>0</td>\n",
       "      <td>0</td>\n",
       "      <td>1</td>\n",
       "    </tr>\n",
       "    <tr>\n",
       "      <th>2017-03-20</th>\n",
       "      <td>0</td>\n",
       "      <td>0</td>\n",
       "      <td>1</td>\n",
       "      <td>1</td>\n",
       "      <td>0</td>\n",
       "      <td>0</td>\n",
       "      <td>1</td>\n",
       "      <td>0</td>\n",
       "      <td>1</td>\n",
       "      <td>0</td>\n",
       "      <td>0</td>\n",
       "    </tr>\n",
       "    <tr>\n",
       "      <th>2017-03-21</th>\n",
       "      <td>0</td>\n",
       "      <td>0</td>\n",
       "      <td>0</td>\n",
       "      <td>1</td>\n",
       "      <td>0</td>\n",
       "      <td>1</td>\n",
       "      <td>1</td>\n",
       "      <td>0</td>\n",
       "      <td>0</td>\n",
       "      <td>0</td>\n",
       "      <td>1</td>\n",
       "    </tr>\n",
       "    <tr>\n",
       "      <th>2017-03-22</th>\n",
       "      <td>0</td>\n",
       "      <td>0</td>\n",
       "      <td>1</td>\n",
       "      <td>1</td>\n",
       "      <td>0</td>\n",
       "      <td>0</td>\n",
       "      <td>1</td>\n",
       "      <td>0</td>\n",
       "      <td>1</td>\n",
       "      <td>0</td>\n",
       "      <td>0</td>\n",
       "    </tr>\n",
       "  </tbody>\n",
       "</table>\n",
       "</div>"
      ],
      "text/plain": [
       "            Samsung  Telefonica  Allianz  Total  Bayer  Tesla  Airbus  Apple  \\\n",
       "Timestamp                                                                      \n",
       "2017-03-16        0           1        1      1      0      1       1      0   \n",
       "2017-03-17        0           0        1      1      0      1       1      0   \n",
       "2017-03-20        0           0        1      1      0      0       1      0   \n",
       "2017-03-21        0           0        0      1      0      1       1      0   \n",
       "2017-03-22        0           0        1      1      0      0       1      0   \n",
       "\n",
       "            BASF  BMW  Google  \n",
       "Timestamp                      \n",
       "2017-03-16     0    0       1  \n",
       "2017-03-17     0    0       1  \n",
       "2017-03-20     1    0       0  \n",
       "2017-03-21     0    0       1  \n",
       "2017-03-22     1    0       0  "
      ]
     },
     "execution_count": 109,
     "metadata": {},
     "output_type": "execute_result"
    }
   ],
   "source": [
    "df_predictions = df_predictions.applymap(lambda x: 1 if x > 0.54 else 0) #cuts[max_index]\n",
    "df_predictions.to_csv(\"./predictions/predictions_frst_model_non_training_data_with_data_augmentation_late_cut.csv\")\n",
    "df_predictions.head()"
   ]
  },
  {
   "cell_type": "code",
   "execution_count": 102,
   "metadata": {},
   "outputs": [
    {
     "data": {
      "text/html": [
       "<div>\n",
       "<style scoped>\n",
       "    .dataframe tbody tr th:only-of-type {\n",
       "        vertical-align: middle;\n",
       "    }\n",
       "\n",
       "    .dataframe tbody tr th {\n",
       "        vertical-align: top;\n",
       "    }\n",
       "\n",
       "    .dataframe thead th {\n",
       "        text-align: right;\n",
       "    }\n",
       "</style>\n",
       "<table border=\"1\" class=\"dataframe\">\n",
       "  <thead>\n",
       "    <tr style=\"text-align: right;\">\n",
       "      <th></th>\n",
       "      <th>Samsung</th>\n",
       "      <th>Telefonica</th>\n",
       "      <th>Allianz</th>\n",
       "      <th>Total</th>\n",
       "      <th>Bayer</th>\n",
       "      <th>Tesla</th>\n",
       "      <th>Airbus</th>\n",
       "      <th>Apple</th>\n",
       "      <th>BASF</th>\n",
       "      <th>BMW</th>\n",
       "      <th>Google</th>\n",
       "    </tr>\n",
       "    <tr>\n",
       "      <th>Timestamp</th>\n",
       "      <th></th>\n",
       "      <th></th>\n",
       "      <th></th>\n",
       "      <th></th>\n",
       "      <th></th>\n",
       "      <th></th>\n",
       "      <th></th>\n",
       "      <th></th>\n",
       "      <th></th>\n",
       "      <th></th>\n",
       "      <th></th>\n",
       "    </tr>\n",
       "  </thead>\n",
       "  <tbody>\n",
       "    <tr>\n",
       "      <th>2015-11-25</th>\n",
       "      <td>0.0</td>\n",
       "      <td>0.0</td>\n",
       "      <td>0.0</td>\n",
       "      <td>1.0</td>\n",
       "      <td>0.0</td>\n",
       "      <td>1.0</td>\n",
       "      <td>0.0</td>\n",
       "      <td>0.0</td>\n",
       "      <td>0.0</td>\n",
       "      <td>1.0</td>\n",
       "      <td>1.0</td>\n",
       "    </tr>\n",
       "    <tr>\n",
       "      <th>2015-11-27</th>\n",
       "      <td>0.0</td>\n",
       "      <td>0.0</td>\n",
       "      <td>1.0</td>\n",
       "      <td>1.0</td>\n",
       "      <td>1.0</td>\n",
       "      <td>0.0</td>\n",
       "      <td>1.0</td>\n",
       "      <td>1.0</td>\n",
       "      <td>1.0</td>\n",
       "      <td>1.0</td>\n",
       "      <td>0.0</td>\n",
       "    </tr>\n",
       "    <tr>\n",
       "      <th>2015-11-30</th>\n",
       "      <td>1.0</td>\n",
       "      <td>1.0</td>\n",
       "      <td>0.0</td>\n",
       "      <td>1.0</td>\n",
       "      <td>0.0</td>\n",
       "      <td>1.0</td>\n",
       "      <td>0.0</td>\n",
       "      <td>0.0</td>\n",
       "      <td>0.0</td>\n",
       "      <td>1.0</td>\n",
       "      <td>1.0</td>\n",
       "    </tr>\n",
       "    <tr>\n",
       "      <th>2015-12-01</th>\n",
       "      <td>0.0</td>\n",
       "      <td>1.0</td>\n",
       "      <td>0.0</td>\n",
       "      <td>0.0</td>\n",
       "      <td>0.0</td>\n",
       "      <td>0.0</td>\n",
       "      <td>1.0</td>\n",
       "      <td>0.0</td>\n",
       "      <td>0.0</td>\n",
       "      <td>0.0</td>\n",
       "      <td>1.0</td>\n",
       "    </tr>\n",
       "    <tr>\n",
       "      <th>2015-12-02</th>\n",
       "      <td>0.0</td>\n",
       "      <td>1.0</td>\n",
       "      <td>0.0</td>\n",
       "      <td>0.0</td>\n",
       "      <td>0.0</td>\n",
       "      <td>1.0</td>\n",
       "      <td>0.0</td>\n",
       "      <td>0.0</td>\n",
       "      <td>0.0</td>\n",
       "      <td>0.0</td>\n",
       "      <td>0.0</td>\n",
       "    </tr>\n",
       "  </tbody>\n",
       "</table>\n",
       "</div>"
      ],
      "text/plain": [
       "            Samsung  Telefonica  Allianz  Total  Bayer  Tesla  Airbus  Apple  \\\n",
       "Timestamp                                                                      \n",
       "2015-11-25      0.0         0.0      0.0    1.0    0.0    1.0     0.0    0.0   \n",
       "2015-11-27      0.0         0.0      1.0    1.0    1.0    0.0     1.0    1.0   \n",
       "2015-11-30      1.0         1.0      0.0    1.0    0.0    1.0     0.0    0.0   \n",
       "2015-12-01      0.0         1.0      0.0    0.0    0.0    0.0     1.0    0.0   \n",
       "2015-12-02      0.0         1.0      0.0    0.0    0.0    1.0     0.0    0.0   \n",
       "\n",
       "            BASF  BMW  Google  \n",
       "Timestamp                      \n",
       "2015-11-25   0.0  1.0     1.0  \n",
       "2015-11-27   1.0  1.0     0.0  \n",
       "2015-11-30   0.0  1.0     1.0  \n",
       "2015-12-01   0.0  0.0     1.0  \n",
       "2015-12-02   0.0  0.0     0.0  "
      ]
     },
     "execution_count": 102,
     "metadata": {},
     "output_type": "execute_result"
    }
   ],
   "source": [
    "fin_data_class.head()"
   ]
  },
  {
   "cell_type": "code",
   "execution_count": 150,
   "metadata": {},
   "outputs": [],
   "source": [
    "df_pred_errors = fin_data_class.rsub(df_predictions)"
   ]
  },
  {
   "cell_type": "code",
   "execution_count": 151,
   "metadata": {},
   "outputs": [],
   "source": [
    "df_pred_errors[\"error_sum\"] = df_pred_errors.apply(lambda x: np.sum(abs(x)), axis=1)\n",
    "df_pred_errors[\"fale_pos_sum\"] = df_pred_errors.apply(count_fp, axis=1)\n",
    "df_pred_errors[\"fale_neg_sum\"] = df_pred_errors.apply(count_fn, axis=1)"
   ]
  },
  {
   "cell_type": "code",
   "execution_count": 152,
   "metadata": {},
   "outputs": [
    {
     "data": {
      "text/plain": [
       "1303"
      ]
     },
     "execution_count": 152,
     "metadata": {},
     "output_type": "execute_result"
    }
   ],
   "source": [
    "df_pred_errors[\"fale_pos_sum\"].sum()"
   ]
  },
  {
   "cell_type": "code",
   "execution_count": 153,
   "metadata": {},
   "outputs": [
    {
     "data": {
      "text/plain": [
       "264"
      ]
     },
     "execution_count": 153,
     "metadata": {},
     "output_type": "execute_result"
    }
   ],
   "source": [
    "df_pred_errors[\"fale_neg_sum\"].sum()"
   ]
  },
  {
   "cell_type": "code",
   "execution_count": 110,
   "metadata": {},
   "outputs": [],
   "source": [
    "from sklearn.metrics import roc_curve, auc, precision_recall_curve, confusion_matrix\n",
    "from sklearn.metrics import classification_report"
   ]
  },
  {
   "cell_type": "code",
   "execution_count": 111,
   "metadata": {},
   "outputs": [
    {
     "name": "stdout",
     "output_type": "stream",
     "text": [
      "             precision    recall  f1-score   support\n",
      "\n",
      "        0.0       0.51      0.64      0.57      1551\n",
      "        1.0       0.55      0.41      0.47      1650\n",
      "\n",
      "avg / total       0.53      0.52      0.52      3201\n",
      "\n"
     ]
    }
   ],
   "source": [
    "print(classification_report(Y[300:].ravel(), df_predictions.values.ravel()))"
   ]
  },
  {
   "cell_type": "code",
   "execution_count": 112,
   "metadata": {},
   "outputs": [],
   "source": [
    "precision, recall, thresholds = precision_recall_curve(Y[300:].ravel(), preds.ravel())"
   ]
  },
  {
   "cell_type": "code",
   "execution_count": 113,
   "metadata": {},
   "outputs": [
    {
     "data": {
      "text/plain": [
       "Text(0,0.5,'Precision')"
      ]
     },
     "execution_count": 113,
     "metadata": {},
     "output_type": "execute_result"
    },
    {
     "data": {
      "image/png": "[encoded data removed]",
      "text/plain": [
       "<Figure size 432x288 with 1 Axes>"
      ]
     },
     "metadata": {
      "image/png": {
       "height": 263,
       "width": 387
      }
     },
     "output_type": "display_data"
    }
   ],
   "source": [
    "plt.plot((1 - recall), precision)\n",
    "#plt.step((1-recall), thresholds.add(1))\n",
    "plt.plot(plt.xlim(), plt.ylim(), ls=\"--\", c=\".3\")\n",
    "plt.xlabel(\"1 - Recall\")\n",
    "plt.ylabel(\"Precision\")"
   ]
  },
  {
   "cell_type": "code",
   "execution_count": 114,
   "metadata": {},
   "outputs": [],
   "source": [
    "fpr_keras, tpr_keras, thresholds_keras = roc_curve(Y[300:].ravel(), preds.ravel())"
   ]
  },
  {
   "cell_type": "code",
   "execution_count": 115,
   "metadata": {},
   "outputs": [],
   "source": [
    "auc_keras = auc(fpr_keras, tpr_keras)"
   ]
  },
  {
   "cell_type": "code",
   "execution_count": 116,
   "metadata": {},
   "outputs": [
    {
     "data": {
      "image/png": "[encoded data removed]",
      "text/plain": [
       "<Figure size 432x288 with 1 Axes>"
      ]
     },
     "metadata": {
      "image/png": {
       "height": 277,
       "width": 387
      }
     },
     "output_type": "display_data"
    }
   ],
   "source": [
    "plt.figure(1)\n",
    "plt.plot([0, 1], [0, 1], 'k--')\n",
    "plt.plot(fpr_keras, tpr_keras, label='Keras (area = {:.3f})'.format(auc_keras))\n",
    "plt.xlabel('False positive rate')\n",
    "plt.ylabel('True positive rate')\n",
    "plt.title('ROC curve')\n",
    "plt.legend(loc='best')\n",
    "plt.show()"
   ]
  },
  {
   "cell_type": "code",
   "execution_count": 92,
   "metadata": {},
   "outputs": [
    {
     "data": {
      "text/plain": [
       "array([[ 253, 1298],\n",
       "       [ 228, 1422]], dtype=int64)"
      ]
     },
     "execution_count": 92,
     "metadata": {},
     "output_type": "execute_result"
    }
   ],
   "source": [
    "confusion_matrix(Y[300:].ravel(), df_predictions.values.ravel())"
   ]
  },
  {
   "cell_type": "markdown",
   "metadata": {},
   "source": [
    "## Second Model"
   ]
  },
  {
   "cell_type": "code",
   "execution_count": 117,
   "metadata": {},
   "outputs": [],
   "source": [
    "from keras.layers import Dense, Input, Flatten, Reshape, concatenate, Dropout, Concatenate, Activation\n",
    "from keras.layers import Conv1D, Conv2D, MaxPooling1D, MaxPooling2D, Embedding, MaxPool2D, AvgPool2D\n",
    "from keras.callbacks import ModelCheckpoint\n",
    "from keras.callbacks import TensorBoard\n",
    "from keras.models import Model\n",
    "from keras import optimizers\n",
    "from keras import regularizers\n",
    "\n",
    "from keras.optimizers import Adam"
   ]
  },
  {
   "cell_type": "code",
   "execution_count": 118,
   "metadata": {},
   "outputs": [],
   "source": [
    "def _bn_relu(input):\n",
    "    \"\"\"Helper to build a BN -> relu block\n",
    "    \"\"\"\n",
    "    norm = BatchNormalization(axis=3)(input)\n",
    "    return Activation(\"relu\")(norm)\n",
    "\n",
    "def _relu_bn(input):\n",
    "    \"\"\"Helper to build a relu -> BN block\n",
    "    \"\"\"\n",
    "    act = Activation(\"relu\")(input)\n",
    "    return BatchNormalization(axis=3)(act)\n",
    "\n",
    "def _bn_relu_flat(input):\n",
    "    \"\"\"Helper to build a BN -> relu block\n",
    "    \"\"\"\n",
    "    norm = BatchNormalization(axis=1)(input)\n",
    "    return Activation(\"relu\")(norm)"
   ]
  },
  {
   "cell_type": "code",
   "execution_count": 123,
   "metadata": {},
   "outputs": [
    {
     "name": "stdout",
     "output_type": "stream",
     "text": [
      "Traning Model...\n",
      "__________________________________________________________________________________________________\n",
      "Layer (type)                    Output Shape         Param #     Connected to                     \n",
      "==================================================================================================\n",
      "input_d2v (InputLayer)          (None, 50, 100, 11)  0                                            \n",
      "__________________________________________________________________________________________________\n",
      "conv2d_8 (Conv2D)               (None, 48, 1, 150)   495150      input_d2v[0][0]                  \n",
      "__________________________________________________________________________________________________\n",
      "conv2d_9 (Conv2D)               (None, 47, 1, 150)   660150      input_d2v[0][0]                  \n",
      "__________________________________________________________________________________________________\n",
      "conv2d_10 (Conv2D)              (None, 46, 1, 150)   825150      input_d2v[0][0]                  \n",
      "__________________________________________________________________________________________________\n",
      "batch_normalization_13 (BatchNo (None, 48, 1, 150)   600         conv2d_8[0][0]                   \n",
      "__________________________________________________________________________________________________\n",
      "batch_normalization_14 (BatchNo (None, 47, 1, 150)   600         conv2d_9[0][0]                   \n",
      "__________________________________________________________________________________________________\n",
      "batch_normalization_15 (BatchNo (None, 46, 1, 150)   600         conv2d_10[0][0]                  \n",
      "__________________________________________________________________________________________________\n",
      "activation_11 (Activation)      (None, 48, 1, 150)   0           batch_normalization_13[0][0]     \n",
      "__________________________________________________________________________________________________\n",
      "activation_12 (Activation)      (None, 47, 1, 150)   0           batch_normalization_14[0][0]     \n",
      "__________________________________________________________________________________________________\n",
      "activation_13 (Activation)      (None, 46, 1, 150)   0           batch_normalization_15[0][0]     \n",
      "__________________________________________________________________________________________________\n",
      "max_pooling2d_7 (MaxPooling2D)  (None, 1, 1, 150)    0           activation_11[0][0]              \n",
      "__________________________________________________________________________________________________\n",
      "max_pooling2d_8 (MaxPooling2D)  (None, 1, 1, 150)    0           activation_12[0][0]              \n",
      "__________________________________________________________________________________________________\n",
      "average_pooling2d_10 (AveragePo (None, 1, 1, 150)    0           activation_13[0][0]              \n",
      "__________________________________________________________________________________________________\n",
      "dropout_12 (Dropout)            (None, 1, 1, 150)    0           max_pooling2d_7[0][0]            \n",
      "__________________________________________________________________________________________________\n",
      "dropout_13 (Dropout)            (None, 1, 1, 150)    0           max_pooling2d_8[0][0]            \n",
      "__________________________________________________________________________________________________\n",
      "dropout_14 (Dropout)            (None, 1, 1, 150)    0           average_pooling2d_10[0][0]       \n",
      "__________________________________________________________________________________________________\n",
      "concatenate_5 (Concatenate)     (None, 1, 1, 450)    0           dropout_12[0][0]                 \n",
      "                                                                 dropout_13[0][0]                 \n",
      "                                                                 dropout_14[0][0]                 \n",
      "__________________________________________________________________________________________________\n",
      "input_rets (InputLayer)         (None, 11)           0                                            \n",
      "__________________________________________________________________________________________________\n",
      "flatten_4 (Flatten)             (None, 450)          0           concatenate_5[0][0]              \n",
      "__________________________________________________________________________________________________\n",
      "dense_11 (Dense)                (None, 50)           600         input_rets[0][0]                 \n",
      "__________________________________________________________________________________________________\n",
      "concatenate_6 (Concatenate)     (None, 500)          0           flatten_4[0][0]                  \n",
      "                                                                 dense_11[0][0]                   \n",
      "__________________________________________________________________________________________________\n",
      "dense_12 (Dense)                (None, 256)          128256      concatenate_6[0][0]              \n",
      "__________________________________________________________________________________________________\n",
      "batch_normalization_16 (BatchNo (None, 256)          1024        dense_12[0][0]                   \n",
      "__________________________________________________________________________________________________\n",
      "activation_14 (Activation)      (None, 256)          0           batch_normalization_16[0][0]     \n",
      "__________________________________________________________________________________________________\n",
      "dropout_15 (Dropout)            (None, 256)          0           activation_14[0][0]              \n",
      "__________________________________________________________________________________________________\n",
      "dense_13 (Dense)                (None, 128)          32896       dropout_15[0][0]                 \n",
      "__________________________________________________________________________________________________\n",
      "batch_normalization_17 (BatchNo (None, 128)          512         dense_13[0][0]                   \n",
      "__________________________________________________________________________________________________\n",
      "activation_15 (Activation)      (None, 128)          0           batch_normalization_17[0][0]     \n",
      "__________________________________________________________________________________________________\n",
      "dropout_16 (Dropout)            (None, 128)          0           activation_15[0][0]              \n",
      "__________________________________________________________________________________________________\n",
      "dense_14 (Dense)                (None, 11)           1419        dropout_16[0][0]                 \n",
      "==================================================================================================\n",
      "Total params: 2,146,957\n",
      "Trainable params: 2,145,289\n",
      "Non-trainable params: 1,668\n",
      "__________________________________________________________________________________________________\n"
     ]
    }
   ],
   "source": [
    "inputs = Input(shape=x_train.shape[1:], dtype=\"float64\", name=\"input_d2v\")#, dtype='int32'[1:]\n",
    "\n",
    "return_inputs = Input(shape=x_ret_train.shape[1:], name=\"input_rets\")#, dtype=\"float64\")\n",
    "\n",
    "#reshape = Reshape((x_train[0],sequence_length,embedding_dim,11))(x_train)\n",
    "dense_returns = Dense(50, activation=custom_tanh)(return_inputs)\n",
    "\n",
    "conv_0 = Conv2D(num_filters, kernel_size=(filter_sizes[0], embedding_dim), padding='valid', \n",
    "                kernel_initializer='RandomNormal', kernel_regularizer=regularizers.l1(0.001))(inputs) #, activation='relu'\n",
    "batch_norm_0 = _bn_relu(conv_0)\n",
    "conv_1 = Conv2D(num_filters, kernel_size=(filter_sizes[1], embedding_dim), padding='valid', \n",
    "                kernel_initializer='RandomNormal', kernel_regularizer=regularizers.l1(0.001))(inputs) #, activation='relu'\n",
    "batch_norm_1 = _bn_relu(conv_1)#atchNormalization()(conv_1)\n",
    "conv_2 = Conv2D(num_filters, kernel_size=(filter_sizes[2], embedding_dim), padding='valid', \n",
    "                kernel_initializer='RandomNormal', kernel_regularizer=regularizers.l1(0.001))(inputs) #, activation='relu'\n",
    "batch_norm_2 = _bn_relu(conv_2) #BatchNormalization()(conv_2)\n",
    "\n",
    "\n",
    "\n",
    "maxpool_0 = MaxPool2D(pool_size=(sequence_length - filter_sizes[0] + 1, 1), \n",
    "                      strides=(1,1), padding='valid')(batch_norm_0)#(conv_0)\n",
    "avgpool_0 = AvgPool2D(pool_size=(sequence_length - filter_sizes[0] + 1, 1), \n",
    "                      strides=(1,1), padding='valid')(batch_norm_0)#(conv_0)\n",
    "dropout_0 = Dropout(0.5)(maxpool_0)\n",
    "maxpool_1 = MaxPool2D(pool_size=(sequence_length - filter_sizes[1] + 1, 1), \n",
    "                      strides=(1,1), padding='valid')(batch_norm_1)#(conv_1)\n",
    "avgpool_1 = AvgPool2D(pool_size=(sequence_length - filter_sizes[1] + 1, 1), \n",
    "                      strides=(1,1), padding='valid')(batch_norm_1)#(conv_0)\n",
    "dropout_1 = Dropout(0.5)(maxpool_1)\n",
    "maxpool_2 = MaxPool2D(pool_size=(sequence_length - filter_sizes[2] + 1, 1), \n",
    "                      strides=(1,1), padding='valid')(batch_norm_2)#(conv_2)\n",
    "avgpool_2 = AvgPool2D(pool_size=(sequence_length - filter_sizes[2] + 1, 1), \n",
    "                      strides=(1,1), padding='valid')(batch_norm_2)#(conv_0)\n",
    "dropout_2 = Dropout(0.5)(avgpool_2)\n",
    "\n",
    "concatenated_tensor = concatenate([dropout_0, dropout_1, dropout_2]) #(axis=1) ([maxpool_0, maxpool_1, maxpool_2])\n",
    "flatten = Flatten()(concatenated_tensor)\n",
    "flatten_with_returns = concatenate([flatten, dense_returns])\n",
    "#flatten_2 = Flatten()(flatten_with_returns)\n",
    "hidden_layer = Dense(256)(flatten_with_returns) #flatten , activation=\"relu\"\n",
    "batch_norm_3 = _bn_relu_flat(hidden_layer)\n",
    "dropout_3 = Dropout(0.5)(batch_norm_3)\n",
    "hidden_layer_2 = Dense(128)(dropout_3) #flatten , activation=\"relu\"\n",
    "batch_norm_4 = _bn_relu_flat(hidden_layer_2)\n",
    "dropout_4 = Dropout(0.5)(batch_norm_4)\n",
    "output = Dense(num_classes, activation=custom_sigmoid)(dropout_4) #\"softmax\"\n",
    "\n",
    "# this creates a model that includes\n",
    "model = Model(inputs=[inputs, return_inputs], outputs=output)\n",
    "\n",
    "checkpoint = ModelCheckpoint('weights.{epoch:03d}-{val_acc:.4f}.hdf5', monitor='val_acc', verbose=2, \n",
    "                             save_best_only=True, mode='auto')\n",
    "tensorboard = TensorBoard(log_dir='./logs/run1', histogram_freq=1, write_graph=True, write_images=False)  \n",
    "\n",
    "adam = Adam(lr=1e-4, beta_1=0.9, beta_2=0.999, epsilon=1e-8, decay=0.0) #1e-8\n",
    "\n",
    "model.compile(optimizer=adam, loss='binary_crossentropy', metrics=['accuracy', f1, recall, precision])\n",
    "print(\"Traning Model...\")\n",
    "model.summary()"
   ]
  },
  {
   "cell_type": "code",
   "execution_count": 124,
   "metadata": {},
   "outputs": [],
   "source": [
    "model_train_input = {\"input_d2v\": x_train_aug, \"input_rets\": x_ret_train_aug}\n",
    "model_val_input = {\"input_d2v\": x_val_aug, \"input_rets\": x_ret_val_aug}"
   ]
  },
  {
   "cell_type": "code",
   "execution_count": 125,
   "metadata": {},
   "outputs": [
    {
     "data": {
      "text/plain": [
       "(891, 11)"
      ]
     },
     "execution_count": 125,
     "metadata": {},
     "output_type": "execute_result"
    }
   ],
   "source": [
    "y_train_aug.shape"
   ]
  },
  {
   "cell_type": "code",
   "execution_count": null,
   "metadata": {},
   "outputs": [
    {
     "name": "stdout",
     "output_type": "stream",
     "text": [
      "Train on 891 samples, validate on 9 samples\n",
      "Epoch 1/60\n"
     ]
    }
   ],
   "source": [
    "model2 = model.fit(model_train_input, y_train_aug, batch_size=32, epochs=60, verbose=2, callbacks=[checkpoint], #tensorboard\n",
    "                   validation_data=(model_val_input, y_val_aug)) # starts training"
   ]
  },
  {
   "cell_type": "code",
   "execution_count": 322,
   "metadata": {},
   "outputs": [
    {
     "data": {
      "image/png": "[encoded data removed]",
      "text/plain": [
       "<Figure size 432x288 with 1 Axes>"
      ]
     },
     "metadata": {},
     "output_type": "display_data"
    }
   ],
   "source": [
    "plt.plot(model2.history[\"acc\"], label=\"acc\")\n",
    "plt.plot(model2.history[\"val_acc\"], label=\"val_acc\")\n",
    "plt.axhline(0.5, c=\".3\")\n",
    "plt.legend()\n",
    "plt.show()"
   ]
  },
  {
   "cell_type": "code",
   "execution_count": 323,
   "metadata": {},
   "outputs": [
    {
     "data": {
      "image/png": "[encoded data removed]",
      "text/plain": [
       "<Figure size 432x288 with 1 Axes>"
      ]
     },
     "metadata": {},
     "output_type": "display_data"
    }
   ],
   "source": [
    "plt.plot(model2.history[\"f1\"], label=\"f1\")\n",
    "plt.plot(model2.history[\"val_f1\"], label=\"val_f1\")\n",
    "\n",
    "plt.legend()\n",
    "plt.show()"
   ]
  },
  {
   "cell_type": "code",
   "execution_count": 324,
   "metadata": {},
   "outputs": [
    {
     "data": {
      "image/png": "[encoded data removed]",
      "text/plain": [
       "<Figure size 432x288 with 1 Axes>"
      ]
     },
     "metadata": {},
     "output_type": "display_data"
    }
   ],
   "source": [
    "plt.plot(model2.history[\"recall\"], label=\"recall\")\n",
    "plt.plot(model2.history[\"val_recall\"], label=\"val_recall\")\n",
    "\n",
    "plt.legend()\n",
    "plt.show()"
   ]
  },
  {
   "cell_type": "code",
   "execution_count": 325,
   "metadata": {},
   "outputs": [
    {
     "data": {
      "image/png": "[encoded data removed]",
      "text/plain": [
       "<Figure size 432x288 with 1 Axes>"
      ]
     },
     "metadata": {},
     "output_type": "display_data"
    }
   ],
   "source": [
    "plt.plot(model2.history[\"loss\"], label=\"acc\")\n",
    "plt.plot(model2.history[\"val_loss\"], label=\"val_acc\")\n",
    "plt.legend()\n",
    "plt.show()"
   ]
  },
  {
   "cell_type": "code",
   "execution_count": 326,
   "metadata": {},
   "outputs": [],
   "source": [
    "preds2 = model.predict([X[300:], fin_data_train_vals[300:]])"
   ]
  },
  {
   "cell_type": "code",
   "execution_count": 327,
   "metadata": {},
   "outputs": [
    {
     "data": {
      "text/html": [
       "<div>\n",
       "<style scoped>\n",
       "    .dataframe tbody tr th:only-of-type {\n",
       "        vertical-align: middle;\n",
       "    }\n",
       "\n",
       "    .dataframe tbody tr th {\n",
       "        vertical-align: top;\n",
       "    }\n",
       "\n",
       "    .dataframe thead th {\n",
       "        text-align: right;\n",
       "    }\n",
       "</style>\n",
       "<table border=\"1\" class=\"dataframe\">\n",
       "  <thead>\n",
       "    <tr style=\"text-align: right;\">\n",
       "      <th></th>\n",
       "      <th>Samsung</th>\n",
       "      <th>Telefonica</th>\n",
       "      <th>Allianz</th>\n",
       "      <th>Total</th>\n",
       "      <th>Bayer</th>\n",
       "      <th>Tesla</th>\n",
       "      <th>Airbus</th>\n",
       "      <th>Apple</th>\n",
       "      <th>BASF</th>\n",
       "      <th>BMW</th>\n",
       "      <th>Google</th>\n",
       "    </tr>\n",
       "    <tr>\n",
       "      <th>Timestamp</th>\n",
       "      <th></th>\n",
       "      <th></th>\n",
       "      <th></th>\n",
       "      <th></th>\n",
       "      <th></th>\n",
       "      <th></th>\n",
       "      <th></th>\n",
       "      <th></th>\n",
       "      <th></th>\n",
       "      <th></th>\n",
       "      <th></th>\n",
       "    </tr>\n",
       "  </thead>\n",
       "  <tbody>\n",
       "    <tr>\n",
       "      <th>2017-03-16</th>\n",
       "      <td>0.556646</td>\n",
       "      <td>0.478174</td>\n",
       "      <td>0.547453</td>\n",
       "      <td>0.534088</td>\n",
       "      <td>0.510106</td>\n",
       "      <td>0.465790</td>\n",
       "      <td>0.537112</td>\n",
       "      <td>0.490327</td>\n",
       "      <td>0.481985</td>\n",
       "      <td>0.474605</td>\n",
       "      <td>0.443605</td>\n",
       "    </tr>\n",
       "    <tr>\n",
       "      <th>2017-03-17</th>\n",
       "      <td>0.536055</td>\n",
       "      <td>0.461570</td>\n",
       "      <td>0.569908</td>\n",
       "      <td>0.565544</td>\n",
       "      <td>0.509083</td>\n",
       "      <td>0.486554</td>\n",
       "      <td>0.554193</td>\n",
       "      <td>0.449249</td>\n",
       "      <td>0.478197</td>\n",
       "      <td>0.485805</td>\n",
       "      <td>0.447369</td>\n",
       "    </tr>\n",
       "    <tr>\n",
       "      <th>2017-03-20</th>\n",
       "      <td>0.545807</td>\n",
       "      <td>0.484752</td>\n",
       "      <td>0.536010</td>\n",
       "      <td>0.532452</td>\n",
       "      <td>0.500150</td>\n",
       "      <td>0.489072</td>\n",
       "      <td>0.529660</td>\n",
       "      <td>0.484092</td>\n",
       "      <td>0.501854</td>\n",
       "      <td>0.483898</td>\n",
       "      <td>0.465522</td>\n",
       "    </tr>\n",
       "    <tr>\n",
       "      <th>2017-03-21</th>\n",
       "      <td>0.578641</td>\n",
       "      <td>0.444170</td>\n",
       "      <td>0.530612</td>\n",
       "      <td>0.570145</td>\n",
       "      <td>0.488992</td>\n",
       "      <td>0.501111</td>\n",
       "      <td>0.557445</td>\n",
       "      <td>0.469205</td>\n",
       "      <td>0.483279</td>\n",
       "      <td>0.450129</td>\n",
       "      <td>0.476344</td>\n",
       "    </tr>\n",
       "    <tr>\n",
       "      <th>2017-03-22</th>\n",
       "      <td>0.563035</td>\n",
       "      <td>0.474697</td>\n",
       "      <td>0.554222</td>\n",
       "      <td>0.528193</td>\n",
       "      <td>0.511711</td>\n",
       "      <td>0.507954</td>\n",
       "      <td>0.557651</td>\n",
       "      <td>0.493816</td>\n",
       "      <td>0.466486</td>\n",
       "      <td>0.473110</td>\n",
       "      <td>0.469104</td>\n",
       "    </tr>\n",
       "  </tbody>\n",
       "</table>\n",
       "</div>"
      ],
      "text/plain": [
       "             Samsung  Telefonica   Allianz     Total     Bayer     Tesla  \\\n",
       "Timestamp                                                                  \n",
       "2017-03-16  0.556646    0.478174  0.547453  0.534088  0.510106  0.465790   \n",
       "2017-03-17  0.536055    0.461570  0.569908  0.565544  0.509083  0.486554   \n",
       "2017-03-20  0.545807    0.484752  0.536010  0.532452  0.500150  0.489072   \n",
       "2017-03-21  0.578641    0.444170  0.530612  0.570145  0.488992  0.501111   \n",
       "2017-03-22  0.563035    0.474697  0.554222  0.528193  0.511711  0.507954   \n",
       "\n",
       "              Airbus     Apple      BASF       BMW    Google  \n",
       "Timestamp                                                     \n",
       "2017-03-16  0.537112  0.490327  0.481985  0.474605  0.443605  \n",
       "2017-03-17  0.554193  0.449249  0.478197  0.485805  0.447369  \n",
       "2017-03-20  0.529660  0.484092  0.501854  0.483898  0.465522  \n",
       "2017-03-21  0.557445  0.469205  0.483279  0.450129  0.476344  \n",
       "2017-03-22  0.557651  0.493816  0.466486  0.473110  0.469104  "
      ]
     },
     "execution_count": 327,
     "metadata": {},
     "output_type": "execute_result"
    }
   ],
   "source": [
    "df_predictions2 = pd.DataFrame(preds2, columns=fin_data_class.columns, index = fin_data_class[300:].index) #, index = fin_data_class[300:].index\n",
    "df_predictions2.head()"
   ]
  },
  {
   "cell_type": "code",
   "execution_count": 328,
   "metadata": {},
   "outputs": [
    {
     "name": "stdout",
     "output_type": "stream",
     "text": [
      "Achieved Accuracy 55.87% with a cut at 0.43\n"
     ]
    }
   ],
   "source": [
    "accs, fp, fn, cuts = try_cuts(df_predictions2, 50, subset=slice(300,-1)) #, subset=slice(0,250)\n",
    "#accs, fp, fn, cuts = try_cuts_arr(df_predictions2, 60)\n",
    "max_index = accs.index(max(accs))\n",
    "print(\"Achieved Accuracy {}% with a cut at {}\".format(round(max(accs)*100, 2), round(cuts[max_index], 2)))"
   ]
  },
  {
   "cell_type": "code",
   "execution_count": 329,
   "metadata": {},
   "outputs": [
    {
     "data": {
      "image/png": "[encoded data removed]",
      "text/plain": [
       "<Figure size 432x288 with 1 Axes>"
      ]
     },
     "metadata": {},
     "output_type": "display_data"
    }
   ],
   "source": [
    "plt.plot(cuts, fp, label=\"false pos\")\n",
    "plt.plot(cuts, fn, label=\"false neg\")\n",
    "plt.legend()\n",
    "plt.show()"
   ]
  },
  {
   "cell_type": "code",
   "execution_count": 330,
   "metadata": {},
   "outputs": [
    {
     "data": {
      "text/plain": [
       "Text(0,0.5,'Accuracy')"
      ]
     },
     "execution_count": 330,
     "metadata": {},
     "output_type": "execute_result"
    },
    {
     "data": {
      "image/png": "[encoded data removed]",
      "text/plain": [
       "<Figure size 432x288 with 1 Axes>"
      ]
     },
     "metadata": {},
     "output_type": "display_data"
    }
   ],
   "source": [
    "plt.plot(cuts, accs)\n",
    "plt.xlabel(\"Cuts\")\n",
    "plt.ylabel(\"Accuracy\")"
   ]
  },
  {
   "cell_type": "code",
   "execution_count": 331,
   "metadata": {},
   "outputs": [
    {
     "data": {
      "text/html": [
       "<div>\n",
       "<style scoped>\n",
       "    .dataframe tbody tr th:only-of-type {\n",
       "        vertical-align: middle;\n",
       "    }\n",
       "\n",
       "    .dataframe tbody tr th {\n",
       "        vertical-align: top;\n",
       "    }\n",
       "\n",
       "    .dataframe thead th {\n",
       "        text-align: right;\n",
       "    }\n",
       "</style>\n",
       "<table border=\"1\" class=\"dataframe\">\n",
       "  <thead>\n",
       "    <tr style=\"text-align: right;\">\n",
       "      <th></th>\n",
       "      <th>Samsung</th>\n",
       "      <th>Telefonica</th>\n",
       "      <th>Allianz</th>\n",
       "      <th>Total</th>\n",
       "      <th>Bayer</th>\n",
       "      <th>Tesla</th>\n",
       "      <th>Airbus</th>\n",
       "      <th>Apple</th>\n",
       "      <th>BASF</th>\n",
       "      <th>BMW</th>\n",
       "      <th>Google</th>\n",
       "    </tr>\n",
       "    <tr>\n",
       "      <th>Timestamp</th>\n",
       "      <th></th>\n",
       "      <th></th>\n",
       "      <th></th>\n",
       "      <th></th>\n",
       "      <th></th>\n",
       "      <th></th>\n",
       "      <th></th>\n",
       "      <th></th>\n",
       "      <th></th>\n",
       "      <th></th>\n",
       "      <th></th>\n",
       "    </tr>\n",
       "  </thead>\n",
       "  <tbody>\n",
       "    <tr>\n",
       "      <th>2018-06-11</th>\n",
       "      <td>1</td>\n",
       "      <td>0</td>\n",
       "      <td>1</td>\n",
       "      <td>1</td>\n",
       "      <td>0</td>\n",
       "      <td>0</td>\n",
       "      <td>1</td>\n",
       "      <td>0</td>\n",
       "      <td>0</td>\n",
       "      <td>0</td>\n",
       "      <td>0</td>\n",
       "    </tr>\n",
       "    <tr>\n",
       "      <th>2018-06-12</th>\n",
       "      <td>1</td>\n",
       "      <td>0</td>\n",
       "      <td>1</td>\n",
       "      <td>1</td>\n",
       "      <td>0</td>\n",
       "      <td>0</td>\n",
       "      <td>1</td>\n",
       "      <td>0</td>\n",
       "      <td>0</td>\n",
       "      <td>0</td>\n",
       "      <td>0</td>\n",
       "    </tr>\n",
       "    <tr>\n",
       "      <th>2018-06-14</th>\n",
       "      <td>1</td>\n",
       "      <td>0</td>\n",
       "      <td>1</td>\n",
       "      <td>1</td>\n",
       "      <td>1</td>\n",
       "      <td>1</td>\n",
       "      <td>1</td>\n",
       "      <td>0</td>\n",
       "      <td>0</td>\n",
       "      <td>0</td>\n",
       "      <td>0</td>\n",
       "    </tr>\n",
       "    <tr>\n",
       "      <th>2018-06-15</th>\n",
       "      <td>1</td>\n",
       "      <td>0</td>\n",
       "      <td>1</td>\n",
       "      <td>1</td>\n",
       "      <td>0</td>\n",
       "      <td>0</td>\n",
       "      <td>1</td>\n",
       "      <td>0</td>\n",
       "      <td>0</td>\n",
       "      <td>0</td>\n",
       "      <td>0</td>\n",
       "    </tr>\n",
       "    <tr>\n",
       "      <th>2018-06-18</th>\n",
       "      <td>1</td>\n",
       "      <td>0</td>\n",
       "      <td>1</td>\n",
       "      <td>1</td>\n",
       "      <td>0</td>\n",
       "      <td>0</td>\n",
       "      <td>1</td>\n",
       "      <td>0</td>\n",
       "      <td>0</td>\n",
       "      <td>0</td>\n",
       "      <td>0</td>\n",
       "    </tr>\n",
       "  </tbody>\n",
       "</table>\n",
       "</div>"
      ],
      "text/plain": [
       "            Samsung  Telefonica  Allianz  Total  Bayer  Tesla  Airbus  Apple  \\\n",
       "Timestamp                                                                      \n",
       "2018-06-11        1           0        1      1      0      0       1      0   \n",
       "2018-06-12        1           0        1      1      0      0       1      0   \n",
       "2018-06-14        1           0        1      1      1      1       1      0   \n",
       "2018-06-15        1           0        1      1      0      0       1      0   \n",
       "2018-06-18        1           0        1      1      0      0       1      0   \n",
       "\n",
       "            BASF  BMW  Google  \n",
       "Timestamp                      \n",
       "2018-06-11     0    0       0  \n",
       "2018-06-12     0    0       0  \n",
       "2018-06-14     0    0       0  \n",
       "2018-06-15     0    0       0  \n",
       "2018-06-18     0    0       0  "
      ]
     },
     "execution_count": 331,
     "metadata": {},
     "output_type": "execute_result"
    }
   ],
   "source": [
    "df_predictions2 = df_predictions2.applymap(lambda x: 1 if x > 0.51 else 0) # cuts[max_index]\n",
    "df_predictions2.to_csv(\"./predictions/predictions_scnd_model_without_training_LOOKING_AT_PR.csv\")\n",
    "df_predictions2.tail()"
   ]
  },
  {
   "cell_type": "code",
   "execution_count": 255,
   "metadata": {},
   "outputs": [
    {
     "data": {
      "text/html": [
       "<div>\n",
       "<style scoped>\n",
       "    .dataframe tbody tr th:only-of-type {\n",
       "        vertical-align: middle;\n",
       "    }\n",
       "\n",
       "    .dataframe tbody tr th {\n",
       "        vertical-align: top;\n",
       "    }\n",
       "\n",
       "    .dataframe thead th {\n",
       "        text-align: right;\n",
       "    }\n",
       "</style>\n",
       "<table border=\"1\" class=\"dataframe\">\n",
       "  <thead>\n",
       "    <tr style=\"text-align: right;\">\n",
       "      <th></th>\n",
       "      <th>Samsung</th>\n",
       "      <th>Telefonica</th>\n",
       "      <th>Allianz</th>\n",
       "      <th>Total</th>\n",
       "      <th>Bayer</th>\n",
       "      <th>Tesla</th>\n",
       "      <th>Airbus</th>\n",
       "      <th>Apple</th>\n",
       "      <th>BASF</th>\n",
       "      <th>BMW</th>\n",
       "      <th>Google</th>\n",
       "    </tr>\n",
       "    <tr>\n",
       "      <th>Timestamp</th>\n",
       "      <th></th>\n",
       "      <th></th>\n",
       "      <th></th>\n",
       "      <th></th>\n",
       "      <th></th>\n",
       "      <th></th>\n",
       "      <th></th>\n",
       "      <th></th>\n",
       "      <th></th>\n",
       "      <th></th>\n",
       "      <th></th>\n",
       "    </tr>\n",
       "  </thead>\n",
       "  <tbody>\n",
       "    <tr>\n",
       "      <th>2018-06-11</th>\n",
       "      <td>1.0</td>\n",
       "      <td>0.0</td>\n",
       "      <td>1.0</td>\n",
       "      <td>1.0</td>\n",
       "      <td>0.0</td>\n",
       "      <td>0.0</td>\n",
       "      <td>1.0</td>\n",
       "      <td>1.0</td>\n",
       "      <td>1.0</td>\n",
       "      <td>1.0</td>\n",
       "      <td>0.0</td>\n",
       "    </tr>\n",
       "    <tr>\n",
       "      <th>2018-06-12</th>\n",
       "      <td>1.0</td>\n",
       "      <td>0.0</td>\n",
       "      <td>1.0</td>\n",
       "      <td>1.0</td>\n",
       "      <td>1.0</td>\n",
       "      <td>0.0</td>\n",
       "      <td>1.0</td>\n",
       "      <td>1.0</td>\n",
       "      <td>1.0</td>\n",
       "      <td>1.0</td>\n",
       "      <td>0.0</td>\n",
       "    </tr>\n",
       "    <tr>\n",
       "      <th>2018-06-14</th>\n",
       "      <td>1.0</td>\n",
       "      <td>0.0</td>\n",
       "      <td>1.0</td>\n",
       "      <td>0.0</td>\n",
       "      <td>1.0</td>\n",
       "      <td>0.0</td>\n",
       "      <td>1.0</td>\n",
       "      <td>1.0</td>\n",
       "      <td>1.0</td>\n",
       "      <td>1.0</td>\n",
       "      <td>1.0</td>\n",
       "    </tr>\n",
       "    <tr>\n",
       "      <th>2018-06-15</th>\n",
       "      <td>0.0</td>\n",
       "      <td>1.0</td>\n",
       "      <td>1.0</td>\n",
       "      <td>1.0</td>\n",
       "      <td>1.0</td>\n",
       "      <td>1.0</td>\n",
       "      <td>1.0</td>\n",
       "      <td>1.0</td>\n",
       "      <td>1.0</td>\n",
       "      <td>1.0</td>\n",
       "      <td>0.0</td>\n",
       "    </tr>\n",
       "    <tr>\n",
       "      <th>2018-06-18</th>\n",
       "      <td>1.0</td>\n",
       "      <td>1.0</td>\n",
       "      <td>1.0</td>\n",
       "      <td>0.0</td>\n",
       "      <td>0.0</td>\n",
       "      <td>0.0</td>\n",
       "      <td>1.0</td>\n",
       "      <td>0.0</td>\n",
       "      <td>0.0</td>\n",
       "      <td>1.0</td>\n",
       "      <td>0.0</td>\n",
       "    </tr>\n",
       "  </tbody>\n",
       "</table>\n",
       "</div>"
      ],
      "text/plain": [
       "            Samsung  Telefonica  Allianz  Total  Bayer  Tesla  Airbus  Apple  \\\n",
       "Timestamp                                                                      \n",
       "2018-06-11      1.0         0.0      1.0    1.0    0.0    0.0     1.0    1.0   \n",
       "2018-06-12      1.0         0.0      1.0    1.0    1.0    0.0     1.0    1.0   \n",
       "2018-06-14      1.0         0.0      1.0    0.0    1.0    0.0     1.0    1.0   \n",
       "2018-06-15      0.0         1.0      1.0    1.0    1.0    1.0     1.0    1.0   \n",
       "2018-06-18      1.0         1.0      1.0    0.0    0.0    0.0     1.0    0.0   \n",
       "\n",
       "            BASF  BMW  Google  \n",
       "Timestamp                      \n",
       "2018-06-11   1.0  1.0     0.0  \n",
       "2018-06-12   1.0  1.0     0.0  \n",
       "2018-06-14   1.0  1.0     1.0  \n",
       "2018-06-15   1.0  1.0     0.0  \n",
       "2018-06-18   0.0  1.0     0.0  "
      ]
     },
     "execution_count": 255,
     "metadata": {},
     "output_type": "execute_result"
    }
   ],
   "source": [
    "fin_data_class.tail()"
   ]
  },
  {
   "cell_type": "code",
   "execution_count": 281,
   "metadata": {},
   "outputs": [],
   "source": [
    "precision, recall, thresholds = precision_recall_curve(Y[300:].ravel(), preds2.ravel())"
   ]
  },
  {
   "cell_type": "code",
   "execution_count": 282,
   "metadata": {},
   "outputs": [
    {
     "data": {
      "text/plain": [
       "Text(0,0.5,'Precision')"
      ]
     },
     "execution_count": 282,
     "metadata": {},
     "output_type": "execute_result"
    },
    {
     "data": {
      "image/png": "[encoded data removed]",
      "text/plain": [
       "<Figure size 432x288 with 1 Axes>"
      ]
     },
     "metadata": {},
     "output_type": "display_data"
    }
   ],
   "source": [
    "plt.plot((1 - recall), precision)\n",
    "#plt.step((1-recall), thresholds.add(1))\n",
    "plt.plot(plt.xlim(), plt.ylim(), ls=\"--\", c=\".3\")\n",
    "plt.xlabel(\"1 - Recall\")\n",
    "plt.ylabel(\"Precision\")"
   ]
  },
  {
   "cell_type": "code",
   "execution_count": 207,
   "metadata": {},
   "outputs": [],
   "source": []
  },
  {
   "cell_type": "code",
   "execution_count": 332,
   "metadata": {},
   "outputs": [
    {
     "name": "stdout",
     "output_type": "stream",
     "text": [
      "             precision    recall  f1-score   support\n",
      "\n",
      "        0.0       0.50      0.60      0.54      1551\n",
      "        1.0       0.54      0.44      0.48      1650\n",
      "\n",
      "avg / total       0.52      0.52      0.51      3201\n",
      "\n"
     ]
    }
   ],
   "source": [
    "print(classification_report(Y[300:].ravel(), df_predictions2.values.ravel()))"
   ]
  },
  {
   "cell_type": "code",
   "execution_count": 333,
   "metadata": {},
   "outputs": [
    {
     "data": {
      "text/plain": [
       "array([[924, 627],\n",
       "       [922, 728]], dtype=int64)"
      ]
     },
     "execution_count": 333,
     "metadata": {},
     "output_type": "execute_result"
    }
   ],
   "source": [
    "confusion_matrix(Y[300:].ravel(), df_predictions2.values.ravel())"
   ]
  },
  {
   "cell_type": "code",
   "execution_count": null,
   "metadata": {},
   "outputs": [],
   "source": []
  }
 ],
 "metadata": {
  "kernelspec": {
   "display_name": "Python 3",
   "language": "python",
   "name": "python3"
  },
  "language_info": {
   "codemirror_mode": {
    "name": "ipython",
    "version": 3
   },
   "file_extension": ".py",
   "mimetype": "text/x-python",
   "name": "python",
   "nbconvert_exporter": "python",
   "pygments_lexer": "ipython3",
   "version": "3.6.5"
  }
 },
 "nbformat": 4,
 "nbformat_minor": 2
}

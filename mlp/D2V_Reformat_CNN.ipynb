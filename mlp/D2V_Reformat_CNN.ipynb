{
 "cells": [
  {
   "cell_type": "code",
   "execution_count": 1,
   "metadata": {},
   "outputs": [],
   "source": [
    "import numpy as np\n",
    "import pandas as pd"
   ]
  },
  {
   "cell_type": "code",
   "execution_count": 2,
   "metadata": {},
   "outputs": [
    {
     "data": {
      "text/plain": [
       "'C:\\\\Users\\\\Nils\\\\Documents\\\\KIT-TVWL\\\\Master\\\\SS 18\\\\KD Seminar\\\\Git\\\\mlp'"
      ]
     },
     "execution_count": 2,
     "metadata": {},
     "output_type": "execute_result"
    }
   ],
   "source": [
    "import os\n",
    "wd = os.getcwd()\n",
    "wd"
   ]
  },
  {
   "cell_type": "markdown",
   "metadata": {},
   "source": [
    "**Read in financial Data**"
   ]
  },
  {
   "cell_type": "code",
   "execution_count": 64,
   "metadata": {},
   "outputs": [
    {
     "data": {
      "text/html": [
       "<div>\n",
       "<style scoped>\n",
       "    .dataframe tbody tr th:only-of-type {\n",
       "        vertical-align: middle;\n",
       "    }\n",
       "\n",
       "    .dataframe tbody tr th {\n",
       "        vertical-align: top;\n",
       "    }\n",
       "\n",
       "    .dataframe thead th {\n",
       "        text-align: right;\n",
       "    }\n",
       "</style>\n",
       "<table border=\"1\" class=\"dataframe\">\n",
       "  <thead>\n",
       "    <tr style=\"text-align: right;\">\n",
       "      <th></th>\n",
       "      <th>Samsung</th>\n",
       "      <th>Telefonica</th>\n",
       "      <th>Allianz</th>\n",
       "      <th>Total</th>\n",
       "      <th>Bayer</th>\n",
       "      <th>Tesla</th>\n",
       "      <th>Airbus</th>\n",
       "      <th>Apple</th>\n",
       "      <th>BASF</th>\n",
       "      <th>BMW</th>\n",
       "      <th>Google</th>\n",
       "    </tr>\n",
       "    <tr>\n",
       "      <th>Timestamp</th>\n",
       "      <th></th>\n",
       "      <th></th>\n",
       "      <th></th>\n",
       "      <th></th>\n",
       "      <th></th>\n",
       "      <th></th>\n",
       "      <th></th>\n",
       "      <th></th>\n",
       "      <th></th>\n",
       "      <th></th>\n",
       "      <th></th>\n",
       "    </tr>\n",
       "  </thead>\n",
       "  <tbody>\n",
       "    <tr>\n",
       "      <th>2010-06-30</th>\n",
       "      <td>-0.022990</td>\n",
       "      <td>0.031939</td>\n",
       "      <td>0.005759</td>\n",
       "      <td>-0.002937</td>\n",
       "      <td>0.005450</td>\n",
       "      <td>-0.002515</td>\n",
       "      <td>-0.002350</td>\n",
       "      <td>-0.018279</td>\n",
       "      <td>-0.003982</td>\n",
       "      <td>0.004127</td>\n",
       "      <td>-0.026947</td>\n",
       "    </tr>\n",
       "    <tr>\n",
       "      <th>2010-07-01</th>\n",
       "      <td>-0.010390</td>\n",
       "      <td>0.023302</td>\n",
       "      <td>-0.021987</td>\n",
       "      <td>0.013874</td>\n",
       "      <td>-0.009282</td>\n",
       "      <td>-0.081723</td>\n",
       "      <td>-0.051293</td>\n",
       "      <td>-0.012200</td>\n",
       "      <td>-0.027190</td>\n",
       "      <td>-0.047668</td>\n",
       "      <td>-0.019717</td>\n",
       "    </tr>\n",
       "    <tr>\n",
       "      <th>2010-07-02</th>\n",
       "      <td>0.001305</td>\n",
       "      <td>0.010501</td>\n",
       "      <td>0.004610</td>\n",
       "      <td>-0.011670</td>\n",
       "      <td>-0.026683</td>\n",
       "      <td>-0.134312</td>\n",
       "      <td>-0.018751</td>\n",
       "      <td>-0.006217</td>\n",
       "      <td>-0.001368</td>\n",
       "      <td>-0.008280</td>\n",
       "      <td>-0.034667</td>\n",
       "    </tr>\n",
       "    <tr>\n",
       "      <th>2010-07-06</th>\n",
       "      <td>0.010376</td>\n",
       "      <td>-0.009063</td>\n",
       "      <td>0.023455</td>\n",
       "      <td>0.005852</td>\n",
       "      <td>0.017779</td>\n",
       "      <td>-0.175470</td>\n",
       "      <td>0.019735</td>\n",
       "      <td>0.006820</td>\n",
       "      <td>0.028094</td>\n",
       "      <td>0.023085</td>\n",
       "      <td>0.001238</td>\n",
       "    </tr>\n",
       "    <tr>\n",
       "      <th>2010-07-07</th>\n",
       "      <td>-0.007772</td>\n",
       "      <td>0.018515</td>\n",
       "      <td>0.007211</td>\n",
       "      <td>0.035820</td>\n",
       "      <td>0.006628</td>\n",
       "      <td>-0.019430</td>\n",
       "      <td>0.023836</td>\n",
       "      <td>0.039568</td>\n",
       "      <td>-0.001796</td>\n",
       "      <td>0.019048</td>\n",
       "      <td>-0.002878</td>\n",
       "    </tr>\n",
       "  </tbody>\n",
       "</table>\n",
       "</div>"
      ],
      "text/plain": [
       "             Samsung  Telefonica   Allianz     Total     Bayer     Tesla  \\\n",
       "Timestamp                                                                  \n",
       "2010-06-30 -0.022990    0.031939  0.005759 -0.002937  0.005450 -0.002515   \n",
       "2010-07-01 -0.010390    0.023302 -0.021987  0.013874 -0.009282 -0.081723   \n",
       "2010-07-02  0.001305    0.010501  0.004610 -0.011670 -0.026683 -0.134312   \n",
       "2010-07-06  0.010376   -0.009063  0.023455  0.005852  0.017779 -0.175470   \n",
       "2010-07-07 -0.007772    0.018515  0.007211  0.035820  0.006628 -0.019430   \n",
       "\n",
       "              Airbus     Apple      BASF       BMW    Google  \n",
       "Timestamp                                                     \n",
       "2010-06-30 -0.002350 -0.018279 -0.003982  0.004127 -0.026947  \n",
       "2010-07-01 -0.051293 -0.012200 -0.027190 -0.047668 -0.019717  \n",
       "2010-07-02 -0.018751 -0.006217 -0.001368 -0.008280 -0.034667  \n",
       "2010-07-06  0.019735  0.006820  0.028094  0.023085  0.001238  \n",
       "2010-07-07  0.023836  0.039568 -0.001796  0.019048 -0.002878  "
      ]
     },
     "execution_count": 64,
     "metadata": {},
     "output_type": "execute_result"
    }
   ],
   "source": [
    "fin_data = pd.read_csv(\"../finance_data/data/aggregated_returns.csv\", index_col=[\"Timestamp\"], parse_dates=True)\n",
    "fin_data = fin_data.drop(columns=[\"Unnamed: 0\"])\n",
    "fin_data.head()"
   ]
  },
  {
   "cell_type": "code",
   "execution_count": null,
   "metadata": {},
   "outputs": [],
   "source": [
    "fin_data_class = fin_data.applymap(lambda x: 0 if x < 0 else 1)"
   ]
  },
  {
   "cell_type": "code",
   "execution_count": null,
   "metadata": {},
   "outputs": [],
   "source": []
  },
  {
   "cell_type": "markdown",
   "metadata": {},
   "source": [
    "**Read in training Data**"
   ]
  },
  {
   "cell_type": "code",
   "execution_count": 3,
   "metadata": {},
   "outputs": [],
   "source": [
    "path_to_data = \"../doc2vec/data/article_vectors_2017-09-28-2018-06-18.json\""
   ]
  },
  {
   "cell_type": "code",
   "execution_count": 4,
   "metadata": {},
   "outputs": [],
   "source": [
    "data = pd.read_json(path_to_data)"
   ]
  },
  {
   "cell_type": "code",
   "execution_count": 5,
   "metadata": {},
   "outputs": [],
   "source": [
    "data_dict = {}"
   ]
  },
  {
   "cell_type": "code",
   "execution_count": 29,
   "metadata": {},
   "outputs": [
    {
     "data": {
      "text/html": [
       "<div>\n",
       "<style scoped>\n",
       "    .dataframe tbody tr th:only-of-type {\n",
       "        vertical-align: middle;\n",
       "    }\n",
       "\n",
       "    .dataframe tbody tr th {\n",
       "        vertical-align: top;\n",
       "    }\n",
       "\n",
       "    .dataframe thead th {\n",
       "        text-align: right;\n",
       "    }\n",
       "</style>\n",
       "<table border=\"1\" class=\"dataframe\">\n",
       "  <thead>\n",
       "    <tr style=\"text-align: right;\">\n",
       "      <th></th>\n",
       "      <th>Samsung</th>\n",
       "      <th>BASF</th>\n",
       "      <th>Apple</th>\n",
       "      <th>Tesla</th>\n",
       "      <th>Airbus</th>\n",
       "      <th>Bayer</th>\n",
       "      <th>BMW</th>\n",
       "      <th>Telefonica</th>\n",
       "      <th>Google</th>\n",
       "      <th>Allianz</th>\n",
       "      <th>Total</th>\n",
       "    </tr>\n",
       "  </thead>\n",
       "  <tbody>\n",
       "    <tr>\n",
       "      <th>2017-09-28</th>\n",
       "      <td>[[-0.552128851413726, -0.530090451240539, -0.2...</td>\n",
       "      <td>[[-0.8857737779617311, -0.8993223905563351, 1....</td>\n",
       "      <td>[[-5.648899555206299, 0.49068233370780906, 2.4...</td>\n",
       "      <td>[[-2.231579303741455, -0.886823713779449, 1.01...</td>\n",
       "      <td>[[-0.53072839975357, 0.32432192564010603, 1.88...</td>\n",
       "      <td>[[1.471480727195739, 3.558146953582763, 0.6440...</td>\n",
       "      <td>[[-1.068220496177673, 1.573677778244018, -0.06...</td>\n",
       "      <td>[[2.052626371383667, 0.041730254888534005, -3....</td>\n",
       "      <td>[[-1.544253349304199, 3.114089250564575, -1.21...</td>\n",
       "      <td>[[2.391206741333008, -0.082299575209617, 0.156...</td>\n",
       "      <td>[[2.632104873657226, -0.23008343577384902, 1.1...</td>\n",
       "    </tr>\n",
       "    <tr>\n",
       "      <th>2017-09-29</th>\n",
       "      <td>[[-0.639522731304168, 0.7598133087158201, -0.1...</td>\n",
       "      <td>[[0.6212806105613701, -0.83939903974533, -0.08...</td>\n",
       "      <td>[[-0.648758769035339, 0.943927347660064, 0.671...</td>\n",
       "      <td>[[0.42689558863639804, -1.16603410243988, 0.38...</td>\n",
       "      <td>[[0.8344506621360771, 0.623216032981872, 1.453...</td>\n",
       "      <td>[[1.854272007942199, -1.158918976783752, 0.097...</td>\n",
       "      <td>[[-1.720371723175048, -1.476398110389709, 1.00...</td>\n",
       "      <td>[[-0.310520142316818, -1.5644110441207881, -1....</td>\n",
       "      <td>[[-1.765268325805664, 1.161336660385131, 1.157...</td>\n",
       "      <td>[[2.943969249725342, -0.533598780632019, -2.32...</td>\n",
       "      <td>[[1.171216964721679, -1.4545772075653072, 0.73...</td>\n",
       "    </tr>\n",
       "    <tr>\n",
       "      <th>2017-10-02</th>\n",
       "      <td>[[0.175294339656829, 0.15604755282402002, 1.77...</td>\n",
       "      <td>[[-4.927269458770752, 0.007559691555798001, 0....</td>\n",
       "      <td>[[1.444888591766357, -2.713039875030517, -3.32...</td>\n",
       "      <td>[[-1.203286409378051, 0.062121365219354005, 4....</td>\n",
       "      <td>[[1.9028640985488892, -0.26931756734848, 2.894...</td>\n",
       "      <td>[[0.390158265829086, -0.528901576995849, -0.08...</td>\n",
       "      <td>[[-2.192170143127441, 0.586103379726409, 3.417...</td>\n",
       "      <td>[[-1.700117230415344, 2.280802488327026, 0.327...</td>\n",
       "      <td>[[-0.138544932007789, -2.453397750854492, -1.0...</td>\n",
       "      <td>[[0.280443459749221, 1.030984163284301, 0.1632...</td>\n",
       "      <td>[[0.054529048502445006, 2.157958030700683, 0.5...</td>\n",
       "    </tr>\n",
       "    <tr>\n",
       "      <th>2017-10-03</th>\n",
       "      <td>[[0.064495466649532, 1.207448601722717, 2.3027...</td>\n",
       "      <td>[[1.692309617996215, -4.035394668579102, 2.495...</td>\n",
       "      <td>[[-0.9460430145263671, 2.5776865482330322, -0....</td>\n",
       "      <td>[[-0.705000340938568, -1.371611356735229, -0.1...</td>\n",
       "      <td>[[1.7261496782302852, 2.136397361755371, -0.55...</td>\n",
       "      <td>[[0.7974172234535211, 0.5480992197990411, 0.43...</td>\n",
       "      <td>[[-0.24589551985263802, -0.950033843517303, 1....</td>\n",
       "      <td>[[-0.624772369861602, -1.542417287826538, -0.7...</td>\n",
       "      <td>[[1.123395204544067, 1.867977499961853, 1.1496...</td>\n",
       "      <td>[[0.933492958545684, 1.7280206680297852, 0.830...</td>\n",
       "      <td>[[0.30901181697845403, -0.19652029871940602, 1...</td>\n",
       "    </tr>\n",
       "    <tr>\n",
       "      <th>2017-10-04</th>\n",
       "      <td>[[-0.46415963768959, 0.091440618038177, -0.129...</td>\n",
       "      <td>[[1.9889962673187251, -1.6416510343551631, 1.0...</td>\n",
       "      <td>[[1.641998529434204, 0.40913537144660905, 1.09...</td>\n",
       "      <td>[[2.450612783432007, -1.144301414489746, 1.705...</td>\n",
       "      <td>[[-0.6751444339752191, -0.36086100339889504, -...</td>\n",
       "      <td>[[1.279866933822631, -0.47777470946311906, -2....</td>\n",
       "      <td>[[0.195936650037765, -1.030936479568481, 2.539...</td>\n",
       "      <td>[[2.057091474533081, -0.380810230970382, -0.72...</td>\n",
       "      <td>[[-0.746309459209442, -0.43328207731246904, 1....</td>\n",
       "      <td>[[1.625936269760131, 0.703213155269622, -2.736...</td>\n",
       "      <td>[[0.586480438709259, 0.129928439855575, -2.131...</td>\n",
       "    </tr>\n",
       "  </tbody>\n",
       "</table>\n",
       "</div>"
      ],
      "text/plain": [
       "                                                      Samsung  \\\n",
       "2017-09-28  [[-0.552128851413726, -0.530090451240539, -0.2...   \n",
       "2017-09-29  [[-0.639522731304168, 0.7598133087158201, -0.1...   \n",
       "2017-10-02  [[0.175294339656829, 0.15604755282402002, 1.77...   \n",
       "2017-10-03  [[0.064495466649532, 1.207448601722717, 2.3027...   \n",
       "2017-10-04  [[-0.46415963768959, 0.091440618038177, -0.129...   \n",
       "\n",
       "                                                         BASF  \\\n",
       "2017-09-28  [[-0.8857737779617311, -0.8993223905563351, 1....   \n",
       "2017-09-29  [[0.6212806105613701, -0.83939903974533, -0.08...   \n",
       "2017-10-02  [[-4.927269458770752, 0.007559691555798001, 0....   \n",
       "2017-10-03  [[1.692309617996215, -4.035394668579102, 2.495...   \n",
       "2017-10-04  [[1.9889962673187251, -1.6416510343551631, 1.0...   \n",
       "\n",
       "                                                        Apple  \\\n",
       "2017-09-28  [[-5.648899555206299, 0.49068233370780906, 2.4...   \n",
       "2017-09-29  [[-0.648758769035339, 0.943927347660064, 0.671...   \n",
       "2017-10-02  [[1.444888591766357, -2.713039875030517, -3.32...   \n",
       "2017-10-03  [[-0.9460430145263671, 2.5776865482330322, -0....   \n",
       "2017-10-04  [[1.641998529434204, 0.40913537144660905, 1.09...   \n",
       "\n",
       "                                                        Tesla  \\\n",
       "2017-09-28  [[-2.231579303741455, -0.886823713779449, 1.01...   \n",
       "2017-09-29  [[0.42689558863639804, -1.16603410243988, 0.38...   \n",
       "2017-10-02  [[-1.203286409378051, 0.062121365219354005, 4....   \n",
       "2017-10-03  [[-0.705000340938568, -1.371611356735229, -0.1...   \n",
       "2017-10-04  [[2.450612783432007, -1.144301414489746, 1.705...   \n",
       "\n",
       "                                                       Airbus  \\\n",
       "2017-09-28  [[-0.53072839975357, 0.32432192564010603, 1.88...   \n",
       "2017-09-29  [[0.8344506621360771, 0.623216032981872, 1.453...   \n",
       "2017-10-02  [[1.9028640985488892, -0.26931756734848, 2.894...   \n",
       "2017-10-03  [[1.7261496782302852, 2.136397361755371, -0.55...   \n",
       "2017-10-04  [[-0.6751444339752191, -0.36086100339889504, -...   \n",
       "\n",
       "                                                        Bayer  \\\n",
       "2017-09-28  [[1.471480727195739, 3.558146953582763, 0.6440...   \n",
       "2017-09-29  [[1.854272007942199, -1.158918976783752, 0.097...   \n",
       "2017-10-02  [[0.390158265829086, -0.528901576995849, -0.08...   \n",
       "2017-10-03  [[0.7974172234535211, 0.5480992197990411, 0.43...   \n",
       "2017-10-04  [[1.279866933822631, -0.47777470946311906, -2....   \n",
       "\n",
       "                                                          BMW  \\\n",
       "2017-09-28  [[-1.068220496177673, 1.573677778244018, -0.06...   \n",
       "2017-09-29  [[-1.720371723175048, -1.476398110389709, 1.00...   \n",
       "2017-10-02  [[-2.192170143127441, 0.586103379726409, 3.417...   \n",
       "2017-10-03  [[-0.24589551985263802, -0.950033843517303, 1....   \n",
       "2017-10-04  [[0.195936650037765, -1.030936479568481, 2.539...   \n",
       "\n",
       "                                                   Telefonica  \\\n",
       "2017-09-28  [[2.052626371383667, 0.041730254888534005, -3....   \n",
       "2017-09-29  [[-0.310520142316818, -1.5644110441207881, -1....   \n",
       "2017-10-02  [[-1.700117230415344, 2.280802488327026, 0.327...   \n",
       "2017-10-03  [[-0.624772369861602, -1.542417287826538, -0.7...   \n",
       "2017-10-04  [[2.057091474533081, -0.380810230970382, -0.72...   \n",
       "\n",
       "                                                       Google  \\\n",
       "2017-09-28  [[-1.544253349304199, 3.114089250564575, -1.21...   \n",
       "2017-09-29  [[-1.765268325805664, 1.161336660385131, 1.157...   \n",
       "2017-10-02  [[-0.138544932007789, -2.453397750854492, -1.0...   \n",
       "2017-10-03  [[1.123395204544067, 1.867977499961853, 1.1496...   \n",
       "2017-10-04  [[-0.746309459209442, -0.43328207731246904, 1....   \n",
       "\n",
       "                                                      Allianz  \\\n",
       "2017-09-28  [[2.391206741333008, -0.082299575209617, 0.156...   \n",
       "2017-09-29  [[2.943969249725342, -0.533598780632019, -2.32...   \n",
       "2017-10-02  [[0.280443459749221, 1.030984163284301, 0.1632...   \n",
       "2017-10-03  [[0.933492958545684, 1.7280206680297852, 0.830...   \n",
       "2017-10-04  [[1.625936269760131, 0.703213155269622, -2.736...   \n",
       "\n",
       "                                                        Total  \n",
       "2017-09-28  [[2.632104873657226, -0.23008343577384902, 1.1...  \n",
       "2017-09-29  [[1.171216964721679, -1.4545772075653072, 0.73...  \n",
       "2017-10-02  [[0.054529048502445006, 2.157958030700683, 0.5...  \n",
       "2017-10-03  [[0.30901181697845403, -0.19652029871940602, 1...  \n",
       "2017-10-04  [[0.586480438709259, 0.129928439855575, -2.131...  "
      ]
     },
     "execution_count": 29,
     "metadata": {},
     "output_type": "execute_result"
    }
   ],
   "source": [
    "data.head()"
   ]
  },
  {
   "cell_type": "code",
   "execution_count": 72,
   "metadata": {},
   "outputs": [],
   "source": [
    "fin_data_dates = fin_data.index.date.tolist()\n",
    "data_dates = data.index.date.tolist()"
   ]
  },
  {
   "cell_type": "code",
   "execution_count": 90,
   "metadata": {},
   "outputs": [],
   "source": [
    "available_dates = list(set(fin_data_dates).intersection(data_dates))\n",
    "fin_data_class = fin_data_class[fin_data_class.index.isin(available_dates)]\n",
    "data = data[data.index.isin(available_dates)]"
   ]
  },
  {
   "cell_type": "code",
   "execution_count": 97,
   "metadata": {},
   "outputs": [
    {
     "data": {
      "text/plain": [
       "(148, 11)"
      ]
     },
     "execution_count": 97,
     "metadata": {},
     "output_type": "execute_result"
    }
   ],
   "source": [
    "data.shape"
   ]
  },
  {
   "cell_type": "code",
   "execution_count": 96,
   "metadata": {},
   "outputs": [
    {
     "data": {
      "text/plain": [
       "148"
      ]
     },
     "execution_count": 96,
     "metadata": {},
     "output_type": "execute_result"
    }
   ],
   "source": [
    "len(available_dates)"
   ]
  },
  {
   "cell_type": "code",
   "execution_count": 102,
   "metadata": {},
   "outputs": [],
   "source": [
    "X = []"
   ]
  },
  {
   "cell_type": "code",
   "execution_count": 103,
   "metadata": {},
   "outputs": [
    {
     "name": "stdout",
     "output_type": "stream",
     "text": [
      "2017-09-28\n",
      "2017-09-29\n",
      "2017-10-10\n",
      "2017-10-11\n",
      "2017-10-12\n",
      "2017-10-13\n",
      "2017-10-16\n",
      "2017-10-17\n",
      "2017-10-18\n",
      "2017-10-19\n",
      "2017-10-20\n",
      "2017-10-23\n",
      "2017-10-24\n",
      "2017-10-25\n",
      "2017-10-26\n",
      "2017-10-27\n",
      "2017-10-30\n",
      "2017-10-31\n",
      "2017-11-01\n",
      "2017-11-02\n",
      "2017-11-03\n",
      "2017-11-06\n",
      "2017-11-07\n",
      "2017-11-08\n",
      "2017-11-09\n",
      "2017-11-10\n",
      "2017-11-13\n",
      "2017-11-14\n",
      "2017-11-15\n",
      "2017-11-16\n",
      "2017-11-17\n",
      "2017-11-20\n",
      "2017-11-21\n",
      "2017-11-22\n",
      "2017-11-24\n",
      "2017-11-27\n",
      "2017-11-28\n",
      "2017-11-29\n",
      "2017-11-30\n",
      "2017-12-01\n",
      "2017-12-04\n",
      "2017-12-05\n",
      "2017-12-06\n",
      "2017-12-07\n",
      "2017-12-08\n",
      "2017-12-11\n",
      "2017-12-12\n",
      "2017-12-13\n",
      "2017-12-14\n",
      "2017-12-15\n",
      "2017-12-18\n",
      "2017-12-19\n",
      "2017-12-21\n",
      "2017-12-22\n",
      "2017-12-27\n",
      "2017-12-28\n",
      "2018-01-02\n",
      "2018-01-03\n",
      "2018-01-04\n",
      "2018-01-05\n",
      "2018-01-08\n",
      "2018-01-09\n",
      "2018-01-10\n",
      "2018-01-11\n",
      "2018-01-12\n",
      "2018-01-16\n",
      "2018-01-17\n",
      "2018-01-18\n",
      "2018-01-19\n",
      "2018-01-22\n",
      "2018-01-23\n",
      "2018-01-24\n",
      "2018-01-25\n",
      "2018-01-26\n",
      "2018-01-29\n",
      "2018-01-30\n",
      "2018-01-31\n",
      "2018-02-01\n",
      "2018-02-02\n",
      "2018-02-05\n",
      "2018-02-06\n",
      "2018-02-07\n",
      "2018-02-08\n",
      "2018-02-09\n",
      "2018-02-12\n",
      "2018-02-13\n",
      "2018-02-14\n",
      "2018-02-20\n",
      "2018-02-21\n",
      "2018-02-22\n",
      "2018-02-23\n",
      "2018-02-26\n",
      "2018-02-27\n",
      "2018-02-28\n",
      "2018-03-02\n",
      "2018-03-05\n",
      "2018-03-06\n",
      "2018-03-07\n",
      "2018-03-08\n",
      "2018-03-09\n",
      "2018-03-12\n",
      "2018-03-13\n",
      "2018-03-14\n",
      "2018-03-15\n",
      "2018-03-16\n",
      "2018-03-19\n",
      "2018-03-20\n",
      "2018-03-21\n",
      "2018-03-22\n",
      "2018-03-23\n",
      "2018-03-26\n",
      "2018-03-27\n",
      "2018-03-28\n",
      "2018-03-29\n",
      "2018-04-03\n",
      "2018-04-04\n",
      "2018-04-05\n",
      "2018-04-06\n",
      "2018-04-09\n",
      "2018-04-10\n",
      "2018-04-11\n",
      "2018-04-12\n",
      "2018-04-13\n",
      "2018-04-16\n",
      "2018-04-17\n",
      "2018-04-18\n",
      "2018-04-19\n",
      "2018-04-20\n",
      "2018-04-23\n",
      "2018-04-24\n",
      "2018-04-25\n",
      "2018-04-26\n",
      "2018-04-27\n",
      "2018-04-30\n",
      "2018-05-02\n",
      "2018-05-03\n",
      "2018-05-04\n",
      "2018-05-08\n",
      "2018-05-09\n",
      "2018-05-10\n",
      "2018-05-11\n",
      "2018-05-14\n",
      "2018-05-15\n",
      "2018-05-16\n",
      "2018-05-17\n",
      "2018-05-18\n",
      "2018-05-21\n",
      "2018-05-23\n"
     ]
    }
   ],
   "source": [
    "for idx, row in data.iterrows():\n",
    "    print(idx.date())\n",
    "    tmp = data.loc[idx].values\n",
    "    tmp_data = []\n",
    "    for i,r in enumerate(tmp):\n",
    "        #print(type(r))\n",
    "        \n",
    "        if hasattr(r, 'shape') and r.shape[0] :\n",
    "            #print(type(r))\n",
    "            r = np.array(r)\n",
    "            if r.shape != (50,100):\n",
    "                print(r.shape)\n",
    "            p = 50-r.shape[0]\n",
    "            r = np.pad(r, ((0,p),(0,0)), \"constant\")\n",
    "        else:\n",
    "            r = np.zeros((50,100))\n",
    "        tmp_data.append(r)\n",
    "    tmp_data = np.array(tmp_data)\n",
    "    tmp_data = tmp_data.reshape((50,100,11))\n",
    "    X.append(tmp_data)\n",
    "    #data_dict[idx.date()] = tmp\n",
    "    "
   ]
  },
  {
   "cell_type": "code",
   "execution_count": 106,
   "metadata": {},
   "outputs": [
    {
     "data": {
      "text/plain": [
       "(148, 50, 100, 11)"
      ]
     },
     "execution_count": 106,
     "metadata": {},
     "output_type": "execute_result"
    }
   ],
   "source": [
    "#X = np.array(final_d)\n",
    "X = np.array(X)\n",
    "X.shape"
   ]
  },
  {
   "cell_type": "code",
   "execution_count": 107,
   "metadata": {},
   "outputs": [
    {
     "data": {
      "text/plain": [
       "(148, 11)"
      ]
     },
     "execution_count": 107,
     "metadata": {},
     "output_type": "execute_result"
    }
   ],
   "source": [
    "Y = fin_data_class.values\n",
    "Y.shape"
   ]
  },
  {
   "cell_type": "markdown",
   "metadata": {},
   "source": [
    "**CNN**"
   ]
  },
  {
   "cell_type": "code",
   "execution_count": 119,
   "metadata": {},
   "outputs": [],
   "source": [
    "from sklearn.model_selection import train_test_split\n",
    "\n",
    "from keras import backend as k_backend\n",
    "import keras\n",
    "\n",
    "from keras.models import Sequential\n",
    "from keras.layers import Dense, Dropout, Activation, Flatten\n",
    "from keras.layers import Conv2D, MaxPooling2D"
   ]
  },
  {
   "cell_type": "code",
   "execution_count": 112,
   "metadata": {},
   "outputs": [],
   "source": [
    "x_train, x_val, y_train, y_val = train_test_split(X, Y, test_size=0.3, random_state=212134)"
   ]
  },
  {
   "cell_type": "code",
   "execution_count": 124,
   "metadata": {},
   "outputs": [
    {
     "data": {
      "text/plain": [
       "(103, 50, 100, 11)"
      ]
     },
     "execution_count": 124,
     "metadata": {},
     "output_type": "execute_result"
    }
   ],
   "source": [
    "x_train.shape"
   ]
  },
  {
   "cell_type": "code",
   "execution_count": 125,
   "metadata": {},
   "outputs": [],
   "source": [
    "num_classes=11\n",
    "num_filter= 200\n",
    "filter_sizes = [3,4,5]\n",
    "embedding_dim = x_train.shape[2]\n",
    "sequence_length = X.shape[1] "
   ]
  },
  {
   "cell_type": "code",
   "execution_count": 137,
   "metadata": {},
   "outputs": [],
   "source": [
    "def custom_tanh(x):\n",
    "    return (K.tanh((2/3)*x) * 1.5)#1.7159) #(2/3)"
   ]
  },
  {
   "cell_type": "code",
   "execution_count": 138,
   "metadata": {},
   "outputs": [],
   "source": [
    "model = Sequential()\n",
    "model.add(Conv2D(num_filter, kernel_size=(filter_sizes[0], embedding_dim), padding='same',input_shape=x_train.shape[1:], \n",
    "                 data_format=\"channels_last\", activation=\"relu\"))\n",
    "\n",
    "model.add(Conv2D(num_filter, kernel_size=(filter_sizes[1], embedding_dim), padding='same', activation=\"relu\"))\n",
    "\n",
    "model.add(MaxPooling2D(pool_size=(sequence_length - filter_sizes[0] + 1, 1), strides=(1,1)))\n",
    "\n",
    "#model.add(Conv2D(num_filter, kernel_size=(filter_sizes[1], embedding_dim), activation=\"relu\"))\n",
    "#model.add(MaxPooling2D(pool_size=(sequence_length - filter_sizes[1] + 1, 1), strides=(1,1)))\n",
    "#model.add(Activation('relu'))\n",
    "\n",
    "model.add(Dropout(0.25))\n",
    "\n",
    "#model.add(Conv2D(64, (3, 3), padding='same'))\n",
    "#model.add(Activation('relu'))\n",
    "#model.add(Conv2D(64, (3, 3)))\n",
    "#model.add(Activation('relu'))\n",
    "#model.add(MaxPooling2D(pool_size=(2, 2)))\n",
    "#model.add(Dropout(0.25))\n",
    "\n",
    "model.add(Flatten())\n",
    "model.add(Dense(256, activation=custom_tanh))\n",
    "#model.add(Activation('relu'))\n",
    "model.add(Dropout(0.4))\n",
    "model.add(Dense(num_classes, activation=\"sigmoid\"))"
   ]
  },
  {
   "cell_type": "code",
   "execution_count": null,
   "metadata": {},
   "outputs": [
    {
     "name": "stdout",
     "output_type": "stream",
     "text": [
      "Train on 103 samples, validate on 45 samples\n",
      "Epoch 1/10\n",
      " - 2965s - loss: 0.6931 - acc: 0.5225 - val_loss: 0.6928 - val_acc: 0.5131\n",
      "Epoch 2/10\n"
     ]
    }
   ],
   "source": [
    "# initiate RMSprop optimizer\n",
    "opt = keras.optimizers.rmsprop(lr=0.0001, decay=1e-6)\n",
    "\n",
    "# Let's train the model using RMSprop\n",
    "model.compile(loss='binary_crossentropy',\n",
    "              optimizer=\"adam\",\n",
    "              metrics=['accuracy'])\n",
    "\n",
    "model.fit(x_train, y_train, validation_data = (x_val, y_val), epochs=10, batch_size=20, verbose=2)"
   ]
  }
 ],
 "metadata": {
  "kernelspec": {
   "display_name": "Python 3",
   "language": "python",
   "name": "python3"
  },
  "language_info": {
   "codemirror_mode": {
    "name": "ipython",
    "version": 3
   },
   "file_extension": ".py",
   "mimetype": "text/x-python",
   "name": "python",
   "nbconvert_exporter": "python",
   "pygments_lexer": "ipython3",
   "version": "3.6.5"
  }
 },
 "nbformat": 4,
 "nbformat_minor": 2
}
